{
 "cells": [
  {
   "cell_type": "code",
   "execution_count": 55,
   "id": "5bcc1f7f",
   "metadata": {
    "ExecuteTime": {
     "end_time": "2023-11-17T21:14:27.675473Z",
     "start_time": "2023-11-17T21:14:27.650157Z"
    }
   },
   "outputs": [
    {
     "data": {
      "text/plain": "   Round 1 Round 2 Round 3 Round 4 Round 5 Round 6  Utility\n0        H       H       H       H       H       H     1956\n1        H       H       H       H       H       T     1944\n2        H       H       H       H       T       H     1896\n3        H       H       H       H       T       T     1884\n4        H       H       H       T       H       H     1716\n..     ...     ...     ...     ...     ...     ...      ...\n59       T       T       T       H       T       T    -1716\n60       T       T       T       T       H       H    -1884\n61       T       T       T       T       H       T    -1896\n62       T       T       T       T       T       H    -1944\n63       T       T       T       T       T       T    -1956\n\n[64 rows x 7 columns]",
      "text/html": "<div>\n<style scoped>\n    .dataframe tbody tr th:only-of-type {\n        vertical-align: middle;\n    }\n\n    .dataframe tbody tr th {\n        vertical-align: top;\n    }\n\n    .dataframe thead th {\n        text-align: right;\n    }\n</style>\n<table border=\"1\" class=\"dataframe\">\n  <thead>\n    <tr style=\"text-align: right;\">\n      <th></th>\n      <th>Round 1</th>\n      <th>Round 2</th>\n      <th>Round 3</th>\n      <th>Round 4</th>\n      <th>Round 5</th>\n      <th>Round 6</th>\n      <th>Utility</th>\n    </tr>\n  </thead>\n  <tbody>\n    <tr>\n      <th>0</th>\n      <td>H</td>\n      <td>H</td>\n      <td>H</td>\n      <td>H</td>\n      <td>H</td>\n      <td>H</td>\n      <td>1956</td>\n    </tr>\n    <tr>\n      <th>1</th>\n      <td>H</td>\n      <td>H</td>\n      <td>H</td>\n      <td>H</td>\n      <td>H</td>\n      <td>T</td>\n      <td>1944</td>\n    </tr>\n    <tr>\n      <th>2</th>\n      <td>H</td>\n      <td>H</td>\n      <td>H</td>\n      <td>H</td>\n      <td>T</td>\n      <td>H</td>\n      <td>1896</td>\n    </tr>\n    <tr>\n      <th>3</th>\n      <td>H</td>\n      <td>H</td>\n      <td>H</td>\n      <td>H</td>\n      <td>T</td>\n      <td>T</td>\n      <td>1884</td>\n    </tr>\n    <tr>\n      <th>4</th>\n      <td>H</td>\n      <td>H</td>\n      <td>H</td>\n      <td>T</td>\n      <td>H</td>\n      <td>H</td>\n      <td>1716</td>\n    </tr>\n    <tr>\n      <th>...</th>\n      <td>...</td>\n      <td>...</td>\n      <td>...</td>\n      <td>...</td>\n      <td>...</td>\n      <td>...</td>\n      <td>...</td>\n    </tr>\n    <tr>\n      <th>59</th>\n      <td>T</td>\n      <td>T</td>\n      <td>T</td>\n      <td>H</td>\n      <td>T</td>\n      <td>T</td>\n      <td>-1716</td>\n    </tr>\n    <tr>\n      <th>60</th>\n      <td>T</td>\n      <td>T</td>\n      <td>T</td>\n      <td>T</td>\n      <td>H</td>\n      <td>H</td>\n      <td>-1884</td>\n    </tr>\n    <tr>\n      <th>61</th>\n      <td>T</td>\n      <td>T</td>\n      <td>T</td>\n      <td>T</td>\n      <td>H</td>\n      <td>T</td>\n      <td>-1896</td>\n    </tr>\n    <tr>\n      <th>62</th>\n      <td>T</td>\n      <td>T</td>\n      <td>T</td>\n      <td>T</td>\n      <td>T</td>\n      <td>H</td>\n      <td>-1944</td>\n    </tr>\n    <tr>\n      <th>63</th>\n      <td>T</td>\n      <td>T</td>\n      <td>T</td>\n      <td>T</td>\n      <td>T</td>\n      <td>T</td>\n      <td>-1956</td>\n    </tr>\n  </tbody>\n</table>\n<p>64 rows × 7 columns</p>\n</div>"
     },
     "execution_count": 55,
     "metadata": {},
     "output_type": "execute_result"
    }
   ],
   "source": [
    "import numpy as np\n",
    "import pandas as pd\n",
    "\n",
    "def function(faceList):\n",
    "    utility = 0\n",
    "    for x in range(len(faceList)):\n",
    "        utility = mathfunc(faceList[x], x+1, utility)\n",
    "    return utility\n",
    "\n",
    "def mathfunc(face, turn, val):\n",
    "    if face == 'H':\n",
    "        return turn*val + turn\n",
    "    else:\n",
    "        return turn*val - turn\n",
    "    \n",
    "distributionData = pd.DataFrame(columns=['Round 1','Round 2','Round 3','Round 4','Round 5','Round 6', 'Utility'])\n",
    "\n",
    "flips = 6\n",
    "\n",
    "def recurseRounds(flips, currSetup, roundNumber):\n",
    "    roundNum = roundNumber\n",
    "    thisList = currSetup.copy()\n",
    "    thisList.append('H')\n",
    "    if flips == 1:\n",
    "        thisList.append(function(thisList))\n",
    "        distributionData.loc[len(distributionData)] = thisList\n",
    "        roundNum += 1\n",
    "    else:\n",
    "        roundNum = recurseRounds(flips-1, thisList, roundNum)\n",
    "    \n",
    "    otherList = currSetup.copy()\n",
    "    otherList.append('T')\n",
    "    if flips == 1:\n",
    "        otherList.append(function(otherList))\n",
    "        distributionData.loc[len(distributionData)] = otherList\n",
    "        roundNum += 1    \n",
    "    else:\n",
    "        roundNum = recurseRounds(flips-1, otherList, roundNum)\n",
    "    return roundNum\n",
    "        \n",
    "recurseRounds(flips, [], 1)\n",
    "distributionData"
   ]
  },
  {
   "cell_type": "code",
   "execution_count": 56,
   "id": "74dc8bcd",
   "metadata": {
    "ExecuteTime": {
     "end_time": "2023-11-17T21:14:27.681303Z",
     "start_time": "2023-11-17T21:14:27.677276Z"
    }
   },
   "outputs": [
    {
     "data": {
      "text/plain": "0"
     },
     "execution_count": 56,
     "metadata": {},
     "output_type": "execute_result"
    }
   ],
   "source": [
    "distributionData['Utility'].sum()"
   ]
  },
  {
   "cell_type": "code",
   "execution_count": 57,
   "id": "109dc0c39299762e",
   "metadata": {
    "ExecuteTime": {
     "end_time": "2023-11-17T21:14:27.683890Z",
     "start_time": "2023-11-17T21:14:27.680360Z"
    }
   },
   "outputs": [],
   "source": [
    "distributionData.to_csv('utility_distribution.csv', index=False)"
   ]
  },
  {
   "cell_type": "code",
   "execution_count": 58,
   "outputs": [
    {
     "data": {
      "text/plain": "   Round 1 Round 2 Round 3 Round 4 Round 5 Round 6  Utility\n0        H       H       H       H       H       H     1956\n1        H       H       H       H       H       T     1944\n2        H       H       H       H       T       H     1896\n3        H       H       H       H       T       T     1884\n4        H       H       H       T       H       H     1716\n..     ...     ...     ...     ...     ...     ...      ...\n59       T       T       T       H       T       T    -1716\n60       T       T       T       T       H       H    -1884\n61       T       T       T       T       H       T    -1896\n62       T       T       T       T       T       H    -1944\n63       T       T       T       T       T       T    -1956\n\n[64 rows x 7 columns]",
      "text/html": "<div>\n<style scoped>\n    .dataframe tbody tr th:only-of-type {\n        vertical-align: middle;\n    }\n\n    .dataframe tbody tr th {\n        vertical-align: top;\n    }\n\n    .dataframe thead th {\n        text-align: right;\n    }\n</style>\n<table border=\"1\" class=\"dataframe\">\n  <thead>\n    <tr style=\"text-align: right;\">\n      <th></th>\n      <th>Round 1</th>\n      <th>Round 2</th>\n      <th>Round 3</th>\n      <th>Round 4</th>\n      <th>Round 5</th>\n      <th>Round 6</th>\n      <th>Utility</th>\n    </tr>\n  </thead>\n  <tbody>\n    <tr>\n      <th>0</th>\n      <td>H</td>\n      <td>H</td>\n      <td>H</td>\n      <td>H</td>\n      <td>H</td>\n      <td>H</td>\n      <td>1956</td>\n    </tr>\n    <tr>\n      <th>1</th>\n      <td>H</td>\n      <td>H</td>\n      <td>H</td>\n      <td>H</td>\n      <td>H</td>\n      <td>T</td>\n      <td>1944</td>\n    </tr>\n    <tr>\n      <th>2</th>\n      <td>H</td>\n      <td>H</td>\n      <td>H</td>\n      <td>H</td>\n      <td>T</td>\n      <td>H</td>\n      <td>1896</td>\n    </tr>\n    <tr>\n      <th>3</th>\n      <td>H</td>\n      <td>H</td>\n      <td>H</td>\n      <td>H</td>\n      <td>T</td>\n      <td>T</td>\n      <td>1884</td>\n    </tr>\n    <tr>\n      <th>4</th>\n      <td>H</td>\n      <td>H</td>\n      <td>H</td>\n      <td>T</td>\n      <td>H</td>\n      <td>H</td>\n      <td>1716</td>\n    </tr>\n    <tr>\n      <th>...</th>\n      <td>...</td>\n      <td>...</td>\n      <td>...</td>\n      <td>...</td>\n      <td>...</td>\n      <td>...</td>\n      <td>...</td>\n    </tr>\n    <tr>\n      <th>59</th>\n      <td>T</td>\n      <td>T</td>\n      <td>T</td>\n      <td>H</td>\n      <td>T</td>\n      <td>T</td>\n      <td>-1716</td>\n    </tr>\n    <tr>\n      <th>60</th>\n      <td>T</td>\n      <td>T</td>\n      <td>T</td>\n      <td>T</td>\n      <td>H</td>\n      <td>H</td>\n      <td>-1884</td>\n    </tr>\n    <tr>\n      <th>61</th>\n      <td>T</td>\n      <td>T</td>\n      <td>T</td>\n      <td>T</td>\n      <td>H</td>\n      <td>T</td>\n      <td>-1896</td>\n    </tr>\n    <tr>\n      <th>62</th>\n      <td>T</td>\n      <td>T</td>\n      <td>T</td>\n      <td>T</td>\n      <td>T</td>\n      <td>H</td>\n      <td>-1944</td>\n    </tr>\n    <tr>\n      <th>63</th>\n      <td>T</td>\n      <td>T</td>\n      <td>T</td>\n      <td>T</td>\n      <td>T</td>\n      <td>T</td>\n      <td>-1956</td>\n    </tr>\n  </tbody>\n</table>\n<p>64 rows × 7 columns</p>\n</div>"
     },
     "execution_count": 58,
     "metadata": {},
     "output_type": "execute_result"
    }
   ],
   "source": [
    "distributionData"
   ],
   "metadata": {
    "collapsed": false,
    "ExecuteTime": {
     "end_time": "2023-11-17T21:14:27.689535Z",
     "start_time": "2023-11-17T21:14:27.686270Z"
    }
   },
   "id": "c1b903392c0453c6"
  },
  {
   "cell_type": "code",
   "execution_count": 59,
   "outputs": [],
   "source": [
    "import random\n",
    "# Simulating a bunch of trials for the experiment\n",
    "\n",
    "simulationData = pd.DataFrame(columns=['Trial #', 'Round 1','Round 2','Round 3','Round 4','Round 5','Round 6', 'Utility'])\n",
    "for trial in range(64):\n",
    "    trialData = [trial+1]\n",
    "    for round in range(flips):\n",
    "        trialData.append(random.choice(['H', 'T']))\n",
    "    trialData.append(function(trialData[1:]))\n",
    "    simulationData.loc[len(simulationData)] = trialData"
   ],
   "metadata": {
    "collapsed": false,
    "ExecuteTime": {
     "end_time": "2023-11-17T21:14:27.771732Z",
     "start_time": "2023-11-17T21:14:27.698322Z"
    }
   },
   "id": "505d0ad5d65e06d9"
  },
  {
   "cell_type": "code",
   "execution_count": 60,
   "outputs": [
    {
     "data": {
      "text/plain": "3660"
     },
     "execution_count": 60,
     "metadata": {},
     "output_type": "execute_result"
    }
   ],
   "source": [
    "simulationData['Utility'].sum()"
   ],
   "metadata": {
    "collapsed": false,
    "ExecuteTime": {
     "end_time": "2023-11-17T21:14:27.772331Z",
     "start_time": "2023-11-17T21:14:27.729110Z"
    }
   },
   "id": "a3efc96da4a5d524"
  },
  {
   "cell_type": "code",
   "execution_count": 61,
   "outputs": [],
   "source": [
    "simulationData.to_csv('trial_data.csv', index=False)"
   ],
   "metadata": {
    "collapsed": false,
    "ExecuteTime": {
     "end_time": "2023-11-17T21:14:27.772410Z",
     "start_time": "2023-11-17T21:14:27.732022Z"
    }
   },
   "id": "78923924dd86d3c9"
  },
  {
   "cell_type": "code",
   "execution_count": 62,
   "outputs": [
    {
     "data": {
      "text/plain": "    Trial # Round 1 Round 2 Round 3 Round 4 Round 5 Round 6  Utility\n0         1       T       T       T       H       H       H    -1644\n1         2       H       H       T       T       T       T      924\n2         3       T       T       T       H       H       T    -1656\n3         4       H       T       T       T       T       T     -516\n4         5       H       T       T       H       H       T     -216\n..      ...     ...     ...     ...     ...     ...     ...      ...\n59       60       H       T       H       H       H       T      504\n60       61       H       T       T       H       T       H     -264\n61       62       H       H       H       T       H       T     1704\n62       63       T       H       T       H       T       T     -276\n63       64       H       T       H       H       T       T      444\n\n[64 rows x 8 columns]",
      "text/html": "<div>\n<style scoped>\n    .dataframe tbody tr th:only-of-type {\n        vertical-align: middle;\n    }\n\n    .dataframe tbody tr th {\n        vertical-align: top;\n    }\n\n    .dataframe thead th {\n        text-align: right;\n    }\n</style>\n<table border=\"1\" class=\"dataframe\">\n  <thead>\n    <tr style=\"text-align: right;\">\n      <th></th>\n      <th>Trial #</th>\n      <th>Round 1</th>\n      <th>Round 2</th>\n      <th>Round 3</th>\n      <th>Round 4</th>\n      <th>Round 5</th>\n      <th>Round 6</th>\n      <th>Utility</th>\n    </tr>\n  </thead>\n  <tbody>\n    <tr>\n      <th>0</th>\n      <td>1</td>\n      <td>T</td>\n      <td>T</td>\n      <td>T</td>\n      <td>H</td>\n      <td>H</td>\n      <td>H</td>\n      <td>-1644</td>\n    </tr>\n    <tr>\n      <th>1</th>\n      <td>2</td>\n      <td>H</td>\n      <td>H</td>\n      <td>T</td>\n      <td>T</td>\n      <td>T</td>\n      <td>T</td>\n      <td>924</td>\n    </tr>\n    <tr>\n      <th>2</th>\n      <td>3</td>\n      <td>T</td>\n      <td>T</td>\n      <td>T</td>\n      <td>H</td>\n      <td>H</td>\n      <td>T</td>\n      <td>-1656</td>\n    </tr>\n    <tr>\n      <th>3</th>\n      <td>4</td>\n      <td>H</td>\n      <td>T</td>\n      <td>T</td>\n      <td>T</td>\n      <td>T</td>\n      <td>T</td>\n      <td>-516</td>\n    </tr>\n    <tr>\n      <th>4</th>\n      <td>5</td>\n      <td>H</td>\n      <td>T</td>\n      <td>T</td>\n      <td>H</td>\n      <td>H</td>\n      <td>T</td>\n      <td>-216</td>\n    </tr>\n    <tr>\n      <th>...</th>\n      <td>...</td>\n      <td>...</td>\n      <td>...</td>\n      <td>...</td>\n      <td>...</td>\n      <td>...</td>\n      <td>...</td>\n      <td>...</td>\n    </tr>\n    <tr>\n      <th>59</th>\n      <td>60</td>\n      <td>H</td>\n      <td>T</td>\n      <td>H</td>\n      <td>H</td>\n      <td>H</td>\n      <td>T</td>\n      <td>504</td>\n    </tr>\n    <tr>\n      <th>60</th>\n      <td>61</td>\n      <td>H</td>\n      <td>T</td>\n      <td>T</td>\n      <td>H</td>\n      <td>T</td>\n      <td>H</td>\n      <td>-264</td>\n    </tr>\n    <tr>\n      <th>61</th>\n      <td>62</td>\n      <td>H</td>\n      <td>H</td>\n      <td>H</td>\n      <td>T</td>\n      <td>H</td>\n      <td>T</td>\n      <td>1704</td>\n    </tr>\n    <tr>\n      <th>62</th>\n      <td>63</td>\n      <td>T</td>\n      <td>H</td>\n      <td>T</td>\n      <td>H</td>\n      <td>T</td>\n      <td>T</td>\n      <td>-276</td>\n    </tr>\n    <tr>\n      <th>63</th>\n      <td>64</td>\n      <td>H</td>\n      <td>T</td>\n      <td>H</td>\n      <td>H</td>\n      <td>T</td>\n      <td>T</td>\n      <td>444</td>\n    </tr>\n  </tbody>\n</table>\n<p>64 rows × 8 columns</p>\n</div>"
     },
     "execution_count": 62,
     "metadata": {},
     "output_type": "execute_result"
    }
   ],
   "source": [
    "simulationData"
   ],
   "metadata": {
    "collapsed": false,
    "ExecuteTime": {
     "end_time": "2023-11-17T21:14:27.772848Z",
     "start_time": "2023-11-17T21:14:27.737390Z"
    }
   },
   "id": "015373a0"
  }
 ],
 "metadata": {
  "kernelspec": {
   "display_name": "Python 3 (ipykernel)",
   "language": "python",
   "name": "python3"
  },
  "language_info": {
   "codemirror_mode": {
    "name": "ipython",
    "version": 3
   },
   "file_extension": ".py",
   "mimetype": "text/x-python",
   "name": "python",
   "nbconvert_exporter": "python",
   "pygments_lexer": "ipython3",
   "version": "3.11.3"
  }
 },
 "nbformat": 4,
 "nbformat_minor": 5
}

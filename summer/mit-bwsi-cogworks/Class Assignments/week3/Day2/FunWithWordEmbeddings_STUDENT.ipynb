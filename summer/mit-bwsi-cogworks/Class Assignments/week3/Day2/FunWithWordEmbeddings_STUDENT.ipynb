{
 "cells": [
  {
   "cell_type": "markdown",
   "id": "63f0234b",
   "metadata": {
    "lines_to_next_cell": 0
   },
   "source": [
    "# Fun With Word Embeddings\n",
    "\n",
    "Word embeddings (or \"word vectors\") are mappings from discrete word tokens (e.g., the word \"kitten\") to numerical vectors, e.g., a 50-dimensional vector of real numbers. The goal is for words that are related (such as \"scared\" and \"afraid\") to map to points that are close together in the 50-dimensional space.\n",
    "\n",
    "These continous representations for words have proven very helpful in many NLP tasks. For example, they can help deal with synonyms that would otherwise have been considered totally unrelated in the bag of words approach to representing documents.\n",
    "\n",
    "There are several approaches for finding such an embedding. One approach is to analyze the contexts that words appear in over a large corpus and then find embeddings that map words with similar contexts to similar points in the space. For example,\n",
    "\n",
    "    I am scared of dogs.\n",
    "    I am scared of bees.\n",
    "    I am afraid of dogs.\n",
    "    I am afraid of bees.\n",
    "    ...\n",
    "\n",
    "The words \"scared\" and \"afraid\" both appear in the contexts\n",
    "\n",
    "    \"I am ... of dogs\"\n",
    "\n",
    "and\n",
    "\n",
    "    \"I am ... of bees\"\n",
    "\n",
    "so it's likely that the words are related in some way. The relationship can be semantic (related to meaning) or syntactic (e.g., often occur between a determiner and a noun) In this case, \"scared\" and \"afraid\" are related semantically (similar meaning) and also syntactically (both adjectives).\n",
    "\n",
    "One really neat thing that researchers discovered is that word embeddings can be used to solve analogies, e.g., \n",
    "\n",
    "    \"puppy\" is to \"dog\" as \"kitten\" is to ?\n",
    "    \n",
    "Amazingly, this kind of puzzle can be solved by doing computations on word vectors:\n",
    "\n",
    "```python\n",
    "wv[\"kitten\"] - wv[\"puppy\"] + wv[\"dog\"]\n",
    "```"
   ]
  },
  {
   "cell_type": "markdown",
   "id": "0896cabf",
   "metadata": {},
   "source": [
    "and finding the most similar word to the result, `wv[\"cat\"]` in this case.\n",
    "\n",
    "The reason is that the vector `(wv[\"dog\"] - wv[\"puppy\"])` represents a direction in the space the often takes the youth version of a concept to the adult version. So starting with \"kitten\" and moving in that direction winds up in an area of the space similar to \"cat\"."
   ]
  },
  {
   "cell_type": "markdown",
   "id": "cbcdbac5",
   "metadata": {},
   "source": [
    "## 0 Imports"
   ]
  },
  {
   "cell_type": "code",
   "execution_count": 1,
   "id": "9d3c8ac5",
   "metadata": {},
   "outputs": [],
   "source": [
    "from collections import defaultdict\n",
    "import numpy as np\n",
    "import time\n",
    "import gensim\n",
    "from gensim.models.keyedvectors import KeyedVectors\n",
    "from sklearn.decomposition import TruncatedSVD\n",
    "import matplotlib.pyplot as plt\n",
    "%matplotlib inline"
   ]
  },
  {
   "cell_type": "markdown",
   "id": "b971dd81",
   "metadata": {},
   "source": [
    "## 1 Load pre-trained GloVe embeddings using gensim library\n",
    "\n",
    "The [gensim](https://radimrehurek.com/gensim/) library is a great tool for working with word embeddings and doing other things with text (like analyzing latent topics). If you need to install gensim, try: \n",
    "\n",
    "    pip install gensim\n",
    "\n",
    "We're going to use gensim to explore some pre-trained word embeddings trained with an algorithm called [GloVe](https://nlp.stanford.edu/projects/glove/).\n",
    "\n",
    "The following code will now use gensim to load the word vectors into a variable called `glove`."
   ]
  },
  {
   "cell_type": "code",
   "execution_count": 2,
   "id": "3416b892",
   "metadata": {},
   "outputs": [
    {
     "name": "stderr",
     "output_type": "stream",
     "text": [
      "Downloading file 'glove.6B.50d.txt.w2v' from 'https://github.com/rsokl/cog_data/releases/download/language-files/glove.6B.50d.txt.w2v' to '/Users/aadishah/Library/Caches/cog_data'.\n"
     ]
    },
    {
     "name": "stdout",
     "output_type": "stream",
     "text": [
      "elapsed 5.5490288734436035s\n"
     ]
    }
   ],
   "source": [
    "from collections import defaultdict\n",
    "import numpy as np\n",
    "import time\n",
    "import gensim\n",
    "from gensim.models.keyedvectors import KeyedVectors\n",
    "from sklearn.decomposition import TruncatedSVD\n",
    "import matplotlib.pyplot as plt\n",
    "\n",
    "from cogworks_data.language import get_data_path\n",
    "\n",
    "%matplotlib inline\n",
    "\n",
    "path = get_data_path(\"glove.6B.50d.txt.w2v\")\n",
    "\n",
    "t0 = time.time()\n",
    "glove = KeyedVectors.load_word2vec_format(path, binary=False)\n",
    "t1 = time.time()\n",
    "print(\"elapsed %ss\" % (t1 - t0))\n",
    "# 50d: elapsed 17.67420792579651s\n",
    "# 100d: "
   ]
  },
  {
   "cell_type": "markdown",
   "id": "5353b07a",
   "metadata": {
    "lines_to_next_cell": 0
   },
   "source": [
    "You can get the word vector for a word (string) with the following: "
   ]
  },
  {
   "cell_type": "code",
   "execution_count": 3,
   "id": "b128340c",
   "metadata": {
    "lines_to_next_cell": 0
   },
   "outputs": [
    {
     "data": {
      "text/plain": [
       "array([-0.1643   ,  0.15722  , -0.55021  , -0.3303   ,  0.66463  ,\n",
       "       -0.1152   , -0.2261   , -0.23674  , -0.86119  ,  0.24319  ,\n",
       "        0.074499 ,  0.61081  ,  0.73683  , -0.35224  ,  0.61346  ,\n",
       "        0.0050975, -0.62538  , -0.0050458,  0.18392  , -0.12214  ,\n",
       "       -0.65973  , -0.30673  ,  0.35038  ,  0.75805  ,  1.0183   ,\n",
       "       -1.7424   , -1.4277   ,  0.38032  ,  0.37713  , -0.74941  ,\n",
       "        2.9401   , -0.8097   , -0.66901  ,  0.23123  , -0.073194 ,\n",
       "       -0.13624  ,  0.24424  , -1.0129   , -0.24919  , -0.06893  ,\n",
       "        0.70231  , -0.022177 , -0.64684  ,  0.59599  ,  0.027092 ,\n",
       "        0.11203  ,  0.61214  ,  0.74339  ,  0.23572  , -0.1369   ],\n",
       "      dtype=float32)"
      ]
     },
     "execution_count": 3,
     "metadata": {},
     "output_type": "execute_result"
    }
   ],
   "source": [
    "glove[\"word\"]"
   ]
  },
  {
   "cell_type": "markdown",
   "id": "6fa88138",
   "metadata": {
    "lines_to_next_cell": 0
   },
   "source": [
    "Print out the word vector for your favorite word. Note: you can check that the word is in the 400K lowercased vocabulary with:"
   ]
  },
  {
   "cell_type": "code",
   "execution_count": 7,
   "id": "f00078b6",
   "metadata": {
    "lines_to_next_cell": 0
   },
   "outputs": [
    {
     "data": {
      "text/plain": [
       "True"
      ]
     },
     "execution_count": 7,
     "metadata": {},
     "output_type": "execute_result"
    }
   ],
   "source": [
    "\"time\" in glove"
   ]
  },
  {
   "cell_type": "markdown",
   "id": "4403533d",
   "metadata": {},
   "source": [
    "What's the type of the word vector (e.g. a numpy array, a tuple)? What's its shape?"
   ]
  },
  {
   "cell_type": "code",
   "execution_count": 8,
   "id": "bea5110e",
   "metadata": {
    "lines_to_next_cell": 2
   },
   "outputs": [
    {
     "data": {
      "text/plain": [
       "array([ 0.02648  ,  0.33737  ,  0.065667 , -0.11609  ,  0.41651  ,\n",
       "       -0.21142  , -0.69582  ,  0.2822   , -0.36077  , -0.13822  ,\n",
       "        0.012094 ,  0.086227 , -0.84638  ,  0.057195 ,  1.1582   ,\n",
       "        0.14703  , -0.0049197, -0.24899  , -0.96014  , -0.3038   ,\n",
       "        0.23972  ,  0.21058  ,  0.40608  ,  0.17789  ,  0.55253  ,\n",
       "       -1.6357   , -0.17784  , -0.45222  ,  0.45805  ,  0.14239  ,\n",
       "        3.7087   ,  0.40289  , -0.4083   , -0.29304  ,  0.030857 ,\n",
       "       -0.15361  ,  0.10607  ,  0.63397  ,  0.12397  , -0.25349  ,\n",
       "       -0.10344  ,  0.0069768, -0.17328  ,  0.35536  , -0.46369  ,\n",
       "        0.15285  ,  0.41475  , -0.3398   , -0.23043  ,  0.19069  ],\n",
       "      dtype=float32)"
      ]
     },
     "execution_count": 8,
     "metadata": {},
     "output_type": "execute_result"
    }
   ],
   "source": [
    "# STUDENT CODE HERE\n",
    "glove[\"time\"]"
   ]
  },
  {
   "cell_type": "markdown",
   "id": "69fc6e1e",
   "metadata": {},
   "source": [
    "It's not clear how to (or even if we can) interpret what the individual dimensions mean. But we can gain some intuition by looking at the relationships between whole word vectors."
   ]
  },
  {
   "cell_type": "markdown",
   "id": "fd77972b",
   "metadata": {
    "lines_to_next_cell": 0
   },
   "source": [
    "## 2 Finding most similar words\n",
    "\n",
    "You can use"
   ]
  },
  {
   "cell_type": "code",
   "execution_count": 9,
   "id": "87c3a980",
   "metadata": {
    "lines_to_next_cell": 0
   },
   "outputs": [
    {
     "data": {
      "text/plain": [
       "[('phrase', 0.9161800742149353),\n",
       " ('meaning', 0.8881693482398987),\n",
       " ('words', 0.8489307761192322),\n",
       " ('language', 0.8100197315216064),\n",
       " ('name', 0.7941889762878418),\n",
       " ('refers', 0.7908241152763367),\n",
       " ('reference', 0.7884694933891296),\n",
       " ('read', 0.7750626802444458),\n",
       " ('simply', 0.7710632681846619),\n",
       " ('phrases', 0.763225257396698)]"
      ]
     },
     "execution_count": 9,
     "metadata": {},
     "output_type": "execute_result"
    }
   ],
   "source": [
    "glove.most_similar(\"word\")"
   ]
  },
  {
   "cell_type": "markdown",
   "id": "381cc9d8",
   "metadata": {},
   "source": [
    "to find the words that the model considers most similar to a specified word (according to cosine similarity). Try it out on \"funny\" and \"pencil\" and some other words.\n"
   ]
  },
  {
   "cell_type": "code",
   "execution_count": 10,
   "id": "4403eaab",
   "metadata": {},
   "outputs": [
    {
     "data": {
      "text/plain": [
       "[('hilarious', 0.8796553611755371),\n",
       " ('amusing', 0.8676607608795166),\n",
       " ('silly', 0.8449272513389587),\n",
       " ('joke', 0.8393374681472778),\n",
       " ('fun', 0.8367614150047302),\n",
       " ('weird', 0.8209653496742249),\n",
       " ('pretty', 0.8184579014778137),\n",
       " ('scary', 0.8148325085639954),\n",
       " ('boring', 0.8118148446083069),\n",
       " ('incredibly', 0.7985021471977234)]"
      ]
     },
     "execution_count": 10,
     "metadata": {},
     "output_type": "execute_result"
    }
   ],
   "source": [
    "# STUDENT CODE HERE\n",
    "glove.most_similar(\"funny\")"
   ]
  },
  {
   "cell_type": "code",
   "execution_count": 11,
   "id": "2cf1a024",
   "metadata": {},
   "outputs": [
    {
     "data": {
      "text/plain": [
       "[('scissors', 0.7837908267974854),\n",
       " ('sharpener', 0.7752447128295898),\n",
       " ('pencils', 0.7656055688858032),\n",
       " ('crayon', 0.738135039806366),\n",
       " ('sharpeners', 0.7206112146377563),\n",
       " ('engraving', 0.7164567112922668),\n",
       " ('paint', 0.7089575529098511),\n",
       " ('lettering', 0.7048622369766235),\n",
       " ('eraser', 0.7036406993865967),\n",
       " ('lace', 0.6947880387306213)]"
      ]
     },
     "execution_count": 11,
     "metadata": {},
     "output_type": "execute_result"
    }
   ],
   "source": [
    "glove.most_similar(\"pencil\")"
   ]
  },
  {
   "cell_type": "code",
   "execution_count": 12,
   "id": "ae060690",
   "metadata": {},
   "outputs": [
    {
     "data": {
      "text/plain": [
       "[('when', 0.9125666618347168),\n",
       " ('.', 0.9117785692214966),\n",
       " ('only', 0.9035190343856812),\n",
       " ('coming', 0.9028721451759338),\n",
       " ('but', 0.8986656069755554),\n",
       " ('same', 0.8917646408081055),\n",
       " ('again', 0.8914560079574585),\n",
       " ('just', 0.8888181447982788),\n",
       " ('before', 0.8872636556625366),\n",
       " ('starting', 0.8871387839317322)]"
      ]
     },
     "execution_count": 12,
     "metadata": {},
     "output_type": "execute_result"
    }
   ],
   "source": [
    "glove.most_similar(\"time\")"
   ]
  },
  {
   "cell_type": "markdown",
   "id": "11b72802",
   "metadata": {},
   "source": [
    "What do you notice about the relationships of the similars words to the query word? Are they all the same part of speech (e.g., all adjectives or all verbs)? Are they synonyms or near synonyms? Are they all objects of the same type (e.g., all tools)?"
   ]
  },
  {
   "cell_type": "markdown",
   "id": "aa6ad216",
   "metadata": {
    "lines_to_next_cell": 0
   },
   "source": [
    "## 3 Visualization through dimensionality reduction\n",
    "\n",
    "It's difficult to visualize high-dimensional data like the 50-dimensional GloVe embeddings. So we're going to use (truncated) Singular Value Decomposition (SVD) to reduce the dimensions down to 2, which we can then easily plot.\n",
    "\n",
    "We'll be using scikit-learn's `TruncatedSVD` implementation. When creating the object, you provide the number of desired dimensions, e.g.,\n",
    "\n",
    "```python\n",
    "svd = TruncatedSVD(n_components=2)\n",
    "```\n",
    "\n",
    "Then you fit the dimensionality reduction model to data with:\n",
    "\n",
    "```python\n",
    "svd.fit(X_train)\n",
    "```\n",
    "\n",
    "Finally, to transform a 50-dimensional matrix (or single vector) down to 2-dimensions according to the model, you call:\n",
    "\n",
    "```python\n",
    "X_reduced = svd.transform(X)\n",
    "```"
   ]
  },
  {
   "cell_type": "markdown",
   "id": "3f95d0e4",
   "metadata": {},
   "source": [
    "### Get all embeddings into a matrix\n",
    "\n",
    "First, we'll copy all of the word embeddings into a single matrix. Note: It's a little wasteful to have loaded the embeddings using gensim (which is storing them internally already) and then copying them into a numpy array in order to apply dimensionality reduction. But it was handy to use gensim for loading and for some of it's convenient lookup methods..."
   ]
  },
  {
   "cell_type": "code",
   "execution_count": 13,
   "id": "c9d15043",
   "metadata": {},
   "outputs": [
    {
     "name": "stdout",
     "output_type": "stream",
     "text": [
      "160000000\n"
     ]
    }
   ],
   "source": [
    "n = len(glove.key_to_index)\n",
    "d = glove.vector_size\n",
    "X_glove = np.zeros((n, d))\n",
    "for i, word in enumerate(glove.key_to_index.keys()):\n",
    "    X_glove[i,:] = glove[word]\n",
    "print(X_glove.nbytes)"
   ]
  },
  {
   "cell_type": "markdown",
   "id": "ba4c7cab",
   "metadata": {},
   "source": [
    "### Fit `TruncatedSVD` on the `X_glove` matrix."
   ]
  },
  {
   "cell_type": "code",
   "execution_count": 20,
   "id": "4ab249a2",
   "metadata": {},
   "outputs": [
    {
     "data": {
      "text/html": [
       "<style>#sk-container-id-1 {color: black;background-color: white;}#sk-container-id-1 pre{padding: 0;}#sk-container-id-1 div.sk-toggleable {background-color: white;}#sk-container-id-1 label.sk-toggleable__label {cursor: pointer;display: block;width: 100%;margin-bottom: 0;padding: 0.3em;box-sizing: border-box;text-align: center;}#sk-container-id-1 label.sk-toggleable__label-arrow:before {content: \"▸\";float: left;margin-right: 0.25em;color: #696969;}#sk-container-id-1 label.sk-toggleable__label-arrow:hover:before {color: black;}#sk-container-id-1 div.sk-estimator:hover label.sk-toggleable__label-arrow:before {color: black;}#sk-container-id-1 div.sk-toggleable__content {max-height: 0;max-width: 0;overflow: hidden;text-align: left;background-color: #f0f8ff;}#sk-container-id-1 div.sk-toggleable__content pre {margin: 0.2em;color: black;border-radius: 0.25em;background-color: #f0f8ff;}#sk-container-id-1 input.sk-toggleable__control:checked~div.sk-toggleable__content {max-height: 200px;max-width: 100%;overflow: auto;}#sk-container-id-1 input.sk-toggleable__control:checked~label.sk-toggleable__label-arrow:before {content: \"▾\";}#sk-container-id-1 div.sk-estimator input.sk-toggleable__control:checked~label.sk-toggleable__label {background-color: #d4ebff;}#sk-container-id-1 div.sk-label input.sk-toggleable__control:checked~label.sk-toggleable__label {background-color: #d4ebff;}#sk-container-id-1 input.sk-hidden--visually {border: 0;clip: rect(1px 1px 1px 1px);clip: rect(1px, 1px, 1px, 1px);height: 1px;margin: -1px;overflow: hidden;padding: 0;position: absolute;width: 1px;}#sk-container-id-1 div.sk-estimator {font-family: monospace;background-color: #f0f8ff;border: 1px dotted black;border-radius: 0.25em;box-sizing: border-box;margin-bottom: 0.5em;}#sk-container-id-1 div.sk-estimator:hover {background-color: #d4ebff;}#sk-container-id-1 div.sk-parallel-item::after {content: \"\";width: 100%;border-bottom: 1px solid gray;flex-grow: 1;}#sk-container-id-1 div.sk-label:hover label.sk-toggleable__label {background-color: #d4ebff;}#sk-container-id-1 div.sk-serial::before {content: \"\";position: absolute;border-left: 1px solid gray;box-sizing: border-box;top: 0;bottom: 0;left: 50%;z-index: 0;}#sk-container-id-1 div.sk-serial {display: flex;flex-direction: column;align-items: center;background-color: white;padding-right: 0.2em;padding-left: 0.2em;position: relative;}#sk-container-id-1 div.sk-item {position: relative;z-index: 1;}#sk-container-id-1 div.sk-parallel {display: flex;align-items: stretch;justify-content: center;background-color: white;position: relative;}#sk-container-id-1 div.sk-item::before, #sk-container-id-1 div.sk-parallel-item::before {content: \"\";position: absolute;border-left: 1px solid gray;box-sizing: border-box;top: 0;bottom: 0;left: 50%;z-index: -1;}#sk-container-id-1 div.sk-parallel-item {display: flex;flex-direction: column;z-index: 1;position: relative;background-color: white;}#sk-container-id-1 div.sk-parallel-item:first-child::after {align-self: flex-end;width: 50%;}#sk-container-id-1 div.sk-parallel-item:last-child::after {align-self: flex-start;width: 50%;}#sk-container-id-1 div.sk-parallel-item:only-child::after {width: 0;}#sk-container-id-1 div.sk-dashed-wrapped {border: 1px dashed gray;margin: 0 0.4em 0.5em 0.4em;box-sizing: border-box;padding-bottom: 0.4em;background-color: white;}#sk-container-id-1 div.sk-label label {font-family: monospace;font-weight: bold;display: inline-block;line-height: 1.2em;}#sk-container-id-1 div.sk-label-container {text-align: center;}#sk-container-id-1 div.sk-container {/* jupyter's `normalize.less` sets `[hidden] { display: none; }` but bootstrap.min.css set `[hidden] { display: none !important; }` so we also need the `!important` here to be able to override the default hidden behavior on the sphinx rendered scikit-learn.org. See: https://github.com/scikit-learn/scikit-learn/issues/21755 */display: inline-block !important;position: relative;}#sk-container-id-1 div.sk-text-repr-fallback {display: none;}</style><div id=\"sk-container-id-1\" class=\"sk-top-container\"><div class=\"sk-text-repr-fallback\"><pre>TruncatedSVD()</pre><b>In a Jupyter environment, please rerun this cell to show the HTML representation or trust the notebook. <br />On GitHub, the HTML representation is unable to render, please try loading this page with nbviewer.org.</b></div><div class=\"sk-container\" hidden><div class=\"sk-item\"><div class=\"sk-estimator sk-toggleable\"><input class=\"sk-toggleable__control sk-hidden--visually\" id=\"sk-estimator-id-1\" type=\"checkbox\" checked><label for=\"sk-estimator-id-1\" class=\"sk-toggleable__label sk-toggleable__label-arrow\">TruncatedSVD</label><div class=\"sk-toggleable__content\"><pre>TruncatedSVD()</pre></div></div></div></div></div>"
      ],
      "text/plain": [
       "TruncatedSVD()"
      ]
     },
     "execution_count": 20,
     "metadata": {},
     "output_type": "execute_result"
    }
   ],
   "source": [
    "# STUDENT CODE HERE\n",
    "svd = TruncatedSVD(n_components=2)\n",
    "svd.fit(X_glove)"
   ]
  },
  {
   "cell_type": "markdown",
   "id": "738f4853",
   "metadata": {},
   "source": [
    "The following helper function will help us visualize word pairs in the reduced 2-dimensional version of the word embedding space:"
   ]
  },
  {
   "cell_type": "code",
   "execution_count": 21,
   "id": "41a39e27",
   "metadata": {},
   "outputs": [],
   "source": [
    "def plot_pairs(words, word_vectors, svd):\n",
    "    \"\"\" Plots pairs of words in 2D.\n",
    "    \n",
    "    Parameters\n",
    "    ----------\n",
    "    words: list[str]\n",
    "        A list with an even number of words, where pairs of words have some common relationship\n",
    "        (like profession and tool), e.g., [\"carpenter\", \"hammer\", \"plumber\", \"wrench\"].\n",
    "        \n",
    "    word_vectors: KeyedVectors instance\n",
    "        A word embedding model in gensim's KeyedVectors wrapper.\n",
    "        \n",
    "    svd: TruncatedSVD instance\n",
    "        A truncated SVD instance that's already been fit (with n_components=2).\n",
    "    \"\"\"\n",
    "\n",
    "    # map specified words to 2D space\n",
    "    d = word_vectors.vector_size\n",
    "    words_temp = np.zeros((len(words), d))\n",
    "    for i, word in enumerate(words):\n",
    "        words_temp[i,:] = word_vectors[word]\n",
    "    words_2D = svd.transform(words_temp)\n",
    "\n",
    "    # plot points\n",
    "    plt.scatter(words_2D[:,0], words_2D[:,1])\n",
    "    \n",
    "    # plot labels\n",
    "    for i, txt in enumerate(words):\n",
    "        plt.annotate(txt, (words_2D[i, 0], words_2D[i, 1]))\n",
    "\n",
    "    # plot lines\n",
    "    for i in range(int(len(words)/2)):\n",
    "        plt.plot(words_2D[i*2:i*2+2,0], words_2D[i*2:i*2+2,1], linestyle='dashed', color='k')"
   ]
  },
  {
   "cell_type": "markdown",
   "id": "375d77c4",
   "metadata": {},
   "source": [
    "### Visualize: Male vs Female\n",
    "\n",
    "Try plotting these pairs and then adding some more to see how consistent the relationship is."
   ]
  },
  {
   "cell_type": "code",
   "execution_count": 22,
   "id": "38f0f08c",
   "metadata": {},
   "outputs": [
    {
     "data": {
      "image/png": "[encoded data removed]",
      "text/plain": [
       "<Figure size 640x480 with 1 Axes>"
      ]
     },
     "metadata": {},
     "output_type": "display_data"
    }
   ],
   "source": [
    "words = [\"man\", \"woman\", \"king\", \"queen\", \"uncle\", \"aunt\", \"nephew\", \"niece\", \"brother\", \"sister\", \"sir\", \"madam\"]\n",
    "plot_pairs(words, glove, svd)"
   ]
  },
  {
   "cell_type": "markdown",
   "id": "c2bc4276",
   "metadata": {},
   "source": [
    "### Visualize: Adjective vs Comparative\n",
    "\n",
    "Try plotting these pairs and then adding some more to see how consistent the relationship is."
   ]
  },
  {
   "cell_type": "code",
   "execution_count": 23,
   "id": "56d8ae5f",
   "metadata": {},
   "outputs": [
    {
     "data": {
      "image/png": "[encoded data removed]",
      "text/plain": [
       "<Figure size 640x480 with 1 Axes>"
      ]
     },
     "metadata": {},
     "output_type": "display_data"
    }
   ],
   "source": [
    "words = [\"short\", \"shorter\", \"strong\", \"stronger\", \"good\", \"better\"]\n",
    "plot_pairs(words, glove, svd)"
   ]
  },
  {
   "cell_type": "markdown",
   "id": "2f5fed41",
   "metadata": {},
   "source": [
    "### Visualize: Cellular Biology Metaphors\n",
    "\n",
    "Try plotting these pairs and then adding some more to see how consistent the relationship is."
   ]
  },
  {
   "cell_type": "code",
   "execution_count": 24,
   "id": "a8c252e2",
   "metadata": {},
   "outputs": [
    {
     "data": {
      "image/png": "[encoded data removed]",
      "text/plain": [
       "<Figure size 640x480 with 1 Axes>"
      ]
     },
     "metadata": {},
     "output_type": "display_data"
    }
   ],
   "source": [
    "words = [\"mitochondria\", \"cell\", \"powerhouse\", \"town\"]\n",
    "plot_pairs(words, glove, svd)"
   ]
  },
  {
   "cell_type": "markdown",
   "id": "45a95284",
   "metadata": {},
   "source": [
    "## 4 Introduction to Analogies\n",
    "\n",
    "Let's try applying word embeddings to solve analogies of the form: $a$ is to $b$ as $c$ is to ?\n",
    "\n",
    "We'll exploit the directions in the embedding space by finding the closest vector to $c + (b - a)$, or equivalently $c - a + b$.\n",
    "\n",
    "A common example is: \"puppy\" is to \"dog\" as \"kitten\" is to ?\n",
    "\n",
    "This can be solved by finding the closest vector to: \"kitten\" - \"puppy\" + \"dog\"."
   ]
  },
  {
   "cell_type": "code",
   "execution_count": 25,
   "id": "c14d662d",
   "metadata": {},
   "outputs": [
    {
     "data": {
      "text/plain": [
       "[('dog', 0.7938328981399536),\n",
       " ('cat', 0.7667654752731323),\n",
       " ('kitten', 0.7179057002067566),\n",
       " ('monkey', 0.7019667029380798),\n",
       " ('killer', 0.6938791871070862),\n",
       " ('mad', 0.691328763961792),\n",
       " ('dogs', 0.6863180994987488),\n",
       " ('monster', 0.6793158650398254),\n",
       " ('woman', 0.6672138571739197),\n",
       " ('naked', 0.666832447052002)]"
      ]
     },
     "execution_count": 25,
     "metadata": {},
     "output_type": "execute_result"
    }
   ],
   "source": [
    "query = glove[\"kitten\"] - glove[\"puppy\"] + glove[\"dog\"]\n",
    "glove.similar_by_vector(query)"
   ]
  },
  {
   "cell_type": "markdown",
   "id": "c7dced13",
   "metadata": {},
   "source": [
    "Note that the most similar word (other than \"dog\" itself) is \"cat\"!\n",
    "\n",
    "Now try solving: \"france\" is to \"paris\" as \"germany\" is to ?"
   ]
  },
  {
   "cell_type": "code",
   "execution_count": 26,
   "id": "ccdf5fbf",
   "metadata": {},
   "outputs": [
    {
     "data": {
      "text/plain": [
       "[('germany', 0.9003421664237976),\n",
       " ('denmark', 0.8108453154563904),\n",
       " ('france', 0.7695527076721191),\n",
       " ('austria', 0.7690553665161133),\n",
       " ('poland', 0.7650719881057739),\n",
       " ('belgium', 0.7588747143745422),\n",
       " ('slovakia', 0.7525765299797058),\n",
       " ('sweden', 0.7460467219352722),\n",
       " ('europe', 0.743889570236206),\n",
       " ('german', 0.7431367635726929)]"
      ]
     },
     "execution_count": 26,
     "metadata": {},
     "output_type": "execute_result"
    }
   ],
   "source": [
    "# STUDENT CODE HERE\n",
    "query = glove[\"france\"] - glove[\"paris\"] + glove[\"germany\"]\n",
    "glove.similar_by_vector(query)"
   ]
  },
  {
   "cell_type": "markdown",
   "id": "e53791c7",
   "metadata": {},
   "source": [
    "Note that the gensim library has convenience methods for doing analogies. For example,\n",
    "\n",
    "\"kitten\" - \"puppy\" + \"dog\"\n",
    "\n",
    "can be solved with:\n",
    "\n",
    "```python\n",
    "glove.most_similar_cosmul(positive=['kitten', 'dog'], negative=['puppy'])\n",
    "```\n",
    "\n",
    "This uses a slightly more advanced technique for solving analogies that has \"less susceptibility to one large distance dominating the calculation\". See most_similar_cosmul() documentation for more details."
   ]
  },
  {
   "cell_type": "code",
   "execution_count": 27,
   "id": "82ce17a9",
   "metadata": {},
   "outputs": [
    {
     "data": {
      "text/plain": [
       "[('cat', 0.893336296081543),\n",
       " ('monkey', 0.8776191473007202),\n",
       " ('killer', 0.8667650818824768),\n",
       " ('bikini', 0.8635241389274597),\n",
       " ('mad', 0.8598142266273499),\n",
       " ('naked', 0.8578194975852966),\n",
       " ('monster', 0.855743944644928),\n",
       " ('teen', 0.8467974066734314),\n",
       " ('boy', 0.8466870188713074),\n",
       " ('woman', 0.8466081023216248)]"
      ]
     },
     "execution_count": 27,
     "metadata": {},
     "output_type": "execute_result"
    }
   ],
   "source": [
    "glove.most_similar_cosmul(positive=['kitten', 'dog'], negative=['puppy'])"
   ]
  },
  {
   "cell_type": "markdown",
   "id": "5534e97a",
   "metadata": {},
   "source": [
    "Try experimenting with some other kinds of word relationships (e.g., plurals, ing forms, etc.)."
   ]
  }
 ],
 "metadata": {
  "jupytext": {
   "main_language": "python",
   "notebook_metadata_filter": "nbsphinx,-kernelspec"
  },
  "kernelspec": {
   "display_name": "Python 3 (ipykernel)",
   "language": "python",
   "name": "python3"
  },
  "language_info": {
   "codemirror_mode": {
    "name": "ipython",
    "version": 3
   },
   "file_extension": ".py",
   "mimetype": "text/x-python",
   "name": "python",
   "nbconvert_exporter": "python",
   "pygments_lexer": "ipython3",
   "version": "3.8.17"
  },
  "nbsphinx": {
   "execute": "never"
  }
 },
 "nbformat": 4,
 "nbformat_minor": 5
}

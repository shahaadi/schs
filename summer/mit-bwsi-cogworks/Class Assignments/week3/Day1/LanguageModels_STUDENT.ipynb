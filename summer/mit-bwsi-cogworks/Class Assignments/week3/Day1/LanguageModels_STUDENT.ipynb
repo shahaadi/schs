{
 "cells": [
  {
   "cell_type": "markdown",
   "id": "9a55671b",
   "metadata": {},
   "source": [
    "# Language Models\n",
    "\n",
    "This notebook explores using character-level n-grams to model language. We will learn how to train models by analyzing a body of text, and then use them for a fun task: generating new language in the style of a model.\n",
    "\n",
    "A brief review of Python strings: recall that strings are sequence-objects. This means that they behave like tuples: they support indexing/slicing and can be iterated over (which occurs character-by-character). Naturally, the length of a string reflects the number of characters in a string. Special characters, like the line-break `\\n`, is a single character.\n",
    "\n",
    "Python provides excellent, efficient string-methods. Initialize some string, `x = \"moo\"`. And then use tab-completing (`x.<tab>`) to view the list of built-in string methods. Be sure to make use of these whenever appropriate.\n",
    "Here are a couple of useful resources for working with strings:\n",
    "\n",
    "- [Basic tutorial for working with strings](https://docs.python.org/3/tutorial/introduction.html#strings)\n",
    "- [List of string methods](https://docs.python.org/3/library/stdtypes.html#string-methods) (It is a good idea to have this page open in a separate window; we will be making frequent use of the various string methods!)"
   ]
  },
  {
   "cell_type": "code",
   "execution_count": 1,
   "id": "f62a5c83",
   "metadata": {},
   "outputs": [],
   "source": [
    "import time\n",
    "import numpy as np\n",
    "%matplotlib inline\n",
    "import matplotlib.pyplot as plt"
   ]
  },
  {
   "cell_type": "markdown",
   "id": "9d865368",
   "metadata": {},
   "source": [
    "We will need to make use of this `unzip` function. Try playing with this function to help build your intuition for it."
   ]
  },
  {
   "cell_type": "code",
   "execution_count": 2,
   "id": "ec2fd4be",
   "metadata": {},
   "outputs": [],
   "source": [
    "def unzip(pairs):\n",
    "    \"\"\"\n",
    "    \"unzips\" of groups of items into separate tuples.\n",
    "    \n",
    "    Example: pairs = [(\"a\", 1), (\"b\", 2), ...] --> ((\"a\", \"b\", ...), (1, 2, ...))\n",
    "    \n",
    "    Parameters\n",
    "    ----------\n",
    "    pairs : Iterable[Tuple[Any, ...]]\n",
    "        An iterable of the form ((a0, b0, c0, ...), (a1, b1, c1, ...))\n",
    "    \n",
    "    Returns\n",
    "    -------\n",
    "    Tuple[Tuples[Any, ...], ...]\n",
    "       A tuple containing the \"unzipped\" contents of `pairs`; i.e. \n",
    "       ((a0, a1, ...), (b0, b1, ...), (c0, c1), ...)\n",
    "    \"\"\"\n",
    "    return tuple(zip(*pairs))"
   ]
  },
  {
   "cell_type": "markdown",
   "id": "080434bc",
   "metadata": {},
   "source": [
    "## Section 1: Most frequent letters (in English)\n",
    "\n",
    "Ever wonder why the bonus round of Wheel of Fortune automatically gives the contestant the letters R, S, T, L, N, and E (before letting them choose an additional 3 consonants and 1 vowel)? Or wonder why the letters J, X, Q, and Z are worth so much in Scrabble?\n",
    "\n",
    "Let's find out by analyzing a particular corpus of English text: Wikipedia. Thanks to Evan Jones for providing a clean text-only version of top Wikipedia articles (based on the Wikipedia \"release version\" project): http://www.evanjones.ca/software/wikipedia2text.html\n",
    "\n",
    "Load the entire contents of \"wikipedia2text-extracted.txt\" into a single string. Because some of these articles contain non-[ASCII](http://www.asciitable.com/) characters (for instance, some Chinese characters), you will need to open the file in binary-read mode: `mode='rb'`. Instead of reading in a typical string, this will read in a `bytes` object, which is simply your machine's memory-encoding for the characters. To make a long story short, you can simply call the method `decode` on this bytes-instance to decode the bytes into a familiar string. E.g. \n",
    "\n",
    "```python\n",
    "with open(path_to_wikipedia, \"rb\") as f:\n",
    "    # decoding the bytes into a string\n",
    "    wikipedia = f.read().decode()\n",
    "```\n",
    "After decoding from bytes to a string, **make all of the characters in the string lowercase** (you do not need a for-loop for this!)\n",
    "\n",
    "Confirm that there are over 63 million characters total, in the string. "
   ]
  },
  {
   "cell_type": "code",
   "execution_count": 3,
   "id": "03bb069e",
   "metadata": {},
   "outputs": [
    {
     "name": "stdout",
     "output_type": "stream",
     "text": [
      "63591333\n"
     ]
    }
   ],
   "source": [
    "from cogworks_data.language import get_data_path\n",
    "\n",
    "path_to_wikipedia = get_data_path(\"wikipedia2text-extracted.txt\")\n",
    "\n",
    "with open(path_to_wikipedia, \"rb\") as f:\n",
    "    wikipedia = f.read().decode() # read in and decode the file\n",
    "    wikipedia = wikipedia.lower() # make all the characters lowercase\n",
    "\n",
    "# print out the number of characters in `wikipedia\n",
    "# STUDENT CODE HERE\n",
    "print(len(wikipedia))"
   ]
  },
  {
   "cell_type": "markdown",
   "id": "05b00425",
   "metadata": {},
   "source": [
    "Print out the first 500 characters of text."
   ]
  },
  {
   "cell_type": "code",
   "execution_count": 4,
   "id": "5ca9bef9",
   "metadata": {},
   "outputs": [
    {
     "name": "stdout",
     "output_type": "stream",
     "text": [
      "\r\n",
      "\r\n",
      "\r\n",
      "\r\n",
      "propaganda is a concerted set of messages aimed at influencing the opinions or behavior of large numbers of people. instead of impartially providing information, propaganda in its most basic sense presents information in order to influence its audience. the most effective propaganda is often completely truthful, but some propaganda presents facts selectively to encourage a particular synthesis, or gives loaded messages in order to produce an emotional rather than rational response to the\n"
     ]
    }
   ],
   "source": [
    "# STUDENT CODE HERE\n",
    "print(wikipedia[:500])"
   ]
  },
  {
   "cell_type": "markdown",
   "id": "459a136d",
   "metadata": {},
   "source": [
    "### 1.1 Count letters in text\n",
    "\n",
    "We want to count the occurence of every letter-character in our corpus. First, count up the occurence of every character (including punctuation and special characters, like `\\n`).\n",
    "\n",
    "Hint: Python has a `Counter` object in its `collections` module. You should be able to produce the count for every character in the file in one line. This should take roughly 5 seconds. Using a for-loop will take roughly 10x longer!\n"
   ]
  },
  {
   "cell_type": "code",
   "execution_count": 5,
   "id": "2903de7d",
   "metadata": {},
   "outputs": [],
   "source": [
    "from collections import Counter\n",
    "counter = Counter(wikipedia) #"
   ]
  },
  {
   "cell_type": "markdown",
   "id": "2820594f",
   "metadata": {},
   "source": [
    "Now we want a list of character-count tuples sorted in descending order of count. However, we want to filter out all of the non-letter characters. Thus our list should have a length of 26 (since we cast all of the letters to be lower-case):\n",
    "\n",
    "```\n",
    "[('e', 6091134),\n",
    " ('t', 4456786),\n",
    " ('a', 4365050),\n",
    " ('i', 3866921),\n",
    " ('n', 3740382),\n",
    " ('o', 3676394),\n",
    " ...\n",
    " ```\n",
    "\n",
    "Note that a simple way to access all lowercase letters in the English alphabet, other than typing out each character manually, is:\n",
    "\n",
    "```python\n",
    ">>> import string\n",
    ">>> string.ascii_lowercase\n",
    "'abcdefghijklmnopqrstuvwxyz'\n",
    "```\n",
    "\n",
    "If you made use of the `Counter` class, then there is a nice instance-method that you can make use of that takes care of sorting the character-count tuples so that the most-common occurences come first. You will need to filter out the non-letter characters."
   ]
  },
  {
   "cell_type": "code",
   "execution_count": 6,
   "id": "7373ede0",
   "metadata": {},
   "outputs": [
    {
     "name": "stdout",
     "output_type": "stream",
     "text": [
      "[('e', 6091134), ('t', 4456786), ('a', 4365050), ('i', 3866921), ('n', 3740382), ('o', 3676394), ('s', 3390251), ('r', 3309159), ('h', 2368877), ('l', 2137466), ('d', 1927612), ('c', 1761449), ('u', 1367019), ('m', 1329206), ('f', 1131994), ('p', 1068764), ('g', 968743), ('y', 787683), ('w', 765023), ('b', 756941), ('v', 541205), ('k', 293580), ('x', 106384), ('j', 90804), ('z', 66251), ('q', 52581)]\n"
     ]
    }
   ],
   "source": [
    "import string\n",
    "set_of_letters = string.ascii_lowercase #\n",
    "\n",
    "# create a sorted list of tuples -- (char, count) -- sorted in descending count-order\n",
    "char_count_tuples = [(char, count) for (char, count) in counter.most_common() if char in set_of_letters]\n",
    "\n",
    "print(char_count_tuples)"
   ]
  },
  {
   "cell_type": "markdown",
   "id": "a3066a8c",
   "metadata": {},
   "source": [
    "Create a variable called `freqs`, which is also a list of tuples, but instead containing character-count pairs, it contains character-frequency pairs. **Frequency is the ratio of the letter-count to the total number of letters (not characters) in the corpus**. It should end up looking something like:\n",
    "\n",
    "    [('e', 0.12081350306248849),\n",
    "     ('t', 0.088397321263964282),\n",
    "     ('a', 0.0865778000521603),\n",
    "     ...\n",
    "     ('q', 0.0010429083984244488)]\n",
    "     \n",
    "You should **not** iterate over the entire corpus to get the total letter count."
   ]
  },
  {
   "cell_type": "code",
   "execution_count": 7,
   "id": "4951da2e",
   "metadata": {},
   "outputs": [
    {
     "name": "stdout",
     "output_type": "stream",
     "text": [
      "[('e', 0.12081350306248849), ('t', 0.08839732126396428), ('a', 0.0865778000521603), ('i', 0.07669774988957738), ('n', 0.07418793482656542), ('o', 0.0729187763358866), ('s', 0.06724332440742638), ('r', 0.06563491970144826), ('h', 0.046985065292301655), ('l', 0.042395185385342864), ('d', 0.03823287392221047), ('c', 0.034937143749573935), ('u', 0.027113892773165053), ('m', 0.0263638976176978), ('f', 0.022452331632454414), ('p', 0.02119820755660234), ('g', 0.019214359000682676), ('y', 0.015623156957763548), ('w', 0.01517371125858898), ('b', 0.015013410281504741), ('v', 0.010734433346062338), ('k', 0.005822959768917474), ('x', 0.002110054336318947), ('j', 0.0018010356252359913), ('z', 0.0013140435576352325), ('q', 0.0010429083984244488)]\n"
     ]
    }
   ],
   "source": [
    "total_count = np.sum(np.array(unzip(char_count_tuples)[1])) #\n",
    "freqs = [(char, count/total_count) for (char, count) in char_count_tuples] #\n",
    "\n",
    "print(freqs)"
   ]
  },
  {
   "cell_type": "markdown",
   "id": "bcc29fb6",
   "metadata": {},
   "source": [
    "Confirm that the frequencies total to 1 (within numerical precision)."
   ]
  },
  {
   "cell_type": "code",
   "execution_count": 8,
   "id": "5ff174b1",
   "metadata": {},
   "outputs": [
    {
     "name": "stdout",
     "output_type": "stream",
     "text": [
      "1.0\n"
     ]
    }
   ],
   "source": [
    "# STUDENT CODE HERE\n",
    "print(np.sum(np.array(unzip(freqs)[1])))"
   ]
  },
  {
   "cell_type": "markdown",
   "id": "54e5318b",
   "metadata": {},
   "source": [
    "### 1.2 Plot letter frequency histogram\n",
    "\n",
    "Using \n",
    "```\n",
    "fig, ax = plt.subplots()\n",
    "\n",
    "ax.bar(characters, frequencies, align='center', alpha=0.5)\n",
    "ax.set_ylabel('Frequency')\n",
    "ax.set_title('Frequency of Letters in English')\n",
    "```\n",
    "Look up the documentation for `ax.bar` (use shift-tab in your Jupyter notebook!) to plot a bar-graph of the characters and their frequencies. The x-axis should order the characters in decreasing frequency.\n",
    "\n",
    "Be sure to provide a title and a descriptive label for the y-axis."
   ]
  },
  {
   "cell_type": "code",
   "execution_count": 9,
   "id": "3a845161",
   "metadata": {},
   "outputs": [
    {
     "data": {
      "image/png": "[encoded data removed]",
      "text/plain": [
       "<Figure size 640x480 with 1 Axes>"
      ]
     },
     "metadata": {},
     "output_type": "display_data"
    }
   ],
   "source": [
    "# STUDENT CODE HERE\n",
    "fig, ax = plt.subplots()\n",
    "\n",
    "ax.bar(unzip(freqs)[0], unzip(freqs)[1], align='center', alpha=0.5)\n",
    "ax.set_ylabel('Frequency')\n",
    "ax.set_title('Frequency of Letters in English')\n",
    "\n",
    "ax.grid()"
   ]
  },
  {
   "cell_type": "markdown",
   "id": "6e4e8984",
   "metadata": {},
   "source": [
    "## Section 2: Most frequent words (in English)\n",
    "\n",
    "Let's move up a level from characters and look at the distribution the English words. Returning to the full wikipedia corpus, which we have stored as a lower-cased string. Let's tokenize the corpus: separating the string into individual words."
   ]
  },
  {
   "cell_type": "markdown",
   "id": "12a9766e",
   "metadata": {},
   "source": [
    "### 2.1 (Simple) Tokenization\n",
    "\n",
    "For now we'll just apply a simple tokenization scheme: splitting our string on any whitespace (spaces, tabs, newlines, etc.) characters.\n",
    "\n",
    "Without using a for-loop, produce a list of the \"tokens\" from the corpus, and print out the first 10 tokens along with the total number of tokens."
   ]
  },
  {
   "cell_type": "code",
   "execution_count": 12,
   "id": "c398dfc6",
   "metadata": {},
   "outputs": [
    {
     "name": "stdout",
     "output_type": "stream",
     "text": [
      "['propaganda', 'is', 'a', 'concerted', 'set', 'of', 'messages', 'aimed', 'at', 'influencing']\n"
     ]
    }
   ],
   "source": [
    "# STUDENT CODE HERE\n",
    "tokens = wikipedia.split()\n",
    "print(tokens[:10])"
   ]
  },
  {
   "cell_type": "markdown",
   "id": "0a555754",
   "metadata": {},
   "source": [
    "As you did above with characters, count the occurences of all of the different words. "
   ]
  },
  {
   "cell_type": "code",
   "execution_count": 14,
   "id": "cb09b4bc",
   "metadata": {},
   "outputs": [
    {
     "name": "stdout",
     "output_type": "stream",
     "text": [
      "10124357\n"
     ]
    }
   ],
   "source": [
    "# word -> count\n",
    "word_counts = len(tokens)#\n",
    "print(word_counts)"
   ]
  },
  {
   "cell_type": "markdown",
   "id": "9402f7e2",
   "metadata": {},
   "source": [
    "Finally, display the top 20 most-common words and their associated occurences."
   ]
  },
  {
   "cell_type": "code",
   "execution_count": 16,
   "id": "03b3ce49",
   "metadata": {},
   "outputs": [
    {
     "name": "stdout",
     "output_type": "stream",
     "text": [
      "[('the', 782374), ('of', 403206), ('and', 307101), ('in', 268422), ('to', 224263), ('a', 197485), ('is', 107398), ('as', 96039), ('was', 91048), ('by', 76790), ('for', 74871), ('that', 73001), ('with', 68155), ('on', 63819), ('from', 52317), ('are', 51441), ('his', 45043), ('it', 42324), ('at', 39468), ('an', 38318)]\n"
     ]
    }
   ],
   "source": [
    "# STUDENT CODE HERE\n",
    "print(Counter(tokens).most_common()[:20])"
   ]
  },
  {
   "cell_type": "markdown",
   "id": "35d64d9f",
   "metadata": {},
   "source": [
    "What do you notice about this list? Do you see any people, places, or other distinguishing words in towards the top of this list? Can you discern anything about the content of the articles from these words (other than the fact that they predominantly contain English)? \n",
    "\n",
    "These abundant \"glue\" words, **referred to as \"stop words\" in NLP applications**, are ubiquitous to modern English. They provide the necessary glue needed for a coherent grammar, but do not provide actual meaning to text. Often, we will want to filter them out, so that we can get at the \"meaningful\" words in a corpus.\n",
    "\n",
    "See https://en.wikipedia.org/wiki/Stop_words for more details. "
   ]
  },
  {
   "cell_type": "markdown",
   "id": "dc642e41",
   "metadata": {},
   "source": [
    "## 3 Creating an n-gram language model\n",
    "\n",
    "An **n-gram** is a contiguous sequence of n characters from a piece of text.\n",
    "For example `\"cat in\"` is a $6$-gram, `\"th\"` is a $2$-gram, etc..\n",
    "\n",
    "Inspired by Yoav Goldberg blog, which in turn was inspired by a [post from Andrej Karpathy](http://karpathy.github.io/2015/05/21/rnn-effectiveness/) that you saw in the Perspective on Machine Learning module, we will train our own n-gram language model.\n",
    "\n",
    "**Character-based n-gram language models aim to guess the next letter based on seeing the previous (n-1) letters.** (The assumption that the probability of seeing a letter only depends on a certain finite number of previous letters is an example of a Markov assumption. See https://en.wikipedia.org/wiki/Markov_property for more information.)"
   ]
  },
  {
   "cell_type": "markdown",
   "id": "67dfc9c5",
   "metadata": {},
   "source": [
    "Just as we did above, we will want to take a counter of `letter -> count` pairs, and convert them to `letter -> frequency` pairs. Using your code from earlier as reference, provide the body for the following function. Do **not** filter any characters this time."
   ]
  },
  {
   "cell_type": "code",
   "execution_count": 20,
   "id": "b4a498ed",
   "metadata": {},
   "outputs": [],
   "source": [
    "def normalize(counter):\n",
    "    \"\"\" Convert a `letter -> count` counter to a list \n",
    "    of (letter, frequency) pairs, sorted in descending order of \n",
    "    frequency.\n",
    "\n",
    "    Parameters\n",
    "    -----------\n",
    "    counter : collections.Counter\n",
    "        letter -> count\n",
    "\n",
    "    Returns\n",
    "    -------\n",
    "    List[Tuple[str, float]]\n",
    "       A list of tuples: (letter, frequency) pairs in order\n",
    "       of descending-frequency\n",
    "\n",
    "    Examples\n",
    "    --------\n",
    "    >>> from collections import Counter\n",
    "    >>> letter_count = Counter({\"a\": 1, \"b\": 3})\n",
    "    >>> letter_count\n",
    "    Counter({'a': 1, 'b': 3})\n",
    "\n",
    "    >>> normalize(letter_count)\n",
    "    [('b', 0.75), ('a', 0.25)]\n",
    "    \"\"\"\n",
    "    # STUDENT CODE HERE\n",
    "    counters = counter.most_common()\n",
    "    total_count = sum(unzip(counters)[1])\n",
    "    return [(char, count/total_count) for (char, count) in counters]"
   ]
  },
  {
   "cell_type": "markdown",
   "id": "5a2e559c",
   "metadata": {},
   "source": [
    "In the following, we will want to make some serious use of Python's `collections` module. Not only do we want to use the `Counter` class again, we also will want to use a [defaultdict](http://www.pythonlikeyoumeanit.com/Module2_EssentialsOfPython/DataStructures_III_Sets_and_More.html#Default-Dictionary). "
   ]
  },
  {
   "cell_type": "markdown",
   "id": "48a94051",
   "metadata": {},
   "source": [
    "Now we'll create the function to actually analyze the n-grams (a length-n sequence of characters) that occur in a text:\n",
    " - For each distinct sequence of n-1 characters, we will keep a tally of the character that follows that sequence.\n",
    " - After counting is done, we'll normalize the char_count_tuples for each history to convert to frequencies, which we can interpret as probabilities.\n",
    " - At the beginning of a document we'll pad the text with a dummy character, \"~\". We will pre-pend $n-1$ of these to the beginning of our text.\n",
    "\n",
    "Our \"model\" simply keeps track of all length-(n-1) histories in a given text and the associated tallies of the various characters that follow each history.\n",
    "\n",
    "Thus our model can be thought of as two nested dictionaries:  \n",
    "\n",
    "```\n",
    "model: {(n-1) character history -> {nth-letter -> count}}\n",
    "```\n",
    "\n",
    "Here's an illustration of the process for analyzing the text \"cacao\" in terms of 3-grams:\n",
    "\n",
    "    history is \"~~\", next char is \"c\", increment model[\"~~\"][\"c\"]\n",
    "    history is \"~c\", next char is \"a\", increment model[\"~c\"][\"a\"]\n",
    "    history is \"ca\", next char is \"c\", increment model[\"ca\"][\"c\"]\n",
    "    history is \"ac\", next char is \"a\", increment model[\"ac\"][\"a\"]\n",
    "    history is \"ca\", next char is \"o\", increment model[\"ca\"][\"o\"]\n",
    "    history is \"ao\", next char does not exists. End process\n",
    "\n",
    "\n",
    "Here's an illustration of the process for analyzing the text \"cacao\" in terms of 4-grams:\n",
    "\n",
    "    history is \"~~~\", next char is \"c\", increment model[\"~~~\"][\"c\"]\n",
    "    history is \"~~c\", next char is \"a\", increment model[\"~~c\"][\"a\"]\n",
    "    history is \"~ca\", next char is \"c\", increment model[\"~ca\"][\"c\"]\n",
    "    history is \"cac\", next char is \"a\", increment model[\"cac\"][\"a\"]\n",
    "    history is \"aca\", next char is \"o\", increment model[\"aca\"][\"o\"]\n",
    "    history is \"cao\", next char does not exists. End process\n",
    "    \n",
    "\n",
    "\n",
    "So we will want to our model to be a default dictionary, whose default value is an empty `Counter` instance. Thus any time we encounter a new history, our model will create an empty counter for that history.\n",
    "\n",
    "I.e. `model = defaultdict(Counter)`. Thus `model[history]` will return the counter for that history. You can then update that counter with the character that comes after that history: `model[history][char] += 1`\n",
    "\n",
    "To \"train\" our language model is to simply populate its counters for all of the histories in a given text. Complete the following `train_lm` function"
   ]
  },
  {
   "cell_type": "code",
   "execution_count": 22,
   "id": "fd1564d3",
   "metadata": {},
   "outputs": [],
   "source": [
    "from collections import defaultdict\n",
    "\n",
    "def train_lm(text, n):\n",
    "    \"\"\" Train character-based n-gram language model.\n",
    "        \n",
    "    This will learn: given a sequence of n-1 characters, what the probability\n",
    "    distribution is for the n-th character in the sequence.\n",
    "\n",
    "    For example if we train on the text:\n",
    "        text = \"cacao\"\n",
    "\n",
    "    Using a n-gram size of n=3, then the following dict would be returned.\n",
    "    See that we *normalize* each of the char_count_tuples for a given history\n",
    "\n",
    "        {'ac': [('a', 1.0)],\n",
    "         'ca': [('c', 0.5), ('o', 0.5)],\n",
    "         '~c': [('a', 1.0)],\n",
    "         '~~': [('c', 1.0)]}\n",
    "\n",
    "    Tildas (\"~\") are used for padding the history when necessary, so that it's \n",
    "    possible to estimate the probability of a seeing a character when there \n",
    "    aren't (n - 1) previous characters of history available.\n",
    "\n",
    "    So, according to this text we trained on, if you see the sequence 'ac',\n",
    "    our model predicts that the next character should be 'a' 100% of the time.\n",
    "\n",
    "    For generating the padding, recall that Python allows you to generate \n",
    "    repeated sequences easily: \n",
    "       `\"p\" * 4` returns `\"pppp\"`\n",
    "\n",
    "    Parameters\n",
    "    -----------\n",
    "    text: str \n",
    "        A string (doesn't need to be lowercased).\n",
    "        \n",
    "    n: int\n",
    "        The length of n-gram to analyze.\n",
    "\n",
    "    Returns\n",
    "    -------\n",
    "    Dict[str, List[Tuple[str, float]]]\n",
    "        \n",
    "        {n-1 history -> [(letter, normalized count), ...]}\n",
    "        \n",
    "        A dictionary that maps histories (strings of length (n-1)) to lists of (char, prob) \n",
    "        pairs, where prob is the probability (i.e frequency) of char appearing after \n",
    "        that specific history.\n",
    "\n",
    "    Examples\n",
    "    --------\n",
    "    >>> train_lm(\"cacao\", 3)\n",
    "    {'ac': [('a', 1.0)],\n",
    "     'ca': [('c', 0.5), ('o', 0.5)],\n",
    "     '~c': [('a', 1.0)],\n",
    "     '~~': [('c', 1.0)]}\n",
    "    \"\"\"\n",
    "\n",
    "    raw_lm = defaultdict(Counter) # history -> {char -> count}\n",
    "    history = '~'*(n - 1) # length n - 1 history\n",
    "    \n",
    "    # count number of times characters appear following different histories\n",
    "    #\n",
    "    # for char in text ...\n",
    "    #    1. Increment language model's count, given current history and character\n",
    "    #    2. Update history\n",
    "\n",
    "    # STUDENT CODE HERE\n",
    "    for char in text:\n",
    "        raw_lm[history][char] += 1\n",
    "        history = history[1:] + char\n",
    "    # create the finalized language model – a dictionary with: history -> [(char, freq), ...]\n",
    "    lm = {history : normalize(counter) for history, counter in raw_lm.items()}#\n",
    "    \n",
    "    return lm\n"
   ]
  },
  {
   "cell_type": "markdown",
   "id": "2f40edf4",
   "metadata": {},
   "source": [
    "Test train_lm() on \"cacao\", using n=3. You should get the same result as in the docstring."
   ]
  },
  {
   "cell_type": "code",
   "execution_count": 31,
   "id": "91860675",
   "metadata": {},
   "outputs": [
    {
     "data": {
      "text/plain": [
       "{'~~': [('c', 1.0)],\n",
       " '~c': [('a', 1.0)],\n",
       " 'ca': [('c', 0.5), ('o', 0.5)],\n",
       " 'ac': [('a', 1.0)]}"
      ]
     },
     "execution_count": 31,
     "metadata": {},
     "output_type": "execute_result"
    }
   ],
   "source": [
    "# STUDENT CODE HERE\n",
    "lm3 = train_lm(\"cacao\", 3)\n",
    "lm3"
   ]
  },
  {
   "cell_type": "markdown",
   "id": "8f6ee1f2",
   "metadata": {},
   "source": [
    "Now let's test our function on more serious example: a small snippet of text from \"The Cat in the Hat\" by Dr. Seuss."
   ]
  },
  {
   "cell_type": "code",
   "execution_count": 32,
   "id": "0a5229e3",
   "metadata": {},
   "outputs": [],
   "source": [
    "text = \"\"\"The sun did not shine, it was too wet to play, \n",
    "so we sat in the house all that cold, cold wet day. \n",
    "I sat there with Sally. We sat here we two \n",
    "and we said 'How we wish we had something to do.'\"\"\""
   ]
  },
  {
   "cell_type": "code",
   "execution_count": 33,
   "id": "505a9540",
   "metadata": {},
   "outputs": [
    {
     "data": {
      "text/plain": [
       "{'~~': [('T', 1.0)],\n",
       " '~T': [('h', 1.0)],\n",
       " 'Th': [('e', 1.0)],\n",
       " 'he': [(' ', 0.5), ('r', 0.5)],\n",
       " 'e ': [('s', 0.36363636363636365),\n",
       "  ('w', 0.2727272727272727),\n",
       "  ('h', 0.18181818181818182),\n",
       "  ('a', 0.09090909090909091),\n",
       "  ('t', 0.09090909090909091)],\n",
       " ' s': [('a', 0.5714285714285714),\n",
       "  ('u', 0.14285714285714285),\n",
       "  ('h', 0.14285714285714285),\n",
       "  ('o', 0.14285714285714285)],\n",
       " 'su': [('n', 1.0)],\n",
       " 'un': [(' ', 1.0)],\n",
       " 'n ': [('d', 0.5), ('t', 0.5)],\n",
       " ' d': [('i', 0.3333333333333333),\n",
       "  ('a', 0.3333333333333333),\n",
       "  ('o', 0.3333333333333333)],\n",
       " 'di': [('d', 1.0)],\n",
       " 'id': [(' ', 1.0)],\n",
       " 'd ': [('w', 0.4), ('n', 0.2), (\"'\", 0.2), ('s', 0.2)],\n",
       " ' n': [('o', 1.0)],\n",
       " 'no': [('t', 1.0)],\n",
       " 'ot': [(' ', 1.0)],\n",
       " 't ': [('t', 0.25),\n",
       "  ('s', 0.125),\n",
       "  ('w', 0.125),\n",
       "  ('i', 0.125),\n",
       "  ('c', 0.125),\n",
       "  ('d', 0.125),\n",
       "  ('h', 0.125)],\n",
       " 'sh': [('i', 0.5), (' ', 0.5)],\n",
       " 'hi': [('n', 1.0)],\n",
       " 'in': [('e', 0.3333333333333333),\n",
       "  (' ', 0.3333333333333333),\n",
       "  ('g', 0.3333333333333333)],\n",
       " 'ne': [(',', 1.0)],\n",
       " 'e,': [(' ', 1.0)],\n",
       " ', ': [('i', 0.3333333333333333),\n",
       "  ('\\n', 0.3333333333333333),\n",
       "  ('c', 0.3333333333333333)],\n",
       " ' i': [('t', 0.5), ('n', 0.5)],\n",
       " 'it': [(' ', 0.5), ('h', 0.5)],\n",
       " ' w': [('e', 0.7), ('i', 0.2), ('a', 0.1)],\n",
       " 'wa': [('s', 1.0)],\n",
       " 'as': [(' ', 1.0)],\n",
       " 's ': [('t', 1.0)],\n",
       " ' t': [('o', 0.42857142857142855),\n",
       "  ('h', 0.42857142857142855),\n",
       "  ('w', 0.14285714285714285)],\n",
       " 'to': [(' ', 0.6666666666666666), ('o', 0.3333333333333333)],\n",
       " 'oo': [(' ', 1.0)],\n",
       " 'o ': [('w', 0.4), ('p', 0.2), ('\\n', 0.2), ('d', 0.2)],\n",
       " 'we': [(' ', 0.7142857142857143), ('t', 0.2857142857142857)],\n",
       " 'et': [(' ', 0.6666666666666666), ('h', 0.3333333333333333)],\n",
       " ' p': [('l', 1.0)],\n",
       " 'pl': [('a', 1.0)],\n",
       " 'la': [('y', 1.0)],\n",
       " 'ay': [(',', 0.5), ('.', 0.5)],\n",
       " 'y,': [(' ', 1.0)],\n",
       " ' \\n': [('s', 0.3333333333333333),\n",
       "  ('I', 0.3333333333333333),\n",
       "  ('a', 0.3333333333333333)],\n",
       " '\\ns': [('o', 1.0)],\n",
       " 'so': [(' ', 0.5), ('m', 0.5)],\n",
       " 'sa': [('t', 0.75), ('i', 0.25)],\n",
       " 'at': [(' ', 1.0)],\n",
       " 'th': [('e', 0.4), ('a', 0.2), (' ', 0.2), ('i', 0.2)],\n",
       " ' h': [('o', 0.3333333333333333),\n",
       "  ('e', 0.3333333333333333),\n",
       "  ('a', 0.3333333333333333)],\n",
       " 'ho': [('u', 1.0)],\n",
       " 'ou': [('s', 1.0)],\n",
       " 'us': [('e', 1.0)],\n",
       " 'se': [(' ', 1.0)],\n",
       " ' a': [('l', 1.0)],\n",
       " 'al': [('l', 1.0)],\n",
       " 'll': [(' ', 0.5), ('y', 0.5)],\n",
       " 'l ': [('t', 1.0)],\n",
       " 'ha': [('t', 0.5), ('d', 0.5)],\n",
       " ' c': [('o', 1.0)],\n",
       " 'co': [('l', 1.0)],\n",
       " 'ol': [('d', 1.0)],\n",
       " 'ld': [(',', 0.5), (' ', 0.5)],\n",
       " 'd,': [(' ', 1.0)],\n",
       " 'da': [('y', 1.0)],\n",
       " 'y.': [(' ', 1.0)],\n",
       " '. ': [('\\n', 0.5), ('W', 0.5)],\n",
       " '\\nI': [(' ', 1.0)],\n",
       " 'I ': [('s', 1.0)],\n",
       " 'er': [('e', 1.0)],\n",
       " 're': [(' ', 1.0)],\n",
       " 'wi': [('t', 0.5), ('s', 0.5)],\n",
       " 'h ': [('S', 0.5), ('w', 0.5)],\n",
       " ' S': [('a', 1.0)],\n",
       " 'Sa': [('l', 1.0)],\n",
       " 'ly': [('.', 1.0)],\n",
       " ' W': [('e', 1.0)],\n",
       " 'We': [(' ', 1.0)],\n",
       " 'tw': [('o', 1.0)],\n",
       " 'wo': [(' ', 1.0)],\n",
       " '\\na': [('n', 1.0)],\n",
       " 'an': [('d', 1.0)],\n",
       " 'nd': [(' ', 1.0)],\n",
       " 'ai': [('d', 1.0)],\n",
       " \" '\": [('H', 1.0)],\n",
       " \"'H\": [('o', 1.0)],\n",
       " 'Ho': [('w', 1.0)],\n",
       " 'ow': [(' ', 1.0)],\n",
       " 'w ': [('w', 1.0)],\n",
       " 'is': [('h', 1.0)],\n",
       " 'ad': [(' ', 1.0)],\n",
       " 'om': [('e', 1.0)],\n",
       " 'me': [('t', 1.0)],\n",
       " 'ng': [(' ', 1.0)],\n",
       " 'g ': [('t', 1.0)],\n",
       " 'do': [('.', 1.0)],\n",
       " 'o.': [(\"'\", 1.0)]}"
      ]
     },
     "execution_count": 33,
     "metadata": {},
     "output_type": "execute_result"
    }
   ],
   "source": [
    "# STUDENT CODE HERE\n",
    "lm3 = train_lm(text, 3)\n",
    "lm3"
   ]
  },
  {
   "cell_type": "markdown",
   "id": "2a0eb413",
   "metadata": {},
   "source": [
    "The following should show a probability of 1.0 for the letter \"T\", since that's the only starting letter that the model has ever seen (i.e., with no history, indicated by \"~~\")."
   ]
  },
  {
   "cell_type": "code",
   "execution_count": 34,
   "id": "f128135a",
   "metadata": {},
   "outputs": [
    {
     "data": {
      "text/plain": [
       "[('T', 1.0)]"
      ]
     },
     "execution_count": 34,
     "metadata": {},
     "output_type": "execute_result"
    }
   ],
   "source": [
    "lm3[\"~~\"]"
   ]
  },
  {
   "cell_type": "markdown",
   "id": "e128eaae",
   "metadata": {},
   "source": [
    "Similarly, the following should show a probability of 1.0 for \"h\", since that's the only letter the model has seen after a history of \"~T\"."
   ]
  },
  {
   "cell_type": "code",
   "execution_count": 35,
   "id": "79004fd5",
   "metadata": {},
   "outputs": [
    {
     "data": {
      "text/plain": [
       "[('h', 1.0)]"
      ]
     },
     "execution_count": 35,
     "metadata": {},
     "output_type": "execute_result"
    }
   ],
   "source": [
    "lm3[\"~T\"]"
   ]
  },
  {
   "cell_type": "markdown",
   "id": "8a89dde0",
   "metadata": {},
   "source": [
    "This last example should give a probability distribution of the characters \"e\", \"a\", \" \", and \"i\", since those four characters all were observed to follow \"th\" in the text (with \"e\" occurring most often)."
   ]
  },
  {
   "cell_type": "code",
   "execution_count": 36,
   "id": "7c0eebbe",
   "metadata": {},
   "outputs": [
    {
     "data": {
      "text/plain": [
       "[('e', 0.4), ('a', 0.2), (' ', 0.2), ('i', 0.2)]"
      ]
     },
     "execution_count": 36,
     "metadata": {},
     "output_type": "execute_result"
    }
   ],
   "source": [
    "lm3[\"th\"]"
   ]
  },
  {
   "cell_type": "markdown",
   "id": "ba517e74",
   "metadata": {},
   "source": [
    "## 4 Generating text\n",
    "\n",
    "A fun thing to do with language models is to generate random text in the style of the model by generating letters using the learned probability distributions. \n",
    "\n",
    "First we'll create a function to randomly draw a single letter given a particular history, based on the probabilities stored in our language model.\n",
    "\n",
    "Hint: `np.random.choice(choices, p=probabilities)` will return an element from choices according to the specified probabilities. For example, `np.random.choice([\"a\", \"b\"], [0.25, 0.75])` will return an \"a\" 25% of the time and a \"b\" 75% of the time.\n",
    "\n",
    "Complete the following function. You will want to make use of the `unzip` function defined above to perform the following:\n",
    "\n",
    "\n",
    "```[(char0, prob0), (char1, prob1), ...] -> ((char0, char1, ...), (prob0, prob1, ...))```"
   ]
  },
  {
   "cell_type": "code",
   "execution_count": 40,
   "id": "25674829",
   "metadata": {},
   "outputs": [],
   "source": [
    "def generate_letter(lm, history):\n",
    "    \"\"\" Randomly picks letter according to probability distribution associated with \n",
    "    the specified history, as stored in your language model.\n",
    "\n",
    "    Note: returns dummy character \"~\" if history not found in model.\n",
    "\n",
    "    Parameters\n",
    "    ----------\n",
    "    lm: Dict[str, List[Tuple[str, float]]] \n",
    "        The n-gram language model. \n",
    "        I.e. the dictionary: history -> [(char, freq), ...]\n",
    "\n",
    "    history: str\n",
    "        A string of length (n-1) to use as context/history for generating \n",
    "        the next character.\n",
    "\n",
    "    Returns\n",
    "    -------\n",
    "    str\n",
    "        The predicted character. '~' if history is not in language model.\n",
    "    \"\"\"\n",
    "    # STUDENT CODE HERE\n",
    "    if not history in lm:\n",
    "        return \"~\"\n",
    "    letters, probs = unzip(lm[history])\n",
    "    i = np.random.choice(letters, p=probs)\n",
    "    return i"
   ]
  },
  {
   "cell_type": "markdown",
   "id": "668f9f60",
   "metadata": {},
   "source": [
    "The following should generate \"e\", \"a\", \" \", or \"i\", since those are the only four characters that followed \"th\"."
   ]
  },
  {
   "cell_type": "code",
   "execution_count": 41,
   "id": "5510aff1",
   "metadata": {},
   "outputs": [
    {
     "data": {
      "text/plain": [
       "{' ', 'a', 'e', 'i'}"
      ]
     },
     "execution_count": 41,
     "metadata": {},
     "output_type": "execute_result"
    }
   ],
   "source": [
    "# draw from `generate_letter` 100 times, keep only the unique outcomes\n",
    "set(generate_letter(lm3, \"th\") for i in range(100))"
   ]
  },
  {
   "cell_type": "markdown",
   "id": "4bafa131",
   "metadata": {},
   "source": [
    "The following generates several possible next characters to get a sense of the distribution. \"e\" should appear more frequently than the other characters on average since it has a higher probability of following \"th\"."
   ]
  },
  {
   "cell_type": "code",
   "execution_count": 42,
   "id": "e366f1ff",
   "metadata": {},
   "outputs": [
    {
     "data": {
      "text/plain": [
       "[' ', ' ', 'e', ' ', 'e', ' ', 'e', 'a', 'e', ' ']"
      ]
     },
     "execution_count": 42,
     "metadata": {},
     "output_type": "execute_result"
    }
   ],
   "source": [
    "[generate_letter(lm3, \"th\") for i in range(10)]"
   ]
  },
  {
   "cell_type": "markdown",
   "id": "2b0980b4",
   "metadata": {},
   "source": [
    "Finally, we'll generate whole sequences of text according to the language model. The approach will be to start with no history, i.e. $n - 1$ `~`'s, generate a random letter, update the history, and repeat. In our example,\n",
    "\n",
    "    history \"~~\" will generate 'T' (since only one possibility)\n",
    "    history \"~T\" will generate 'h' (since only one possibility)\n",
    "    history \"Th\" will generate 'e' (since only one possibility)\n",
    "    history \"he\" could generate 'r' (out of multiple possibilities)\n",
    "    history \"er\" will generate 'e' (since only one possibility)\n",
    "\n",
    "and so on. The text generated so far would be \"There\"."
   ]
  },
  {
   "cell_type": "code",
   "execution_count": 43,
   "id": "da72f399",
   "metadata": {},
   "outputs": [],
   "source": [
    "def generate_text(lm, n, nletters=100):\n",
    "    \"\"\" Randomly generates `nletters` of text by drawing from \n",
    "    the probability distributions stored in a n-gram language model \n",
    "    `lm`.\n",
    "\n",
    "    Parameters\n",
    "    ----------\n",
    "    lm: Dict[str, List[Tuple[str, float]]]\n",
    "        The n-gram language model. \n",
    "        I.e. the dictionary: history -> [(char, freq), ...]\n",
    "    \n",
    "    n: int\n",
    "        Order of n-gram model.\n",
    "    \n",
    "    nletters: int\n",
    "        Number of letters to randomly generate.\n",
    "\n",
    "    Returns\n",
    "    -------\n",
    "    str\n",
    "        Model-generated text. Should contain `nletters` number of\n",
    "        generated characters. The pre-pended ~'s are not to be included. \n",
    "    \"\"\"\n",
    "    # STUDENT CODE HERE\n",
    "    history = \"~\" * (n - 1)\n",
    "    text = []\n",
    "    for i in range(nletters):\n",
    "        c = generate_letter(lm, history)\n",
    "        text.append(c)\n",
    "        history = history[1:] + c\n",
    "    return \"\".join(text) "
   ]
  },
  {
   "cell_type": "markdown",
   "id": "b4575037",
   "metadata": {},
   "source": [
    "The following will generate 40 characters according to the 3-gram language model trained on the beginning of \"The Cat in the Hat\". It won't be very pretty... partly because of the short history length and also the small amount of training data."
   ]
  },
  {
   "cell_type": "code",
   "execution_count": 44,
   "id": "6a9b1f9a",
   "metadata": {},
   "outputs": [
    {
     "name": "stdout",
     "output_type": "stream",
     "text": [
      "There thad wish Sall to we said wethin t\n"
     ]
    }
   ],
   "source": [
    "print(generate_text(lm3, 3, 40))"
   ]
  },
  {
   "cell_type": "markdown",
   "id": "ef87028b",
   "metadata": {},
   "source": [
    "## 5 Generating \"Shakespeare\"\n",
    "\n",
    "Lastly, we'll have some fun trying to generate text in the style of Shakespeare.\n",
    "\n",
    "The next cell loads in Andrej Karpathy's shakespeare_input.txt file."
   ]
  },
  {
   "cell_type": "code",
   "execution_count": 45,
   "id": "037fe3aa",
   "metadata": {},
   "outputs": [
    {
     "name": "stderr",
     "output_type": "stream",
     "text": [
      "Downloading file 'shakespeare_input.txt' from 'https://github.com/rsokl/cog_data/releases/download/language-files/shakespeare_input.txt' to '/Users/aadishah/Library/Caches/cog_data'.\n"
     ]
    },
    {
     "name": "stdout",
     "output_type": "stream",
     "text": [
      "4573338 character(s)\n",
      "'~' is a good pad character: True\n"
     ]
    }
   ],
   "source": [
    "path_to_shakespeare = get_data_path(\"shakespeare_input.txt\")\n",
    "\n",
    "with open(path_to_shakespeare, \"r\") as f:\n",
    "    shakespeare = f.read()\n",
    "print(str(len(shakespeare)) + \" character(s)\")\n",
    "chars = set(shakespeare)\n",
    "print(f\"'~' is a good pad character: {'~' not in chars}\")"
   ]
  },
  {
   "cell_type": "markdown",
   "id": "3c6384e2",
   "metadata": {},
   "source": [
    "Now experiment with training models for various values of n (e.g., 3, 5, and 11) and generate some text (maybe 500 characters or so). You should find the 3-gram model to be a very bad speller; the 5-gram model a better speller, but not making much sense; and the 11-gram model looking pretty good (which is amazing considering the simplicity of the model)."
   ]
  },
  {
   "cell_type": "code",
   "execution_count": 46,
   "id": "578cc2fd",
   "metadata": {},
   "outputs": [
    {
     "name": "stdout",
     "output_type": "stream",
     "text": [
      "elapsed = 0.7838339805603027s\n"
     ]
    }
   ],
   "source": [
    "# STUDENT CODE HERE\n",
    "t0 = time.time()\n",
    "lm3 = train_lm(shakespeare, 3)\n",
    "t1 = time.time()\n",
    "print(\"elapsed = \" + str(t1 - t0) + \"s\")"
   ]
  },
  {
   "cell_type": "code",
   "execution_count": 47,
   "id": "c596c8c9",
   "metadata": {},
   "outputs": [
    {
     "name": "stdout",
     "output_type": "stream",
     "text": [
      "Firtell legaidgescame\n",
      "sh thaest ofulis as is therither.\n",
      "The warewl to to lor give kno heir.\n",
      "\n",
      "HORD I deak ha'ent will tishour, enot the mis fore'tionit;\n",
      "AN:\n",
      "And his chut of yorn,\n",
      "Thou look he welf\n",
      "th thave ther Clespers; se wasineste Cass sidnes st sess, asubjespers re to a Ric, mand ke sper inst To I she diecoulcom all I'llorme hent of I ke arry, goody hel I ther wil,\n",
      "Thourse a weave wall bast con youl case\n",
      "He he here noth worthe ing in se pur tiould flike fria.\n",
      "\n",
      "Whouse way--\n",
      "\n",
      "Doct heat Netten t\n"
     ]
    }
   ],
   "source": [
    "print(generate_text(lm3, 3, 500))"
   ]
  },
  {
   "cell_type": "code",
   "execution_count": 48,
   "id": "f59dd4cc",
   "metadata": {},
   "outputs": [
    {
     "name": "stdout",
     "output_type": "stream",
     "text": [
      "elapsed = 1.8457279205322266s\n"
     ]
    }
   ],
   "source": [
    "# STUDENT CODE HERE\n",
    "t0 = time.time()\n",
    "lm5 = train_lm(shakespeare, 5)\n",
    "t1 = time.time()\n",
    "print(\"elapsed = \" + str(t1 - t0) + \"s\")"
   ]
  },
  {
   "cell_type": "code",
   "execution_count": 49,
   "id": "2c435b2c",
   "metadata": {},
   "outputs": [
    {
     "name": "stdout",
     "output_type": "stream",
     "text": [
      "First Cade!\n",
      "\n",
      "LEPIDUS:\n",
      "I'll chain; and of sover well.\n",
      "\n",
      "CLOTEN:\n",
      "But sleep. I pray me! the prevailed?\n",
      "\n",
      "EARL OF EPHESUS:\n",
      "Thou frowned do resolute them?\n",
      "I would not unknow it is a\n",
      "news?\n",
      "\n",
      "SPEED:\n",
      "'Item: for I sweet stir; and yet, I this entriving-glass of this faires offerance of fear, to save and I\n",
      "trust a feodary.\n",
      "\n",
      "ROSS:\n",
      "Alack, and from the make unfit for meaning,\n",
      "Would been this peseech youth's-betrayer to you spy, lords, in the other breed any power,--\n",
      "Then I am I, old you truments, I take up ye\n",
      "St\n"
     ]
    }
   ],
   "source": [
    "print(generate_text(lm5, 5, 500))"
   ]
  },
  {
   "cell_type": "code",
   "execution_count": 50,
   "id": "75f39a01",
   "metadata": {},
   "outputs": [
    {
     "name": "stdout",
     "output_type": "stream",
     "text": [
      "elapsed = 9.40654706954956s\n"
     ]
    }
   ],
   "source": [
    "# STUDENT CODE HERE\n",
    "t0 = time.time()\n",
    "lm11 = train_lm(shakespeare, 11)\n",
    "t1 = time.time()\n",
    "print(\"elapsed = \" + str(t1 - t0) + \"s\")"
   ]
  },
  {
   "cell_type": "code",
   "execution_count": 51,
   "id": "3a792d34",
   "metadata": {},
   "outputs": [
    {
     "name": "stdout",
     "output_type": "stream",
     "text": [
      "First Citizen:\n",
      "Not one to the Capitol,\n",
      "Being cross'd in conference with his head, as it were unlicensed of your discords be\n",
      "That e'er our heads to her, and in thy day of doom.\n",
      "This ague fit of fear and nothing that sweep away the strength of sickness, for instead of words,\n",
      "I send thee?\n",
      "\n",
      "DIOMEDES:\n",
      "We sympathize,\n",
      "And with a kind of fruit\n",
      "Drops earliest to thee,\n",
      "All that he did beat me these news would cause him once more to come in:\n",
      "A comfortable words as medicinal gum. Set you down,\n",
      "And ask him w\n"
     ]
    }
   ],
   "source": [
    "print(generate_text(lm11, 11, 500))"
   ]
  },
  {
   "cell_type": "markdown",
   "id": "fdbb170b",
   "metadata": {},
   "source": [
    "Idea for bonus fun: find some other text on the Internet to train models on, e.g., song lyrics, books from a particular author, etc."
   ]
  }
 ],
 "metadata": {
  "jupytext": {
   "main_language": "python",
   "notebook_metadata_filter": "nbsphinx,-kernelspec"
  },
  "kernelspec": {
   "display_name": "Python 3 (ipykernel)",
   "language": "python",
   "name": "python3"
  },
  "language_info": {
   "codemirror_mode": {
    "name": "ipython",
    "version": 3
   },
   "file_extension": ".py",
   "mimetype": "text/x-python",
   "name": "python",
   "nbconvert_exporter": "python",
   "pygments_lexer": "ipython3",
   "version": "3.8.17"
  },
  "nbsphinx": {
   "execute": "never"
  }
 },
 "nbformat": 4,
 "nbformat_minor": 5
}

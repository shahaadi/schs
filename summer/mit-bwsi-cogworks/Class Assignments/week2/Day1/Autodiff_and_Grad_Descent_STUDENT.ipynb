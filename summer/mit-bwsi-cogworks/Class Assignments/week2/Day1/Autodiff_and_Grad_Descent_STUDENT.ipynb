{
 "cells": [
  {
   "cell_type": "markdown",
   "id": "d09fc988",
   "metadata": {},
   "source": [
    "## Automatic Differentiation at a Glance\n",
    "\n",
    "Suppose that we have the function\n",
    "\n",
    "\\begin{equation}\n",
    "f(x, y) = xy + x^2\n",
    "\\end{equation}\n",
    "\n",
    "and that we want to evaluate the first-order partial derivatives of $f$ at $(x=2, y=4)$.\n",
    "Let's evaluate these by hands so that we can know what to expect from our autodiff library.\n",
    "The relevant partial derivatives of $f$ are\n",
    "\n",
    "\\begin{align}\n",
    "\\frac{\\partial f}{\\partial x} &= y + 2x\\\\\n",
    "\\frac{\\partial f}{\\partial y} &= x\n",
    "\\end{align}\n",
    "\n",
    "Evaluated at $(x=2, y=4)$ gives:\n",
    "\n",
    "\\begin{align}\n",
    "\\frac{\\partial f}{\\partial x}\\big|_{x=2, y=4} &= 4 + 2(2) = 8\\\\\n",
    "\\frac{\\partial f}{\\partial y}\\big|_{x=2, y=4} &= 2\n",
    "\\end{align}\n",
    "\n",
    "To compute these derivatives in MyGrad, we need only compute $f$ at the point(s) of interest; we can then instruct MyGrad to compute the derivatives of $f$.\n",
    "In order for MyGrad to keep track of the mathematical operations that we are using, we must represent our variables of interest using `mygrad.Tensor` objects (more on these later).\n",
    "\n"
   ]
  },
  {
   "cell_type": "code",
   "execution_count": 1,
   "id": "feaf21bc",
   "metadata": {},
   "outputs": [
    {
     "data": {
      "text/plain": [
       "Tensor(12.)"
      ]
     },
     "execution_count": 1,
     "metadata": {},
     "output_type": "execute_result"
    }
   ],
   "source": [
    "# Defining x and y, and computing f(x, y)\n",
    "# Run this cell\n",
    "\n",
    "import mygrad as mg\n",
    "\n",
    "x = mg.tensor(2.0)\n",
    "y = mg.tensor(4.0)\n",
    "f = x * y + x ** 2  # computes f(2, 4)\n",
    "\n",
    "f # stores f(2, 4) as a mygrad-tensor (should be 12)"
   ]
  },
  {
   "cell_type": "markdown",
   "id": "678ea415",
   "metadata": {},
   "source": [
    "The MyGrad-tensor `f` stores not only the value of $f(2, 4)$ but also the mathematical operations that were used to compute this value.\n",
    "With this information, we can instruct MyGrad to compute the derivatives of $f$ with respect to each of its variables - evaluated at the variable's specific value.\n",
    "We do this by calling the method `f.backward()` (\"backward\" is short for \"backpropagation\" which is the particular automatic differentiation algorithm that MyGrad employs)."
   ]
  },
  {
   "cell_type": "code",
   "execution_count": 2,
   "id": "4cc5dd04",
   "metadata": {},
   "outputs": [],
   "source": [
    "# Run this cell\n",
    "\n",
    "# Invoking autodiff, specifically backpropagation\n",
    "#\n",
    "# This says: \"evaluate all of the derivatives of `f` with\n",
    "# respect to all of the variables that `f` depends on\"\n",
    "#\n",
    "f.backward()  # this method doesn't return any value (well... it *does* but the value is `None`)"
   ]
  },
  {
   "cell_type": "markdown",
   "id": "0c8730e2",
   "metadata": {},
   "source": [
    "```python\n",
    "# Accessing the derivatives of `f`, stored in the `Tensor.grad`\n",
    "# attribute. These are always stored as NumPy arrays.\n",
    ">>> x.grad  # stores df/dx @ x=2, y=4\n",
    "array(8.)\n",
    "\n",
    ">>> y.grad  # stores df/dy @ x=2, y=4\n",
    "array(2.)\n",
    "```"
   ]
  },
  {
   "cell_type": "code",
   "execution_count": 3,
   "id": "3a7f3c9d",
   "metadata": {},
   "outputs": [
    {
     "data": {
      "text/plain": [
       "array(8.)"
      ]
     },
     "execution_count": 3,
     "metadata": {},
     "output_type": "execute_result"
    }
   ],
   "source": [
    "# Run this cell\n",
    "x.grad  # stores df/dx @ x=2, y=4"
   ]
  },
  {
   "cell_type": "code",
   "execution_count": 4,
   "id": "3d562527",
   "metadata": {},
   "outputs": [
    {
     "data": {
      "text/plain": [
       "array(2.)"
      ]
     },
     "execution_count": 4,
     "metadata": {},
     "output_type": "execute_result"
    }
   ],
   "source": [
    "# Run this cell\n",
    "y.grad  # stores df/dy @ x=2, y=4"
   ]
  },
  {
   "cell_type": "markdown",
   "id": "d8f07492",
   "metadata": {},
   "source": [
    "Voilà! We have officially used automatic differentiation to evaluate the derivatives of a function.\n",
    "Note that we didn't need to know any calculus or write down any derivatives to achieve this;\n",
    "all we needed to do was use evaluate the function itself while using MyGrad's `Tensor` object to represent our variables.\n",
    "From there, everything else was... _automatic_.\n",
    "\n",
    "MyGrad is capable of handling much more complex and interesting functions than this;\n",
    "it will behoove us to familiarize ourselves more thoroughly with this library."
   ]
  },
  {
   "cell_type": "markdown",
   "id": "61c1020b",
   "metadata": {},
   "source": [
    "### Exercise: calculating derivatives of a two-variable function\n",
    "\n",
    "Given the same two-variable function:\n",
    "\n",
    "\\begin{equation}\n",
    "f(x, y) = xy + x^2\n",
    "\\end{equation}\n",
    "\n",
    "Use MyGrad to compute $f(3.5, 10.1)$ along with the derivatives $\\frac{\\partial f}{\\partial x}\\big|_{x=3.5, y=10.1}$ and $\\frac{\\partial f}{\\partial y}\\big|_{x=3.5, y=10.1}$.\n",
    "\n"
   ]
  },
  {
   "cell_type": "code",
   "execution_count": 5,
   "id": "82667bd4",
   "metadata": {},
   "outputs": [
    {
     "name": "stdout",
     "output_type": "stream",
     "text": [
      "f, df/dx, df/dy: Tensor(47.6) 17.1 3.5\n"
     ]
    }
   ],
   "source": [
    "# Defining x and y, and computing f(x, y)\n",
    "\n",
    "import mygrad as mg\n",
    "\n",
    "\n",
    "x = mg.tensor(3.5) # a mygrad-tensor containing 3.5\n",
    "y = mg.tensor(10.1) # a mygrad-tensor containing 10.1\n",
    "\n",
    "f = x * y + x ** 2 # use `x` and `y` to compute f(3.5, 10.1)\n",
    "\n",
    "# STUDENT CODE HERE # Use `f` to invoke automatic differentiation to compute the derivatives of `f`\n",
    "f.backward()\n",
    "\n",
    "print(\"f, df/dx, df/dy:\", f, x.grad, y.grad)"
   ]
  },
  {
   "cell_type": "markdown",
   "id": "c4618490",
   "metadata": {},
   "source": [
    "## An Introduction to MyGrad\n",
    "\n",
    "NumPy is the cornerstone for nearly all numerical and scientific computing software in Python, and thus it is desirable for us to spend our time focused on learning NumPy rather than splitting our attention across multiple array-math libraries.\n",
    "For this reason, MyGrad was specifically designed to to act and feel just like NumPy.\n",
    "Thus, if you want to get good at using MyGrad, you should spend most of your time [mastering NumPy!](https://www.pythonlikeyoumeanit.com/module_3.html).\n",
    "\n",
    "The crux of MyGrad is the `Tensor` object.\n",
    "This is analagous to NumPy's `ndarray`, as it: \n",
    "\n",
    "- can store [N-dimensional array data](https://www.pythonlikeyoumeanit.com/Module3_IntroducingNumpy/AccessingDataAlongMultipleDimensions.html), which can be [manipulated (e.g. reshaped, transposed, etc.)](https://mygrad.readthedocs.io/en/latest/tensor_manipulation.html)\n",
    "- supports both [basic indexing](https://www.pythonlikeyoumeanit.com/Module3_IntroducingNumpy/BasicIndexing.html#Basic-Indexing) (accessing elements and subsections of tensor), [advanced indexing](https://www.pythonlikeyoumeanit.com/Module3_IntroducingNumpy/AdvancedIndexing.html) (accessing arbitrary collections of elements from the tensor)\n",
    "- permits convenient [vectorized operations](https://www.pythonlikeyoumeanit.com/Module3_IntroducingNumpy/VectorizedOperations.html), which obey [NumPy's broadcasting semantics](https://www.pythonlikeyoumeanit.com/Module3_IntroducingNumpy/Broadcasting.html)\n",
    "- mirrors NumPy's mechanism for providing [views of data](https://www.pythonlikeyoumeanit.com/Module3_IntroducingNumpy/BasicIndexing.html#Producing-a-View-of-an-Array) and [in-place updates on data](https://www.pythonlikeyoumeanit.com/Module3_IntroducingNumpy/BasicIndexing.html#Augmenting-the-Underlying-Data-of-an-Array)\n",
    "\n",
    "What distinguishes the `Tensor` is that designed to support all of these features, _plus_ it enables automatic differentiation through any mathematical operations that involve tensors.\n",
    "\n",
    "If you are already at least familiar with each of the above concepts, then you are already well-along your way to being a competent MyGrad user!\n",
    "If these aren't ringing a bell, then it is strongly recommended that you review the [NumPy module from Python Like You Mean It](https://www.pythonlikeyoumeanit.com/module_3.html)."
   ]
  },
  {
   "cell_type": "markdown",
   "id": "de8a1390",
   "metadata": {},
   "source": [
    "### Creating and Using Tensors\n",
    "\n",
    "A `Tensor` must be provided the array data that it is to store.\n",
    "This can be a single number, a sequence of numbers, a NumPy array, or an existing tensor.\n",
    "\n",
    "```python\n",
    "# Creating MyGrad Tensor instances\n",
    ">>> import mygrad as mg\n",
    ">>> import numpy as np\n",
    "\n",
    "# Making a 0-D tensor from a float\n",
    ">>> mg.tensor(2.3)\n",
    "Tensor(2.3)\n",
    "\n",
    "# Making a shape-(3,) tensor of 32-bit floats from a list\n",
    ">>> mg.tensor([1.0, 2.0, 3.0], dtype=np.float32)\n",
    "Tensor([1., 2., 3.], dtype=float32)\n",
    "\n",
    "# Making a shape-(3, 3) tensor from a a numpy array\n",
    ">>> arr = np.ones((3, 3))\n",
    ">>> mg.tensor(arr)\n",
    "Tensor([[1., 1., 1.],\n",
    "        [1., 1., 1.],\n",
    "        [1., 1., 1.]])\n",
    "\n",
    "# creating a shape-(9,) tensor and reshaping\n",
    "# it into a shape-(3, 3) tensor\n",
    ">>> x = mg.arange(9.)\n",
    ">>> x\n",
    "Tensor([0., 1., 2., 3., 4., 5., 6., 7., 8.])\n",
    ">>> x.reshape(3, 3)\n",
    "Tensor([[0., 1., 2.],\n",
    "        [3., 4., 5.],\n",
    "        [6., 7., 8.]])\n",
    "```"
   ]
  },
  {
   "cell_type": "markdown",
   "id": "2e1f2d15",
   "metadata": {},
   "source": [
    "Note that MyGrad uses NumPy's data-type system exactly so we can pass, e.g., `np.float32` anywhere there is a `dtype` argument in a MyGrad function to tell that function to return a tensor that stores 32-bit floats.\n",
    "\n",
    "### Accessing the Underlying NumPy Array\n",
    "\n",
    "Under the hood, every MyGrad tensor stores a NumPy array.\n",
    "This can be accessed via the `.data` attribute or using `numpy.asarray`.\n",
    "\n",
    "```python\n",
    "# Accessing a tensor's underlying numpy array\n",
    ">>> tensor = mg.tensor([1.2, 2.4])\n",
    "\n",
    ">>> tensor.data\n",
    "array([1.2, 2.4])\n",
    "\n",
    ">>> import numpy as np\n",
    ">>> np.asarray(tensor)\n",
    "array([1.2, 2.4])\n",
    "```\n",
    "\n",
    "#### Tensor-Creation Functions\n",
    "\n",
    "MyGrad provides [a whole suite of tensor-creation functions](https://mygrad.readthedocs.io/en/latest/tensor_creation.html), which exactly mimic their NumPy counterparts.\n",
    "These can be used to conveniently create tensors of specific shapes and with specific values as their elements. "
   ]
  },
  {
   "cell_type": "markdown",
   "id": "78751770",
   "metadata": {},
   "source": [
    "```python\n",
    "# Demonstrating some of MyGrad's tensor-creation functions\n",
    "\n",
    "# Create a shape-(10,) tensor of subsequent integer-valued floats 0-9\n",
    ">>> mg.arange(10.)\n",
    "Tensor([0., 1., 2., 3., 4., 5., 6., 7., 8., 9.])\n",
    "\n",
    "# Create a shape-(2, 3, 4) tensor of 0s\n",
    ">>> mg.zeros((2, 3, 4))\n",
    "Tensor([[[0., 0., 0., 0.],\n",
    "         [0., 0., 0., 0.],\n",
    "         [0., 0., 0., 0.]],\n",
    " \n",
    "        [[0., 0., 0., 0.],\n",
    "         [0., 0., 0., 0.],\n",
    "         [0., 0., 0., 0.]]], dtype=float32)\n",
    "\n",
    "# Create a shape-(3, 4) tensor of numbers drawn randomly\n",
    "# from the interval [0, 1)\n",
    ">>> mg.random.rand(3, 4)\n",
    "Tensor([[0.84171912, 0.48059864, 0.68269986, 0.72591644],\n",
    "        [0.2315483 , 0.04201723, 0.51519654, 0.2711251 ],\n",
    "        [0.76460016, 0.49148986, 0.2825281 , 0.38161674]])\n",
    "```"
   ]
  },
  {
   "cell_type": "markdown",
   "id": "1047a26f",
   "metadata": {},
   "source": [
    "**Excercise: Using a tensor-creation function**\n",
    "Use `mg.linspace` and `mg.pi` to create a shape-(15,) tensor of 15 evenly-spaced elements over the interval $[0, \\pi]$.\n",
    "\n",
    "(Try typing `mg.linspace` and then hit `<SHIFT>+<TAB>` to view the signature and docstring of `mg.linspace`)"
   ]
  },
  {
   "cell_type": "code",
   "execution_count": 6,
   "id": "2fad7a07",
   "metadata": {},
   "outputs": [
    {
     "data": {
      "text/plain": [
       "Tensor([0.        , 0.22439948, 0.44879895, 0.67319843, 0.8975979 ,\n",
       "        1.12199738, 1.34639685, 1.57079633, 1.7951958 , 2.01959528,\n",
       "        2.24399475, 2.46839423, 2.6927937 , 2.91719318, 3.14159265])"
      ]
     },
     "execution_count": 6,
     "metadata": {},
     "output_type": "execute_result"
    }
   ],
   "source": [
    "# STUDENT CODE HERE\n",
    "mg.linspace(0, mg.pi, 15)"
   ]
  },
  {
   "cell_type": "markdown",
   "id": "50bbad89",
   "metadata": {},
   "source": [
    "#### Standard Mathematical Operations\n",
    "\n",
    "In terms of math, MyGrad provides all of the same standard [arithmetic, trigonometric, and exponential (etc.) functions](https://mygrad.readthedocs.io/en/latest/math.html) as does NumPy.\n",
    "These are vectorized functions that obey NumPy's broadcasting semantics.\n",
    "That is, unary functions naturally operate element-wise over tensors and binary functions naturally map between corresponding pairs of elements between two same-shape tensors."
   ]
  },
  {
   "cell_type": "code",
   "execution_count": 7,
   "id": "ad663a3c",
   "metadata": {},
   "outputs": [],
   "source": [
    "# Run this cell\n",
    "\n",
    "# Performing NumPy-like mathematical operation in MyGrad\n",
    "# a shape-(5, ) tensor\n",
    "x = mg.tensor([0.0, 0.25, 0.5, 0.75, 1.0])\n",
    "\n",
    "# a shape-(3, 1) tensor\n",
    "y = mg.tensor([[0.],\n",
    "               [1.],\n",
    "               [2.]])\n"
   ]
  },
  {
   "cell_type": "code",
   "execution_count": 8,
   "id": "cb2a68aa",
   "metadata": {},
   "outputs": [
    {
     "data": {
      "text/plain": [
       "Tensor([0.        , 0.24740396, 0.47942554, 0.68163876, 0.84147098])"
      ]
     },
     "execution_count": 8,
     "metadata": {},
     "output_type": "execute_result"
    }
   ],
   "source": [
    "# Run this cell\n",
    "\n",
    "# computing sine on each element of `x`\n",
    "mg.sin(x)"
   ]
  },
  {
   "cell_type": "code",
   "execution_count": 9,
   "id": "73892551",
   "metadata": {},
   "outputs": [
    {
     "data": {
      "text/plain": [
       "Tensor([[0.  , 0.  , 0.  , 0.  , 0.  ],\n",
       "        [0.  , 0.25, 0.5 , 0.75, 1.  ],\n",
       "        [0.  , 0.5 , 1.  , 1.5 , 2.  ]])"
      ]
     },
     "execution_count": 9,
     "metadata": {},
     "output_type": "execute_result"
    }
   ],
   "source": [
    "# Run this cell\n",
    "\n",
    "#broadcast-multiply a shape-(5,) tensor with a shape-(3, 1) tensor\n",
    "# producing a shape-(3, 5) tensor\n",
    "x * y"
   ]
  },
  {
   "cell_type": "code",
   "execution_count": 10,
   "id": "6b4ea69a",
   "metadata": {},
   "outputs": [
    {
     "data": {
      "text/plain": [
       "Tensor([0.  , 0.75, 1.5 , 2.25, 3.  ])"
      ]
     },
     "execution_count": 10,
     "metadata": {},
     "output_type": "execute_result"
    }
   ],
   "source": [
    "# Run this cell\n",
    "\n",
    "# summing the rows of `x * y`\n",
    "mg.sum(x * y, axis=0)"
   ]
  },
  {
   "cell_type": "code",
   "execution_count": 11,
   "id": "ac00ef0f",
   "metadata": {},
   "outputs": [
    {
     "data": {
      "text/plain": [
       "Tensor([[0.  , 0.  , 0.  , 0.  , 0.  ],\n",
       "        [0.  , 0.25, 0.5 , 0.75, 1.  ],\n",
       "        [0.  , 0.5 , 1.  , 1.5 , 2.  ]])"
      ]
     },
     "execution_count": 11,
     "metadata": {},
     "output_type": "execute_result"
    }
   ],
   "source": [
    "# Run this cell\n",
    "\n",
    "x * y"
   ]
  },
  {
   "cell_type": "code",
   "execution_count": 12,
   "id": "b6dbe3b0",
   "metadata": {},
   "outputs": [
    {
     "data": {
      "text/plain": [
       "Tensor([0. , 2.5, 5. ])"
      ]
     },
     "execution_count": 12,
     "metadata": {},
     "output_type": "execute_result"
    }
   ],
   "source": [
    "# Exercise\n",
    "\n",
    "# use `axis=1` to sum the columns of `x * y`\n",
    "\n",
    "# STUDENT CODE HERE\n",
    "mg.sum(x * y, axis=1)"
   ]
  },
  {
   "cell_type": "code",
   "execution_count": 13,
   "id": "37281d76",
   "metadata": {},
   "outputs": [
    {
     "data": {
      "text/plain": [
       "Tensor(-11.)"
      ]
     },
     "execution_count": 13,
     "metadata": {},
     "output_type": "execute_result"
    }
   ],
   "source": [
    "# Run this cell\n",
    "\n",
    "# Demonstrating matmul. Note that `x @ y` is equivalent to `mg.matmul(x, y)`\n",
    "\n",
    "# Computing the dot-product between two 1D tensors\n",
    "x = mg.tensor([1.0, 2.0])\n",
    "y = mg.tensor([-3.0, -4.0])\n",
    "mg.matmul(x, y)"
   ]
  },
  {
   "cell_type": "code",
   "execution_count": 14,
   "id": "869dbbea",
   "metadata": {},
   "outputs": [
    {
     "data": {
      "text/plain": [
       "Tensor(-11.)"
      ]
     },
     "execution_count": 14,
     "metadata": {},
     "output_type": "execute_result"
    }
   ],
   "source": [
    "# Exercise\n",
    "\n",
    "# Use `@` – instead of mg.matmul – to compute the dot product between x and y\n",
    "\n",
    "# STUDENT CODE HERE\n",
    "x @ y"
   ]
  },
  {
   "cell_type": "markdown",
   "id": "337add8e",
   "metadata": {},
   "source": [
    "Keep in mind that the distinguishing feature of these mygrad-based functions is that they all support automatic differentiation:\n"
   ]
  },
  {
   "cell_type": "code",
   "execution_count": 15,
   "id": "17ef9ee6",
   "metadata": {},
   "outputs": [],
   "source": [
    "# Run this cell\n",
    "\n",
    "x = mg.tensor([0.0, 0.25, 0.5, 0.75, 1.0])\n",
    "y = mg.tensor([[0.],\n",
    "               [1.],\n",
    "               [2.]])\n",
    "\n",
    "# computing the derivatives of `mg.sum(x * y)`\n",
    "f = mg.sum(x * y)\n",
    "f.backward()  # compute derivatives of f w.r.t x and y"
   ]
  },
  {
   "cell_type": "code",
   "execution_count": 16,
   "id": "77fcaff4",
   "metadata": {},
   "outputs": [
    {
     "data": {
      "text/plain": [
       "array([3., 3., 3., 3., 3.])"
      ]
     },
     "execution_count": 16,
     "metadata": {},
     "output_type": "execute_result"
    }
   ],
   "source": [
    "# Run this cell\n",
    "\n",
    "x.grad  # df / dx "
   ]
  },
  {
   "cell_type": "code",
   "execution_count": 17,
   "id": "bb1e232b",
   "metadata": {},
   "outputs": [
    {
     "data": {
      "text/plain": [
       "array([[2.5],\n",
       "       [2.5],\n",
       "       [2.5]])"
      ]
     },
     "execution_count": 17,
     "metadata": {},
     "output_type": "execute_result"
    }
   ],
   "source": [
    "# Run this cell\n",
    "\n",
    "y.grad  # df / dy"
   ]
  },
  {
   "cell_type": "markdown",
   "id": "e6900834",
   "metadata": {},
   "source": [
    "## Running Automatic Differentiation\n",
    "\n",
    "With a bit of know-how about MyGrad under our belts, let's mosey through a thorough discussion of automatic differentiation.\n",
    "\n",
    "### MyGrad Bakes Autodiff Into Everything It Does\n",
    "All of the examples of MyGrad's mathematical operations laid out above behave _identically_ to their NumPy counterparts in terms of the numerical results that they produce.\n",
    "The difference is that MyGrad's functions were all designed to provide users with the ability to perform automatic differentiation through each of these operations.\n",
    "We saw this in action at the beginning of this section, in [\"Automatic Differentiation at a Glance\"](#Automatic-Differentiation-at-a-Glance), but that was before we were familiar with MyGrad.\n",
    "\n",
    "It is important to note that MyGrad's `Tensor` objects were written to \"overload\" the common arithmetic operators, such as `+` and `*`, so that you can use these familiar operators but actually invoke the corresponding MyGrad functions.\n",
    "For example, calling:\n",
    "\n",
    "```python\n",
    "tensor_c = tensor_a + tensor_b\n",
    "```\n",
    "\n",
    "will _actually_ call\n",
    "\n",
    "```python\n",
    "tensor_c = mg.add(tensor_a, tensor_b)\n",
    "```\n",
    "\n",
    "So that we can perform automatic differentiation through this addition operation.\n",
    "We can read about Python's [special methods](https://www.pythonlikeyoumeanit.com/Module4_OOP/Special_Methods.html) to better understand how one can design a class to \"overload\" operators in this way.\n",
    "\n",
    "### MyGrad Adds \"Drop-In\" AutoDiff to NumPy\n",
    "\n",
    "MyGrad's functions are intentionally designed to mirror NumPy's functions almost exactly.\n",
    "In fact, for all of the NumPy functions that MyGrad mirrors, we can pass a tensor to a NumPy function and it will be \"coerced\" into returning a tensor instead of a NumPy array – thus we can autodifferentiate through NumPy functions!"
   ]
  },
  {
   "cell_type": "code",
   "execution_count": 18,
   "id": "18423baf",
   "metadata": {},
   "outputs": [
    {
     "data": {
      "text/plain": [
       "Tensor(9.)"
      ]
     },
     "execution_count": 18,
     "metadata": {},
     "output_type": "execute_result"
    }
   ],
   "source": [
    "# Run this cell\n",
    "\n",
    "import numpy as np\n",
    "x = mg.tensor(3.)\n",
    "\n",
    "y = np.square(x)  # note that we are using a numpy function here!\n",
    "y  # y is a tensor, not a numpy array"
   ]
  },
  {
   "cell_type": "code",
   "execution_count": 19,
   "id": "62a07f25",
   "metadata": {},
   "outputs": [
    {
     "data": {
      "text/plain": [
       "array(6.)"
      ]
     },
     "execution_count": 19,
     "metadata": {},
     "output_type": "execute_result"
    }
   ],
   "source": [
    "# Run this cell\n",
    "\n",
    "y.backward()  # compute derivatives of y\n",
    "x.grad  # stores dy/dx @ x=3"
   ]
  },
  {
   "cell_type": "markdown",
   "id": "e06bf9ef",
   "metadata": {},
   "source": [
    "How does this work?\n",
    "MyGrad's tensor is able to tell NumPy's function to *actually* call a MyGrad function.\n",
    "\n",
    "So, given `a_tensor = mg.tensor(3.)`,\n",
    "\n",
    "```python\n",
    "numpy.square(a_tensor)\n",
    "```\n",
    "\n",
    "*actually* calls\n",
    "\n",
    "```python\n",
    "mygrad.square(a_tensor)\n",
    "```\n",
    "\n",
    "under the hood.\n",
    "Not only is this convenient, but it also means that you can take a complex function that is written in terms of numpy functions and pass a tensor through it so that you can differentiate that function!\n",
    "\n",
    "```python\n",
    "from some_library import complicated_numpy_function\n",
    "x = mg.tensor(...)\n",
    "out_tensor = complicated_numpy_function(x)\n",
    "out_tensor.backward() # compute d(complicated_numpy_function) / dx !\n",
    "```"
   ]
  },
  {
   "cell_type": "markdown",
   "id": "ff80ce47",
   "metadata": {},
   "source": [
    "<div class=\"alert alert-warning\">\n",
    "\n",
    "**Making it to the Big Leagues**:\n",
    "\n",
    "During this course, we will have grown so comfortable with automatic differentiation and array mathematics that it will be easy for us to graduate to using \"industrial-grade\" libraries like PyTorch, which is much more appropriate for doing high-performance machine learning work.\n",
    "These libraries are far more sophisticated than is MyGrad (they have millions of dollars of funding and incredible expertise behind them!) and are able to leverage specialized computer hardware, like GPUs, to perform blazingly-fast computations.\n",
    "In fact, we will turn to PyTorch for some of our capstone project work.\n",
    "</div>\n"
   ]
  },
  {
   "cell_type": "markdown",
   "id": "c228ea49",
   "metadata": {},
   "source": [
    "### The All-Important `.backward()` Method\n",
    "\n",
    "The sole method that we need to use to invoke autodiff in MyGrad is `Tensor.backward()`.\n",
    "Suppose that we have computed a tensor `ℒ` from other tensors; calling `ℒ.backward()` instructs MyGrad to compute the derivatives of `ℒ` with respect to all of the tensors that it depends on.\n",
    "These derivatives are then stored as NumPy arrays in the `.grad` attribute in each of the respective tensors that preceded `ℒ` in its computation.\n",
    "\n",
    "(Note that we are purposefully using the fancy unicode symbol `ℒ` (U+2112) to evoke an association with the \"loss\" function $\\mathscr{L}$, whose gradient we will be interested in computing in machine learning problems.\n",
    "That being said, this is purely an aesthetic choice made for this section; MyGrad does not care about the particular variable names that we use.)\n",
    "\n",
    "Let's take an example:"
   ]
  },
  {
   "cell_type": "code",
   "execution_count": 20,
   "id": "b95de308",
   "metadata": {},
   "outputs": [],
   "source": [
    "# Run this cell\n",
    "\n",
    "x = mg.tensor(2.0)\n",
    "y = mg.tensor(3.0)\n",
    "f = x * y  # actually calls: `mygrad.multiply(x, y)`\n",
    "ℒ = f + x - 2  # actually calls `mygrad.subtract(mygrad.add(f, x), 2)`"
   ]
  },
  {
   "cell_type": "markdown",
   "id": "c22476c6",
   "metadata": {},
   "source": [
    "See that $\\mathscr{L}$ is a function of $f$, $x$, and $y$, and that\n",
    "$f$ is a function of $x$ and $y$.\n",
    "Thus the \"terminal\" (final) tensor in this \"computational graph\" that we have laid out can be thought of as the function $\\mathscr{L}(f(x, y), x, y)$.\n",
    "\n",
    "As described above, calling `ℒ.backward()` instructs MyGrad to compute all of the derivatives of `ℒ`. \n",
    "It does this using an algorithm known as \"backpropagation\", which we will discuss later.\n",
    "Suffice it to say that MyGrad **simply uses the chain rule** ([reference](https://rsokl.github.io/CogWeb/Math_Materials/Chain_Rule.html)) to compute these derivatives."
   ]
  },
  {
   "cell_type": "code",
   "execution_count": 21,
   "id": "195d5843",
   "metadata": {},
   "outputs": [
    {
     "data": {
      "text/plain": [
       "array(1.)"
      ]
     },
     "execution_count": 21,
     "metadata": {},
     "output_type": "execute_result"
    }
   ],
   "source": [
    "# Run this cell\n",
    "\n",
    "ℒ.backward()  # triggers computation of derivatives of `ℒ`\n",
    "\n",
    "f.grad  # stores dℒ/df = ∂ℒ/∂f @ x=2, y=3"
   ]
  },
  {
   "cell_type": "code",
   "execution_count": 22,
   "id": "2e82348b",
   "metadata": {},
   "outputs": [
    {
     "data": {
      "text/plain": [
       "array(2.)"
      ]
     },
     "execution_count": 22,
     "metadata": {},
     "output_type": "execute_result"
    }
   ],
   "source": [
    "# Run this cell\n",
    "\n",
    "y.grad  # stores dℒ/dy = ∂ℒ/∂f ∂f/∂y @ x=2, y=3"
   ]
  },
  {
   "cell_type": "code",
   "execution_count": 23,
   "id": "e1a1c185",
   "metadata": {},
   "outputs": [
    {
     "data": {
      "text/plain": [
       "array(4.)"
      ]
     },
     "execution_count": 23,
     "metadata": {},
     "output_type": "execute_result"
    }
   ],
   "source": [
    "# Run this cell\n",
    "\n",
    "x.grad  # stores dℒ/dx = ∂ℒ/∂f ∂f/∂x + ∂ℒ/∂x @ x=2, y=3"
   ]
  },
  {
   "cell_type": "markdown",
   "id": "bf5430e2",
   "metadata": {},
   "source": [
    "To re-emphasize the point made above: MyGrad was only able to access the necessary information to compute all of the derivatives of $\\mathscr{L}$ (via the chain rule) because all of our quantities of interest were stored as MyGrad-tensors, and all of the mathematical operations that we performed on them were functions supplied by MyGrad.\n",
    "\n",
    "Note that `x.grad` and `y.grad` together express the gradient of $\\mathscr{L}$, $\\vec{\\nabla}\\mathscr{L} = \\begin{bmatrix} \\frac{d \\mathscr{L}}{d x} & \\frac{d \\mathscr{L}}{dy} \\end{bmatrix}$, evaluated at $(x=2, y=3)$.\n",
    "These derivatives are now available for use; e.g. we can use these derivatives to perform gradient descent on $\\mathscr{L}$.\n",
    "\n",
    "\n",
    "\n",
    "<!-- #region -->\n",
    "### Nulling Gradients \n",
    "\n",
    "Involving any of these tensors in further operations will automatically \"null\" its derivative (i.e. set it to `None`)\n",
    "\n",
    "```python\n",
    "# Involving a tensor in a new operation will automatically set\n",
    "# its `.grad` attribute to `None`\n",
    ">>> x.grad\n",
    "array(4.)\n",
    "\n",
    ">>> x + 2  # nulls the grad stored by `x`\n",
    "Tensor(4.0)\n",
    "\n",
    ">>> x.grad is None\n",
    "True\n",
    "```\n",
    "\n",
    "You can also explicitly call `Tensor.null_grad()` to set that tensor's `.grad` attribute back to `None`\n",
    "\n",
    "```python\n",
    "# Demonstrating `Tensor.null_grad()`\n",
    ">>> y.grad\n",
    "array(2.)\n",
    "\n",
    ">>> y.null_grad()  # returns the tensor itself (for convenience)\n",
    "Tensor(3.)\n",
    "\n",
    ">>> y.grad is None\n",
    "True\n",
    "```\n",
    "\n",
    "It is important to understand how these gradients get cleared since we will need to make repeated use of a tensor and its associated derivative during gradient descent, and thus we will need to discard of a tensor's associated derivative between iterations of gradient descent."
   ]
  },
  {
   "cell_type": "markdown",
   "id": "7a2b3c2a",
   "metadata": {},
   "source": [
    "### Exercise: Performing automatic differentiation on various functions\n",
    "\n",
    "Given $x = 2.5$, compute $\\frac{d\\mathscr{L}}{dx}\\big|_{x=2.5}$ for the following $\\mathscr{L}(x)$\n",
    "    \n",
    "1. $\\mathscr{L}(x) = 2 + 3x - 5x^2$\n",
    "2. $\\mathscr{L}(x) = \\cos{(\\sqrt{x})}$\n",
    "3. Given $f(x) = x^2$, $\\mathscr{L}(x) = (2 x f(x))^2 - f(x)$  ...define `f` as a separate tensor before computing `ℒ`.\n"
   ]
  },
  {
   "cell_type": "code",
   "execution_count": 25,
   "id": "f669999a",
   "metadata": {},
   "outputs": [],
   "source": [
    "x = mg.tensor(2.5) # create a tensor storing 2.5"
   ]
  },
  {
   "cell_type": "code",
   "execution_count": 38,
   "id": "1f73855f",
   "metadata": {},
   "outputs": [
    {
     "data": {
      "text/plain": [
       "array(-22.)"
      ]
     },
     "execution_count": 38,
     "metadata": {},
     "output_type": "execute_result"
    }
   ],
   "source": [
    "# 1. ℒ(x) = 2 + 3x - 5x**2\n",
    "L = 2+3*x-5*x*x # use `x` to compute ℒ(x)\n",
    "\n",
    "# compute the derivative of L @ x=2.5 via automatic differentiation\n",
    "# STUDENT CODE HERE\n",
    "L.backward()\n",
    "\n",
    "# check the value of dℒ/dx @ x=2.5; you should get array(-22.)\n",
    "# STUDENT CODE HERE\n",
    "x.grad"
   ]
  },
  {
   "cell_type": "code",
   "execution_count": 39,
   "id": "71ba8ed2",
   "metadata": {},
   "outputs": [
    {
     "data": {
      "text/plain": [
       "array(-0.31621085)"
      ]
     },
     "execution_count": 39,
     "metadata": {},
     "output_type": "execute_result"
    }
   ],
   "source": [
    "# 2. ℒ(x) = cos(sqrt(x))\n",
    "L = mg.cos(x ** 0.5) # use `x` to compute ℒ(x)\n",
    "\n",
    "# compute the derivative of L @ x=2.5 via automatic differentiation\n",
    "# STUDENT CODE HERE\n",
    "L.backward()\n",
    "\n",
    "# check the value of dℒ/dx @ x=2.5; you should get array(-0.31621085)\n",
    "# STUDENT CODE HERE\n",
    "x.grad"
   ]
  },
  {
   "cell_type": "code",
   "execution_count": 40,
   "id": "da8ee2d3",
   "metadata": {},
   "outputs": [
    {
     "data": {
      "text/plain": [
       "array(2338.75)"
      ]
     },
     "execution_count": 40,
     "metadata": {},
     "output_type": "execute_result"
    }
   ],
   "source": [
    "# 3. f(x) = x**2, and ℒ(x) = (2x f(x))**2 - f(x)\n",
    "f = x*x # use `x` to compute f(x)\n",
    "L = (2*x*f)**2 - f # use `x` and `f` to compute ℒ(x)\n",
    "\n",
    "# compute the derivative of L @ x=2.5 via automatic differentiation\n",
    "# STUDENT CODE HERE\n",
    "L.backward()\n",
    "\n",
    "# check the value of dℒ/dx @ x=2.5; you should get array(2338.75)\n",
    "# STUDENT CODE HERE\n",
    "x.grad"
   ]
  },
  {
   "cell_type": "markdown",
   "id": "c0a20445",
   "metadata": {},
   "source": [
    "Given $x = 2.5$, verify that the following pairs of functions yield the same derivatives in MyGrad.\n",
    "    \n",
    "1. $f(x) = xx$ vs $g(x) = x^2$\n",
    "2. $f(x) = e^{\\ln x}$ vs $g(x) = x$\n"
   ]
  },
  {
   "cell_type": "code",
   "execution_count": 41,
   "id": "40baa98f",
   "metadata": {},
   "outputs": [],
   "source": [
    "x = mg.tensor(2.5) # create a tensor storing 2.5"
   ]
  },
  {
   "cell_type": "code",
   "execution_count": 46,
   "id": "3405c233",
   "metadata": {},
   "outputs": [
    {
     "name": "stdout",
     "output_type": "stream",
     "text": [
      "These should match: 5.0 5.0\n"
     ]
    }
   ],
   "source": [
    "# 1. f(x) = x*x vs g(x) = x ** 2\n",
    "\n",
    "f = x*x # compute f(x)\n",
    "\n",
    "# compute the derivative of f @ x=2.5 via automatic differentiation\n",
    "# STUDENT CODE HERE\n",
    "f.backward()\n",
    "\n",
    "df_dx = x.grad # get the derivative df/dx @ x=2.5\n",
    "\n",
    "g = x ** 2 # compute g(x)\n",
    "\n",
    "# compute the derivative of g via automatic differentiation\n",
    "# STUDENT CODE HERE\n",
    "g.backward()\n",
    "\n",
    "dg_dx = x.grad # get the derivative dg/dx @ x=2.5\n",
    "\n",
    "print(\"These should match:\", df_dx, dg_dx)"
   ]
  },
  {
   "cell_type": "code",
   "execution_count": 50,
   "id": "77a6bdfd",
   "metadata": {},
   "outputs": [
    {
     "name": "stdout",
     "output_type": "stream",
     "text": [
      "These should match: 1.0 1.0\n"
     ]
    }
   ],
   "source": [
    "# 1. f(x) = exp(ln(x)) vs g(x) = x\n",
    "\n",
    "f = mg.exp(mg.log(x)) # compute f(x)\n",
    "\n",
    "# compute the derivative of f @ x=2.5 via automatic differentiation\n",
    "# STUDENT CODE HERE\n",
    "f.backward()\n",
    " \n",
    "df_dx = x.grad # get the derivative df/dx @ x=2.5\n",
    "\n",
    "g = x # compute g(x)\n",
    "\n",
    "# compute the derivative of g via automatic differentiation\n",
    "# STUDENT CODE HERE\n",
    "g.backward()\n",
    "\n",
    "dg_dx = x.grad # get the derivative dg/dx @ x=2.5\n",
    "\n",
    "print(\"These should match:\", df_dx, dg_dx)"
   ]
  },
  {
   "cell_type": "markdown",
   "id": "a53b10e4",
   "metadata": {},
   "source": [
    "### Constant Tensors and Mixed Operations with NumPy Arrays\n",
    "\n",
    "An important feature of MyGrad is that you can do mixed operations between its tensors and other array-like objects or numbers.\n",
    "Not only is this convenient, but it also enables us to designate certain quantities in our computations as **constants**, i.e. as quantities for which we **do not need to compute derivatives**.\n",
    "For example, in the following calculation MyGrad only computes one derivative, $\\frac{d\\mathscr{L}}{dx}$, of a binary function;\n",
    "this enables us to avoid unnecessary computation if we don't have any use for $\\frac{d\\mathscr{L}}{dy}$.\n",
    "\n",
    "```python\n",
    "# Demonstrating mixed operations between tensors\n",
    "# and non-tensors\n",
    ">>> import numpy as np\n",
    ">>> x_tensor = mg.tensor([1., 2.])\n",
    ">>> y_array = np.array([3., 4.])  # this array acts like \"a constant\"\n",
    ">>> ℒ = x_tensor * y_array\n",
    ">>> ℒ.backward()  # only dℒ/dx is computed, dℒ/dy is skipped\n",
    ">>> x_tensor.grad  # stores dℒ/dx\n",
    "array([3., 4.])\n",
    "```"
   ]
  },
  {
   "cell_type": "markdown",
   "id": "67b2140b",
   "metadata": {},
   "source": [
    "All of MyGrad's functions also accept a \"constant\" argument, which, when specified as `True`, will cause the creation of a **constant tensor**.\n",
    "Just like when it encounters a NumPy array or Python number, MyGrad knows to skip the calculation of a derivative with respect to a constant tensor.\n",
    "We can check the `Tensor.constant` attribute to see if a tensor is a constant or not.\n",
    "\n",
    "```python\n",
    "# Demonstrating the use of a constant Tensor\n",
    ">>> import numpy as np\n",
    ">>> x = mg.tensor([1., 2.])\n",
    ">>> y = mg.tensor([3., 4.], constant=True)\n",
    "\n",
    ">>> x.constant\n",
    "False\n",
    ">>> y.constant\n",
    "True\n",
    "\n",
    ">>> ℒ = x * y\n",
    ">>> ℒ.backward()  # only dℒ/dx is computed\n",
    ">>> x.grad\n",
    "array([3., 4.])\n",
    ">>> y.grad is None\n",
    "True\n",
    "```"
   ]
  },
  {
   "cell_type": "markdown",
   "id": "09a7dd52",
   "metadata": {},
   "source": [
    "All integer-dtype tensors are treated as constants:\n",
    "\n",
    "```python\n",
    ">>> tensor_of_ints = mg.tensor([1, 2, 3])\n",
    ">>> tensor_of_ints.constant\n",
    "True\n",
    "```"
   ]
  },
  {
   "cell_type": "markdown",
   "id": "e55801c5",
   "metadata": {},
   "source": [
    "Operations only involving constants and constant tensors will naturally create constant tensors."
   ]
  },
  {
   "cell_type": "markdown",
   "id": "fbd47738",
   "metadata": {},
   "source": [
    "```python\n",
    "# Operations involving only constants will produce a constant\n",
    ">>> out = mg.tensor([1.0, 2.0], constant=True) + mg.tensor([3.0, 4.0], constant=True)\n",
    ">>> out.constant\n",
    "True\n",
    "```"
   ]
  },
  {
   "cell_type": "markdown",
   "id": "cef4354c",
   "metadata": {},
   "source": [
    "And calling `.backward()` on a constant tensor will not do anything at all!\n",
    "\n",
    "```python\n",
    "# calling `.backward()` on a constant has no effect\n",
    ">>> out.backward()\n",
    ">>> out.grad is None\n",
    "```"
   ]
  },
  {
   "cell_type": "markdown",
   "id": "0e4888ea",
   "metadata": {},
   "source": [
    "It is useful to keep the intimate relationship between a MyGrad tensor and an underlying NumPy array in mind because it reminds us of how similar these libraries are, and it informs our intuition for how tensors behave.\n",
    "Furthermore, this will prove to be an important technical detail for when we perform gradient descent, where we will want to update directly the data being held by the tensor. "
   ]
  },
  {
   "cell_type": "markdown",
   "id": "c91ca80a",
   "metadata": {},
   "source": [
    "## Gradient Descent with MyGrad\n",
    "\n",
    "Without further ado, let's leverage automatic differentiation to perform gradient descent on a simple function.\n",
    "To stick with a familiar territory, we will once again perform gradient descent on the simple function $\\mathscr{L}(w) = w^2$.\n",
    "By making sure that we store the value representing $w$ as a MyGrad tensor, and use it to calculate $L(w)$, we will be able to leverage autodiff.\n",
    "\n",
    "Recall that we will be updating $w$ according to the gradient-based step\n",
    "\n",
    "\\begin{equation}\n",
    "w_{\\mathrm{new}} = w_{\\mathrm{old}} - \\delta \\frac{\\mathrm{d}\\mathscr{L}}{\\mathrm{d}w}\\big|_{w_{\\mathrm{old}}}\n",
    "\\end{equation}\n",
    "\n",
    "Picking $w = 10$ as a **starting point**, using the **learning rate** $\\delta=0.3$, and taking **ten steps**, let's search for the minimum of $L$.\n",
    "One thing to note here is that we will update the NumPy array underlying the tensor `w` directly for the gradient-based update.\n",
    "\n",
    "Run the following cell. You should see that we move from $10$ towards $0$."
   ]
  },
  {
   "cell_type": "code",
   "execution_count": 51,
   "id": "3773e485",
   "metadata": {},
   "outputs": [
    {
     "name": "stdout",
     "output_type": "stream",
     "text": [
      "Tensor(10.)\n",
      "Tensor(4.)\n",
      "Tensor(1.6)\n",
      "Tensor(0.64)\n",
      "Tensor(0.256)\n",
      "Tensor(0.1024)\n",
      "Tensor(0.04096)\n",
      "Tensor(0.016384)\n",
      "Tensor(0.0065536)\n",
      "Tensor(0.00262144)\n",
      "Tensor(0.00104858)\n"
     ]
    }
   ],
   "source": [
    "# Run this cell\n",
    "\n",
    "# Performing gradient descent on ℒ(w) = w ** 2\n",
    "w = mg.tensor(10.0)\n",
    "learning_rate = 0.3\n",
    "num_steps = 10\n",
    "print(w)\n",
    "\n",
    "for _ in range(num_steps):\n",
    "    ℒ = w ** 2    # compute ℒ(w)\n",
    "    ℒ.backward()  # compute derivative of ℒ\n",
    "    \n",
    "    # w_new = w_old - lr * dℒ/dw\n",
    "    w.data -= learning_rate * w.grad  # update w via gradient-step\n",
    "    print(w)"
   ]
  },
  {
   "cell_type": "markdown",
   "id": "1a77e485",
   "metadata": {},
   "source": [
    "See that the gradient descent algorithm is steadily guiding use towards the global minimum $w = 0$, and we didn't even need to do any calculus on our own!\n",
    "\n",
    "The line of code that we wrote to represent the gradient-step,\n",
    "\n",
    "```python\n",
    "w.data -= learning_rate * w.grad\n",
    "```\n",
    "\n",
    "might be a little more nuanced than one might have expected.\n",
    "We could have instead written\n",
    "\n",
    "```python\n",
    "w = w - learning_rate * w.grad\n",
    "```\n",
    "\n",
    "which more closely aligns with the mathematical equation written above.\n",
    "That being said, the former equation has two benefits, both in terms of optimizing computational speed and both deriving from the fact that we are operating directly on the NumPy array stored by `w` via `w.data`:\n",
    "\n",
    "1. The form `w.data -= learning_rate * w.grad` involves only NumPy arrays, thus we do not need to pay the extra computational overhead incurred by MyGrad's tracking of mathematical operations.\n",
    "2. Using the operator `-=` invokes an [augmented update](https://www.pythonlikeyoumeanit.com/Module3_IntroducingNumpy/BasicIndexing.html#Augmented-Assignments) on the data held by `w`, this means that the computer can directly overwrite the memory associated with `w.data` instead of allocating a new array and then replacing `w.data` with it.\n",
    "\n",
    "Neither of these points really matter for this extremely lightweight example, but they will make more of a difference when we are making many updates to numerous, large arrays of data, which will be the case when we are tuning the parameters of a neural network.\n",
    "Towards that end, be sure to carefully complete the following exercise..."
   ]
  },
  {
   "cell_type": "markdown",
   "id": "3f2ef28d",
   "metadata": {},
   "source": [
    "### Exercise: Creating a gradient-step function\n",
    "\n",
    "Complete the following Python function, which is responsible for taking an arbitrary collection (e.g. a list) of MyGrad tensors, **which are assumed to already store their relevant gradients**, and perform a gradient-step on each one of them.\n",
    "That is, assume that, outside of this function, `ℒ` has already been computed and `ℒ.backward()` was already invoked so that now all that is left to be done is perform the gradient-based step on each tensor.\n",
    "    \n",
    "This function will be a very useful utility for when you are optimizing a function involving multiple different variables.\n",
    "    \n",
    "(Hint: this should be a very brief function... much shorter than its docstring)\n"
   ]
  },
  {
   "cell_type": "code",
   "execution_count": 53,
   "id": "b66a65b1",
   "metadata": {},
   "outputs": [],
   "source": [
    "def gradient_step(tensors, learning_rate):\n",
    "    \"\"\"\n",
    "    Performs gradient-step in-place on each of the provides tensors \n",
    "    according to the standard formulation of gradient descent.\n",
    "\n",
    "    Parameters\n",
    "    ----------\n",
    "    tensors : Union[Tensor, Iterable[Tensor]]\n",
    "        A single tensor, or an iterable (e.g a list) of an arbitrary number of tensors.\n",
    "\n",
    "        If a `tensor.grad` is `None`for a specific tensor, the update on\n",
    "        that tensor is skipped.\n",
    "\n",
    "    learning_rate : float\n",
    "        The \"learning rate\" factor for each descent step. A positive number.\n",
    "\n",
    "    Notes\n",
    "    -----\n",
    "    The gradient-steps performed by this function occur in-place on each tensor,\n",
    "    thus this function does not return anything\n",
    "    \"\"\"\n",
    "    # If `tensors` is a single Tensor, make it into a list containing that tensor\n",
    "    if isinstance(tensors, mg.Tensor):\n",
    "        # Only one tensor was provided. Pack\n",
    "        # it into a list so it can be accessed via\n",
    "        # iteration\n",
    "        tensors = [tensors]\n",
    "\n",
    "    # Iterate over `tensors`, which is a list of Tensor-instances, using a for-loop.\n",
    "    #\n",
    "    # Update each tensor's underlying data (`.data`) using the gradient-step.\n",
    "    # If the tensor's gradient is not set (i.e. it is `None`), skip the tensor\n",
    "    #\n",
    "    #  For each tensor in tensors...\n",
    "    #      If the .grad of tensor is not None...\n",
    "    #          Update the .data attribute of the tensor using the gradient-descent step\n",
    "    for t in tensors:\n",
    "        if t.grad is not None:\n",
    "            t.data -= learning_rate * t.grad"
   ]
  },
  {
   "cell_type": "markdown",
   "id": "202fcf00",
   "metadata": {},
   "source": [
    "Copy the gradient-descent code block from above, involving $\\mathscr{L}(w) = w^2$.\n",
    "Update it to use your `gradient_step` function.\n",
    "Run the code and check that it prints the expected steps.\n",
    "Keep in mind that `gradient_step` is meant to update the tensors in-place; it doesn't return anything."
   ]
  },
  {
   "cell_type": "code",
   "execution_count": 60,
   "id": "a2c174da",
   "metadata": {},
   "outputs": [
    {
     "name": "stdout",
     "output_type": "stream",
     "text": [
      "Tensor(10.)\n",
      "Tensor(4.)\n",
      "Tensor(1.6)\n",
      "Tensor(0.64)\n",
      "Tensor(0.256)\n",
      "Tensor(0.1024)\n",
      "Tensor(0.04096)\n",
      "Tensor(0.016384)\n",
      "Tensor(0.0065536)\n",
      "Tensor(0.00262144)\n",
      "Tensor(0.00104858)\n"
     ]
    }
   ],
   "source": [
    "# STUDENT CODE HERE\n",
    "# Performing gradient descent on ℒ(w) = w ** 2\n",
    "w = mg.tensor(10.0)\n",
    "learning_rate = 0.3\n",
    "num_steps = 10\n",
    "print(w)\n",
    "\n",
    "for step_cnt in range(num_steps):\n",
    "    L = w ** 2    # compute L(w)\n",
    "    L.backward()  # compute derivative of L\n",
    "    gradient_step(w, learning_rate)\n",
    "    print(w)"
   ]
  },
  {
   "cell_type": "markdown",
   "id": "08f4446f",
   "metadata": {},
   "source": [
    "## Tensors as Collections of Scalar Variables\n",
    "\n",
    "Thus far we have focused on equations involving scalars, like `Tensor(2.0)`, which are zero-dimensional tensors.\n",
    "This was done intentionally, since we are most comfortable with thinking of equations that only involve scalars, such as $f(x) = x^2$; we intuitively know that $x$ represents a single number here.\n",
    "That being said, the `Tensor` object was clearly designed to be able to represent an $N$-dimensional array of data.\n",
    "How, then, are we to interpret the `.grad` attribute associated with a multidimensional tensor?\n",
    "The answer, generally, is that **each element of a tensor is to be interpreted as a scalar-valued variable**.\n",
    "\n",
    "Consider, for example, the following calculation"
   ]
  },
  {
   "cell_type": "markdown",
   "id": "47581983",
   "metadata": {},
   "source": [
    "```python\n",
    ">>> tensor = mg.tensor([2.0, 4.0, 8.0])\n",
    ">>> arr = np.array([-1.0, 2.0, 0])\n",
    ">>> ℒ = (arr * tensor ** 2).sum()  # sum(-1 * x0**2 + 2 * x1**2 + 0 * x2**2)\n",
    ">>> ℒ.backward()\n",
    "```"
   ]
  },
  {
   "cell_type": "markdown",
   "id": "0661cfec",
   "metadata": {},
   "source": [
    "What value(s) should we expect to be stored in `tensor.grad`?\n",
    "Take some time to think about this and see if you can convince yourself of an answer.\n",
    "\n",
    "Let's work out what we should expect the gradient to be given the aforementioned prescription: that each element of `tensor` should be treated like a distinct scalar-valued variable.\n",
    "I.e. we'll say $\\mathrm{tensor} = [x_0, x_1, x_2]$, then the equation for $\\mathscr{L}$ is"
   ]
  },
  {
   "cell_type": "markdown",
   "id": "0d544e5f",
   "metadata": {},
   "source": [
    "\\begin{equation}\n",
    "\\mathscr{L} = -1\\:(x_0)^2 + 2\\:(x_1)^2 + 0\\:(x_2)^2\n",
    "\\end{equation}"
   ]
  },
  {
   "cell_type": "markdown",
   "id": "803e3773",
   "metadata": {},
   "source": [
    "And `tensor.grad` will store $\\vec{\\nabla}\\mathscr{L}$ evaluated at the particular value stored by `tensor`"
   ]
  },
  {
   "cell_type": "markdown",
   "id": "7977cede",
   "metadata": {},
   "source": [
    "\\begin{align}\n",
    "\\vec{\\nabla}\\mathscr{L} &= \\big[\\frac{\\mathrm{d}\\mathscr{L}}{\\mathrm{d}x_0},\\frac{\\mathrm{d}\\mathscr{L}}{\\mathrm{d}x_1},\\frac{\\mathrm{d}\\mathscr{L}}{\\mathrm{d}x_2}\\big]\\\\\n",
    "&= \\big[-2x_0,\\:4x_1,\\:0x_0\\big]\\\\\n",
    "\\vec{\\nabla}\\mathscr{L}\\big|_{x_0=2, x_1=4, x_2=8} &= \\big[-4,\\:16,\\:0\\big]\n",
    "\\end{align}\n",
    "\n",
    "Indeed this is what we find\n",
    "\n",
    "```python\n",
    ">>> tensor.grad\n",
    "array([-4., 16.,  0.])\n",
    "```"
   ]
  },
  {
   "cell_type": "markdown",
   "id": "7d0fa749",
   "metadata": {},
   "source": [
    "Thus the `.grad` array has a clear correspondence with its associated tensor: if `tensor` is a N-dimensional tensor that is involved in **the calculation of a scalar** $\\mathscr{L}$ (and assuming that we invoked `ℒ.backward()`), then `t.grad` is an array **of the same shape as** `tensor` that stores the corresponding derivatives of $\\mathscr{L}$.\n",
    "\n",
    "That is, given that we think of a single element of a tensor to be a scalar-valued variable"
   ]
  },
  {
   "cell_type": "markdown",
   "id": "9d8ada4b",
   "metadata": {},
   "source": [
    "\\begin{equation}\n",
    "\\text{tensor}[i_1, \\dots, i_N] \\rightarrow x_{i_1, \\dots, i_N}\n",
    "\\end{equation}\n",
    "\n",
    "then the corresponding element of the associated gradient is the derivative involving that variable \n",
    "\n",
    "\\begin{equation}\n",
    "\\text{tensor.grad}[i_1, \\dots, i_N] \\rightarrow \\frac{\\mathrm{d}\\mathscr{L}}{\\mathrm{d} x_{i_1, \\dots, i_N}}\\\\\n",
    "\\end{equation}"
   ]
  },
  {
   "cell_type": "markdown",
   "id": "bfee1089",
   "metadata": {},
   "source": [
    "### Exercise: descending a 2D parabola\n",
    "\n",
    "Using automatic differentiation with MyGrad, complete the following Python function that implements gradient descent on the skewed paraboloid $\\mathscr{L}(w_1, w_2) = 2 w_1^2 + 3 w_2^2$.\n",
    "\n",
    "Note that you should not need to derive/compute the partial derivatives of $\\mathscr{L}$ yourself; we will be using MyGrad to compute the derivatives for us.\n",
    "    \n",
    "Your calculation of $\\mathscr{L}(w_1, w_2) = 2 w_1^2 + 3 w_2^2$ should be fully vectorized; i.e. you should use a shape-(2,) tensor `w` to store $[w_1, w_2]$, and perform element-wise operations on it in order to compute $\\mathscr{L}$.\n",
    "Think about what array you can use do element-wise multiplication, but where you are performing `(2*, 3*)`.\n",
    "\n",
    "This code should look very similar to the code that was used to perform gradient descent down $\\mathscr{L}(w) = w^2$.\n",
    "\n",
    "Use your `gradient_step` function to make updates to `w`.\n",
    "    \n",
    "Test your function using the inputs `w_start=mg.tensor([2.0, 4.0])`, `learning_rate=0.1`, and `num_steps=10`."
   ]
  },
  {
   "cell_type": "code",
   "execution_count": 61,
   "id": "906165da",
   "metadata": {},
   "outputs": [],
   "source": [
    "import numpy as np\n",
    "\n",
    "def descent_down_2d_parabola(w_start, learning_rate, num_steps):\n",
    "    \"\"\"\n",
    "    Performs gradient descent on ℒ(w1, w2) = 2 * w1 ** 2 + 3 * w2 **2 , \n",
    "    returning the sequence of w-values: [w_start, ..., w_stop]\n",
    "\n",
    "    Parameters\n",
    "    ----------\n",
    "    w_start : ArrayLike, shape-(2,)\n",
    "        The initial value of (w1, w2).\n",
    "\n",
    "    learning_rate : float\n",
    "        The \"learning rate\" factor for each descent step. A positive number.\n",
    "\n",
    "    num_steps : int\n",
    "        The number subsequent of descent steps taken. A non-negative number.\n",
    "\n",
    "    Returns\n",
    "    -------\n",
    "    Tensor, shape-(2,)\n",
    "        The final updated values of (w_1, w_2) \n",
    "    \"\"\"\n",
    "    # w stores [w_1, w_2]\n",
    "    w = mg.tensor(w_start) # <COGSTUB> Create a shape-(2,) tensor containing the values of `w_start`\n",
    "    \n",
    "    const = np.array([2.0, 3.0]) # <COGSTUB> Create a numpy array storing [2.0, 3.0] -- this is handy for computing L using vectorized operations\n",
    "    \n",
    "    # Perform `num_step` gradient-descent updates on `w` by computing dL/dw using automatic differentiation\n",
    "    # Make sure that `learning_rate` is used to affect the size of the step appropriately\n",
    "    #\n",
    "    # for num-steps:\n",
    "    #    Use w and constant to compute L: square w, multiply by const, then call np.sum()\n",
    "    #    Trigger backpropagation from L to compute its derivatives\n",
    "    #    Use `gradient_step` to update `w` in-place\n",
    "    #\n",
    "    for _ in range(num_steps):\n",
    "        # this performs: [w1, w2] -> [w1 ** 2, w2 ** 2] -> [2 * w1 **2, 3 * w2 ** 2] - sum -> 2 * w1 **2 + 3 * w2 ** 2\n",
    "        L = np.sum(const * (w ** 2))  # Compute L: square w, multiply by const, then call np.sum()\n",
    "        L.backward()  # Trigger automatic differentiation from L.\n",
    "        gradient_step(w, learning_rate=learning_rate) # Use `gradient_step` to update `w`.\n",
    "\n",
    "    return w"
   ]
  },
  {
   "cell_type": "markdown",
   "id": "61b56de0",
   "metadata": {},
   "source": [
    "Call your function using the inputs `w_start=mg.tensor([2.0, 4.0])`, `learning_rate=0.1`, and `num_steps=10`.\n",
    "Your solution should be close to $(0.0, 0.0)$ – it should be `Tensor([0.01209324, 0.00041943])`."
   ]
  },
  {
   "cell_type": "code",
   "execution_count": 62,
   "id": "5977660f",
   "metadata": {},
   "outputs": [
    {
     "data": {
      "text/plain": [
       "Tensor([0.01209324, 0.00041943])"
      ]
     },
     "execution_count": 62,
     "metadata": {},
     "output_type": "execute_result"
    }
   ],
   "source": [
    "descent_down_2d_parabola(w_start=mg.tensor([2.0, 4.0]), learning_rate=0.1, num_steps=10)"
   ]
  },
  {
   "cell_type": "markdown",
   "id": "4dcc676f",
   "metadata": {},
   "source": [
    "Lastly, here is a nice function that we can use to plot a function and its derivative.\n",
    "You need not make any modifications to the code.\n",
    "Simply run the cell."
   ]
  },
  {
   "cell_type": "code",
   "execution_count": 63,
   "id": "56f2cc05",
   "metadata": {},
   "outputs": [],
   "source": [
    "# Run this cell\n",
    "\n",
    "import matplotlib.pyplot as plt\n",
    "%matplotlib notebook\n",
    "\n",
    "def plot_func_and_deriv(x, func):\n",
    "    \"\"\" Plots func(x) and dfunc/dx on the same set of axes at the user-specified point\n",
    "    stored in ``x``.\n",
    "\n",
    "    Parameters\n",
    "    ----------\n",
    "    x : mygrad.Tensor, shape-(N,)\n",
    "        The positions at which `func` and its derivative will be\n",
    "        evaluated and plotted.\n",
    "\n",
    "    func: Callable[[Tensor], Tensor]\n",
    "        A unary function that is assumed to support backpropagation via MyGrad.\n",
    "        I.e. calling `func(x).backward()` will compute the derivative(s) of `func`\n",
    "        with respect to `x`.\n",
    "\n",
    "    Returns\n",
    "    -------\n",
    "    Tuple[Figure, Axis]\n",
    "        The figure and axis objects associated with the plot that was produced.\n",
    "    \"\"\"\n",
    "    fig, ax = plt.subplots()\n",
    "\n",
    "    x = mg.tensor(x)\n",
    "    y = func(x)  # evaluate function\n",
    "    y.backward() # compute df/dx\n",
    "\n",
    "    # We need to pass arrays to matplotlib's functions, not\n",
    "    # tensors\n",
    "    ax.plot(x.data, y.data, label=\"f(x)\")\n",
    "    ax.plot(x.data, x.grad, ls=\"--\", label=\"df/dx\")\n",
    "    ax.grid(True)\n",
    "    ax.legend()\n",
    "    ax.set_xlabel(\"x\")\n",
    "    return fig, ax"
   ]
  },
  {
   "cell_type": "markdown",
   "id": "90793036",
   "metadata": {},
   "source": [
    "Let's see this function in action!\n",
    "Note that `f` is written using NumPy functions but thanks to MyGrad's \"drop-in\" autodiff design we can still differentiate it as long as we pass a tensor to `f`!"
   ]
  },
  {
   "cell_type": "code",
   "execution_count": 64,
   "id": "aaf1ebb5",
   "metadata": {},
   "outputs": [
    {
     "data": {
      "application/javascript": [
       "/* Put everything inside the global mpl namespace */\n",
       "/* global mpl */\n",
       "window.mpl = {};\n",
       "\n",
       "mpl.get_websocket_type = function () {\n",
       "    if (typeof WebSocket !== 'undefined') {\n",
       "        return WebSocket;\n",
       "    } else if (typeof MozWebSocket !== 'undefined') {\n",
       "        return MozWebSocket;\n",
       "    } else {\n",
       "        alert(\n",
       "            'Your browser does not have WebSocket support. ' +\n",
       "                'Please try Chrome, Safari or Firefox ≥ 6. ' +\n",
       "                'Firefox 4 and 5 are also supported but you ' +\n",
       "                'have to enable WebSockets in about:config.'\n",
       "        );\n",
       "    }\n",
       "};\n",
       "\n",
       "mpl.figure = function (figure_id, websocket, ondownload, parent_element) {\n",
       "    this.id = figure_id;\n",
       "\n",
       "    this.ws = websocket;\n",
       "\n",
       "    this.supports_binary = this.ws.binaryType !== undefined;\n",
       "\n",
       "    if (!this.supports_binary) {\n",
       "        var warnings = document.getElementById('mpl-warnings');\n",
       "        if (warnings) {\n",
       "            warnings.style.display = 'block';\n",
       "            warnings.textContent =\n",
       "                'This browser does not support binary websocket messages. ' +\n",
       "                'Performance may be slow.';\n",
       "        }\n",
       "    }\n",
       "\n",
       "    this.imageObj = new Image();\n",
       "\n",
       "    this.context = undefined;\n",
       "    this.message = undefined;\n",
       "    this.canvas = undefined;\n",
       "    this.rubberband_canvas = undefined;\n",
       "    this.rubberband_context = undefined;\n",
       "    this.format_dropdown = undefined;\n",
       "\n",
       "    this.image_mode = 'full';\n",
       "\n",
       "    this.root = document.createElement('div');\n",
       "    this.root.setAttribute('style', 'display: inline-block');\n",
       "    this._root_extra_style(this.root);\n",
       "\n",
       "    parent_element.appendChild(this.root);\n",
       "\n",
       "    this._init_header(this);\n",
       "    this._init_canvas(this);\n",
       "    this._init_toolbar(this);\n",
       "\n",
       "    var fig = this;\n",
       "\n",
       "    this.waiting = false;\n",
       "\n",
       "    this.ws.onopen = function () {\n",
       "        fig.send_message('supports_binary', { value: fig.supports_binary });\n",
       "        fig.send_message('send_image_mode', {});\n",
       "        if (fig.ratio !== 1) {\n",
       "            fig.send_message('set_device_pixel_ratio', {\n",
       "                device_pixel_ratio: fig.ratio,\n",
       "            });\n",
       "        }\n",
       "        fig.send_message('refresh', {});\n",
       "    };\n",
       "\n",
       "    this.imageObj.onload = function () {\n",
       "        if (fig.image_mode === 'full') {\n",
       "            // Full images could contain transparency (where diff images\n",
       "            // almost always do), so we need to clear the canvas so that\n",
       "            // there is no ghosting.\n",
       "            fig.context.clearRect(0, 0, fig.canvas.width, fig.canvas.height);\n",
       "        }\n",
       "        fig.context.drawImage(fig.imageObj, 0, 0);\n",
       "    };\n",
       "\n",
       "    this.imageObj.onunload = function () {\n",
       "        fig.ws.close();\n",
       "    };\n",
       "\n",
       "    this.ws.onmessage = this._make_on_message_function(this);\n",
       "\n",
       "    this.ondownload = ondownload;\n",
       "};\n",
       "\n",
       "mpl.figure.prototype._init_header = function () {\n",
       "    var titlebar = document.createElement('div');\n",
       "    titlebar.classList =\n",
       "        'ui-dialog-titlebar ui-widget-header ui-corner-all ui-helper-clearfix';\n",
       "    var titletext = document.createElement('div');\n",
       "    titletext.classList = 'ui-dialog-title';\n",
       "    titletext.setAttribute(\n",
       "        'style',\n",
       "        'width: 100%; text-align: center; padding: 3px;'\n",
       "    );\n",
       "    titlebar.appendChild(titletext);\n",
       "    this.root.appendChild(titlebar);\n",
       "    this.header = titletext;\n",
       "};\n",
       "\n",
       "mpl.figure.prototype._canvas_extra_style = function (_canvas_div) {};\n",
       "\n",
       "mpl.figure.prototype._root_extra_style = function (_canvas_div) {};\n",
       "\n",
       "mpl.figure.prototype._init_canvas = function () {\n",
       "    var fig = this;\n",
       "\n",
       "    var canvas_div = (this.canvas_div = document.createElement('div'));\n",
       "    canvas_div.setAttribute('tabindex', '0');\n",
       "    canvas_div.setAttribute(\n",
       "        'style',\n",
       "        'border: 1px solid #ddd;' +\n",
       "            'box-sizing: content-box;' +\n",
       "            'clear: both;' +\n",
       "            'min-height: 1px;' +\n",
       "            'min-width: 1px;' +\n",
       "            'outline: 0;' +\n",
       "            'overflow: hidden;' +\n",
       "            'position: relative;' +\n",
       "            'resize: both;' +\n",
       "            'z-index: 2;'\n",
       "    );\n",
       "\n",
       "    function on_keyboard_event_closure(name) {\n",
       "        return function (event) {\n",
       "            return fig.key_event(event, name);\n",
       "        };\n",
       "    }\n",
       "\n",
       "    canvas_div.addEventListener(\n",
       "        'keydown',\n",
       "        on_keyboard_event_closure('key_press')\n",
       "    );\n",
       "    canvas_div.addEventListener(\n",
       "        'keyup',\n",
       "        on_keyboard_event_closure('key_release')\n",
       "    );\n",
       "\n",
       "    this._canvas_extra_style(canvas_div);\n",
       "    this.root.appendChild(canvas_div);\n",
       "\n",
       "    var canvas = (this.canvas = document.createElement('canvas'));\n",
       "    canvas.classList.add('mpl-canvas');\n",
       "    canvas.setAttribute(\n",
       "        'style',\n",
       "        'box-sizing: content-box;' +\n",
       "            'pointer-events: none;' +\n",
       "            'position: relative;' +\n",
       "            'z-index: 0;'\n",
       "    );\n",
       "\n",
       "    this.context = canvas.getContext('2d');\n",
       "\n",
       "    var backingStore =\n",
       "        this.context.backingStorePixelRatio ||\n",
       "        this.context.webkitBackingStorePixelRatio ||\n",
       "        this.context.mozBackingStorePixelRatio ||\n",
       "        this.context.msBackingStorePixelRatio ||\n",
       "        this.context.oBackingStorePixelRatio ||\n",
       "        this.context.backingStorePixelRatio ||\n",
       "        1;\n",
       "\n",
       "    this.ratio = (window.devicePixelRatio || 1) / backingStore;\n",
       "\n",
       "    var rubberband_canvas = (this.rubberband_canvas = document.createElement(\n",
       "        'canvas'\n",
       "    ));\n",
       "    rubberband_canvas.setAttribute(\n",
       "        'style',\n",
       "        'box-sizing: content-box;' +\n",
       "            'left: 0;' +\n",
       "            'pointer-events: none;' +\n",
       "            'position: absolute;' +\n",
       "            'top: 0;' +\n",
       "            'z-index: 1;'\n",
       "    );\n",
       "\n",
       "    // Apply a ponyfill if ResizeObserver is not implemented by browser.\n",
       "    if (this.ResizeObserver === undefined) {\n",
       "        if (window.ResizeObserver !== undefined) {\n",
       "            this.ResizeObserver = window.ResizeObserver;\n",
       "        } else {\n",
       "            var obs = _JSXTOOLS_RESIZE_OBSERVER({});\n",
       "            this.ResizeObserver = obs.ResizeObserver;\n",
       "        }\n",
       "    }\n",
       "\n",
       "    this.resizeObserverInstance = new this.ResizeObserver(function (entries) {\n",
       "        var nentries = entries.length;\n",
       "        for (var i = 0; i < nentries; i++) {\n",
       "            var entry = entries[i];\n",
       "            var width, height;\n",
       "            if (entry.contentBoxSize) {\n",
       "                if (entry.contentBoxSize instanceof Array) {\n",
       "                    // Chrome 84 implements new version of spec.\n",
       "                    width = entry.contentBoxSize[0].inlineSize;\n",
       "                    height = entry.contentBoxSize[0].blockSize;\n",
       "                } else {\n",
       "                    // Firefox implements old version of spec.\n",
       "                    width = entry.contentBoxSize.inlineSize;\n",
       "                    height = entry.contentBoxSize.blockSize;\n",
       "                }\n",
       "            } else {\n",
       "                // Chrome <84 implements even older version of spec.\n",
       "                width = entry.contentRect.width;\n",
       "                height = entry.contentRect.height;\n",
       "            }\n",
       "\n",
       "            // Keep the size of the canvas and rubber band canvas in sync with\n",
       "            // the canvas container.\n",
       "            if (entry.devicePixelContentBoxSize) {\n",
       "                // Chrome 84 implements new version of spec.\n",
       "                canvas.setAttribute(\n",
       "                    'width',\n",
       "                    entry.devicePixelContentBoxSize[0].inlineSize\n",
       "                );\n",
       "                canvas.setAttribute(\n",
       "                    'height',\n",
       "                    entry.devicePixelContentBoxSize[0].blockSize\n",
       "                );\n",
       "            } else {\n",
       "                canvas.setAttribute('width', width * fig.ratio);\n",
       "                canvas.setAttribute('height', height * fig.ratio);\n",
       "            }\n",
       "            /* This rescales the canvas back to display pixels, so that it\n",
       "             * appears correct on HiDPI screens. */\n",
       "            canvas.style.width = width + 'px';\n",
       "            canvas.style.height = height + 'px';\n",
       "\n",
       "            rubberband_canvas.setAttribute('width', width);\n",
       "            rubberband_canvas.setAttribute('height', height);\n",
       "\n",
       "            // And update the size in Python. We ignore the initial 0/0 size\n",
       "            // that occurs as the element is placed into the DOM, which should\n",
       "            // otherwise not happen due to the minimum size styling.\n",
       "            if (fig.ws.readyState == 1 && width != 0 && height != 0) {\n",
       "                fig.request_resize(width, height);\n",
       "            }\n",
       "        }\n",
       "    });\n",
       "    this.resizeObserverInstance.observe(canvas_div);\n",
       "\n",
       "    function on_mouse_event_closure(name) {\n",
       "        /* User Agent sniffing is bad, but WebKit is busted:\n",
       "         * https://bugs.webkit.org/show_bug.cgi?id=144526\n",
       "         * https://bugs.webkit.org/show_bug.cgi?id=181818\n",
       "         * The worst that happens here is that they get an extra browser\n",
       "         * selection when dragging, if this check fails to catch them.\n",
       "         */\n",
       "        var UA = navigator.userAgent;\n",
       "        var isWebKit = /AppleWebKit/.test(UA) && !/Chrome/.test(UA);\n",
       "        if(isWebKit) {\n",
       "            return function (event) {\n",
       "                /* This prevents the web browser from automatically changing to\n",
       "                 * the text insertion cursor when the button is pressed. We\n",
       "                 * want to control all of the cursor setting manually through\n",
       "                 * the 'cursor' event from matplotlib */\n",
       "                event.preventDefault()\n",
       "                return fig.mouse_event(event, name);\n",
       "            };\n",
       "        } else {\n",
       "            return function (event) {\n",
       "                return fig.mouse_event(event, name);\n",
       "            };\n",
       "        }\n",
       "    }\n",
       "\n",
       "    canvas_div.addEventListener(\n",
       "        'mousedown',\n",
       "        on_mouse_event_closure('button_press')\n",
       "    );\n",
       "    canvas_div.addEventListener(\n",
       "        'mouseup',\n",
       "        on_mouse_event_closure('button_release')\n",
       "    );\n",
       "    canvas_div.addEventListener(\n",
       "        'dblclick',\n",
       "        on_mouse_event_closure('dblclick')\n",
       "    );\n",
       "    // Throttle sequential mouse events to 1 every 20ms.\n",
       "    canvas_div.addEventListener(\n",
       "        'mousemove',\n",
       "        on_mouse_event_closure('motion_notify')\n",
       "    );\n",
       "\n",
       "    canvas_div.addEventListener(\n",
       "        'mouseenter',\n",
       "        on_mouse_event_closure('figure_enter')\n",
       "    );\n",
       "    canvas_div.addEventListener(\n",
       "        'mouseleave',\n",
       "        on_mouse_event_closure('figure_leave')\n",
       "    );\n",
       "\n",
       "    canvas_div.addEventListener('wheel', function (event) {\n",
       "        if (event.deltaY < 0) {\n",
       "            event.step = 1;\n",
       "        } else {\n",
       "            event.step = -1;\n",
       "        }\n",
       "        on_mouse_event_closure('scroll')(event);\n",
       "    });\n",
       "\n",
       "    canvas_div.appendChild(canvas);\n",
       "    canvas_div.appendChild(rubberband_canvas);\n",
       "\n",
       "    this.rubberband_context = rubberband_canvas.getContext('2d');\n",
       "    this.rubberband_context.strokeStyle = '#000000';\n",
       "\n",
       "    this._resize_canvas = function (width, height, forward) {\n",
       "        if (forward) {\n",
       "            canvas_div.style.width = width + 'px';\n",
       "            canvas_div.style.height = height + 'px';\n",
       "        }\n",
       "    };\n",
       "\n",
       "    // Disable right mouse context menu.\n",
       "    canvas_div.addEventListener('contextmenu', function (_e) {\n",
       "        event.preventDefault();\n",
       "        return false;\n",
       "    });\n",
       "\n",
       "    function set_focus() {\n",
       "        canvas.focus();\n",
       "        canvas_div.focus();\n",
       "    }\n",
       "\n",
       "    window.setTimeout(set_focus, 100);\n",
       "};\n",
       "\n",
       "mpl.figure.prototype._init_toolbar = function () {\n",
       "    var fig = this;\n",
       "\n",
       "    var toolbar = document.createElement('div');\n",
       "    toolbar.classList = 'mpl-toolbar';\n",
       "    this.root.appendChild(toolbar);\n",
       "\n",
       "    function on_click_closure(name) {\n",
       "        return function (_event) {\n",
       "            return fig.toolbar_button_onclick(name);\n",
       "        };\n",
       "    }\n",
       "\n",
       "    function on_mouseover_closure(tooltip) {\n",
       "        return function (event) {\n",
       "            if (!event.currentTarget.disabled) {\n",
       "                return fig.toolbar_button_onmouseover(tooltip);\n",
       "            }\n",
       "        };\n",
       "    }\n",
       "\n",
       "    fig.buttons = {};\n",
       "    var buttonGroup = document.createElement('div');\n",
       "    buttonGroup.classList = 'mpl-button-group';\n",
       "    for (var toolbar_ind in mpl.toolbar_items) {\n",
       "        var name = mpl.toolbar_items[toolbar_ind][0];\n",
       "        var tooltip = mpl.toolbar_items[toolbar_ind][1];\n",
       "        var image = mpl.toolbar_items[toolbar_ind][2];\n",
       "        var method_name = mpl.toolbar_items[toolbar_ind][3];\n",
       "\n",
       "        if (!name) {\n",
       "            /* Instead of a spacer, we start a new button group. */\n",
       "            if (buttonGroup.hasChildNodes()) {\n",
       "                toolbar.appendChild(buttonGroup);\n",
       "            }\n",
       "            buttonGroup = document.createElement('div');\n",
       "            buttonGroup.classList = 'mpl-button-group';\n",
       "            continue;\n",
       "        }\n",
       "\n",
       "        var button = (fig.buttons[name] = document.createElement('button'));\n",
       "        button.classList = 'mpl-widget';\n",
       "        button.setAttribute('role', 'button');\n",
       "        button.setAttribute('aria-disabled', 'false');\n",
       "        button.addEventListener('click', on_click_closure(method_name));\n",
       "        button.addEventListener('mouseover', on_mouseover_closure(tooltip));\n",
       "\n",
       "        var icon_img = document.createElement('img');\n",
       "        icon_img.src = '_images/' + image + '.png';\n",
       "        icon_img.srcset = '_images/' + image + '_large.png 2x';\n",
       "        icon_img.alt = tooltip;\n",
       "        button.appendChild(icon_img);\n",
       "\n",
       "        buttonGroup.appendChild(button);\n",
       "    }\n",
       "\n",
       "    if (buttonGroup.hasChildNodes()) {\n",
       "        toolbar.appendChild(buttonGroup);\n",
       "    }\n",
       "\n",
       "    var fmt_picker = document.createElement('select');\n",
       "    fmt_picker.classList = 'mpl-widget';\n",
       "    toolbar.appendChild(fmt_picker);\n",
       "    this.format_dropdown = fmt_picker;\n",
       "\n",
       "    for (var ind in mpl.extensions) {\n",
       "        var fmt = mpl.extensions[ind];\n",
       "        var option = document.createElement('option');\n",
       "        option.selected = fmt === mpl.default_extension;\n",
       "        option.innerHTML = fmt;\n",
       "        fmt_picker.appendChild(option);\n",
       "    }\n",
       "\n",
       "    var status_bar = document.createElement('span');\n",
       "    status_bar.classList = 'mpl-message';\n",
       "    toolbar.appendChild(status_bar);\n",
       "    this.message = status_bar;\n",
       "};\n",
       "\n",
       "mpl.figure.prototype.request_resize = function (x_pixels, y_pixels) {\n",
       "    // Request matplotlib to resize the figure. Matplotlib will then trigger a resize in the client,\n",
       "    // which will in turn request a refresh of the image.\n",
       "    this.send_message('resize', { width: x_pixels, height: y_pixels });\n",
       "};\n",
       "\n",
       "mpl.figure.prototype.send_message = function (type, properties) {\n",
       "    properties['type'] = type;\n",
       "    properties['figure_id'] = this.id;\n",
       "    this.ws.send(JSON.stringify(properties));\n",
       "};\n",
       "\n",
       "mpl.figure.prototype.send_draw_message = function () {\n",
       "    if (!this.waiting) {\n",
       "        this.waiting = true;\n",
       "        this.ws.send(JSON.stringify({ type: 'draw', figure_id: this.id }));\n",
       "    }\n",
       "};\n",
       "\n",
       "mpl.figure.prototype.handle_save = function (fig, _msg) {\n",
       "    var format_dropdown = fig.format_dropdown;\n",
       "    var format = format_dropdown.options[format_dropdown.selectedIndex].value;\n",
       "    fig.ondownload(fig, format);\n",
       "};\n",
       "\n",
       "mpl.figure.prototype.handle_resize = function (fig, msg) {\n",
       "    var size = msg['size'];\n",
       "    if (size[0] !== fig.canvas.width || size[1] !== fig.canvas.height) {\n",
       "        fig._resize_canvas(size[0], size[1], msg['forward']);\n",
       "        fig.send_message('refresh', {});\n",
       "    }\n",
       "};\n",
       "\n",
       "mpl.figure.prototype.handle_rubberband = function (fig, msg) {\n",
       "    var x0 = msg['x0'] / fig.ratio;\n",
       "    var y0 = (fig.canvas.height - msg['y0']) / fig.ratio;\n",
       "    var x1 = msg['x1'] / fig.ratio;\n",
       "    var y1 = (fig.canvas.height - msg['y1']) / fig.ratio;\n",
       "    x0 = Math.floor(x0) + 0.5;\n",
       "    y0 = Math.floor(y0) + 0.5;\n",
       "    x1 = Math.floor(x1) + 0.5;\n",
       "    y1 = Math.floor(y1) + 0.5;\n",
       "    var min_x = Math.min(x0, x1);\n",
       "    var min_y = Math.min(y0, y1);\n",
       "    var width = Math.abs(x1 - x0);\n",
       "    var height = Math.abs(y1 - y0);\n",
       "\n",
       "    fig.rubberband_context.clearRect(\n",
       "        0,\n",
       "        0,\n",
       "        fig.canvas.width / fig.ratio,\n",
       "        fig.canvas.height / fig.ratio\n",
       "    );\n",
       "\n",
       "    fig.rubberband_context.strokeRect(min_x, min_y, width, height);\n",
       "};\n",
       "\n",
       "mpl.figure.prototype.handle_figure_label = function (fig, msg) {\n",
       "    // Updates the figure title.\n",
       "    fig.header.textContent = msg['label'];\n",
       "};\n",
       "\n",
       "mpl.figure.prototype.handle_cursor = function (fig, msg) {\n",
       "    fig.canvas_div.style.cursor = msg['cursor'];\n",
       "};\n",
       "\n",
       "mpl.figure.prototype.handle_message = function (fig, msg) {\n",
       "    fig.message.textContent = msg['message'];\n",
       "};\n",
       "\n",
       "mpl.figure.prototype.handle_draw = function (fig, _msg) {\n",
       "    // Request the server to send over a new figure.\n",
       "    fig.send_draw_message();\n",
       "};\n",
       "\n",
       "mpl.figure.prototype.handle_image_mode = function (fig, msg) {\n",
       "    fig.image_mode = msg['mode'];\n",
       "};\n",
       "\n",
       "mpl.figure.prototype.handle_history_buttons = function (fig, msg) {\n",
       "    for (var key in msg) {\n",
       "        if (!(key in fig.buttons)) {\n",
       "            continue;\n",
       "        }\n",
       "        fig.buttons[key].disabled = !msg[key];\n",
       "        fig.buttons[key].setAttribute('aria-disabled', !msg[key]);\n",
       "    }\n",
       "};\n",
       "\n",
       "mpl.figure.prototype.handle_navigate_mode = function (fig, msg) {\n",
       "    if (msg['mode'] === 'PAN') {\n",
       "        fig.buttons['Pan'].classList.add('active');\n",
       "        fig.buttons['Zoom'].classList.remove('active');\n",
       "    } else if (msg['mode'] === 'ZOOM') {\n",
       "        fig.buttons['Pan'].classList.remove('active');\n",
       "        fig.buttons['Zoom'].classList.add('active');\n",
       "    } else {\n",
       "        fig.buttons['Pan'].classList.remove('active');\n",
       "        fig.buttons['Zoom'].classList.remove('active');\n",
       "    }\n",
       "};\n",
       "\n",
       "mpl.figure.prototype.updated_canvas_event = function () {\n",
       "    // Called whenever the canvas gets updated.\n",
       "    this.send_message('ack', {});\n",
       "};\n",
       "\n",
       "// A function to construct a web socket function for onmessage handling.\n",
       "// Called in the figure constructor.\n",
       "mpl.figure.prototype._make_on_message_function = function (fig) {\n",
       "    return function socket_on_message(evt) {\n",
       "        if (evt.data instanceof Blob) {\n",
       "            var img = evt.data;\n",
       "            if (img.type !== 'image/png') {\n",
       "                /* FIXME: We get \"Resource interpreted as Image but\n",
       "                 * transferred with MIME type text/plain:\" errors on\n",
       "                 * Chrome.  But how to set the MIME type?  It doesn't seem\n",
       "                 * to be part of the websocket stream */\n",
       "                img.type = 'image/png';\n",
       "            }\n",
       "\n",
       "            /* Free the memory for the previous frames */\n",
       "            if (fig.imageObj.src) {\n",
       "                (window.URL || window.webkitURL).revokeObjectURL(\n",
       "                    fig.imageObj.src\n",
       "                );\n",
       "            }\n",
       "\n",
       "            fig.imageObj.src = (window.URL || window.webkitURL).createObjectURL(\n",
       "                img\n",
       "            );\n",
       "            fig.updated_canvas_event();\n",
       "            fig.waiting = false;\n",
       "            return;\n",
       "        } else if (\n",
       "            typeof evt.data === 'string' &&\n",
       "            evt.data.slice(0, 21) === 'data:image/png;base64'\n",
       "        ) {\n",
       "            fig.imageObj.src = evt.data;\n",
       "            fig.updated_canvas_event();\n",
       "            fig.waiting = false;\n",
       "            return;\n",
       "        }\n",
       "\n",
       "        var msg = JSON.parse(evt.data);\n",
       "        var msg_type = msg['type'];\n",
       "\n",
       "        // Call the  \"handle_{type}\" callback, which takes\n",
       "        // the figure and JSON message as its only arguments.\n",
       "        try {\n",
       "            var callback = fig['handle_' + msg_type];\n",
       "        } catch (e) {\n",
       "            console.log(\n",
       "                \"No handler for the '\" + msg_type + \"' message type: \",\n",
       "                msg\n",
       "            );\n",
       "            return;\n",
       "        }\n",
       "\n",
       "        if (callback) {\n",
       "            try {\n",
       "                // console.log(\"Handling '\" + msg_type + \"' message: \", msg);\n",
       "                callback(fig, msg);\n",
       "            } catch (e) {\n",
       "                console.log(\n",
       "                    \"Exception inside the 'handler_\" + msg_type + \"' callback:\",\n",
       "                    e,\n",
       "                    e.stack,\n",
       "                    msg\n",
       "                );\n",
       "            }\n",
       "        }\n",
       "    };\n",
       "};\n",
       "\n",
       "function getModifiers(event) {\n",
       "    var mods = [];\n",
       "    if (event.ctrlKey) {\n",
       "        mods.push('ctrl');\n",
       "    }\n",
       "    if (event.altKey) {\n",
       "        mods.push('alt');\n",
       "    }\n",
       "    if (event.shiftKey) {\n",
       "        mods.push('shift');\n",
       "    }\n",
       "    if (event.metaKey) {\n",
       "        mods.push('meta');\n",
       "    }\n",
       "    return mods;\n",
       "}\n",
       "\n",
       "/*\n",
       " * return a copy of an object with only non-object keys\n",
       " * we need this to avoid circular references\n",
       " * https://stackoverflow.com/a/24161582/3208463\n",
       " */\n",
       "function simpleKeys(original) {\n",
       "    return Object.keys(original).reduce(function (obj, key) {\n",
       "        if (typeof original[key] !== 'object') {\n",
       "            obj[key] = original[key];\n",
       "        }\n",
       "        return obj;\n",
       "    }, {});\n",
       "}\n",
       "\n",
       "mpl.figure.prototype.mouse_event = function (event, name) {\n",
       "    if (name === 'button_press') {\n",
       "        this.canvas.focus();\n",
       "        this.canvas_div.focus();\n",
       "    }\n",
       "\n",
       "    // from https://stackoverflow.com/q/1114465\n",
       "    var boundingRect = this.canvas.getBoundingClientRect();\n",
       "    var x = (event.clientX - boundingRect.left) * this.ratio;\n",
       "    var y = (event.clientY - boundingRect.top) * this.ratio;\n",
       "\n",
       "    this.send_message(name, {\n",
       "        x: x,\n",
       "        y: y,\n",
       "        button: event.button,\n",
       "        step: event.step,\n",
       "        modifiers: getModifiers(event),\n",
       "        guiEvent: simpleKeys(event),\n",
       "    });\n",
       "\n",
       "    return false;\n",
       "};\n",
       "\n",
       "mpl.figure.prototype._key_event_extra = function (_event, _name) {\n",
       "    // Handle any extra behaviour associated with a key event\n",
       "};\n",
       "\n",
       "mpl.figure.prototype.key_event = function (event, name) {\n",
       "    // Prevent repeat events\n",
       "    if (name === 'key_press') {\n",
       "        if (event.key === this._key) {\n",
       "            return;\n",
       "        } else {\n",
       "            this._key = event.key;\n",
       "        }\n",
       "    }\n",
       "    if (name === 'key_release') {\n",
       "        this._key = null;\n",
       "    }\n",
       "\n",
       "    var value = '';\n",
       "    if (event.ctrlKey && event.key !== 'Control') {\n",
       "        value += 'ctrl+';\n",
       "    }\n",
       "    else if (event.altKey && event.key !== 'Alt') {\n",
       "        value += 'alt+';\n",
       "    }\n",
       "    else if (event.shiftKey && event.key !== 'Shift') {\n",
       "        value += 'shift+';\n",
       "    }\n",
       "\n",
       "    value += 'k' + event.key;\n",
       "\n",
       "    this._key_event_extra(event, name);\n",
       "\n",
       "    this.send_message(name, { key: value, guiEvent: simpleKeys(event) });\n",
       "    return false;\n",
       "};\n",
       "\n",
       "mpl.figure.prototype.toolbar_button_onclick = function (name) {\n",
       "    if (name === 'download') {\n",
       "        this.handle_save(this, null);\n",
       "    } else {\n",
       "        this.send_message('toolbar_button', { name: name });\n",
       "    }\n",
       "};\n",
       "\n",
       "mpl.figure.prototype.toolbar_button_onmouseover = function (tooltip) {\n",
       "    this.message.textContent = tooltip;\n",
       "};\n",
       "\n",
       "///////////////// REMAINING CONTENT GENERATED BY embed_js.py /////////////////\n",
       "// prettier-ignore\n",
       "var _JSXTOOLS_RESIZE_OBSERVER=function(A){var t,i=new WeakMap,n=new WeakMap,a=new WeakMap,r=new WeakMap,o=new Set;function s(e){if(!(this instanceof s))throw new TypeError(\"Constructor requires 'new' operator\");i.set(this,e)}function h(){throw new TypeError(\"Function is not a constructor\")}function c(e,t,i,n){e=0 in arguments?Number(arguments[0]):0,t=1 in arguments?Number(arguments[1]):0,i=2 in arguments?Number(arguments[2]):0,n=3 in arguments?Number(arguments[3]):0,this.right=(this.x=this.left=e)+(this.width=i),this.bottom=(this.y=this.top=t)+(this.height=n),Object.freeze(this)}function d(){t=requestAnimationFrame(d);var s=new WeakMap,p=new Set;o.forEach((function(t){r.get(t).forEach((function(i){var r=t instanceof window.SVGElement,o=a.get(t),d=r?0:parseFloat(o.paddingTop),f=r?0:parseFloat(o.paddingRight),l=r?0:parseFloat(o.paddingBottom),u=r?0:parseFloat(o.paddingLeft),g=r?0:parseFloat(o.borderTopWidth),m=r?0:parseFloat(o.borderRightWidth),w=r?0:parseFloat(o.borderBottomWidth),b=u+f,F=d+l,v=(r?0:parseFloat(o.borderLeftWidth))+m,W=g+w,y=r?0:t.offsetHeight-W-t.clientHeight,E=r?0:t.offsetWidth-v-t.clientWidth,R=b+v,z=F+W,M=r?t.width:parseFloat(o.width)-R-E,O=r?t.height:parseFloat(o.height)-z-y;if(n.has(t)){var k=n.get(t);if(k[0]===M&&k[1]===O)return}n.set(t,[M,O]);var S=Object.create(h.prototype);S.target=t,S.contentRect=new c(u,d,M,O),s.has(i)||(s.set(i,[]),p.add(i)),s.get(i).push(S)}))})),p.forEach((function(e){i.get(e).call(e,s.get(e),e)}))}return s.prototype.observe=function(i){if(i instanceof window.Element){r.has(i)||(r.set(i,new Set),o.add(i),a.set(i,window.getComputedStyle(i)));var n=r.get(i);n.has(this)||n.add(this),cancelAnimationFrame(t),t=requestAnimationFrame(d)}},s.prototype.unobserve=function(i){if(i instanceof window.Element&&r.has(i)){var n=r.get(i);n.has(this)&&(n.delete(this),n.size||(r.delete(i),o.delete(i))),n.size||r.delete(i),o.size||cancelAnimationFrame(t)}},A.DOMRectReadOnly=c,A.ResizeObserver=s,A.ResizeObserverEntry=h,A}; // eslint-disable-line\n",
       "mpl.toolbar_items = [[\"Home\", \"Reset original view\", \"fa fa-home\", \"home\"], [\"Back\", \"Back to previous view\", \"fa fa-arrow-left\", \"back\"], [\"Forward\", \"Forward to next view\", \"fa fa-arrow-right\", \"forward\"], [\"\", \"\", \"\", \"\"], [\"Pan\", \"Left button pans, Right button zooms\\nx/y fixes axis, CTRL fixes aspect\", \"fa fa-arrows\", \"pan\"], [\"Zoom\", \"Zoom to rectangle\\nx/y fixes axis\", \"fa fa-square-o\", \"zoom\"], [\"\", \"\", \"\", \"\"], [\"Download\", \"Download plot\", \"fa fa-floppy-o\", \"download\"]];\n",
       "\n",
       "mpl.extensions = [\"eps\", \"jpeg\", \"pgf\", \"pdf\", \"png\", \"ps\", \"raw\", \"svg\", \"tif\", \"webp\"];\n",
       "\n",
       "mpl.default_extension = \"png\";/* global mpl */\n",
       "\n",
       "var comm_websocket_adapter = function (comm) {\n",
       "    // Create a \"websocket\"-like object which calls the given IPython comm\n",
       "    // object with the appropriate methods. Currently this is a non binary\n",
       "    // socket, so there is still some room for performance tuning.\n",
       "    var ws = {};\n",
       "\n",
       "    ws.binaryType = comm.kernel.ws.binaryType;\n",
       "    ws.readyState = comm.kernel.ws.readyState;\n",
       "    function updateReadyState(_event) {\n",
       "        if (comm.kernel.ws) {\n",
       "            ws.readyState = comm.kernel.ws.readyState;\n",
       "        } else {\n",
       "            ws.readyState = 3; // Closed state.\n",
       "        }\n",
       "    }\n",
       "    comm.kernel.ws.addEventListener('open', updateReadyState);\n",
       "    comm.kernel.ws.addEventListener('close', updateReadyState);\n",
       "    comm.kernel.ws.addEventListener('error', updateReadyState);\n",
       "\n",
       "    ws.close = function () {\n",
       "        comm.close();\n",
       "    };\n",
       "    ws.send = function (m) {\n",
       "        //console.log('sending', m);\n",
       "        comm.send(m);\n",
       "    };\n",
       "    // Register the callback with on_msg.\n",
       "    comm.on_msg(function (msg) {\n",
       "        //console.log('receiving', msg['content']['data'], msg);\n",
       "        var data = msg['content']['data'];\n",
       "        if (data['blob'] !== undefined) {\n",
       "            data = {\n",
       "                data: new Blob(msg['buffers'], { type: data['blob'] }),\n",
       "            };\n",
       "        }\n",
       "        // Pass the mpl event to the overridden (by mpl) onmessage function.\n",
       "        ws.onmessage(data);\n",
       "    });\n",
       "    return ws;\n",
       "};\n",
       "\n",
       "mpl.mpl_figure_comm = function (comm, msg) {\n",
       "    // This is the function which gets called when the mpl process\n",
       "    // starts-up an IPython Comm through the \"matplotlib\" channel.\n",
       "\n",
       "    var id = msg.content.data.id;\n",
       "    // Get hold of the div created by the display call when the Comm\n",
       "    // socket was opened in Python.\n",
       "    var element = document.getElementById(id);\n",
       "    var ws_proxy = comm_websocket_adapter(comm);\n",
       "\n",
       "    function ondownload(figure, _format) {\n",
       "        window.open(figure.canvas.toDataURL());\n",
       "    }\n",
       "\n",
       "    var fig = new mpl.figure(id, ws_proxy, ondownload, element);\n",
       "\n",
       "    // Call onopen now - mpl needs it, as it is assuming we've passed it a real\n",
       "    // web socket which is closed, not our websocket->open comm proxy.\n",
       "    ws_proxy.onopen();\n",
       "\n",
       "    fig.parent_element = element;\n",
       "    fig.cell_info = mpl.find_output_cell(\"<div id='\" + id + \"'></div>\");\n",
       "    if (!fig.cell_info) {\n",
       "        console.error('Failed to find cell for figure', id, fig);\n",
       "        return;\n",
       "    }\n",
       "    fig.cell_info[0].output_area.element.on(\n",
       "        'cleared',\n",
       "        { fig: fig },\n",
       "        fig._remove_fig_handler\n",
       "    );\n",
       "};\n",
       "\n",
       "mpl.figure.prototype.handle_close = function (fig, msg) {\n",
       "    var width = fig.canvas.width / fig.ratio;\n",
       "    fig.cell_info[0].output_area.element.off(\n",
       "        'cleared',\n",
       "        fig._remove_fig_handler\n",
       "    );\n",
       "    fig.resizeObserverInstance.unobserve(fig.canvas_div);\n",
       "\n",
       "    // Update the output cell to use the data from the current canvas.\n",
       "    fig.push_to_output();\n",
       "    var dataURL = fig.canvas.toDataURL();\n",
       "    // Re-enable the keyboard manager in IPython - without this line, in FF,\n",
       "    // the notebook keyboard shortcuts fail.\n",
       "    IPython.keyboard_manager.enable();\n",
       "    fig.parent_element.innerHTML =\n",
       "        '<img src=\"' + dataURL + '\" width=\"' + width + '\">';\n",
       "    fig.close_ws(fig, msg);\n",
       "};\n",
       "\n",
       "mpl.figure.prototype.close_ws = function (fig, msg) {\n",
       "    fig.send_message('closing', msg);\n",
       "    // fig.ws.close()\n",
       "};\n",
       "\n",
       "mpl.figure.prototype.push_to_output = function (_remove_interactive) {\n",
       "    // Turn the data on the canvas into data in the output cell.\n",
       "    var width = this.canvas.width / this.ratio;\n",
       "    var dataURL = this.canvas.toDataURL();\n",
       "    this.cell_info[1]['text/html'] =\n",
       "        '<img src=\"' + dataURL + '\" width=\"' + width + '\">';\n",
       "};\n",
       "\n",
       "mpl.figure.prototype.updated_canvas_event = function () {\n",
       "    // Tell IPython that the notebook contents must change.\n",
       "    IPython.notebook.set_dirty(true);\n",
       "    this.send_message('ack', {});\n",
       "    var fig = this;\n",
       "    // Wait a second, then push the new image to the DOM so\n",
       "    // that it is saved nicely (might be nice to debounce this).\n",
       "    setTimeout(function () {\n",
       "        fig.push_to_output();\n",
       "    }, 1000);\n",
       "};\n",
       "\n",
       "mpl.figure.prototype._init_toolbar = function () {\n",
       "    var fig = this;\n",
       "\n",
       "    var toolbar = document.createElement('div');\n",
       "    toolbar.classList = 'btn-toolbar';\n",
       "    this.root.appendChild(toolbar);\n",
       "\n",
       "    function on_click_closure(name) {\n",
       "        return function (_event) {\n",
       "            return fig.toolbar_button_onclick(name);\n",
       "        };\n",
       "    }\n",
       "\n",
       "    function on_mouseover_closure(tooltip) {\n",
       "        return function (event) {\n",
       "            if (!event.currentTarget.disabled) {\n",
       "                return fig.toolbar_button_onmouseover(tooltip);\n",
       "            }\n",
       "        };\n",
       "    }\n",
       "\n",
       "    fig.buttons = {};\n",
       "    var buttonGroup = document.createElement('div');\n",
       "    buttonGroup.classList = 'btn-group';\n",
       "    var button;\n",
       "    for (var toolbar_ind in mpl.toolbar_items) {\n",
       "        var name = mpl.toolbar_items[toolbar_ind][0];\n",
       "        var tooltip = mpl.toolbar_items[toolbar_ind][1];\n",
       "        var image = mpl.toolbar_items[toolbar_ind][2];\n",
       "        var method_name = mpl.toolbar_items[toolbar_ind][3];\n",
       "\n",
       "        if (!name) {\n",
       "            /* Instead of a spacer, we start a new button group. */\n",
       "            if (buttonGroup.hasChildNodes()) {\n",
       "                toolbar.appendChild(buttonGroup);\n",
       "            }\n",
       "            buttonGroup = document.createElement('div');\n",
       "            buttonGroup.classList = 'btn-group';\n",
       "            continue;\n",
       "        }\n",
       "\n",
       "        button = fig.buttons[name] = document.createElement('button');\n",
       "        button.classList = 'btn btn-default';\n",
       "        button.href = '#';\n",
       "        button.title = name;\n",
       "        button.innerHTML = '<i class=\"fa ' + image + ' fa-lg\"></i>';\n",
       "        button.addEventListener('click', on_click_closure(method_name));\n",
       "        button.addEventListener('mouseover', on_mouseover_closure(tooltip));\n",
       "        buttonGroup.appendChild(button);\n",
       "    }\n",
       "\n",
       "    if (buttonGroup.hasChildNodes()) {\n",
       "        toolbar.appendChild(buttonGroup);\n",
       "    }\n",
       "\n",
       "    // Add the status bar.\n",
       "    var status_bar = document.createElement('span');\n",
       "    status_bar.classList = 'mpl-message pull-right';\n",
       "    toolbar.appendChild(status_bar);\n",
       "    this.message = status_bar;\n",
       "\n",
       "    // Add the close button to the window.\n",
       "    var buttongrp = document.createElement('div');\n",
       "    buttongrp.classList = 'btn-group inline pull-right';\n",
       "    button = document.createElement('button');\n",
       "    button.classList = 'btn btn-mini btn-primary';\n",
       "    button.href = '#';\n",
       "    button.title = 'Stop Interaction';\n",
       "    button.innerHTML = '<i class=\"fa fa-power-off icon-remove icon-large\"></i>';\n",
       "    button.addEventListener('click', function (_evt) {\n",
       "        fig.handle_close(fig, {});\n",
       "    });\n",
       "    button.addEventListener(\n",
       "        'mouseover',\n",
       "        on_mouseover_closure('Stop Interaction')\n",
       "    );\n",
       "    buttongrp.appendChild(button);\n",
       "    var titlebar = this.root.querySelector('.ui-dialog-titlebar');\n",
       "    titlebar.insertBefore(buttongrp, titlebar.firstChild);\n",
       "};\n",
       "\n",
       "mpl.figure.prototype._remove_fig_handler = function (event) {\n",
       "    var fig = event.data.fig;\n",
       "    if (event.target !== this) {\n",
       "        // Ignore bubbled events from children.\n",
       "        return;\n",
       "    }\n",
       "    fig.close_ws(fig, {});\n",
       "};\n",
       "\n",
       "mpl.figure.prototype._root_extra_style = function (el) {\n",
       "    el.style.boxSizing = 'content-box'; // override notebook setting of border-box.\n",
       "};\n",
       "\n",
       "mpl.figure.prototype._canvas_extra_style = function (el) {\n",
       "    // this is important to make the div 'focusable\n",
       "    el.setAttribute('tabindex', 0);\n",
       "    // reach out to IPython and tell the keyboard manager to turn it's self\n",
       "    // off when our div gets focus\n",
       "\n",
       "    // location in version 3\n",
       "    if (IPython.notebook.keyboard_manager) {\n",
       "        IPython.notebook.keyboard_manager.register_events(el);\n",
       "    } else {\n",
       "        // location in version 2\n",
       "        IPython.keyboard_manager.register_events(el);\n",
       "    }\n",
       "};\n",
       "\n",
       "mpl.figure.prototype._key_event_extra = function (event, _name) {\n",
       "    // Check for shift+enter\n",
       "    if (event.shiftKey && event.which === 13) {\n",
       "        this.canvas_div.blur();\n",
       "        // select the cell after this one\n",
       "        var index = IPython.notebook.find_cell_index(this.cell_info[0]);\n",
       "        IPython.notebook.select(index + 1);\n",
       "    }\n",
       "};\n",
       "\n",
       "mpl.figure.prototype.handle_save = function (fig, _msg) {\n",
       "    fig.ondownload(fig, null);\n",
       "};\n",
       "\n",
       "mpl.find_output_cell = function (html_output) {\n",
       "    // Return the cell and output element which can be found *uniquely* in the notebook.\n",
       "    // Note - this is a bit hacky, but it is done because the \"notebook_saving.Notebook\"\n",
       "    // IPython event is triggered only after the cells have been serialised, which for\n",
       "    // our purposes (turning an active figure into a static one), is too late.\n",
       "    var cells = IPython.notebook.get_cells();\n",
       "    var ncells = cells.length;\n",
       "    for (var i = 0; i < ncells; i++) {\n",
       "        var cell = cells[i];\n",
       "        if (cell.cell_type === 'code') {\n",
       "            for (var j = 0; j < cell.output_area.outputs.length; j++) {\n",
       "                var data = cell.output_area.outputs[j];\n",
       "                if (data.data) {\n",
       "                    // IPython >= 3 moved mimebundle to data attribute of output\n",
       "                    data = data.data;\n",
       "                }\n",
       "                if (data['text/html'] === html_output) {\n",
       "                    return [cell, data, j];\n",
       "                }\n",
       "            }\n",
       "        }\n",
       "    }\n",
       "};\n",
       "\n",
       "// Register the function which deals with the matplotlib target/channel.\n",
       "// The kernel may be null if the page has been refreshed.\n",
       "if (IPython.notebook.kernel !== null) {\n",
       "    IPython.notebook.kernel.comm_manager.register_target(\n",
       "        'matplotlib',\n",
       "        mpl.mpl_figure_comm\n",
       "    );\n",
       "}\n"
      ],
      "text/plain": [
       "<IPython.core.display.Javascript object>"
      ]
     },
     "metadata": {},
     "output_type": "display_data"
    },
    {
     "data": {
      "text/html": [
       "<img src=\"data:image/png;base64,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\" width=\"640\">"
      ],
      "text/plain": [
       "<IPython.core.display.HTML object>"
      ]
     },
     "metadata": {},
     "output_type": "display_data"
    }
   ],
   "source": [
    "# Run this cell\n",
    "\n",
    "import numpy as np\n",
    "\n",
    "def f(x):\n",
    "    return np.sin(2 * x) * np.cos(x) * np.exp(-x / 3) * 100\n",
    "\n",
    "x = mg.linspace(0, 10, 10000)\n",
    "fig, ax = plot_func_and_deriv(x, f)"
   ]
  }
 ],
 "metadata": {
  "jupytext": {
   "main_language": "python",
   "notebook_metadata_filter": "nbsphinx,-kernelspec"
  },
  "kernelspec": {
   "display_name": "Python 3 (ipykernel)",
   "language": "python",
   "name": "python3"
  },
  "language_info": {
   "codemirror_mode": {
    "name": "ipython",
    "version": 3
   },
   "file_extension": ".py",
   "mimetype": "text/x-python",
   "name": "python",
   "nbconvert_exporter": "python",
   "pygments_lexer": "ipython3",
   "version": "3.8.17"
  },
  "nbsphinx": {
   "execute": "never"
  }
 },
 "nbformat": 4,
 "nbformat_minor": 5
}

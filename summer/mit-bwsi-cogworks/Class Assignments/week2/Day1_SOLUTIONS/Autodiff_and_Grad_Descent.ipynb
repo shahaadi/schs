{
 "cells": [
  {
   "cell_type": "markdown",
   "id": "9c2fbcfc",
   "metadata": {},
   "source": [
    "## Automatic Differentiation at a Glance\n",
    "\n",
    "Suppose that we have the function\n",
    "\n",
    "\\begin{equation}\n",
    "f(x, y) = xy + x^2\n",
    "\\end{equation}\n",
    "\n",
    "and that we want to evaluate the first-order partial derivatives of $f$ at $(x=2, y=4)$.\n",
    "Let's evaluate these by hands so that we can know what to expect from our autodiff library.\n",
    "The relevant partial derivatives of $f$ are\n",
    "\n",
    "\\begin{align}\n",
    "\\frac{\\partial f}{\\partial x} &= y + 2x\\\\\n",
    "\\frac{\\partial f}{\\partial y} &= x\n",
    "\\end{align}\n",
    "\n",
    "Evaluated at $(x=2, y=4)$ gives:\n",
    "\n",
    "\\begin{align}\n",
    "\\frac{\\partial f}{\\partial x}\\big|_{x=2, y=4} &= 4 + 2(2) = 8\\\\\n",
    "\\frac{\\partial f}{\\partial y}\\big|_{x=2, y=4} &= 2\n",
    "\\end{align}\n",
    "\n",
    "To compute these derivatives in MyGrad, we need only compute $f$ at the point(s) of interest; we can then instruct MyGrad to compute the derivatives of $f$.\n",
    "In order for MyGrad to keep track of the mathematical operations that we are using, we must represent our variables of interest using `mygrad.Tensor` objects (more on these later).\n",
    "\n"
   ]
  },
  {
   "cell_type": "code",
   "execution_count": null,
   "id": "82f1b143",
   "metadata": {},
   "outputs": [],
   "source": [
    "# Defining x and y, and computing f(x, y)\n",
    "# Run this cell\n",
    "\n",
    "import mygrad as mg\n",
    "\n",
    "x = mg.tensor(2.0)\n",
    "y = mg.tensor(4.0)\n",
    "f = x * y + x ** 2  # computes f(2, 4)\n",
    "\n",
    "f # stores f(2, 4) as a mygrad-tensor (should be 12)"
   ]
  },
  {
   "cell_type": "markdown",
   "id": "8182fd57",
   "metadata": {},
   "source": [
    "The MyGrad-tensor `f` stores not only the value of $f(2, 4)$ but also the mathematical operations that were used to compute this value.\n",
    "With this information, we can instruct MyGrad to compute the derivatives of $f$ with respect to each of its variables - evaluated at the variable's specific value.\n",
    "We do this by calling the method `f.backward()` (\"backward\" is short for \"backpropagation\" which is the particular automatic differentiation algorithm that MyGrad employs)."
   ]
  },
  {
   "cell_type": "code",
   "execution_count": null,
   "id": "c765e151",
   "metadata": {},
   "outputs": [],
   "source": [
    "# Run this cell\n",
    "\n",
    "# Invoking autodiff, specifically backpropagation\n",
    "#\n",
    "# This says: \"evaluate all of the derivatives of `f` with\n",
    "# respect to all of the variables that `f` depends on\"\n",
    "#\n",
    "f.backward()  # this method doesn't return any value (well... it *does* but the value is `None`)"
   ]
  },
  {
   "cell_type": "markdown",
   "id": "41e9e51b",
   "metadata": {},
   "source": [
    "```python\n",
    "# Accessing the derivatives of `f`, stored in the `Tensor.grad`\n",
    "# attribute. These are always stored as NumPy arrays.\n",
    ">>> x.grad  # stores df/dx @ x=2, y=4\n",
    "array(8.)\n",
    "\n",
    ">>> y.grad  # stores df/dy @ x=2, y=4\n",
    "array(2.)\n",
    "```"
   ]
  },
  {
   "cell_type": "code",
   "execution_count": null,
   "id": "9693229a",
   "metadata": {},
   "outputs": [],
   "source": [
    "# Run this cell\n",
    "x.grad  # stores df/dx @ x=2, y=4"
   ]
  },
  {
   "cell_type": "code",
   "execution_count": null,
   "id": "74208ad6",
   "metadata": {},
   "outputs": [],
   "source": [
    "# Run this cell\n",
    "y.grad  # stores df/dy @ x=2, y=4"
   ]
  },
  {
   "cell_type": "markdown",
   "id": "14d68747",
   "metadata": {},
   "source": [
    "Voilà! We have officially used automatic differentiation to evaluate the derivatives of a function.\n",
    "Note that we didn't need to know any calculus or write down any derivatives to achieve this;\n",
    "all we needed to do was use evaluate the function itself while using MyGrad's `Tensor` object to represent our variables.\n",
    "From there, everything else was... _automatic_.\n",
    "\n",
    "MyGrad is capable of handling much more complex and interesting functions than this;\n",
    "it will behoove us to familiarize ourselves more thoroughly with this library."
   ]
  },
  {
   "cell_type": "markdown",
   "id": "d91c7c3b",
   "metadata": {},
   "source": [
    "### Exercise: calculating derivatives of a two-variable function\n",
    "\n",
    "Given the same two-variable function:\n",
    "\n",
    "\\begin{equation}\n",
    "f(x, y) = xy + x^2\n",
    "\\end{equation}\n",
    "\n",
    "Use MyGrad to compute $f(3.5, 10.1)$ along with the derivatives $\\frac{\\partial f}{\\partial x}\\big|_{x=3.5, y=10.1}$ and $\\frac{\\partial f}{\\partial y}\\big|_{x=3.5, y=10.1}$.\n",
    "\n"
   ]
  },
  {
   "cell_type": "code",
   "execution_count": null,
   "id": "c5862866",
   "metadata": {},
   "outputs": [],
   "source": [
    "# Defining x and y, and computing f(x, y)\n",
    "\n",
    "import mygrad as mg\n",
    "\n",
    "\n",
    "x = mg.tensor(3.5)  # <COGSTUB> a mygrad-tensor containing 3.5\n",
    "y = mg.tensor(10.1) # <COGSTUB> a mygrad-tensor containing 10.1\n",
    "\n",
    "f = x * y + x ** 2  # <COGSTUB> use `x` and `y` to compute f(3.5, 10.1)\n",
    "\n",
    "f.backward()  # <COGLINE> # Use `f` to invoke automatic differentiation to compute the derivatives of `f`\n",
    "\n",
    "print(\"f, df/dx, df/dy:\", f, x.grad, y.grad)"
   ]
  },
  {
   "cell_type": "markdown",
   "id": "ae203386",
   "metadata": {},
   "source": [
    "## An Introduction to MyGrad\n",
    "\n",
    "NumPy is the cornerstone for nearly all numerical and scientific computing software in Python, and thus it is desirable for us to spend our time focused on learning NumPy rather than splitting our attention across multiple array-math libraries.\n",
    "For this reason, MyGrad was specifically designed to to act and feel just like NumPy.\n",
    "Thus, if you want to get good at using MyGrad, you should spend most of your time [mastering NumPy!](https://www.pythonlikeyoumeanit.com/module_3.html).\n",
    "\n",
    "The crux of MyGrad is the `Tensor` object.\n",
    "This is analagous to NumPy's `ndarray`, as it: \n",
    "\n",
    "- can store [N-dimensional array data](https://www.pythonlikeyoumeanit.com/Module3_IntroducingNumpy/AccessingDataAlongMultipleDimensions.html), which can be [manipulated (e.g. reshaped, transposed, etc.)](https://mygrad.readthedocs.io/en/latest/tensor_manipulation.html)\n",
    "- supports both [basic indexing](https://www.pythonlikeyoumeanit.com/Module3_IntroducingNumpy/BasicIndexing.html#Basic-Indexing) (accessing elements and subsections of tensor), [advanced indexing](https://www.pythonlikeyoumeanit.com/Module3_IntroducingNumpy/AdvancedIndexing.html) (accessing arbitrary collections of elements from the tensor)\n",
    "- permits convenient [vectorized operations](https://www.pythonlikeyoumeanit.com/Module3_IntroducingNumpy/VectorizedOperations.html), which obey [NumPy's broadcasting semantics](https://www.pythonlikeyoumeanit.com/Module3_IntroducingNumpy/Broadcasting.html)\n",
    "- mirrors NumPy's mechanism for providing [views of data](https://www.pythonlikeyoumeanit.com/Module3_IntroducingNumpy/BasicIndexing.html#Producing-a-View-of-an-Array) and [in-place updates on data](https://www.pythonlikeyoumeanit.com/Module3_IntroducingNumpy/BasicIndexing.html#Augmenting-the-Underlying-Data-of-an-Array)\n",
    "\n",
    "What distinguishes the `Tensor` is that designed to support all of these features, _plus_ it enables automatic differentiation through any mathematical operations that involve tensors.\n",
    "\n",
    "If you are already at least familiar with each of the above concepts, then you are already well-along your way to being a competent MyGrad user!\n",
    "If these aren't ringing a bell, then it is strongly recommended that you review the [NumPy module from Python Like You Mean It](https://www.pythonlikeyoumeanit.com/module_3.html)."
   ]
  },
  {
   "cell_type": "markdown",
   "id": "b4c40119",
   "metadata": {},
   "source": [
    "### Creating and Using Tensors\n",
    "\n",
    "A `Tensor` must be provided the array data that it is to store.\n",
    "This can be a single number, a sequence of numbers, a NumPy array, or an existing tensor.\n",
    "\n",
    "```python\n",
    "# Creating MyGrad Tensor instances\n",
    ">>> import mygrad as mg\n",
    ">>> import numpy as np\n",
    "\n",
    "# Making a 0-D tensor from a float\n",
    ">>> mg.tensor(2.3)\n",
    "Tensor(2.3)\n",
    "\n",
    "# Making a shape-(3,) tensor of 32-bit floats from a list\n",
    ">>> mg.tensor([1.0, 2.0, 3.0], dtype=np.float32)\n",
    "Tensor([1., 2., 3.], dtype=float32)\n",
    "\n",
    "# Making a shape-(3, 3) tensor from a a numpy array\n",
    ">>> arr = np.ones((3, 3))\n",
    ">>> mg.tensor(arr)\n",
    "Tensor([[1., 1., 1.],\n",
    "        [1., 1., 1.],\n",
    "        [1., 1., 1.]])\n",
    "\n",
    "# creating a shape-(9,) tensor and reshaping\n",
    "# it into a shape-(3, 3) tensor\n",
    ">>> x = mg.arange(9.)\n",
    ">>> x\n",
    "Tensor([0., 1., 2., 3., 4., 5., 6., 7., 8.])\n",
    ">>> x.reshape(3, 3)\n",
    "Tensor([[0., 1., 2.],\n",
    "        [3., 4., 5.],\n",
    "        [6., 7., 8.]])\n",
    "```"
   ]
  },
  {
   "cell_type": "markdown",
   "id": "565f1b1a",
   "metadata": {},
   "source": [
    "Note that MyGrad uses NumPy's data-type system exactly so we can pass, e.g., `np.float32` anywhere there is a `dtype` argument in a MyGrad function to tell that function to return a tensor that stores 32-bit floats.\n",
    "\n",
    "### Accessing the Underlying NumPy Array\n",
    "\n",
    "Under the hood, every MyGrad tensor stores a NumPy array.\n",
    "This can be accessed via the `.data` attribute or using `numpy.asarray`.\n",
    "\n",
    "```python\n",
    "# Accessing a tensor's underlying numpy array\n",
    ">>> tensor = mg.tensor([1.2, 2.4])\n",
    "\n",
    ">>> tensor.data\n",
    "array([1.2, 2.4])\n",
    "\n",
    ">>> import numpy as np\n",
    ">>> np.asarray(tensor)\n",
    "array([1.2, 2.4])\n",
    "```\n",
    "\n",
    "#### Tensor-Creation Functions\n",
    "\n",
    "MyGrad provides [a whole suite of tensor-creation functions](https://mygrad.readthedocs.io/en/latest/tensor_creation.html), which exactly mimic their NumPy counterparts.\n",
    "These can be used to conveniently create tensors of specific shapes and with specific values as their elements. "
   ]
  },
  {
   "cell_type": "markdown",
   "id": "757ba3e3",
   "metadata": {},
   "source": [
    "```python\n",
    "# Demonstrating some of MyGrad's tensor-creation functions\n",
    "\n",
    "# Create a shape-(10,) tensor of subsequent integer-valued floats 0-9\n",
    ">>> mg.arange(10.)\n",
    "Tensor([0., 1., 2., 3., 4., 5., 6., 7., 8., 9.])\n",
    "\n",
    "# Create a shape-(2, 3, 4) tensor of 0s\n",
    ">>> mg.zeros((2, 3, 4))\n",
    "Tensor([[[0., 0., 0., 0.],\n",
    "         [0., 0., 0., 0.],\n",
    "         [0., 0., 0., 0.]],\n",
    " \n",
    "        [[0., 0., 0., 0.],\n",
    "         [0., 0., 0., 0.],\n",
    "         [0., 0., 0., 0.]]], dtype=float32)\n",
    "\n",
    "# Create a shape-(3, 4) tensor of numbers drawn randomly\n",
    "# from the interval [0, 1)\n",
    ">>> mg.random.rand(3, 4)\n",
    "Tensor([[0.84171912, 0.48059864, 0.68269986, 0.72591644],\n",
    "        [0.2315483 , 0.04201723, 0.51519654, 0.2711251 ],\n",
    "        [0.76460016, 0.49148986, 0.2825281 , 0.38161674]])\n",
    "```"
   ]
  },
  {
   "cell_type": "markdown",
   "id": "0ae6c038",
   "metadata": {},
   "source": [
    "**Excercise: Using a tensor-creation function**\n",
    "Use `mg.linspace` and `mg.pi` to create a shape-(15,) tensor of 15 evenly-spaced elements over the interval $[0, \\pi]$.\n",
    "\n",
    "(Try typing `mg.linspace` and then hit `<SHIFT>+<TAB>` to view the signature and docstring of `mg.linspace`)"
   ]
  },
  {
   "cell_type": "code",
   "execution_count": null,
   "id": "4e22eeda",
   "metadata": {},
   "outputs": [],
   "source": [
    "# <COGINST>\n",
    "mg.linspace(0, mg.pi, 15)\n",
    "# </COGINST>"
   ]
  },
  {
   "cell_type": "markdown",
   "id": "7aa8eabc",
   "metadata": {},
   "source": [
    "#### Standard Mathematical Operations\n",
    "\n",
    "In terms of math, MyGrad provides all of the same standard [arithmetic, trigonometric, and exponential (etc.) functions](https://mygrad.readthedocs.io/en/latest/math.html) as does NumPy.\n",
    "These are vectorized functions that obey NumPy's broadcasting semantics.\n",
    "That is, unary functions naturally operate element-wise over tensors and binary functions naturally map between corresponding pairs of elements between two same-shape tensors."
   ]
  },
  {
   "cell_type": "code",
   "execution_count": null,
   "id": "dbf50f3a",
   "metadata": {},
   "outputs": [],
   "source": [
    "# Run this cell\n",
    "\n",
    "# Performing NumPy-like mathematical operation in MyGrad\n",
    "# a shape-(5, ) tensor\n",
    "x = mg.tensor([0.0, 0.25, 0.5, 0.75, 1.0])\n",
    "\n",
    "# a shape-(3, 1) tensor\n",
    "y = mg.tensor([[0.],\n",
    "               [1.],\n",
    "               [2.]])\n"
   ]
  },
  {
   "cell_type": "code",
   "execution_count": null,
   "id": "e4c38cd6",
   "metadata": {},
   "outputs": [],
   "source": [
    "# Run this cell\n",
    "\n",
    "# computing sine on each element of `x`\n",
    "mg.sin(x)"
   ]
  },
  {
   "cell_type": "code",
   "execution_count": null,
   "id": "05e75385",
   "metadata": {},
   "outputs": [],
   "source": [
    "# Run this cell\n",
    "\n",
    "#broadcast-multiply a shape-(5,) tensor with a shape-(3, 1) tensor\n",
    "# producing a shape-(3, 5) tensor\n",
    "x * y"
   ]
  },
  {
   "cell_type": "code",
   "execution_count": null,
   "id": "160eef01",
   "metadata": {},
   "outputs": [],
   "source": [
    "# Run this cell\n",
    "\n",
    "# summing the rows of `x * y`\n",
    "mg.sum(x * y, axis=0)"
   ]
  },
  {
   "cell_type": "code",
   "execution_count": null,
   "id": "ea1bfed6",
   "metadata": {},
   "outputs": [],
   "source": [
    "# Run this cell\n",
    "\n",
    "x * y"
   ]
  },
  {
   "cell_type": "code",
   "execution_count": null,
   "id": "e1f1f52c",
   "metadata": {},
   "outputs": [],
   "source": [
    "# Exercise\n",
    "\n",
    "# use `axis=1` to sum the columns of `x * y`\n",
    "\n",
    "mg.sum(x * y, axis=1) # <COGLINE>"
   ]
  },
  {
   "cell_type": "code",
   "execution_count": null,
   "id": "a89c1c41",
   "metadata": {},
   "outputs": [],
   "source": [
    "# Run this cell\n",
    "\n",
    "# Demonstrating matmul. Note that `x @ y` is equivalent to `mg.matmul(x, y)`\n",
    "\n",
    "# Computing the dot-product between two 1D tensors\n",
    "x = mg.tensor([1.0, 2.0])\n",
    "y = mg.tensor([-3.0, -4.0])\n",
    "mg.matmul(x, y)"
   ]
  },
  {
   "cell_type": "code",
   "execution_count": null,
   "id": "86ff526c",
   "metadata": {},
   "outputs": [],
   "source": [
    "# Exercise\n",
    "\n",
    "# Use `@` – instead of mg.matmul – to compute the dot product between x and y\n",
    "\n",
    "x @ y  # <COGLINE>"
   ]
  },
  {
   "cell_type": "markdown",
   "id": "29e5868c",
   "metadata": {},
   "source": [
    "Keep in mind that the distinguishing feature of these mygrad-based functions is that they all support automatic differentiation:\n"
   ]
  },
  {
   "cell_type": "code",
   "execution_count": null,
   "id": "2337a60d",
   "metadata": {},
   "outputs": [],
   "source": [
    "# Run this cell\n",
    "\n",
    "x = mg.tensor([0.0, 0.25, 0.5, 0.75, 1.0])\n",
    "y = mg.tensor([[0.],\n",
    "               [1.],\n",
    "               [2.]])\n",
    "\n",
    "# computing the derivatives of `mg.sum(x * y)`\n",
    "f = mg.sum(x * y)\n",
    "f.backward()  # compute derivatives of f w.r.t x and y"
   ]
  },
  {
   "cell_type": "code",
   "execution_count": null,
   "id": "4a2775ce",
   "metadata": {},
   "outputs": [],
   "source": [
    "# Run this cell\n",
    "\n",
    "x.grad  # df / dx "
   ]
  },
  {
   "cell_type": "code",
   "execution_count": null,
   "id": "09fc68ec",
   "metadata": {},
   "outputs": [],
   "source": [
    "# Run this cell\n",
    "\n",
    "y.grad  # df / dy"
   ]
  },
  {
   "cell_type": "markdown",
   "id": "63380f4b",
   "metadata": {},
   "source": [
    "## Running Automatic Differentiation\n",
    "\n",
    "With a bit of know-how about MyGrad under our belts, let's mosey through a thorough discussion of automatic differentiation.\n",
    "\n",
    "### MyGrad Bakes Autodiff Into Everything It Does\n",
    "All of the examples of MyGrad's mathematical operations laid out above behave _identically_ to their NumPy counterparts in terms of the numerical results that they produce.\n",
    "The difference is that MyGrad's functions were all designed to provide users with the ability to perform automatic differentiation through each of these operations.\n",
    "We saw this in action at the beginning of this section, in [\"Automatic Differentiation at a Glance\"](#Automatic-Differentiation-at-a-Glance), but that was before we were familiar with MyGrad.\n",
    "\n",
    "It is important to note that MyGrad's `Tensor` objects were written to \"overload\" the common arithmetic operators, such as `+` and `*`, so that you can use these familiar operators but actually invoke the corresponding MyGrad functions.\n",
    "For example, calling:\n",
    "\n",
    "```python\n",
    "tensor_c = tensor_a + tensor_b\n",
    "```\n",
    "\n",
    "will _actually_ call\n",
    "\n",
    "```python\n",
    "tensor_c = mg.add(tensor_a, tensor_b)\n",
    "```\n",
    "\n",
    "So that we can perform automatic differentiation through this addition operation.\n",
    "We can read about Python's [special methods](https://www.pythonlikeyoumeanit.com/Module4_OOP/Special_Methods.html) to better understand how one can design a class to \"overload\" operators in this way.\n",
    "\n",
    "### MyGrad Adds \"Drop-In\" AutoDiff to NumPy\n",
    "\n",
    "MyGrad's functions are intentionally designed to mirror NumPy's functions almost exactly.\n",
    "In fact, for all of the NumPy functions that MyGrad mirrors, we can pass a tensor to a NumPy function and it will be \"coerced\" into returning a tensor instead of a NumPy array – thus we can autodifferentiate through NumPy functions!"
   ]
  },
  {
   "cell_type": "code",
   "execution_count": null,
   "id": "a83b373b",
   "metadata": {},
   "outputs": [],
   "source": [
    "# Run this cell\n",
    "\n",
    "import numpy as np\n",
    "x = mg.tensor(3.)\n",
    "\n",
    "y = np.square(x)  # note that we are using a numpy function here!\n",
    "y  # y is a tensor, not a numpy array"
   ]
  },
  {
   "cell_type": "code",
   "execution_count": null,
   "id": "7bad4fce",
   "metadata": {},
   "outputs": [],
   "source": [
    "# Run this cell\n",
    "\n",
    "y.backward()  # compute derivatives of y\n",
    "x.grad  # stores dy/dx @ x=3"
   ]
  },
  {
   "cell_type": "markdown",
   "id": "b9a640ec",
   "metadata": {},
   "source": [
    "How does this work?\n",
    "MyGrad's tensor is able to tell NumPy's function to *actually* call a MyGrad function.\n",
    "\n",
    "So, given `a_tensor = mg.tensor(3.)`,\n",
    "\n",
    "```python\n",
    "numpy.square(a_tensor)\n",
    "```\n",
    "\n",
    "*actually* calls\n",
    "\n",
    "```python\n",
    "mygrad.square(a_tensor)\n",
    "```\n",
    "\n",
    "under the hood.\n",
    "Not only is this convenient, but it also means that you can take a complex function that is written in terms of numpy functions and pass a tensor through it so that you can differentiate that function!\n",
    "\n",
    "```python\n",
    "from some_library import complicated_numpy_function\n",
    "x = mg.tensor(...)\n",
    "out_tensor = complicated_numpy_function(x)\n",
    "out_tensor.backward() # compute d(complicated_numpy_function) / dx !\n",
    "```"
   ]
  },
  {
   "cell_type": "markdown",
   "id": "7227e0bf",
   "metadata": {},
   "source": [
    "<div class=\"alert alert-warning\">\n",
    "\n",
    "**Making it to the Big Leagues**:\n",
    "\n",
    "During this course, we will have grown so comfortable with automatic differentiation and array mathematics that it will be easy for us to graduate to using \"industrial-grade\" libraries like PyTorch, which is much more appropriate for doing high-performance machine learning work.\n",
    "These libraries are far more sophisticated than is MyGrad (they have millions of dollars of funding and incredible expertise behind them!) and are able to leverage specialized computer hardware, like GPUs, to perform blazingly-fast computations.\n",
    "In fact, we will turn to PyTorch for some of our capstone project work.\n",
    "</div>\n"
   ]
  },
  {
   "cell_type": "markdown",
   "id": "a09bec86",
   "metadata": {},
   "source": [
    "### The All-Important `.backward()` Method\n",
    "\n",
    "The sole method that we need to use to invoke autodiff in MyGrad is `Tensor.backward()`.\n",
    "Suppose that we have computed a tensor `ℒ` from other tensors; calling `ℒ.backward()` instructs MyGrad to compute the derivatives of `ℒ` with respect to all of the tensors that it depends on.\n",
    "These derivatives are then stored as NumPy arrays in the `.grad` attribute in each of the respective tensors that preceded `ℒ` in its computation.\n",
    "\n",
    "(Note that we are purposefully using the fancy unicode symbol `ℒ` (U+2112) to evoke an association with the \"loss\" function $\\mathscr{L}$, whose gradient we will be interested in computing in machine learning problems.\n",
    "That being said, this is purely an aesthetic choice made for this section; MyGrad does not care about the particular variable names that we use.)\n",
    "\n",
    "Let's take an example:"
   ]
  },
  {
   "cell_type": "code",
   "execution_count": null,
   "id": "772b395a",
   "metadata": {},
   "outputs": [],
   "source": [
    "# Run this cell\n",
    "\n",
    "x = mg.tensor(2.0)\n",
    "y = mg.tensor(3.0)\n",
    "f = x * y  # actually calls: `mygrad.multiply(x, y)`\n",
    "ℒ = f + x - 2  # actually calls `mygrad.subtract(mygrad.add(f, x), 2)`"
   ]
  },
  {
   "cell_type": "markdown",
   "id": "903cb6d5",
   "metadata": {},
   "source": [
    "See that $\\mathscr{L}$ is a function of $f$, $x$, and $y$, and that\n",
    "$f$ is a function of $x$ and $y$.\n",
    "Thus the \"terminal\" (final) tensor in this \"computational graph\" that we have laid out can be thought of as the function $\\mathscr{L}(f(x, y), x, y)$.\n",
    "\n",
    "As described above, calling `ℒ.backward()` instructs MyGrad to compute all of the derivatives of `ℒ`. \n",
    "It does this using an algorithm known as \"backpropagation\", which we will discuss later.\n",
    "Suffice it to say that MyGrad **simply uses the chain rule** ([reference](https://rsokl.github.io/CogWeb/Math_Materials/Chain_Rule.html)) to compute these derivatives."
   ]
  },
  {
   "cell_type": "code",
   "execution_count": null,
   "id": "a2223ef7",
   "metadata": {},
   "outputs": [],
   "source": [
    "# Run this cell\n",
    "\n",
    "ℒ.backward()  # triggers computation of derivatives of `ℒ`\n",
    "\n",
    "f.grad  # stores dℒ/df = ∂ℒ/∂f @ x=2, y=3"
   ]
  },
  {
   "cell_type": "code",
   "execution_count": null,
   "id": "b40f8ccc",
   "metadata": {},
   "outputs": [],
   "source": [
    "# Run this cell\n",
    "\n",
    "y.grad  # stores dℒ/dy = ∂ℒ/∂f ∂f/∂y @ x=2, y=3"
   ]
  },
  {
   "cell_type": "code",
   "execution_count": null,
   "id": "be63ef4d",
   "metadata": {},
   "outputs": [],
   "source": [
    "# Run this cell\n",
    "\n",
    "x.grad  # stores dℒ/dx = ∂ℒ/∂f ∂f/∂x + ∂ℒ/∂x @ x=2, y=3"
   ]
  },
  {
   "cell_type": "markdown",
   "id": "451b0eac",
   "metadata": {},
   "source": [
    "To re-emphasize the point made above: MyGrad was only able to access the necessary information to compute all of the derivatives of $\\mathscr{L}$ (via the chain rule) because all of our quantities of interest were stored as MyGrad-tensors, and all of the mathematical operations that we performed on them were functions supplied by MyGrad.\n",
    "\n",
    "Note that `x.grad` and `y.grad` together express the gradient of $\\mathscr{L}$, $\\vec{\\nabla}\\mathscr{L} = \\begin{bmatrix} \\frac{d \\mathscr{L}}{d x} & \\frac{d \\mathscr{L}}{dy} \\end{bmatrix}$, evaluated at $(x=2, y=3)$.\n",
    "These derivatives are now available for use; e.g. we can use these derivatives to perform gradient descent on $\\mathscr{L}$.\n",
    "\n",
    "\n",
    "\n",
    "<!-- #region -->\n",
    "### Nulling Gradients \n",
    "\n",
    "Involving any of these tensors in further operations will automatically \"null\" its derivative (i.e. set it to `None`)\n",
    "\n",
    "```python\n",
    "# Involving a tensor in a new operation will automatically set\n",
    "# its `.grad` attribute to `None`\n",
    ">>> x.grad\n",
    "array(4.)\n",
    "\n",
    ">>> x + 2  # nulls the grad stored by `x`\n",
    "Tensor(4.0)\n",
    "\n",
    ">>> x.grad is None\n",
    "True\n",
    "```\n",
    "\n",
    "You can also explicitly call `Tensor.null_grad()` to set that tensor's `.grad` attribute back to `None`\n",
    "\n",
    "```python\n",
    "# Demonstrating `Tensor.null_grad()`\n",
    ">>> y.grad\n",
    "array(2.)\n",
    "\n",
    ">>> y.null_grad()  # returns the tensor itself (for convenience)\n",
    "Tensor(3.)\n",
    "\n",
    ">>> y.grad is None\n",
    "True\n",
    "```\n",
    "\n",
    "It is important to understand how these gradients get cleared since we will need to make repeated use of a tensor and its associated derivative during gradient descent, and thus we will need to discard of a tensor's associated derivative between iterations of gradient descent."
   ]
  },
  {
   "cell_type": "markdown",
   "id": "0f6a3bc4",
   "metadata": {},
   "source": [
    "### Exercise: Performing automatic differentiation on various functions\n",
    "\n",
    "Given $x = 2.5$, compute $\\frac{d\\mathscr{L}}{dx}\\big|_{x=2.5}$ for the following $\\mathscr{L}(x)$\n",
    "    \n",
    "1. $\\mathscr{L}(x) = 2 + 3x - 5x^2$\n",
    "2. $\\mathscr{L}(x) = \\cos{(\\sqrt{x})}$\n",
    "3. Given $f(x) = x^2$, $\\mathscr{L}(x) = (2 x f(x))^2 - f(x)$  ...define `f` as a separate tensor before computing `ℒ`.\n"
   ]
  },
  {
   "cell_type": "code",
   "execution_count": null,
   "id": "052cb57f",
   "metadata": {},
   "outputs": [],
   "source": [
    "x = mg.tensor(2.5)  # <COGSTUB> create a tensor storing 2.5"
   ]
  },
  {
   "cell_type": "code",
   "execution_count": null,
   "id": "f83c7433",
   "metadata": {},
   "outputs": [],
   "source": [
    "# 1. ℒ(x) = 2 + 3x - 5x**2\n",
    "L = 2 + 3 * x - 5 * x ** 2 # <COGSTUB> use `x` to compute ℒ(x)\n",
    "\n",
    "# compute the derivative of L @ x=2.5 via automatic differentiation\n",
    "L.backward()  # <COGLINE>\n",
    "\n",
    "# check the value of dℒ/dx @ x=2.5; you should get array(-22.)\n",
    "x.grad  # <COGLINE>"
   ]
  },
  {
   "cell_type": "code",
   "execution_count": null,
   "id": "874b541c",
   "metadata": {},
   "outputs": [],
   "source": [
    "# 2. ℒ(x) = cos(sqrt(x))\n",
    "L = np.cos(np.sqrt(x))  # <COGSTUB> use `x` to compute ℒ(x)\n",
    "\n",
    "# compute the derivative of L @ x=2.5 via automatic differentiation\n",
    "L.backward()  # <COGLINE>\n",
    "\n",
    "# check the value of dℒ/dx @ x=2.5; you should get array(-0.31621085)\n",
    "x.grad  # <COGLINE>"
   ]
  },
  {
   "cell_type": "code",
   "execution_count": null,
   "id": "f8f147fe",
   "metadata": {},
   "outputs": [],
   "source": [
    "# 3. f(x) = x**2, and ℒ(x) = (2x f(x))**2 - f(x)\n",
    "f = x ** 2  # <COGSTUB> use `x` to compute f(x)\n",
    "L = (2 * x * f) ** 2 - f  # <COGSTUB> use `x` and `f` to compute ℒ(x)\n",
    "\n",
    "# compute the derivative of L @ x=2.5 via automatic differentiation\n",
    "L.backward()  # <COGLINE>\n",
    "\n",
    "\n",
    "# check the value of dℒ/dx @ x=2.5; you should get array(2338.75)\n",
    "x.grad  # <COGLINE>"
   ]
  },
  {
   "cell_type": "markdown",
   "id": "f32968ef",
   "metadata": {},
   "source": [
    "Given $x = 2.5$, verify that the following pairs of functions yield the same derivatives in MyGrad.\n",
    "    \n",
    "1. $f(x) = xx$ vs $g(x) = x^2$\n",
    "2. $f(x) = e^{\\ln x}$ vs $g(x) = x$\n"
   ]
  },
  {
   "cell_type": "code",
   "execution_count": null,
   "id": "67d68a76",
   "metadata": {},
   "outputs": [],
   "source": [
    "x = mg.tensor(2.5)  # <COGSTUB> create a tensor storing 2.5"
   ]
  },
  {
   "cell_type": "code",
   "execution_count": null,
   "id": "c4f8f18d",
   "metadata": {},
   "outputs": [],
   "source": [
    "# 1. f(x) = x*x vs g(x) = x ** 2\n",
    "\n",
    "f = x * x  # <COGSTUB> compute f(x)\n",
    "\n",
    "# compute the derivative of f @ x=2.5 via automatic differentiation\n",
    "f.backward()  # <COGLINE>\n",
    "\n",
    "df_dx = x.grad # <COGSTUB> get the derivative df/dx @ x=2.5\n",
    "\n",
    "g = x **2  # <COGSTUB> compute g(x)\n",
    "\n",
    "# compute the derivative of g via automatic differentiation\n",
    "g.backward()  # <COGLINE>\n",
    "\n",
    "dg_dx = x.grad # <COGSTUB> get the derivative dg/dx @ x=2.5\n",
    "\n",
    "print(\"These should match:\", df_dx, dg_dx)"
   ]
  },
  {
   "cell_type": "code",
   "execution_count": null,
   "id": "7e2a68b8",
   "metadata": {},
   "outputs": [],
   "source": [
    "# 1. f(x) = exp(ln(x)) vs g(x) = x\n",
    "\n",
    "f = np.exp(np.log(x))  # <COGSTUB> compute f(x)\n",
    "\n",
    "# compute the derivative of f @ x=2.5 via automatic differentiation\n",
    "f.backward()  # <COGLINE>\n",
    "\n",
    "df_dx = x.grad # <COGSTUB> get the derivative df/dx @ x=2.5\n",
    "\n",
    "g = x  # <COGSTUB> compute g(x)\n",
    "\n",
    "# compute the derivative of g via automatic differentiation\n",
    "g.backward()  # <COGLINE>\n",
    "\n",
    "dg_dx = x.grad # <COGSTUB> get the derivative dg/dx @ x=2.5\n",
    "\n",
    "print(\"These should match:\", df_dx, dg_dx)"
   ]
  },
  {
   "cell_type": "markdown",
   "id": "bb4e1ccc",
   "metadata": {},
   "source": [
    "### Constant Tensors and Mixed Operations with NumPy Arrays\n",
    "\n",
    "An important feature of MyGrad is that you can do mixed operations between its tensors and other array-like objects or numbers.\n",
    "Not only is this convenient, but it also enables us to designate certain quantities in our computations as **constants**, i.e. as quantities for which we **do not need to compute derivatives**.\n",
    "For example, in the following calculation MyGrad only computes one derivative, $\\frac{d\\mathscr{L}}{dx}$, of a binary function;\n",
    "this enables us to avoid unnecessary computation if we don't have any use for $\\frac{d\\mathscr{L}}{dy}$.\n",
    "\n",
    "```python\n",
    "# Demonstrating mixed operations between tensors\n",
    "# and non-tensors\n",
    ">>> import numpy as np\n",
    ">>> x_tensor = mg.tensor([1., 2.])\n",
    ">>> y_array = np.array([3., 4.])  # this array acts like \"a constant\"\n",
    ">>> ℒ = x_tensor * y_array\n",
    ">>> ℒ.backward()  # only dℒ/dx is computed, dℒ/dy is skipped\n",
    ">>> x_tensor.grad  # stores dℒ/dx\n",
    "array([3., 4.])\n",
    "```"
   ]
  },
  {
   "cell_type": "markdown",
   "id": "a635a059",
   "metadata": {},
   "source": [
    "All of MyGrad's functions also accept a \"constant\" argument, which, when specified as `True`, will cause the creation of a **constant tensor**.\n",
    "Just like when it encounters a NumPy array or Python number, MyGrad knows to skip the calculation of a derivative with respect to a constant tensor.\n",
    "We can check the `Tensor.constant` attribute to see if a tensor is a constant or not.\n",
    "\n",
    "```python\n",
    "# Demonstrating the use of a constant Tensor\n",
    ">>> import numpy as np\n",
    ">>> x = mg.tensor([1., 2.])\n",
    ">>> y = mg.tensor([3., 4.], constant=True)\n",
    "\n",
    ">>> x.constant\n",
    "False\n",
    ">>> y.constant\n",
    "True\n",
    "\n",
    ">>> ℒ = x * y\n",
    ">>> ℒ.backward()  # only dℒ/dx is computed\n",
    ">>> x.grad\n",
    "array([3., 4.])\n",
    ">>> y.grad is None\n",
    "True\n",
    "```"
   ]
  },
  {
   "cell_type": "markdown",
   "id": "94afcfe7",
   "metadata": {},
   "source": [
    "All integer-dtype tensors are treated as constants:\n",
    "\n",
    "```python\n",
    ">>> tensor_of_ints = mg.tensor([1, 2, 3])\n",
    ">>> tensor_of_ints.constant\n",
    "True\n",
    "```"
   ]
  },
  {
   "cell_type": "markdown",
   "id": "ef6a00b9",
   "metadata": {},
   "source": [
    "Operations only involving constants and constant tensors will naturally create constant tensors."
   ]
  },
  {
   "cell_type": "markdown",
   "id": "7c0ebff9",
   "metadata": {},
   "source": [
    "```python\n",
    "# Operations involving only constants will produce a constant\n",
    ">>> out = mg.tensor([1.0, 2.0], constant=True) + mg.tensor([3.0, 4.0], constant=True)\n",
    ">>> out.constant\n",
    "True\n",
    "```"
   ]
  },
  {
   "cell_type": "markdown",
   "id": "07832f1a",
   "metadata": {},
   "source": [
    "And calling `.backward()` on a constant tensor will not do anything at all!\n",
    "\n",
    "```python\n",
    "# calling `.backward()` on a constant has no effect\n",
    ">>> out.backward()\n",
    ">>> out.grad is None\n",
    "```"
   ]
  },
  {
   "cell_type": "markdown",
   "id": "57609e5a",
   "metadata": {},
   "source": [
    "It is useful to keep the intimate relationship between a MyGrad tensor and an underlying NumPy array in mind because it reminds us of how similar these libraries are, and it informs our intuition for how tensors behave.\n",
    "Furthermore, this will prove to be an important technical detail for when we perform gradient descent, where we will want to update directly the data being held by the tensor. "
   ]
  },
  {
   "cell_type": "markdown",
   "id": "b22d0b43",
   "metadata": {},
   "source": [
    "## Gradient Descent with MyGrad\n",
    "\n",
    "Without further ado, let's leverage automatic differentiation to perform gradient descent on a simple function.\n",
    "To stick with a familiar territory, we will once again perform gradient descent on the simple function $\\mathscr{L}(w) = w^2$.\n",
    "By making sure that we store the value representing $w$ as a MyGrad tensor, and use it to calculate $L(w)$, we will be able to leverage autodiff.\n",
    "\n",
    "Recall that we will be updating $w$ according to the gradient-based step\n",
    "\n",
    "\\begin{equation}\n",
    "w_{\\mathrm{new}} = w_{\\mathrm{old}} - \\delta \\frac{\\mathrm{d}\\mathscr{L}}{\\mathrm{d}w}\\big|_{w_{\\mathrm{old}}}\n",
    "\\end{equation}\n",
    "\n",
    "Picking $w = 10$ as a **starting point**, using the **learning rate** $\\delta=0.3$, and taking **ten steps**, let's search for the minimum of $L$.\n",
    "One thing to note here is that we will update the NumPy array underlying the tensor `w` directly for the gradient-based update.\n",
    "\n",
    "Run the following cell. You should see that we move from $10$ towards $0$."
   ]
  },
  {
   "cell_type": "code",
   "execution_count": null,
   "id": "fd374211",
   "metadata": {},
   "outputs": [],
   "source": [
    "# Run this cell\n",
    "\n",
    "# Performing gradient descent on ℒ(w) = w ** 2\n",
    "w = mg.tensor(10.0)\n",
    "learning_rate = 0.3\n",
    "num_steps = 10\n",
    "print(w)\n",
    "\n",
    "for _ in range(num_steps):\n",
    "    ℒ = w ** 2    # compute ℒ(w)\n",
    "    ℒ.backward()  # compute derivative of ℒ\n",
    "    \n",
    "    # w_new = w_old - lr * dℒ/dw\n",
    "    w.data -= learning_rate * w.grad  # update w via gradient-step\n",
    "    print(w)"
   ]
  },
  {
   "cell_type": "markdown",
   "id": "418b4bfe",
   "metadata": {},
   "source": [
    "See that the gradient descent algorithm is steadily guiding use towards the global minimum $w = 0$, and we didn't even need to do any calculus on our own!\n",
    "\n",
    "The line of code that we wrote to represent the gradient-step,\n",
    "\n",
    "```python\n",
    "w.data -= learning_rate * w.grad\n",
    "```\n",
    "\n",
    "might be a little more nuanced than one might have expected.\n",
    "We could have instead written\n",
    "\n",
    "```python\n",
    "w = w - learning_rate * w.grad\n",
    "```\n",
    "\n",
    "which more closely aligns with the mathematical equation written above.\n",
    "That being said, the former equation has two benefits, both in terms of optimizing computational speed and both deriving from the fact that we are operating directly on the NumPy array stored by `w` via `w.data`:\n",
    "\n",
    "1. The form `w.data -= learning_rate * w.grad` involves only NumPy arrays, thus we do not need to pay the extra computational overhead incurred by MyGrad's tracking of mathematical operations.\n",
    "2. Using the operator `-=` invokes an [augmented update](https://www.pythonlikeyoumeanit.com/Module3_IntroducingNumpy/BasicIndexing.html#Augmented-Assignments) on the data held by `w`, this means that the computer can directly overwrite the memory associated with `w.data` instead of allocating a new array and then replacing `w.data` with it.\n",
    "\n",
    "Neither of these points really matter for this extremely lightweight example, but they will make more of a difference when we are making many updates to numerous, large arrays of data, which will be the case when we are tuning the parameters of a neural network.\n",
    "Towards that end, be sure to carefully complete the following exercise..."
   ]
  },
  {
   "cell_type": "markdown",
   "id": "9c990cb6",
   "metadata": {},
   "source": [
    "### Exercise: Creating a gradient-step function\n",
    "\n",
    "Complete the following Python function, which is responsible for taking an arbitrary collection (e.g. a list) of MyGrad tensors, **which are assumed to already store their relevant gradients**, and perform a gradient-step on each one of them.\n",
    "That is, assume that, outside of this function, `ℒ` has already been computed and `ℒ.backward()` was already invoked so that now all that is left to be done is perform the gradient-based step on each tensor.\n",
    "    \n",
    "This function will be a very useful utility for when you are optimizing a function involving multiple different variables.\n",
    "    \n",
    "(Hint: this should be a very brief function... much shorter than its docstring)\n"
   ]
  },
  {
   "cell_type": "code",
   "execution_count": null,
   "id": "2ac4fddd",
   "metadata": {},
   "outputs": [],
   "source": [
    "def gradient_step(tensors, learning_rate):\n",
    "    \"\"\"\n",
    "    Performs gradient-step in-place on each of the provides tensors \n",
    "    according to the standard formulation of gradient descent.\n",
    "\n",
    "    Parameters\n",
    "    ----------\n",
    "    tensors : Union[Tensor, Iterable[Tensor]]\n",
    "        A single tensor, or an iterable (e.g a list) of an arbitrary number of tensors.\n",
    "\n",
    "        If a `tensor.grad` is `None`for a specific tensor, the update on\n",
    "        that tensor is skipped.\n",
    "\n",
    "    learning_rate : float\n",
    "        The \"learning rate\" factor for each descent step. A positive number.\n",
    "\n",
    "    Notes\n",
    "    -----\n",
    "    The gradient-steps performed by this function occur in-place on each tensor,\n",
    "    thus this function does not return anything\n",
    "    \"\"\"\n",
    "    # If `tensors` is a single Tensor, make it into a list containing that tensor\n",
    "    # <COGINST>\n",
    "    if isinstance(tensors, mg.Tensor):\n",
    "        # Only one tensor was provided. Pack\n",
    "        # it into a list so it can be accessed via\n",
    "        # iteration\n",
    "        tensors = [tensors]\n",
    "    # </COGINST>\n",
    "\n",
    "    # Iterate over `tensors`, which is a list of Tensor-instances, using a for-loop.\n",
    "    #\n",
    "    # Update each tensor's underlying data (`.data`) using the gradient-step.\n",
    "    # If the tensor's gradient is not set (i.e. it is `None`), skip the tensor\n",
    "    #\n",
    "    #  For each tensor in tensors...\n",
    "    #      If the .grad of tensor is not None...\n",
    "    #          Update the .data attribute of the tensor using the gradient-descent step\n",
    "    # <COGINST>\n",
    "    for t in tensors:\n",
    "        if t.grad is not None:\n",
    "            t.data -= learning_rate * t.grad\n",
    "    # </COGINST>\n",
    "    \n",
    "    # This function does not return anything -- all tensors are updated in-place"
   ]
  },
  {
   "cell_type": "markdown",
   "id": "c2d81d56",
   "metadata": {},
   "source": [
    "Copy the gradient-descent code block from above, involving $\\mathscr{L}(w) = w^2$.\n",
    "Update it to use your `gradient_step` function.\n",
    "Run the code and check that it prints the expected steps.\n",
    "Keep in mind that `gradient_step` is meant to update the tensors in-place; it doesn't return anything."
   ]
  },
  {
   "cell_type": "code",
   "execution_count": null,
   "id": "d54129cc",
   "metadata": {},
   "outputs": [],
   "source": [
    "# <COGINST>\n",
    "# Performing gradient descent on ℒ(w) = w ** 2\n",
    "w = mg.tensor(10.0)\n",
    "learning_rate = 0.3\n",
    "num_steps = 10\n",
    "print(w)\n",
    "\n",
    "for step_cnt in range(num_steps):\n",
    "    ℒ = w ** 2    # compute L(w)\n",
    "    ℒ.backward()  # compute derivative of L\n",
    "    gradient_step(w, learning_rate)\n",
    "    print(w)\n",
    "# </COGINST>"
   ]
  },
  {
   "cell_type": "markdown",
   "id": "caa5109a",
   "metadata": {},
   "source": [
    "## Tensors as Collections of Scalar Variables\n",
    "\n",
    "Thus far we have focused on equations involving scalars, like `Tensor(2.0)`, which are zero-dimensional tensors.\n",
    "This was done intentionally, since we are most comfortable with thinking of equations that only involve scalars, such as $f(x) = x^2$; we intuitively know that $x$ represents a single number here.\n",
    "That being said, the `Tensor` object was clearly designed to be able to represent an $N$-dimensional array of data.\n",
    "How, then, are we to interpret the `.grad` attribute associated with a multidimensional tensor?\n",
    "The answer, generally, is that **each element of a tensor is to be interpreted as a scalar-valued variable**.\n",
    "\n",
    "Consider, for example, the following calculation"
   ]
  },
  {
   "cell_type": "markdown",
   "id": "1533879a",
   "metadata": {},
   "source": [
    "```python\n",
    ">>> tensor = mg.tensor([2.0, 4.0, 8.0])\n",
    ">>> arr = np.array([-1.0, 2.0, 0])\n",
    ">>> ℒ = (arr * tensor ** 2).sum()  # sum(-1 * x0**2 + 2 * x1**2 + 0 * x2**2)\n",
    ">>> ℒ.backward()\n",
    "```"
   ]
  },
  {
   "cell_type": "markdown",
   "id": "a16e6598",
   "metadata": {},
   "source": [
    "What value(s) should we expect to be stored in `tensor.grad`?\n",
    "Take some time to think about this and see if you can convince yourself of an answer.\n",
    "\n",
    "Let's work out what we should expect the gradient to be given the aforementioned prescription: that each element of `tensor` should be treated like a distinct scalar-valued variable.\n",
    "I.e. we'll say $\\mathrm{tensor} = [x_0, x_1, x_2]$, then the equation for $\\mathscr{L}$ is"
   ]
  },
  {
   "cell_type": "markdown",
   "id": "62ee7317",
   "metadata": {},
   "source": [
    "\\begin{equation}\n",
    "\\mathscr{L} = -1\\:(x_0)^2 + 2\\:(x_1)^2 + 0\\:(x_2)^2\n",
    "\\end{equation}"
   ]
  },
  {
   "cell_type": "markdown",
   "id": "fa0846b1",
   "metadata": {},
   "source": [
    "And `tensor.grad` will store $\\vec{\\nabla}\\mathscr{L}$ evaluated at the particular value stored by `tensor`"
   ]
  },
  {
   "cell_type": "markdown",
   "id": "5a4e15bf",
   "metadata": {},
   "source": [
    "\\begin{align}\n",
    "\\vec{\\nabla}\\mathscr{L} &= \\big[\\frac{\\mathrm{d}\\mathscr{L}}{\\mathrm{d}x_0},\\frac{\\mathrm{d}\\mathscr{L}}{\\mathrm{d}x_1},\\frac{\\mathrm{d}\\mathscr{L}}{\\mathrm{d}x_2}\\big]\\\\\n",
    "&= \\big[-2x_0,\\:4x_1,\\:0x_0\\big]\\\\\n",
    "\\vec{\\nabla}\\mathscr{L}\\big|_{x_0=2, x_1=4, x_2=8} &= \\big[-4,\\:16,\\:0\\big]\n",
    "\\end{align}\n",
    "\n",
    "Indeed this is what we find\n",
    "\n",
    "```python\n",
    ">>> tensor.grad\n",
    "array([-4., 16.,  0.])\n",
    "```"
   ]
  },
  {
   "cell_type": "markdown",
   "id": "a4b14dfd",
   "metadata": {},
   "source": [
    "Thus the `.grad` array has a clear correspondence with its associated tensor: if `tensor` is a N-dimensional tensor that is involved in **the calculation of a scalar** $\\mathscr{L}$ (and assuming that we invoked `ℒ.backward()`), then `t.grad` is an array **of the same shape as** `tensor` that stores the corresponding derivatives of $\\mathscr{L}$.\n",
    "\n",
    "That is, given that we think of a single element of a tensor to be a scalar-valued variable"
   ]
  },
  {
   "cell_type": "markdown",
   "id": "dc00cc14",
   "metadata": {},
   "source": [
    "\\begin{equation}\n",
    "\\text{tensor}[i_1, \\dots, i_N] \\rightarrow x_{i_1, \\dots, i_N}\n",
    "\\end{equation}\n",
    "\n",
    "then the corresponding element of the associated gradient is the derivative involving that variable \n",
    "\n",
    "\\begin{equation}\n",
    "\\text{tensor.grad}[i_1, \\dots, i_N] \\rightarrow \\frac{\\mathrm{d}\\mathscr{L}}{\\mathrm{d} x_{i_1, \\dots, i_N}}\\\\\n",
    "\\end{equation}"
   ]
  },
  {
   "cell_type": "markdown",
   "id": "572b85d8",
   "metadata": {},
   "source": [
    "### Exercise: descending a 2D parabola\n",
    "\n",
    "Using automatic differentiation with MyGrad, complete the following Python function that implements gradient descent on the skewed paraboloid $\\mathscr{L}(w_1, w_2) = 2 w_1^2 + 3 w_2^2$.\n",
    "\n",
    "Note that you should not need to derive/compute the partial derivatives of $\\mathscr{L}$ yourself; we will be using MyGrad to compute the derivatives for us.\n",
    "    \n",
    "Your calculation of $\\mathscr{L}(w_1, w_2) = 2 w_1^2 + 3 w_2^2$ should be fully vectorized; i.e. you should use a shape-(2,) tensor `w` to store $[w_1, w_2]$, and perform element-wise operations on it in order to compute $\\mathscr{L}$.\n",
    "Think about what array you can use do element-wise multiplication, but where you are performing `(2*, 3*)`.\n",
    "\n",
    "This code should look very similar to the code that was used to perform gradient descent down $\\mathscr{L}(w) = w^2$.\n",
    "\n",
    "Use your `gradient_step` function to make updates to `w`.\n",
    "    \n",
    "Test your function using the inputs `w_start=mg.tensor([2.0, 4.0])`, `learning_rate=0.1`, and `num_steps=10`."
   ]
  },
  {
   "cell_type": "code",
   "execution_count": null,
   "id": "64da552a",
   "metadata": {},
   "outputs": [],
   "source": [
    "import numpy as np\n",
    "\n",
    "def descent_down_2d_parabola(w_start, learning_rate, num_steps):\n",
    "    \"\"\"\n",
    "    Performs gradient descent on ℒ(w1, w2) = 2 * w1 ** 2 + 3 * w2 **2 , \n",
    "    returning the sequence of w-values: [w_start, ..., w_stop]\n",
    "\n",
    "    Parameters\n",
    "    ----------\n",
    "    w_start : ArrayLike, shape-(2,)\n",
    "        The initial value of (w1, w2).\n",
    "\n",
    "    learning_rate : float\n",
    "        The \"learning rate\" factor for each descent step. A positive number.\n",
    "\n",
    "    num_steps : int\n",
    "        The number subsequent of descent steps taken. A non-negative number.\n",
    "\n",
    "    Returns\n",
    "    -------\n",
    "    Tensor, shape-(2,)\n",
    "        The final updated values of (w_1, w_2) \n",
    "    \"\"\"\n",
    "    # w stores [w_1, w_2]\n",
    "    w = mg.tensor(w_start) # <COGSTUB> Create a shape-(2,) tensor containing the values of `w_start`\n",
    "    \n",
    "    const = np.array([2.0, 3.0]) # <COGSTUB> Create a numpy array storing [2.0, 3.0] -- this is handy for computing L using vectorized operations\n",
    "    \n",
    "    # Perform `num_step` gradient-descent updates on `w` by computing dL/dw using automatic differentiation\n",
    "    # Make sure that `learning_rate` is used to affect the size of the step appropriately\n",
    "    #\n",
    "    # for num-steps:\n",
    "    #    Use w and constant to compute L: square w, multiply by const, then call np.sum()\n",
    "    #    Trigger backpropagation from L to compute its derivatives\n",
    "    #    Use `gradient_step` to update `w` in-place\n",
    "    #\n",
    "    # <COGINST>\n",
    "    for _ in range(num_steps):\n",
    "        # this performs: [w1, w2] -> [w1 ** 2, w2 ** 2] -> [2 * w1 **2, 3 * w2 ** 2] - sum -> 2 * w1 **2 + 3 * w2 ** 2\n",
    "        L = np.sum(const * (w ** 2))  # Compute L: square w, multiply by const, then call np.sum()\n",
    "        L.backward()  # Trigger automatic differentiation from L.\n",
    "        gradient_step(w, learning_rate=learning_rate) # Use `gradient_step` to update `w`.\n",
    "    # </COGINST>\n",
    "\n",
    "    return w   # <COGLINE>: return w"
   ]
  },
  {
   "cell_type": "markdown",
   "id": "fffcb0d5",
   "metadata": {},
   "source": [
    "Call your function using the inputs `w_start=mg.tensor([2.0, 4.0])`, `learning_rate=0.1`, and `num_steps=10`.\n",
    "Your solution should be close to $(0.0, 0.0)$ – it should be `Tensor([0.01209324, 0.00041943])`."
   ]
  },
  {
   "cell_type": "code",
   "execution_count": null,
   "id": "3132a72a",
   "metadata": {},
   "outputs": [],
   "source": [
    "descent_down_2d_parabola(w_start=mg.tensor([2.0, 4.0]), learning_rate=0.1, num_steps=10)"
   ]
  },
  {
   "cell_type": "markdown",
   "id": "a0e050d0",
   "metadata": {},
   "source": [
    "Lastly, here is a nice function that we can use to plot a function and its derivative.\n",
    "You need not make any modifications to the code.\n",
    "Simply run the cell."
   ]
  },
  {
   "cell_type": "code",
   "execution_count": null,
   "id": "4cf41c28",
   "metadata": {},
   "outputs": [],
   "source": [
    "# Run this cell\n",
    "\n",
    "import matplotlib.pyplot as plt\n",
    "%matplotlib notebook\n",
    "\n",
    "def plot_func_and_deriv(x, func):\n",
    "    \"\"\" Plots func(x) and dfunc/dx on the same set of axes at the user-specified point\n",
    "    stored in ``x``.\n",
    "\n",
    "    Parameters\n",
    "    ----------\n",
    "    x : mygrad.Tensor, shape-(N,)\n",
    "        The positions at which `func` and its derivative will be\n",
    "        evaluated and plotted.\n",
    "\n",
    "    func: Callable[[Tensor], Tensor]\n",
    "        A unary function that is assumed to support backpropagation via MyGrad.\n",
    "        I.e. calling `func(x).backward()` will compute the derivative(s) of `func`\n",
    "        with respect to `x`.\n",
    "\n",
    "    Returns\n",
    "    -------\n",
    "    Tuple[Figure, Axis]\n",
    "        The figure and axis objects associated with the plot that was produced.\n",
    "    \"\"\"\n",
    "    fig, ax = plt.subplots()\n",
    "\n",
    "    x = mg.tensor(x)\n",
    "    y = func(x)  # evaluate function\n",
    "    y.backward() # compute df/dx\n",
    "\n",
    "    # We need to pass arrays to matplotlib's functions, not\n",
    "    # tensors\n",
    "    ax.plot(x.data, y.data, label=\"f(x)\")\n",
    "    ax.plot(x.data, x.grad, ls=\"--\", label=\"df/dx\")\n",
    "    ax.grid(True)\n",
    "    ax.legend()\n",
    "    ax.set_xlabel(\"x\")\n",
    "    return fig, ax"
   ]
  },
  {
   "cell_type": "markdown",
   "id": "63685cea",
   "metadata": {},
   "source": [
    "Let's see this function in action!\n",
    "Note that `f` is written using NumPy functions but thanks to MyGrad's \"drop-in\" autodiff design we can still differentiate it as long as we pass a tensor to `f`!"
   ]
  },
  {
   "cell_type": "code",
   "execution_count": null,
   "id": "0962f4a3",
   "metadata": {},
   "outputs": [],
   "source": [
    "# Run this cell\n",
    "\n",
    "import numpy as np\n",
    "\n",
    "def f(x):\n",
    "    return np.sin(2 * x) * np.cos(x) * np.exp(-x / 3) * 100\n",
    "\n",
    "x = mg.linspace(0, 10, 10000)\n",
    "fig, ax = plot_func_and_deriv(x, f)"
   ]
  }
 ],
 "metadata": {
  "jupytext": {
   "main_language": "python",
   "notebook_metadata_filter": "nbsphinx,-kernelspec"
  },
  "kernelspec": {
   "display_name": "Python 3 (ipykernel)",
   "language": "python",
   "name": "python3"
  },
  "language_info": {
   "codemirror_mode": {
    "name": "ipython",
    "version": 3
   },
   "file_extension": ".py",
   "mimetype": "text/x-python",
   "name": "python",
   "nbconvert_exporter": "python",
   "pygments_lexer": "ipython3",
   "version": "3.8.17"
  },
  "nbsphinx": {
   "execute": "never"
  }
 },
 "nbformat": 4,
 "nbformat_minor": 5
}

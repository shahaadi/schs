{
 "cells": [
  {
   "cell_type": "raw",
   "id": "9139a69c",
   "metadata": {
    "raw_mimetype": "text/restructuredtext"
   },
   "source": [
    ".. meta::\n",
    "    :description: Topic: Audio Processing, Category: Exercises\n",
    "    :keywords: spectrogram, audio, temporal, fourier"
   ]
  },
  {
   "cell_type": "markdown",
   "id": "06880c0a",
   "metadata": {},
   "source": [
    "# Exercise: Creating Our Own Spectrogram\n",
    "\n",
    "In this notebook we will learn how to create our own **spectrogram**.\n",
    "A spectrogram is a visual representation of the prominent frequencies in audio samples *as they vary in time*.\n",
    "That is, whereas plotting the the Fourier spectrum of a signal tells us what frequencies are prominent in the signal, a spectrogram will tell us what frequencies are prominent at any given time.\n",
    "This is an extremely powerful tool for signal analysis.\n"
   ]
  },
  {
   "cell_type": "code",
   "execution_count": 1,
   "id": "f4aae22a",
   "metadata": {},
   "outputs": [],
   "source": [
    "# run this cell (maybe twice to get %matplotlib notebook to work)\n",
    "import numpy as np\n",
    "import matplotlib.pyplot as plt\n",
    "import matplotlib.mlab as mlab\n",
    "from microphone import record_audio\n",
    "from typing import Tuple\n",
    "\n",
    "%matplotlib notebook"
   ]
  },
  {
   "cell_type": "markdown",
   "id": "8b847dcb",
   "metadata": {},
   "source": [
    "## Accessing Time *and* Frequency: Building an Intuition for Spectrograms"
   ]
  },
  {
   "cell_type": "markdown",
   "id": "0f77bd00",
   "metadata": {},
   "source": [
    "Thus far we have seen two means for representing audio data visually. We have plotted:\n",
    "1. Amplitude vs Time: Shows how the pressure from the sound wave varies over time.\n",
    "2. Fourier Spectrum: Reveals the prominent frequencies that are present in the sound wave.\n",
    "\n",
    "Let's revisit the clip of a trumpet playing a chord that we studied before."
   ]
  },
  {
   "cell_type": "code",
   "execution_count": 2,
   "id": "2d98800a",
   "metadata": {},
   "outputs": [],
   "source": [
    "import librosa\n",
    "\n",
    "# `recorded_audio` is a numpy array of N audio samples\n",
    "recorded_audio, sampling_rate = librosa.load(\"data/trumpet.wav\", sr=44100, mono=True)"
   ]
  },
  {
   "cell_type": "markdown",
   "id": "a693a6f3",
   "metadata": {},
   "source": [
    "Let's play this audio clip to recall what is being played."
   ]
  },
  {
   "cell_type": "code",
   "execution_count": null,
   "id": "09f45dfb",
   "metadata": {},
   "outputs": [],
   "source": [
    "from IPython.display import Audio\n",
    "Audio(recorded_audio, rate=sampling_rate)"
   ]
  },
  {
   "cell_type": "markdown",
   "id": "3e997982",
   "metadata": {},
   "source": [
    "### Revisiting the Fourier Spectrum"
   ]
  },
  {
   "cell_type": "markdown",
   "id": "50769eb9",
   "metadata": {},
   "source": [
    "We'll plot both the temporal wave form/amplitude and its Fourier spectrum.\n",
    "We will plot the Fourier coefficients, $|a_{k}|$, on a *log-scale*.\n",
    "This is a natural scale to plot the Fourier spectrum on, as the human ear responds to loudness on a logarithmic scale (thus the common unit of \"loudness\", decibels [dB], used in audio science is a logarithmic scale)."
   ]
  },
  {
   "cell_type": "code",
   "execution_count": null,
   "id": "64ffd8be",
   "metadata": {},
   "outputs": [],
   "source": [
    "fig, (ax0, ax1) = plt.subplots(ncols=2, figsize=(8, 4))\n",
    "\n",
    "# Compute the times at which each sample was recorded in seconds\n",
    "\n",
    "# Define the following variable(s)\n",
    "# `time`: array storing t_0, t_1, ..., t_{N-1} \n",
    "# STUDENT CODE HERE\n",
    "\n",
    "# Plotting the waveform (every 100th datapoint for sake of efficiency)\n",
    "ax0.plot(time[::100], recorded_audio[::100])  \n",
    "ax0.set_xlabel(\"Time [seconds]\")\n",
    "ax0.set_ylabel(\"Proportional to Pressure\")\n",
    "ax0.set_title(\"Temporal Waveform\")\n",
    "ax0.grid(True)\n",
    "\n",
    "\n",
    "# Plotting the Fourier spectrum\n",
    "\n",
    "# Compute the real-valued Fourier coefficents for this recording\n",
    "# and the corresponding frequencies (in Hz)\n",
    "\n",
    "# Define the following variable(s)\n",
    "# `ak`: array storing the real-valued Fourier coeffs: a_0, a_1, ..., a_{N//2}\n",
    "# `fk`: array storing the associated frequencies: 0/T, 1/T, ..., (N//2)/T\n",
    "\n",
    "# STUDENT CODE HERE\n",
    "\n",
    "ax1.plot(fk[:20000], ak[:20000])\n",
    "ax1.set_title(\"Fourier Spectrum\")\n",
    "ax1.set_xlabel(\"Frequency [Hz]\")\n",
    "ax1.set_ylabel(\"Proportional to decibels [dB]\")\n",
    "ax1.grid(True)\n",
    "ax1.set_yscale(\"log\")\n",
    "fig.tight_layout()"
   ]
  },
  {
   "cell_type": "markdown",
   "id": "f0c7143f",
   "metadata": {},
   "source": [
    "### Comparing a Fourier Spectrum to a Spectrogram"
   ]
  },
  {
   "cell_type": "markdown",
   "id": "75b04ea1",
   "metadata": {},
   "source": [
    "See that there is a trade-off between these two representations of the data.\n",
    "That is, from the waveform we can see that the trumpet is playing a relatively sustained chord for about $2.5$ seconds, while we cannot glean from the wave form what notes are being played.\n",
    "The Fourier spectrum reveals very clear information about the notes being played, but reveals nothing about the duration or ordering of the notes (are they being played in unison? in sequence? for how long? etc.).\n",
    "\n",
    "We would like to know *what pure tone frequencies* are prominent in our signal and *when* they occur in our signal.\n",
    "A **spectrogram** plots exactly this information. Without further ado, let's use matplotlib's built-in spectrogram function to understand what this visualization represents:"
   ]
  },
  {
   "cell_type": "code",
   "execution_count": null,
   "id": "824d7d2a",
   "metadata": {},
   "outputs": [],
   "source": [
    "# using matplotlib's built-in spectrogram function\n",
    "import matplotlib.mlab as mlab\n",
    "\n",
    "fig, ax = plt.subplots()\n",
    "\n",
    "S, freqs, times, im = ax.specgram(\n",
    "    recorded_audio,\n",
    "    NFFT=4096,\n",
    "    Fs=sampling_rate,\n",
    "    window=mlab.window_hanning,\n",
    "    noverlap=4096 // 2,\n",
    "    mode='magnitude',\n",
    "    scale=\"dB\"\n",
    ")\n",
    "fig.colorbar(im)\n",
    "\n",
    "ax.set_xlabel(\"Time [seconds]\")\n",
    "ax.set_ylabel(\"Frequency (Hz)\")\n",
    "ax.set_title(\"Spectrogram of Recording\")\n",
    "ax.set_ylim(0, 4000);"
   ]
  },
  {
   "cell_type": "markdown",
   "id": "e5301344",
   "metadata": {},
   "source": [
    "The spectrogram displays a heat map which reflects the magnitude (i.e. absolute value) of the Fourier coefficients for a given time and frequency.\n",
    "For example the yellow horizontal streak near $1000\\;\\mathrm{Hz}$ indicates that this frequency is prominent throughout the duration of the signal.\n",
    "Note that this spectrogram function is automatically plotting these magnitudes on a log-scale, for the reasons discussed earlier.\n",
    "This plot reveals that the prominent notes are being played in unison, and sustained for roughly $2.5$ seconds. We can also easily read off the frequencies of these notes and their [overtones](https://en.wikipedia.org/wiki/Overtone)."
   ]
  },
  {
   "cell_type": "markdown",
   "id": "d9e8d037",
   "metadata": {},
   "source": [
    "(1.7.1) Create the function, `plot_recording`, that:\n",
    "\n",
    "- Accepts a time-length, in seconds \n",
    "- Uses `microphone.record_audio` to record audio for that duration of time. Recall that this returns \"frames\" of audio data and the microphone's sampling rate. (Refer to the `WorkingWithMic` notebook for reference)\n",
    "- Converts the \"frames\" of audio data to a numpy array of 16-bit samples, using `np.hstack([np.frombuffer(i, np.int16) for i in frames])`\n",
    "- Uses `mlab.specgram` to plot the spectrogram for that recording, given those 16-bit samples and the microphone's sampling rate\n",
    "- Returns the matplotlib `Figure` and `Axes` object instances that were produced by the plot\n",
    "\n",
    "Set the $y$-limit of the plot to have an upper bound of $10,000\\;\\mathrm{Hz}$.\n",
    "Don't change any of the spectrogram settings other than the audio samples that you pass in and the sampling rate of the microphone."
   ]
  },
  {
   "cell_type": "code",
   "execution_count": null,
   "id": "72f5f988",
   "metadata": {},
   "outputs": [],
   "source": [
    "def plot_recording(time: float) -> Tuple[plt.Figure, plt.Axes]:\n",
    "    \"\"\" \n",
    "    Record audio and plot its spectrogram.\n",
    "    \n",
    "    Parameters\n",
    "    ----------\n",
    "    time : float\n",
    "        The duration (seconds) to record audio for\n",
    "    \n",
    "    Returns\n",
    "    -------\n",
    "    fig, ax\n",
    "        The plot objects for the spectrogram\"\"\"\n",
    "    # STUDENT CODE HERE"
   ]
  },
  {
   "cell_type": "markdown",
   "id": "6fc535ec",
   "metadata": {},
   "source": [
    "To continue building our intuition for the spectrogram, use `microphone.record_audio` to record a $5$ second clip of yourself whistling, clapping, etc.\n",
    "Try varying the pitch, rhythm, etc. during the clip. Plot the clip as a spectrogram. "
   ]
  },
  {
   "cell_type": "code",
   "execution_count": null,
   "id": "c222d9c8",
   "metadata": {},
   "outputs": [],
   "source": [
    "# STUDENT CODE HERE"
   ]
  },
  {
   "cell_type": "markdown",
   "id": "f46a6e13",
   "metadata": {},
   "source": [
    "You should see that the spectrogram successfully captures both the prominent frequencies present in the signal and their dynamics in time. Try plotting several recordings where you whistle, clap, sing, etc. Can you see the correspondence between the sounds that you made and the patterns that manifest in the spectrogram?\n",
    "\n",
    "Let's appreciate that we now have access to both frequency data and time data! This is extremely useful! Now how exactly is this working?"
   ]
  },
  {
   "cell_type": "markdown",
   "id": "88fe3974",
   "metadata": {},
   "source": [
    "## Digging into Spectrograms\n",
    "\n",
    "Our full recording consists of $N_\\mathrm{total}$ audio samples $(y_{n})_{n=0}^{N_\\mathrm{total}-1}$ recorded over a duration $T$ with some sampling rate $f_s$.\n",
    "\n",
    "A spectrogram is constructed simply by dividing your samples into $M$ temporal windows, each of time-length $\\Delta t$ and consisting of $N$ samples, where $N$ is determined by the duration $\\Delta t$ and $f_s$: $N = \\Delta t f_s$. \n",
    "\n",
    "\\begin{equation}\n",
    "\\big\\{(y_{n})_{n=0}^{N_\\mathrm{total}-1}\\big\\}_{T} \\Longrightarrow\n",
    "\\begin{bmatrix}\n",
    "    \\leftarrow   &  \\big\\{(y_{n})_{n=0}^{N-1}\\big\\}_{\\Delta t_{0}} & \\rightarrow  \\\\\n",
    "    \\leftarrow   &  \\big\\{(y_{n})_{n=0}^{N-1}\\big\\}_{\\Delta t_{1}}  & \\rightarrow \\\\\n",
    "    & \\vdots  &\\\\\n",
    "    \\leftarrow   &  \\big\\{(y_{n})_{n=0}^{N-1}\\big\\}_{\\Delta t_{M-1}} & \\rightarrow  \\\\\n",
    "\\end{bmatrix}\n",
    "\\end{equation}\n",
    "\n",
    "We perform a discrete Fourier transform on the collection of samples for each given window.\n",
    "This produces $M$ Fourier spectra – one for each temporal window's audio samples; this makes up each column of numbers in the spectrogram:\n",
    "\n",
    "\\begin{equation}\n",
    "\\begin{bmatrix}\n",
    "    \\leftarrow   &  \\big\\{(y_{n})_{n=0}^{N-1}\\big\\}_{\\Delta t_{0}} & \\rightarrow  \\\\\n",
    "    \\leftarrow   &  \\big\\{(y_{n})_{n=0}^{N-1}\\big\\}_{\\Delta t_{1}} & \\rightarrow \\\\\n",
    "    & \\vdots  &\\\\\n",
    "    \\leftarrow   &  \\big\\{(y_{n})_{n=0}^{N-1}\\big\\}_{\\Delta t_{M-1}} & \\rightarrow  \\\\\n",
    "\\end{bmatrix} \n",
    "\\Longrightarrow \n",
    "\\begin{bmatrix}\n",
    "    \\leftarrow   &  \\big\\{(c_{k})_{k=0}^{\\lfloor N/2 \\rfloor}\\big\\}_{\\Delta t_{0}} & \\rightarrow  \\\\\n",
    "    \\leftarrow   &  \\big\\{c_{k})_{k=0}^{\\lfloor N/2 \\rfloor}\\big\\}_{\\Delta t_{1}}  & \\rightarrow \\\\\n",
    "    & \\vdots  &\\\\\n",
    "    \\leftarrow   &  \\big\\{c_{k})_{k=0}^{\\lfloor N/2 \\rfloor}\\big\\}_{\\Delta t_{M-1}} & \\rightarrow  \\\\\n",
    "\\end{bmatrix} \\Longrightarrow \n",
    "\\begin{bmatrix}\n",
    "    \\leftarrow   &  \\big\\{(|a_{k}|)_{k=0}^{\\lfloor N/2 \\rfloor}\\big\\}_{\\Delta t_{0}} & \\rightarrow  \\\\\n",
    "    \\leftarrow   &  \\big\\{|a_{k}|)_{k=0}^{\\lfloor N/2 \\rfloor}\\big\\}_{\\Delta t_{1}}  & \\rightarrow \\\\\n",
    "    & \\vdots  &\\\\\n",
    "    \\leftarrow   &  \\big\\{|a_{k}|)_{k=0}^{\\lfloor N/2 \\rfloor}\\big\\}_{\\Delta t_{M-1}} & \\rightarrow  \\\\\n",
    "\\end{bmatrix} \n",
    "\\end{equation}\n",
    "\n",
    "\n",
    "\n",
    "If each temporal-window of our digital audio signal contains $N$ samples, then the Fourier transform on each window will produce $\\left\\lfloor\\frac{N}{2}\\right\\rfloor + 1$ Fourier coefficients $(|a_{k}|)_{k=0}^{\\lfloor N/2\\rfloor}$.\n",
    "Remember that we are interested in the *amplitude* of each Fourier coefficient, not its complex value, for the spectrogram.\n",
    "This allows us to know what the frequency distribution is in our signal during each time-interval (a.k.a temporal window). \n",
    "The time window starts at $m\\Delta t$ and ends at $(m+1)\\Delta t$, for $m \\in [0, 1, \\dots, M-1]$.\n",
    "\n",
    "**The *transpose* of the depicted array is what we plot in the spectrogram**: each column corresponds to one of $M$ temporal windows, and stores the Fourier spectrum of the audio recording during that time-interval.\n",
    "\n",
    "\n",
    "The following function produces the same spectrogram as was plotted above, but without producing the associated plot;\n",
    "let's get the spectrogram for the audio recording:"
   ]
  },
  {
   "cell_type": "code",
   "execution_count": null,
   "id": "fc062400",
   "metadata": {},
   "outputs": [],
   "source": [
    "# obtaining the spectrogram for the trumpet wave form (again)\n",
    "\n",
    "sampling_rate = 44100  # sampling rate in Hz\n",
    "\n",
    "S, freqs, times = mlab.specgram(\n",
    "    recorded_audio,\n",
    "    NFFT=4096,\n",
    "    Fs=sampling_rate,\n",
    "    window=mlab.window_hanning,\n",
    "    noverlap=int(4096 / 2),\n",
    "    mode='magnitude'\n",
    ")"
   ]
  },
  {
   "cell_type": "markdown",
   "id": "47b15ec4",
   "metadata": {},
   "source": [
    "`S` is the spectrogram, the 2-D array whose rows corresponds to frequencies and whose columns correspond to time.\n",
    "`freqs` is an array of the frequency values corresponding to the rows, and `times` is an array of time values corresponding to the columns. Their units are Hz and seconds, respectively.\n",
    "\n",
    "(1.7.2) Inspect the shapes of these arrays.\n",
    "How many time bins, $M$, were used in the spectrogram?\n",
    "How many frequency values are present in each time-bin?\n",
    "Verify that the shape of `S` corresponds with the lengths of `freqs` and `times`."
   ]
  },
  {
   "cell_type": "code",
   "execution_count": null,
   "id": "f2fb9fd7",
   "metadata": {},
   "outputs": [],
   "source": [
    "# STUDENT CODE HERE"
   ]
  },
  {
   "cell_type": "markdown",
   "id": "2bfef23a",
   "metadata": {},
   "source": [
    "What are the sizes of the frequency bins (in Hz)?\n",
    "Of the time bins (in seconds)?\n",
    "Are the bins (nearly) uniform in size?"
   ]
  },
  {
   "cell_type": "code",
   "execution_count": null,
   "id": "5ae44209",
   "metadata": {},
   "outputs": [],
   "source": [
    "# STUDENT CODE HERE"
   ]
  },
  {
   "cell_type": "markdown",
   "id": "ee6376e8",
   "metadata": {},
   "source": [
    "Assign `recorded_dt` to the amount of time covered by each temporal window (i.e. a single float)"
   ]
  },
  {
   "cell_type": "code",
   "execution_count": null,
   "id": "d5274b86",
   "metadata": {},
   "outputs": [],
   "source": [
    "recorded_dt = #"
   ]
  },
  {
   "cell_type": "markdown",
   "id": "00593e89",
   "metadata": {},
   "source": [
    "## Creating Your Own Spectrogram\n",
    "\n",
    "### Learning About the Sliding Window Function\n",
    "\n",
    "`mygrad` comes with a sliding window function; this creates windowed *views* of an array at regular intervals.\n",
    "Import `sliding_window_view` from `mygrad` and read its docstring or [its documentation page](https://mygrad.readthedocs.io/en/latest/generated/mygrad.sliding_window_view.html#mygrad.sliding_window_view).\n",
    "This will be handy for when we create $M$ windows of our audio sample data."
   ]
  },
  {
   "cell_type": "code",
   "execution_count": null,
   "id": "4debca0d",
   "metadata": {},
   "outputs": [],
   "source": [
    "from mygrad import sliding_window_view\n",
    "\n",
    "help(sliding_window_view)"
   ]
  },
  {
   "cell_type": "markdown",
   "id": "75db08ee",
   "metadata": {},
   "source": [
    "(1.7.3) Now let's create a 1-D NumPy array containing the integers from $0$ to $11$.\n",
    "Use `sliding_window_view` to make the following windowed views:\n",
    "\n",
    "- window size: 2, stride: 1\n",
    "- window size: 2, stride: 2\n",
    "- window size: 3, stride: 2\n",
    "- window size: 6, stride: 3\n",
    "- window size: 6, stride: 6\n",
    "\n",
    "Note that `sliding_window_view` doesn't accept a window *size* but rather a window *shape*.\n",
    "Thus if you want to make a 1-D window of size $2$ applied with a step-size of $1$, you would specify\n",
    "\n",
    "```python\n",
    "sliding_window_view(arr, window_shape=(2,), step=1)\n",
    "```"
   ]
  },
  {
   "cell_type": "markdown",
   "id": "4fb055d1",
   "metadata": {},
   "source": [
    "Run the following cell and look at the outputs to develop an intuition for how this sliding window view function works."
   ]
  },
  {
   "cell_type": "code",
   "execution_count": null,
   "id": "3fed7e1c",
   "metadata": {},
   "outputs": [],
   "source": [
    "from mygrad import sliding_window_view\n",
    "\n",
    "arr = np.arange(11)\n",
    "\n",
    "# A row of the array stores a single window of the data.\n",
    "# The number of rows is thus the number of windows formed.\n",
    "# The number of columns is the length of each window.\n",
    "\n",
    "print(f\"original data: {arr}\\n\")\n",
    "\n",
    "for window_size, step in zip((2, 2, 3, 6, 6), (1, 2, 2, 3, 6)):\n",
    "    print(f\"\\nData viewed with a window-size of {window_size}, step-size of {step}:\")\n",
    "    print(sliding_window_view(arr, window_shape=(window_size,), step=step))"
   ]
  },
  {
   "cell_type": "markdown",
   "id": "93177501",
   "metadata": {},
   "source": [
    "Study the shape and contents of the windowed arrays that you produce here.\n",
    "What do the axes of the resulting array correspond to?\n",
    "Note that this function does not make any copies of our data; it creates \"views\" of the underlying data!\n",
    "Feel free to play with this function to further develop your intuition.\n",
    "Discuss your observations with your neighbor."
   ]
  },
  {
   "cell_type": "markdown",
   "id": "cbe92d7f",
   "metadata": {},
   "source": [
    "(1.7.4) Now use `sliding_window_view` to create **non-overlapping** time windows of the trumpet audio signal.\n",
    "Determine the appropriate window size, $N$, so as to roughly match the spectrogram that we created above (based on its $\\Delta t$).\n",
    "That is, make sure each of your windows include the appropriate number of samples so that your $\\Delta t$ matches matplotlib's."
   ]
  },
  {
   "cell_type": "code",
   "execution_count": null,
   "id": "fb39a8b6",
   "metadata": {},
   "outputs": [],
   "source": [
    "# The desired temporal duration (seconds) of each window of audio data\n",
    "window_dt = recorded_dt  # you can adjust this value later\n",
    "\n",
    "\n",
    "# Compute the number of samples, N, that should fit in each\n",
    "# window, so that each temporal window has a duration of `window_dt`\n",
    "# Hint: remember that the audio samples have an associated\n",
    "# sampling rate of 44100 samples per second\n",
    "\n",
    "# Define this as `window_size` (an int)\n",
    "# STUDENT CODE HERE\n",
    "\n",
    "# Using the above window size and `sliding_window_view`, create an array \n",
    "# of non-overlapping windows of the audio data.\n",
    "# What should the step-size be so that the windows are non-overlapping?\n",
    "#\n",
    "# Define `windowed_audio` to be a 2D array where each row contains the\n",
    "# samples of the recording in a temporal window.\n",
    "# The shape should be (M, N), where M is the number of temporal windows\n",
    "# and N is the number of samples in each window\n",
    "# STUDENT CODE HERE"
   ]
  },
  {
   "cell_type": "markdown",
   "id": "2bb32e0e",
   "metadata": {},
   "source": [
    "Look at the shape of your array. How many time windows did you create; i.e. what is $M$ equal to?\n",
    "How many samples, $N$, reside in each window?\n",
    "Thus what is the time duration of each window?"
   ]
  },
  {
   "cell_type": "code",
   "execution_count": null,
   "id": "0df847e5",
   "metadata": {},
   "outputs": [],
   "source": [
    "# STUDENT CODE HERE"
   ]
  },
  {
   "cell_type": "markdown",
   "id": "4958d8c4",
   "metadata": {},
   "source": [
    "Do the rows and columns of the array that you have just computed correspond to what we want for our spectrogram? That is, do our rows correspond to frequencies, and columns correspond to times?\n",
    "Update your array so that they do, and store the result in an array called `spectrogram`."
   ]
  },
  {
   "cell_type": "code",
   "execution_count": null,
   "id": "41cafaef",
   "metadata": {},
   "outputs": [],
   "source": [
    "spectrogram = # rows: freq, cols: time"
   ]
  },
  {
   "cell_type": "markdown",
   "id": "f9e8dd1c",
   "metadata": {},
   "source": [
    "Compute the duration of the *full* audio signal in seconds, given that the sampling rate used to record it was $44,100\\;\\mathrm{Hz}$.\n",
    "Assign this to `T`."
   ]
  },
  {
   "cell_type": "code",
   "execution_count": null,
   "id": "be5b29dc",
   "metadata": {},
   "outputs": [],
   "source": [
    "# STUDENT CODE HERE"
   ]
  },
  {
   "cell_type": "markdown",
   "id": "d4c51ba0",
   "metadata": {},
   "source": [
    "Compute the maximum frequency included in the Fourier spectrum for any of the given temporal windows. \n",
    "Assign this float value to `F`."
   ]
  },
  {
   "cell_type": "code",
   "execution_count": null,
   "id": "b32a366b",
   "metadata": {},
   "outputs": [],
   "source": [
    "# STUDENT CODE HERE"
   ]
  },
  {
   "cell_type": "markdown",
   "id": "88b9042c",
   "metadata": {},
   "source": [
    "Time to plot our spectrogram!\n",
    "We will make use of `T` and `F` to set the scales for our plot axes, and to set a sensible aspect ratio for the plot."
   ]
  },
  {
   "cell_type": "code",
   "execution_count": null,
   "id": "22443615",
   "metadata": {},
   "outputs": [],
   "source": [
    "# Plug your spectrogram array in `imshow` and execute this cell\n",
    "# notes that we set `origin=\"lower\"` in the `imshow function, this is\n",
    "# so the low frequencies occur at the bottom of the y axis; this is flipped\n",
    "# from how your array is structured\n",
    "\n",
    "max_freq = 4000  # the largest frequency that we want to plot\n",
    "\n",
    "# this is used to set the (left, right, bottom, top) scale for the image axes\n",
    "extent = (0, T, 0, F)\n",
    "aspect_ratio = T / max_freq\n",
    "\n",
    "fig, ax = plt.subplots()\n",
    "ax.imshow(\n",
    "    np.log(spectrogram),\n",
    "    origin=\"lower\",\n",
    "    aspect=aspect_ratio,\n",
    "    extent=extent,\n",
    "    interpolation=\"bilinear\",\n",
    ")\n",
    "ax.set_ylim(0, max_freq)\n",
    "\n",
    "ax.set_xlabel(\"Time (sec)\")\n",
    "ax.set_ylabel(\"Frequency (Hz)\")"
   ]
  },
  {
   "cell_type": "markdown",
   "id": "f4ba6ce9",
   "metadata": {},
   "source": [
    "Notice that, to mimic the original spectrogram plot, we are plotting the *logarithm* of the Fourier amplitudes, so that the spectrogram's heat map values correspond to audible decibels."
   ]
  },
  {
   "cell_type": "markdown",
   "id": "d8ff711f",
   "metadata": {},
   "source": [
    "This plot should resemble that of the original spectrogram quite closely.\n",
    "There are some special considerations to take in order to ensure that the boundaries between time bins are handled well – not accounting for these introduces significant artifacts into the spectrogram.\n",
    "Matplotlib's spectrogram looks much cleaner than ours because they use nice techniques, like the application of a \"hamming window\", to stitch together the Fourier spectra over time.\n",
    "\n",
    "At its core though, a spectrogram is as simple as applying a Fourier transform on time-windowed bins of the signal, and plotting the resulting Fourier coefficient amplitudes as the columns of a frequency vs time plot, with each column corresponding to a time window of the signal.\n",
    "\n",
    "- col-0 : Fourier spectrum of signal during $\\Delta t_0$ \n",
    "- col-1 : Fourier spectrum of signal during $\\Delta t_1$ \n",
    "- $\\vdots$"
   ]
  },
  {
   "cell_type": "markdown",
   "id": "feff74e1",
   "metadata": {},
   "source": [
    "To improve the quality of your spectrogram, you can try doubling the window size, but keeping the same stride.\n",
    "Thus the windows will partially overlap, which will help to mitigate the effects of the artificial boundaries that we introduced in our windowing. "
   ]
  }
 ],
 "metadata": {
  "jupytext": {
   "main_language": "python",
   "notebook_metadata_filter": "nbsphinx,-kernelspec"
  },
  "kernelspec": {
   "display_name": "Python 3 (ipykernel)",
   "language": "python",
   "name": "python3"
  },
  "language_info": {
   "codemirror_mode": {
    "name": "ipython",
    "version": 3
   },
   "file_extension": ".py",
   "mimetype": "text/x-python",
   "name": "python",
   "nbconvert_exporter": "python",
   "pygments_lexer": "ipython3",
   "version": "3.8.17"
  },
  "nbsphinx": {
   "execute": "never"
  }
 },
 "nbformat": 4,
 "nbformat_minor": 5
}

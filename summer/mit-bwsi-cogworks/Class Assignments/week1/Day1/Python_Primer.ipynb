{
 "cells": [
  {
   "cell_type": "markdown",
   "id": "f1111bc9",
   "metadata": {},
   "source": [
    "# Best Practices in Python\n",
    "\n",
    "~1.5 hours"
   ]
  },
  {
   "cell_type": "markdown",
   "id": "ad49caeb",
   "metadata": {},
   "source": [
    "* Jupyter Notebook:\n",
    "  * Command vs Edit mode\n",
    "  * markdown vs code cells\n",
    "  * autocomplete\n",
    "  * function hints"
   ]
  },
  {
   "cell_type": "markdown",
   "id": "dfc8f1bc",
   "metadata": {},
   "source": [
    "* Tips we're covering\n",
    "  * concise/readable Python\n",
    "  * things that might trip you up\n",
    "  * fundamentals of numpy"
   ]
  },
  {
   "cell_type": "markdown",
   "id": "b9f10384",
   "metadata": {},
   "source": [
    "# tuple unpacking and enumeration"
   ]
  },
  {
   "cell_type": "code",
   "execution_count": null,
   "id": "9d3cb8f6",
   "metadata": {},
   "outputs": [],
   "source": [
    "names = [\"a\", \"b\", \"c\"]"
   ]
  },
  {
   "cell_type": "code",
   "execution_count": null,
   "id": "d5178416",
   "metadata": {},
   "outputs": [],
   "source": [
    "# say we want to capitalize each name in a list\n",
    "\n",
    "# common way:\n",
    "capital_names = []\n",
    "for i in range(len(names)):\n",
    "    capital_names.append(names[i].capitalize())\n",
    "print(capital_names)"
   ]
  },
  {
   "cell_type": "code",
   "execution_count": null,
   "id": "b94085dc",
   "metadata": {},
   "outputs": [],
   "source": [
    "# better way\n",
    "capital_names = {}\n",
    "\n",
    "# what does enumerate do?\n",
    "for i, name in enumerate(names):\n",
    "    print(i,name)\n",
    "    \n",
    "for i, name in enumerate(names):\n",
    "    capital_names[i] = name.capitalize()\n",
    "print(capital_names)\n",
    "\n",
    "# enumerate takes an iterable object, and returns an index and each element of the iterable\n",
    "# whenever you see yourself using range(len(x)), decent chance you actually want to just use enumerate"
   ]
  },
  {
   "cell_type": "code",
   "execution_count": null,
   "id": "92fe681f",
   "metadata": {},
   "outputs": [],
   "source": [
    "# what's happening?\n",
    "\n",
    "print(list(enumerate(names)))\n",
    "print(\"\")\n",
    "\n",
    "# this for loop packs tuples of index/item pairs\n",
    "for item in enumerate(names):\n",
    "    print(item)\n",
    "\n",
    "print(\"\")\n",
    "\n",
    "# this for loop immediately unpacks each tuple\n",
    "for i, name in enumerate(names):\n",
    "    print(i, name)\n"
   ]
  },
  {
   "cell_type": "code",
   "execution_count": null,
   "id": "26ceefd9",
   "metadata": {},
   "outputs": [],
   "source": [
    "# similar example using zip\n",
    "\n",
    "countries = [\"Algeria\", \"Bhutan\", \"Chad\"]\n",
    "\n",
    "# bad\n",
    "for i in range(len(names)):\n",
    "    print(names[i], countries[i])\n",
    "print(\"\")\n",
    "\n",
    "# maybe better?\n",
    "for i, name in enumerate(names):\n",
    "    print(name, countries[i])\n",
    "print(\"\")\n",
    "\n",
    "# better\n",
    "for temp in zip(names, countries):\n",
    "    print(temp)\n",
    "print(\"\")\n",
    "\n",
    "for name, country in zip(names, countries):\n",
    "    print(name, country)\n",
    "\n",
    "# no indices at all, directly accessing items"
   ]
  },
  {
   "cell_type": "markdown",
   "id": "d77d592b",
   "metadata": {},
   "source": [
    "# list comprehensions"
   ]
  },
  {
   "cell_type": "code",
   "execution_count": null,
   "id": "39643d09",
   "metadata": {},
   "outputs": [],
   "source": [
    "items = []\n",
    "\n",
    "for n in range(100):\n",
    "    items.append(n**2)\n",
    "print(items)"
   ]
  },
  {
   "cell_type": "code",
   "execution_count": null,
   "id": "2ad4a74c",
   "metadata": {},
   "outputs": [],
   "source": [
    "# more concise\n",
    "\n",
    "items = [n**2 for n in range(100)]\n",
    "print(items)\n",
    "\n",
    "# list comprehension basically says \"make a list where each item is the square of the set of numbers in this range\""
   ]
  },
  {
   "cell_type": "code",
   "execution_count": null,
   "id": "dce9aa7d",
   "metadata": {},
   "outputs": [],
   "source": [
    "# dictionary comprehension\n",
    "capital_names = {index: name.capitalize() for index, name in enumerate(names)}\n",
    "print(capital_names)"
   ]
  },
  {
   "cell_type": "markdown",
   "id": "ccec26f9",
   "metadata": {},
   "source": [
    "Oftentimes, if you can avoid using indices (or more generally, creating unecessary variables) the better. This way, you don't accidentally use an old index later on."
   ]
  },
  {
   "cell_type": "code",
   "execution_count": null,
   "id": "df618266",
   "metadata": {},
   "outputs": [],
   "source": [
    "# you can do filtered list comprehensions\n",
    "capital_names = {index: name.capitalize() for index, name in enumerate(names) if index%2 == 0}\n",
    "print(capital_names)"
   ]
  },
  {
   "cell_type": "code",
   "execution_count": null,
   "id": "3bfa2a90",
   "metadata": {},
   "outputs": [],
   "source": [
    "# squaring example\n",
    "items = []\n",
    "for n in range(100):\n",
    "    if n < 50 or n > 70:\n",
    "        items.append(n**2)\n",
    "print(items)\n",
    "\n",
    "print(\"\")\n",
    "items = [n**2 for n in range(100) if n < 50 or n > 70]\n",
    "print(items)"
   ]
  },
  {
   "cell_type": "code",
   "execution_count": null,
   "id": "2998fa99",
   "metadata": {},
   "outputs": [],
   "source": [
    "# you can do nested list comprehensions\n",
    "\n",
    "\n",
    "letter_country_combos = [(letter, country) for letter in names for country in countries]\n",
    "print(letter_country_combos)"
   ]
  },
  {
   "cell_type": "markdown",
   "id": "bf7c84a8",
   "metadata": {},
   "source": [
    "# inline if-else"
   ]
  },
  {
   "cell_type": "code",
   "execution_count": null,
   "id": "5bd46d27",
   "metadata": {},
   "outputs": [],
   "source": [
    "x = 10\n",
    "\n",
    "if x < 20:\n",
    "    y = 3\n",
    "else:\n",
    "    y = 33\n",
    "print(y)"
   ]
  },
  {
   "cell_type": "code",
   "execution_count": null,
   "id": "95704f7c",
   "metadata": {},
   "outputs": [],
   "source": [
    "y = 3 if x < 20 else 33\n",
    "print(y)"
   ]
  },
  {
   "cell_type": "markdown",
   "id": "a24a1489",
   "metadata": {},
   "source": [
    "alternating letters example"
   ]
  },
  {
   "cell_type": "code",
   "execution_count": null,
   "id": "d7d9d262",
   "metadata": {},
   "outputs": [],
   "source": [
    "letters = []\n",
    "for i in range(10):\n",
    "    if i % 2 == 0:\n",
    "        letters.append(\"a\")\n",
    "    else:\n",
    "        letters.append(\"b\")\n",
    "letters"
   ]
  },
  {
   "cell_type": "markdown",
   "id": "bb475146",
   "metadata": {},
   "source": [
    "using inline if-else"
   ]
  },
  {
   "cell_type": "code",
   "execution_count": null,
   "id": "0b0386c5",
   "metadata": {},
   "outputs": [],
   "source": [
    "letters = []\n",
    "for i in range(10):\n",
    "    letters.append(\"a\" if i % 2 == 0 else \"b\")\n",
    "letters"
   ]
  },
  {
   "cell_type": "markdown",
   "id": "82834838",
   "metadata": {},
   "source": [
    "using inline if-else and list comprehension"
   ]
  },
  {
   "cell_type": "code",
   "execution_count": null,
   "id": "640f40ab",
   "metadata": {},
   "outputs": [],
   "source": [
    "letters = [\"a\" if i % 2 == 0 else \"b\" for i in range(10)]\n",
    "letters"
   ]
  },
  {
   "cell_type": "markdown",
   "id": "57c20f11",
   "metadata": {},
   "source": [
    "# tuple unpacking"
   ]
  },
  {
   "cell_type": "code",
   "execution_count": null,
   "id": "4ca4f28f",
   "metadata": {},
   "outputs": [],
   "source": [
    "a, b = (1, 2)"
   ]
  },
  {
   "cell_type": "code",
   "execution_count": null,
   "id": "092d9c69",
   "metadata": {},
   "outputs": [],
   "source": [
    "start_step_step = (1, 10, 2)"
   ]
  },
  {
   "cell_type": "code",
   "execution_count": null,
   "id": "a4126c6c",
   "metadata": {},
   "outputs": [],
   "source": [
    "range(start_step_step)  # show that this errors"
   ]
  },
  {
   "cell_type": "code",
   "execution_count": null,
   "id": "5fb11495",
   "metadata": {},
   "outputs": [],
   "source": [
    "range(*start_step_step)"
   ]
  },
  {
   "cell_type": "markdown",
   "id": "d9701ef0",
   "metadata": {},
   "source": [
    "# negative indexing"
   ]
  },
  {
   "cell_type": "code",
   "execution_count": null,
   "id": "776d3c20",
   "metadata": {},
   "outputs": [],
   "source": [
    "# access elements from the end of a list\n",
    "countries"
   ]
  },
  {
   "cell_type": "code",
   "execution_count": null,
   "id": "c89d3f3f",
   "metadata": {},
   "outputs": [],
   "source": [
    "countries[0]"
   ]
  },
  {
   "cell_type": "code",
   "execution_count": null,
   "id": "99316dd0",
   "metadata": {},
   "outputs": [],
   "source": [
    "countries[-1]"
   ]
  },
  {
   "cell_type": "code",
   "execution_count": null,
   "id": "4a5b48c8",
   "metadata": {},
   "outputs": [],
   "source": [
    "# good for if you have a list of unknown size\n",
    "# also avoids something like\n",
    "countries[len(countries)-1]"
   ]
  },
  {
   "cell_type": "code",
   "execution_count": null,
   "id": "f9db3a8e",
   "metadata": {},
   "outputs": [],
   "source": [
    "# negative index slicing\n",
    "\n",
    "countries[-2:]"
   ]
  },
  {
   "cell_type": "code",
   "execution_count": null,
   "id": "c0eb40cb",
   "metadata": {},
   "outputs": [],
   "source": [
    "# numerical example - rolling average of the last n elements (similar to the relaxation method hw)\n",
    "\n",
    "x = list(range(100))\n",
    "\n",
    "def average_last_n(some_list, n):\n",
    "    return sum(some_list[-n:])/n\n",
    "\n",
    "average_last_n(x,20)"
   ]
  },
  {
   "cell_type": "markdown",
   "id": "c641ae99",
   "metadata": {},
   "source": [
    "# f-strings"
   ]
  },
  {
   "cell_type": "code",
   "execution_count": null,
   "id": "e559df5f",
   "metadata": {},
   "outputs": [],
   "source": [
    "cows_count = 99\n",
    "chickens_count = 42\n",
    "\n",
    "# I want to print \"I have 99 cows and 42 chickens\"\n",
    "# I want to print \"I have [99+42] animals\"\n",
    "\n",
    "# bad - have to do casting and keep track of spaces\n",
    "print(\"I have \" + str(cows_count) + \" cows and \" + str(chickens_count) + \" chickens\")\n",
    "\n",
    "# better - no casting, but now you have to remember that a space is added automatically\n",
    "# also, still annoying to read\n",
    "print(\"I have\", cows_count, \"cows and\", chickens_count, \"chickens\")\n",
    "\n",
    "# best in most cases\n",
    "# no casting, explicit spaces, easiest to reach\n",
    "print(f\"I have {cows_count} cows and {chickens_count} chickens\")\n",
    "\n",
    "# can also do operations inside the curly braces!\n",
    "print(f\"I have {cows_count+chickens_count} animals\")\n"
   ]
  },
  {
   "cell_type": "markdown",
   "id": "16ad0a60",
   "metadata": {},
   "source": [
    "# Numpy"
   ]
  },
  {
   "cell_type": "markdown",
   "id": "ec4a403b",
   "metadata": {},
   "source": [
    "Numpy is an extremely useful and commonly-used library. It's the backbone of just about all scientific and machine learning code in Python."
   ]
  },
  {
   "cell_type": "markdown",
   "id": "c88d98c1",
   "metadata": {},
   "source": [
    "## Vectorization"
   ]
  },
  {
   "cell_type": "code",
   "execution_count": 1,
   "id": "3886947c",
   "metadata": {},
   "outputs": [],
   "source": [
    "import numpy as np\n"
   ]
  },
  {
   "cell_type": "code",
   "execution_count": 2,
   "id": "88d19b42",
   "metadata": {},
   "outputs": [
    {
     "data": {
      "text/plain": [
       "[1.0,\n",
       " 2.718281828459045,\n",
       " 7.38905609893065,\n",
       " 20.085536923187668,\n",
       " 54.598150033144236,\n",
       " 148.4131591025766,\n",
       " 403.4287934927351,\n",
       " 1096.6331584284585,\n",
       " 2980.9579870417283,\n",
       " 8103.083927575384]"
      ]
     },
     "execution_count": 2,
     "metadata": {},
     "output_type": "execute_result"
    }
   ],
   "source": [
    "# skip\n",
    "\n",
    "# for-loop exponentiation\n",
    "\n",
    "items = []\n",
    "for i in range(10):\n",
    "    items.append(np.exp(i))\n",
    "items"
   ]
  },
  {
   "cell_type": "code",
   "execution_count": 11,
   "id": "df971a2d",
   "metadata": {},
   "outputs": [
    {
     "name": "stdout",
     "output_type": "stream",
     "text": [
      "18.5 ms ± 1.93 ms per loop (mean ± std. dev. of 7 runs, 10 loops each)\n"
     ]
    }
   ],
   "source": [
    "%%timeit       # needs to be at the very start of the cell, no code or comments above it\n",
    "\n",
    "# list comprehension\n",
    "[np.exp(1) for i in range(10000)]\n"
   ]
  },
  {
   "cell_type": "markdown",
   "id": "31bc8568",
   "metadata": {},
   "source": [
    "In the general form above, np.exp() has to figure out what type i is at every iteration before acting on it."
   ]
  },
  {
   "cell_type": "code",
   "execution_count": 13,
   "id": "14d17836",
   "metadata": {},
   "outputs": [
    {
     "name": "stdout",
     "output_type": "stream",
     "text": [
      "108 µs ± 5.63 µs per loop (mean ± std. dev. of 7 runs, 10,000 loops each)\n"
     ]
    }
   ],
   "source": [
    "%%timeit\n",
    "\n",
    "# this performs the function np.exp() on \"element-wise,\" that is on each element handed to it\n",
    "np.exp(np.ones(10000))"
   ]
  },
  {
   "cell_type": "markdown",
   "id": "12af871e",
   "metadata": {},
   "source": [
    "In the vectorized from above, np.arange(10) is known by numpy to be a homogenous array, so there is much less overhead of figuring out typing and what to do with it when we hit np.exp. We actually get to take advantage of underlying, much fast C code."
   ]
  },
  {
   "cell_type": "code",
   "execution_count": 14,
   "id": "6aec958e",
   "metadata": {},
   "outputs": [],
   "source": [
    "# two-array example"
   ]
  },
  {
   "cell_type": "code",
   "execution_count": 21,
   "id": "6b1fbf85",
   "metadata": {
    "scrolled": true
   },
   "outputs": [
    {
     "name": "stdout",
     "output_type": "stream",
     "text": [
      "106 µs ± 1.89 µs per loop (mean ± std. dev. of 7 runs, 10,000 loops each)\n"
     ]
    }
   ],
   "source": [
    "%%timeit\n",
    "[xi*yi for xi, yi in zip(range(1000), range(1000,2000))]"
   ]
  },
  {
   "cell_type": "code",
   "execution_count": 20,
   "id": "506b45ab",
   "metadata": {},
   "outputs": [
    {
     "name": "stdout",
     "output_type": "stream",
     "text": [
      "3.88 µs ± 207 ns per loop (mean ± std. dev. of 7 runs, 100,000 loops each)\n"
     ]
    }
   ],
   "source": [
    "%%timeit\n",
    "np.arange(1000)*np.arange(1000,2000)\n",
    "\n",
    "# actually calls np.matmul under the hood"
   ]
  },
  {
   "cell_type": "markdown",
   "id": "8fbb46b9",
   "metadata": {},
   "source": [
    "## multi-dimensional arrays"
   ]
  },
  {
   "cell_type": "code",
   "execution_count": 25,
   "id": "990f1c78",
   "metadata": {},
   "outputs": [
    {
     "data": {
      "text/plain": [
       "array(10)"
      ]
     },
     "execution_count": 25,
     "metadata": {},
     "output_type": "execute_result"
    }
   ],
   "source": [
    "# 0D array (or a scalar)\n",
    "\n",
    "x = np.array(10)\n",
    "x"
   ]
  },
  {
   "cell_type": "code",
   "execution_count": 27,
   "id": "be747de0",
   "metadata": {},
   "outputs": [
    {
     "data": {
      "text/plain": [
       "10"
      ]
     },
     "execution_count": 27,
     "metadata": {},
     "output_type": "execute_result"
    }
   ],
   "source": [
    "x.item()    # item() only works on a 0D array"
   ]
  },
  {
   "cell_type": "code",
   "execution_count": 32,
   "id": "1af65919",
   "metadata": {},
   "outputs": [
    {
     "data": {
      "text/plain": [
       "array([5, 4, 3, 2, 1])"
      ]
     },
     "execution_count": 32,
     "metadata": {},
     "output_type": "execute_result"
    }
   ],
   "source": [
    "# 1D array - only needs 1 index to uniquely point to any particular item\n",
    "\n",
    "x = np.array([5,4,3,2,1])\n",
    "x"
   ]
  },
  {
   "cell_type": "code",
   "execution_count": 48,
   "id": "3c108e4a",
   "metadata": {},
   "outputs": [
    {
     "name": "stdout",
     "output_type": "stream",
     "text": [
      "[0 1 2 3 4 5 6 7 8]\n",
      "[[0 1 2]\n",
      " [3 4 5]\n",
      " [6 7 8]]\n"
     ]
    }
   ],
   "source": [
    "# 2D array\n",
    "x = np.arange(9)\n",
    "print(x)\n",
    "\n",
    "x = x.reshape(3,3)\n",
    "print(x)"
   ]
  },
  {
   "cell_type": "code",
   "execution_count": 49,
   "id": "8a021523",
   "metadata": {},
   "outputs": [
    {
     "data": {
      "text/plain": [
       "7"
      ]
     },
     "execution_count": 49,
     "metadata": {},
     "output_type": "execute_result"
    }
   ],
   "source": [
    "x[2,1]      # remember that we are zero-indexed! - row 2 column 1"
   ]
  },
  {
   "cell_type": "code",
   "execution_count": 50,
   "id": "68b13d94",
   "metadata": {},
   "outputs": [
    {
     "name": "stdout",
     "output_type": "stream",
     "text": [
      "[[[ 0  1  2]\n",
      "  [ 3  4  5]\n",
      "  [ 6  7  8]]\n",
      "\n",
      " [[ 9 10 11]\n",
      "  [12 13 14]\n",
      "  [15 16 17]]\n",
      "\n",
      " [[18 19 20]\n",
      "  [21 22 23]\n",
      "  [24 25 26]]]\n"
     ]
    }
   ],
   "source": [
    "# 3D array\n",
    "x = np.arange(27).reshape(3,3,3)\n",
    "print(x)    # can think about these as \"sheets\" of 2D arrays - sheets, rows, columns"
   ]
  },
  {
   "cell_type": "code",
   "execution_count": 51,
   "id": "33a15d23",
   "metadata": {},
   "outputs": [
    {
     "data": {
      "text/plain": [
       "14"
      ]
     },
     "execution_count": 51,
     "metadata": {},
     "output_type": "execute_result"
    }
   ],
   "source": [
    "# how do we access the number 14?\n",
    "x[1,1,2]"
   ]
  },
  {
   "cell_type": "code",
   "execution_count": 52,
   "id": "c9c414e3",
   "metadata": {},
   "outputs": [],
   "source": [
    "# 4D!\n",
    "x = np.arange(3**4).reshape(3,3,3,3)"
   ]
  },
  {
   "cell_type": "code",
   "execution_count": 53,
   "id": "0f3ca503",
   "metadata": {},
   "outputs": [
    {
     "data": {
      "text/plain": [
       "65"
      ]
     },
     "execution_count": 53,
     "metadata": {},
     "output_type": "execute_result"
    }
   ],
   "source": [
    "x[2,1,0,2]"
   ]
  },
  {
   "cell_type": "code",
   "execution_count": 46,
   "id": "0c7fe015",
   "metadata": {},
   "outputs": [],
   "source": [
    "# what dimensionality would a \"stack\" of images be?\n",
    "# 3D if grayscale, 4D if RGB"
   ]
  },
  {
   "cell_type": "code",
   "execution_count": 54,
   "id": "91585fc2",
   "metadata": {},
   "outputs": [
    {
     "data": {
      "text/plain": [
       "array([[0, 1, 2],\n",
       "       [3, 4, 5],\n",
       "       [6, 7, 8]])"
      ]
     },
     "execution_count": 54,
     "metadata": {},
     "output_type": "execute_result"
    }
   ],
   "source": [
    "# slicing\n",
    "\n",
    "x = np.arange(9).reshape(3, 3)\n",
    "x"
   ]
  },
  {
   "cell_type": "code",
   "execution_count": 55,
   "id": "1682f01c",
   "metadata": {},
   "outputs": [
    {
     "data": {
      "text/plain": [
       "array([0, 1, 2])"
      ]
     },
     "execution_count": 55,
     "metadata": {},
     "output_type": "execute_result"
    }
   ],
   "source": [
    "x[0]"
   ]
  },
  {
   "cell_type": "code",
   "execution_count": 56,
   "id": "70a71420",
   "metadata": {},
   "outputs": [
    {
     "data": {
      "text/plain": [
       "array([0, 1, 2])"
      ]
     },
     "execution_count": 56,
     "metadata": {},
     "output_type": "execute_result"
    }
   ],
   "source": [
    "x[0,:]   # : means \"everything in this dimension\""
   ]
  },
  {
   "cell_type": "code",
   "execution_count": 59,
   "id": "31ecc679",
   "metadata": {},
   "outputs": [
    {
     "data": {
      "text/plain": [
       "array([3, 4, 5])"
      ]
     },
     "execution_count": 59,
     "metadata": {},
     "output_type": "execute_result"
    }
   ],
   "source": [
    "# what would x[1] be?\n",
    "x[1]\n",
    "\n",
    "# you can do this, though I find it helpful to have the [1,:] to remind yourself of the array dimensionality"
   ]
  },
  {
   "cell_type": "code",
   "execution_count": 60,
   "id": "0b1167bd",
   "metadata": {},
   "outputs": [
    {
     "data": {
      "text/plain": [
       "array([1, 4, 7])"
      ]
     },
     "execution_count": 60,
     "metadata": {},
     "output_type": "execute_result"
    }
   ],
   "source": [
    "x[:,1]"
   ]
  },
  {
   "cell_type": "code",
   "execution_count": 98,
   "id": "6559cf3b",
   "metadata": {},
   "outputs": [
    {
     "data": {
      "text/plain": [
       "array([[[ 0,  1,  2],\n",
       "        [ 3,  4,  5],\n",
       "        [ 6,  7,  8]],\n",
       "\n",
       "       [[ 9, 10, 11],\n",
       "        [12, 13, 14],\n",
       "        [15, 16, 17]],\n",
       "\n",
       "       [[18, 19, 20],\n",
       "        [21, 22, 23],\n",
       "        [24, 25, 26]]])"
      ]
     },
     "execution_count": 98,
     "metadata": {},
     "output_type": "execute_result"
    }
   ],
   "source": [
    "x = np.arange(27).reshape(3, 3, 3)\n",
    "x"
   ]
  },
  {
   "cell_type": "code",
   "execution_count": 99,
   "id": "6228623c",
   "metadata": {},
   "outputs": [
    {
     "data": {
      "text/plain": [
       "array([[ 2,  5,  8],\n",
       "       [11, 14, 17],\n",
       "       [20, 23, 26]])"
      ]
     },
     "execution_count": 99,
     "metadata": {},
     "output_type": "execute_result"
    }
   ],
   "source": [
    "# what would this give? x[:,:,2]     # remember - sheet, row, column\n",
    "\n",
    "x[:,:,2]"
   ]
  },
  {
   "cell_type": "code",
   "execution_count": 100,
   "id": "13900e77",
   "metadata": {},
   "outputs": [
    {
     "data": {
      "text/plain": [
       "array([[11, 14, 17],\n",
       "       [20, 23, 26]])"
      ]
     },
     "execution_count": 100,
     "metadata": {},
     "output_type": "execute_result"
    }
   ],
   "source": [
    "# slicing also works when there are multiple indices that aren't a single number of a \":\"\n",
    "x[1:, :, 2]"
   ]
  },
  {
   "cell_type": "code",
   "execution_count": 101,
   "id": "b0fbec70",
   "metadata": {},
   "outputs": [
    {
     "data": {
      "text/plain": [
       "array([[ 1,  7],\n",
       "       [10, 16],\n",
       "       [19, 25]])"
      ]
     },
     "execution_count": 101,
     "metadata": {},
     "output_type": "execute_result"
    }
   ],
   "source": [
    "# slicing with step sizes!\n",
    "# start:stop:stepsize\n",
    "\n",
    "x[:,0:3:2,1]   # all sheets, start at row 0, go up to but not including row 3, with a step size of 2, column 1"
   ]
  },
  {
   "cell_type": "code",
   "execution_count": 102,
   "id": "a785ca37",
   "metadata": {},
   "outputs": [
    {
     "data": {
      "text/plain": [
       "True"
      ]
     },
     "execution_count": 102,
     "metadata": {},
     "output_type": "execute_result"
    }
   ],
   "source": [
    "# can just use two colons, which default to start and end, allowing you to just specify a step size\n",
    "np.all(x[:,::2,1] == x[:,0:3:2,1])"
   ]
  },
  {
   "cell_type": "code",
   "execution_count": 103,
   "id": "23d70411",
   "metadata": {},
   "outputs": [
    {
     "data": {
      "text/plain": [
       "array([[[ 2,  1,  0],\n",
       "        [ 5,  4,  3],\n",
       "        [ 8,  7,  6]],\n",
       "\n",
       "       [[11, 10,  9],\n",
       "        [14, 13, 12],\n",
       "        [17, 16, 15]],\n",
       "\n",
       "       [[20, 19, 18],\n",
       "        [23, 22, 21],\n",
       "        [26, 25, 24]]])"
      ]
     },
     "execution_count": 103,
     "metadata": {},
     "output_type": "execute_result"
    }
   ],
   "source": [
    "# can do negative steps!\n",
    "x[:,:,::-1]            # reverses all columns in each row in each sheet"
   ]
  },
  {
   "cell_type": "code",
   "execution_count": 104,
   "id": "17649acc",
   "metadata": {},
   "outputs": [
    {
     "data": {
      "text/plain": [
       "array([[[26, 25, 24],\n",
       "        [23, 22, 21],\n",
       "        [20, 19, 18]],\n",
       "\n",
       "       [[17, 16, 15],\n",
       "        [14, 13, 12],\n",
       "        [11, 10,  9]],\n",
       "\n",
       "       [[ 8,  7,  6],\n",
       "        [ 5,  4,  3],\n",
       "        [ 2,  1,  0]]])"
      ]
     },
     "execution_count": 104,
     "metadata": {},
     "output_type": "execute_result"
    }
   ],
   "source": [
    "x[::-1,::-1,::-1]     # reverses the entire \"cube\" of numbers"
   ]
  },
  {
   "cell_type": "code",
   "execution_count": 106,
   "id": "d774ceed",
   "metadata": {},
   "outputs": [
    {
     "data": {
      "text/plain": [
       "array([[ 2,  5,  8],\n",
       "       [11, 14, 17],\n",
       "       [20, 23, 26]])"
      ]
     },
     "execution_count": 106,
     "metadata": {},
     "output_type": "execute_result"
    }
   ],
   "source": [
    "# ellipses - they fill in as many indices as needed to make the provided indices work\n",
    "\n",
    "x[...,2]"
   ]
  },
  {
   "cell_type": "code",
   "execution_count": 107,
   "id": "46f4a9da",
   "metadata": {},
   "outputs": [
    {
     "data": {
      "text/plain": [
       "True"
      ]
     },
     "execution_count": 107,
     "metadata": {},
     "output_type": "execute_result"
    }
   ],
   "source": [
    "np.all(x[...,2]==x[:,:,2])"
   ]
  },
  {
   "cell_type": "code",
   "execution_count": 108,
   "id": "ebb99697",
   "metadata": {},
   "outputs": [
    {
     "data": {
      "text/plain": [
       "array([[18, 19, 20],\n",
       "       [21, 22, 23],\n",
       "       [24, 25, 26]])"
      ]
     },
     "execution_count": 108,
     "metadata": {},
     "output_type": "execute_result"
    }
   ],
   "source": [
    "x[2,...]"
   ]
  },
  {
   "cell_type": "code",
   "execution_count": 109,
   "id": "c2b73db9",
   "metadata": {},
   "outputs": [
    {
     "ename": "IndexError",
     "evalue": "an index can only have a single ellipsis ('...')",
     "output_type": "error",
     "traceback": [
      "\u001b[1;31m---------------------------------------------------------------------------\u001b[0m",
      "\u001b[1;31mIndexError\u001b[0m                                Traceback (most recent call last)",
      "Cell \u001b[1;32mIn[109], line 1\u001b[0m\n\u001b[1;32m----> 1\u001b[0m \u001b[43mx\u001b[49m\u001b[43m[\u001b[49m\u001b[38;5;241;43m.\u001b[39;49m\u001b[38;5;241;43m.\u001b[39;49m\u001b[38;5;241;43m.\u001b[39;49m\u001b[43m,\u001b[49m\u001b[38;5;241;43m1\u001b[39;49m\u001b[43m,\u001b[49m\u001b[38;5;241;43m.\u001b[39;49m\u001b[38;5;241;43m.\u001b[39;49m\u001b[38;5;241;43m.\u001b[39;49m\u001b[43m]\u001b[49m\n",
      "\u001b[1;31mIndexError\u001b[0m: an index can only have a single ellipsis ('...')"
     ]
    }
   ],
   "source": [
    "x[...,1,...]    # this doesn't work!"
   ]
  },
  {
   "cell_type": "code",
   "execution_count": 83,
   "id": "4a044bc4",
   "metadata": {},
   "outputs": [],
   "source": [
    "# applications - flipping images!\n",
    "import matplotlib.pyplot as plt"
   ]
  },
  {
   "cell_type": "code",
   "execution_count": 92,
   "id": "0cfb0452",
   "metadata": {},
   "outputs": [
    {
     "data": {
      "text/plain": [
       "<matplotlib.image.AxesImage at 0x1f7faf05940>"
      ]
     },
     "execution_count": 92,
     "metadata": {},
     "output_type": "execute_result"
    },
    {
     "data": {
      "image/png": "[encoded data removed]",
      "text/plain": [
       "<Figure size 640x480 with 1 Axes>"
      ]
     },
     "metadata": {},
     "output_type": "display_data"
    }
   ],
   "source": [
    "x = np.arange(256).reshape(16,16)\n",
    "plt.imshow(x)"
   ]
  },
  {
   "cell_type": "code",
   "execution_count": 93,
   "id": "5646b9f8",
   "metadata": {},
   "outputs": [
    {
     "data": {
      "text/plain": [
       "<matplotlib.image.AxesImage at 0x1f7fadd01f0>"
      ]
     },
     "execution_count": 93,
     "metadata": {},
     "output_type": "execute_result"
    },
    {
     "data": {
      "image/png": "[encoded data removed]",
      "text/plain": [
       "<Figure size 640x480 with 1 Axes>"
      ]
     },
     "metadata": {},
     "output_type": "display_data"
    }
   ],
   "source": [
    "# flipped vertically\n",
    "plt.imshow(x[::-1,:])"
   ]
  },
  {
   "cell_type": "code",
   "execution_count": 94,
   "id": "1fd10e5a",
   "metadata": {},
   "outputs": [
    {
     "data": {
      "text/plain": [
       "<matplotlib.image.AxesImage at 0x1f7fae533d0>"
      ]
     },
     "execution_count": 94,
     "metadata": {},
     "output_type": "execute_result"
    },
    {
     "data": {
      "image/png": "[encoded data removed]",
      "text/plain": [
       "<Figure size 640x480 with 1 Axes>"
      ]
     },
     "metadata": {},
     "output_type": "display_data"
    }
   ],
   "source": [
    "# flipped horizontally\n",
    "plt.imshow(x[:,::-1])"
   ]
  },
  {
   "cell_type": "code",
   "execution_count": 95,
   "id": "107a552e",
   "metadata": {},
   "outputs": [
    {
     "data": {
      "text/plain": [
       "<matplotlib.image.AxesImage at 0x1f7fb0816a0>"
      ]
     },
     "execution_count": 95,
     "metadata": {},
     "output_type": "execute_result"
    },
    {
     "data": {
      "image/png": "[encoded data removed]",
      "text/plain": [
       "<Figure size 640x480 with 1 Axes>"
      ]
     },
     "metadata": {},
     "output_type": "display_data"
    }
   ],
   "source": [
    "# transpose (flipped along diagonal)\n",
    "plt.imshow(x.T)"
   ]
  },
  {
   "cell_type": "code",
   "execution_count": 120,
   "id": "38b71c5c",
   "metadata": {
    "scrolled": true
   },
   "outputs": [
    {
     "data": {
      "text/plain": [
       "array([[[   0,    1,    2],\n",
       "        [   3,    4,    5],\n",
       "        [   6,    7,    8],\n",
       "        ...,\n",
       "        [  87,   88,   89],\n",
       "        [  90,   91,   92],\n",
       "        [  93,   94,   95]],\n",
       "\n",
       "       [[  96,   97,   98],\n",
       "        [  99,  100,  101],\n",
       "        [ 102,  103,  104],\n",
       "        ...,\n",
       "        [ 183,  184,  185],\n",
       "        [ 186,  187,  188],\n",
       "        [ 189,  190,  191]],\n",
       "\n",
       "       [[ 192,  193,  194],\n",
       "        [ 195,  196,  197],\n",
       "        [ 198,  199,  200],\n",
       "        ...,\n",
       "        [ 279,  280,  281],\n",
       "        [ 282,  283,  284],\n",
       "        [ 285,  286,  287]],\n",
       "\n",
       "       ...,\n",
       "\n",
       "       [[2784, 2785, 2786],\n",
       "        [2787, 2788, 2789],\n",
       "        [2790, 2791, 2792],\n",
       "        ...,\n",
       "        [2871, 2872, 2873],\n",
       "        [2874, 2875, 2876],\n",
       "        [2877, 2878, 2879]],\n",
       "\n",
       "       [[2880, 2881, 2882],\n",
       "        [2883, 2884, 2885],\n",
       "        [2886, 2887, 2888],\n",
       "        ...,\n",
       "        [2967, 2968, 2969],\n",
       "        [2970, 2971, 2972],\n",
       "        [2973, 2974, 2975]],\n",
       "\n",
       "       [[2976, 2977, 2978],\n",
       "        [2979, 2980, 2981],\n",
       "        [2982, 2983, 2984],\n",
       "        ...,\n",
       "        [3063, 3064, 3065],\n",
       "        [3066, 3067, 3068],\n",
       "        [3069, 3070, 3071]]])"
      ]
     },
     "execution_count": 120,
     "metadata": {},
     "output_type": "execute_result"
    }
   ],
   "source": [
    "rgb_img = np.arange(32*32*3).reshape(32,32,3)     # H x W x channels\n",
    "rgb_img"
   ]
  },
  {
   "cell_type": "code",
   "execution_count": 121,
   "id": "0af8e249",
   "metadata": {},
   "outputs": [
    {
     "data": {
      "text/plain": [
       "array([[[   2,    1,    0],\n",
       "        [   5,    4,    3],\n",
       "        [   8,    7,    6],\n",
       "        ...,\n",
       "        [  89,   88,   87],\n",
       "        [  92,   91,   90],\n",
       "        [  95,   94,   93]],\n",
       "\n",
       "       [[  98,   97,   96],\n",
       "        [ 101,  100,   99],\n",
       "        [ 104,  103,  102],\n",
       "        ...,\n",
       "        [ 185,  184,  183],\n",
       "        [ 188,  187,  186],\n",
       "        [ 191,  190,  189]],\n",
       "\n",
       "       [[ 194,  193,  192],\n",
       "        [ 197,  196,  195],\n",
       "        [ 200,  199,  198],\n",
       "        ...,\n",
       "        [ 281,  280,  279],\n",
       "        [ 284,  283,  282],\n",
       "        [ 287,  286,  285]],\n",
       "\n",
       "       ...,\n",
       "\n",
       "       [[2786, 2785, 2784],\n",
       "        [2789, 2788, 2787],\n",
       "        [2792, 2791, 2790],\n",
       "        ...,\n",
       "        [2873, 2872, 2871],\n",
       "        [2876, 2875, 2874],\n",
       "        [2879, 2878, 2877]],\n",
       "\n",
       "       [[2882, 2881, 2880],\n",
       "        [2885, 2884, 2883],\n",
       "        [2888, 2887, 2886],\n",
       "        ...,\n",
       "        [2969, 2968, 2967],\n",
       "        [2972, 2971, 2970],\n",
       "        [2975, 2974, 2973]],\n",
       "\n",
       "       [[2978, 2977, 2976],\n",
       "        [2981, 2980, 2979],\n",
       "        [2984, 2983, 2982],\n",
       "        ...,\n",
       "        [3065, 3064, 3063],\n",
       "        [3068, 3067, 3066],\n",
       "        [3071, 3070, 3069]]])"
      ]
     },
     "execution_count": 121,
     "metadata": {},
     "output_type": "execute_result"
    }
   ],
   "source": [
    "bgr_img = rgb_img[...,::-1]\n",
    "bgr_img"
   ]
  },
  {
   "cell_type": "code",
   "execution_count": null,
   "id": "ff0652e4",
   "metadata": {},
   "outputs": [],
   "source": [
    "# you don't need to import Python Image Library (PIL), or OpenCV, or any other image processing library to do these operations!\n",
    "\n",
    "# (sometimes Stack Overflow and ChatGPT will recommend them...)"
   ]
  },
  {
   "cell_type": "markdown",
   "id": "3396afcb",
   "metadata": {},
   "source": [
    "Note that whenever we index into a numpy array, we are getting a \"view\" of the data - a reference to it rather than a copy of it.\n",
    "\n",
    "Pro: no copying overhead\n",
    "Con: ?"
   ]
  },
  {
   "cell_type": "code",
   "execution_count": 137,
   "id": "1ae46274",
   "metadata": {},
   "outputs": [
    {
     "data": {
      "text/plain": [
       "array([[1., 1., 1.],\n",
       "       [1., 1., 1.],\n",
       "       [1., 1., 1.]])"
      ]
     },
     "execution_count": 137,
     "metadata": {},
     "output_type": "execute_result"
    }
   ],
   "source": [
    "x = np.ones([3,3])\n",
    "x"
   ]
  },
  {
   "cell_type": "code",
   "execution_count": 138,
   "id": "7c3dbcab",
   "metadata": {},
   "outputs": [
    {
     "data": {
      "text/plain": [
       "array([1., 1., 1.])"
      ]
     },
     "execution_count": 138,
     "metadata": {},
     "output_type": "execute_result"
    }
   ],
   "source": [
    "y = x[:,1]\n",
    "y"
   ]
  },
  {
   "cell_type": "code",
   "execution_count": 139,
   "id": "11f18e67",
   "metadata": {},
   "outputs": [
    {
     "data": {
      "text/plain": [
       "array([5., 5., 5.])"
      ]
     },
     "execution_count": 139,
     "metadata": {},
     "output_type": "execute_result"
    }
   ],
   "source": [
    "y *= 5\n",
    "y"
   ]
  },
  {
   "cell_type": "code",
   "execution_count": 140,
   "id": "3f2d4b75",
   "metadata": {},
   "outputs": [
    {
     "data": {
      "text/plain": [
       "array([[1., 5., 1.],\n",
       "       [1., 5., 1.],\n",
       "       [1., 5., 1.]])"
      ]
     },
     "execution_count": 140,
     "metadata": {},
     "output_type": "execute_result"
    }
   ],
   "source": [
    "x"
   ]
  },
  {
   "cell_type": "code",
   "execution_count": 145,
   "id": "e33f874d",
   "metadata": {},
   "outputs": [],
   "source": [
    "# bad news, this also happens with functions!\n",
    "\n",
    "def mult_pi(A):\n",
    "    A[...,-1] *= np.pi\n",
    "    return A"
   ]
  },
  {
   "cell_type": "code",
   "execution_count": 146,
   "id": "bd858208",
   "metadata": {},
   "outputs": [
    {
     "data": {
      "text/plain": [
       "array([[1.        , 1.        , 3.14159265],\n",
       "       [1.        , 1.        , 3.14159265],\n",
       "       [1.        , 1.        , 3.14159265]])"
      ]
     },
     "execution_count": 146,
     "metadata": {},
     "output_type": "execute_result"
    }
   ],
   "source": [
    "x = np.ones([3,3])\n",
    "mult_pi(x)     # expected..."
   ]
  },
  {
   "cell_type": "code",
   "execution_count": 147,
   "id": "1b88c3cc",
   "metadata": {},
   "outputs": [
    {
     "data": {
      "text/plain": [
       "array([[1.        , 1.        , 3.14159265],\n",
       "       [1.        , 1.        , 3.14159265],\n",
       "       [1.        , 1.        , 3.14159265]])"
      ]
     },
     "execution_count": 147,
     "metadata": {},
     "output_type": "execute_result"
    }
   ],
   "source": [
    "x    # bad!"
   ]
  },
  {
   "cell_type": "code",
   "execution_count": 148,
   "id": "300d18e4",
   "metadata": {},
   "outputs": [],
   "source": [
    "# avoid this by not using in-place operations\n",
    "\n",
    "def mult_pi_plusplus(A):\n",
    "    return A[...,-1] * np.pi\n"
   ]
  },
  {
   "cell_type": "code",
   "execution_count": 149,
   "id": "940796ff",
   "metadata": {},
   "outputs": [
    {
     "data": {
      "text/plain": [
       "array([3.14159265, 3.14159265, 3.14159265])"
      ]
     },
     "execution_count": 149,
     "metadata": {},
     "output_type": "execute_result"
    }
   ],
   "source": [
    "x = np.ones([3,3])\n",
    "mult_pi_plusplus(x)    # expected..."
   ]
  },
  {
   "cell_type": "code",
   "execution_count": 150,
   "id": "4d8af557",
   "metadata": {},
   "outputs": [
    {
     "data": {
      "text/plain": [
       "array([[1., 1., 1.],\n",
       "       [1., 1., 1.],\n",
       "       [1., 1., 1.]])"
      ]
     },
     "execution_count": 150,
     "metadata": {},
     "output_type": "execute_result"
    }
   ],
   "source": [
    "x   # hooray!"
   ]
  }
 ],
 "metadata": {
  "kernelspec": {
   "display_name": "Python 3 (ipykernel)",
   "language": "python",
   "name": "python3"
  },
  "language_info": {
   "codemirror_mode": {
    "name": "ipython",
    "version": 3
   },
   "file_extension": ".py",
   "mimetype": "text/x-python",
   "name": "python",
   "nbconvert_exporter": "python",
   "pygments_lexer": "ipython3",
   "version": "3.8.16"
  }
 },
 "nbformat": 4,
 "nbformat_minor": 5
}

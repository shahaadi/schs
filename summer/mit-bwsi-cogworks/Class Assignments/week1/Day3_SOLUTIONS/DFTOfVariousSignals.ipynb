{
 "cells": [
  {
   "cell_type": "raw",
   "id": "9b507382",
   "metadata": {
    "raw_mimetype": "text/restructuredtext"
   },
   "source": [
    ".. meta::\n",
    "   :description: Topic: Discrete Fourier Transforms, Category: Exercises\n",
    "   :keywords: applications, examples, dft, Fourier spectrum"
   ]
  },
  {
   "cell_type": "markdown",
   "id": "8a982f52",
   "metadata": {},
   "source": [
    "<div class=\"alert alert-warning\">\n",
    "\n",
    "**Source Material**:\n",
    "\n",
    "The following exercises are adapted from Chapter 7 of [Mark Newman's book, \"Computational Physics\"](http://www-personal.umich.edu/~mejn/cp/)\n",
    "\n",
    "</div>\n"
   ]
  },
  {
   "cell_type": "markdown",
   "id": "0cc543ce",
   "metadata": {},
   "source": [
    "# Exercises: DFTs of Various Signals\n",
    "\n",
    "In this notebook, you will be generating samples from various functions, $f(t)$ over a given duration $t \\in [0, T)$ and for a specified number of samples $N$. I.e. the samples are $y_n = f(t_n)$. \n",
    "\n",
    "Then you will use the discrete Fourier transform to compute $(c_k)_{k=0}^{\\lfloor \\frac{N}{2} \\rfloor}$ for those samples, and then convert these to $(|a_k|)_{k=0}^{\\lfloor \\frac{N}{2} \\rfloor}$ and $(|\\varphi'_k|)_{k=0}^{\\lfloor \\frac{N}{2} \\rfloor}$\n",
    "\n",
    "You will plot both the sampled wave form of $f$ -- a scatter plot of $(t_n, y_n)$ -- and the Fourier spectrum of $f$ -- a histogram/stem chart of $(|a_k|)_{k=0}^{\\lfloor \\frac{N}{2} \\rfloor}$ vs $(|\\nu_k|)_{k=0}^{\\lfloor \\frac{N}{2} \\rfloor}$\n",
    "\n",
    "Make sure that your time values $t_n$ and frequencies $\\nu_k$ all have the appropriate physical units for the specified signal.\n",
    "E.g. most wave form plots should have \"seconds\" on the x axis, and most Fourier spectra should have \"1/seconds (Hz)\" on the x axis.\n",
    "\n",
    "For all problems, take $N = 1,000$ as the number of samples"
   ]
  },
  {
   "cell_type": "code",
   "execution_count": null,
   "id": "199c6d8f",
   "metadata": {},
   "outputs": [],
   "source": [
    "import numpy as np\n",
    "import matplotlib.pyplot as plt\n",
    "from typing import Tuple\n",
    "\n",
    "%matplotlib notebook"
   ]
  },
  {
   "cell_type": "markdown",
   "id": "e7c94309",
   "metadata": {},
   "source": [
    "(1.5.1) Generate $N=1,000$ samples of a **single period** of a square wave of amplitude $1$, whose period lasts for $5$ seconds. A square wave is like a sine-wave, except a square wave only takes on values of $1$ (wherever $\\sin(x)$ is positive) or $-1$ (wherever $\\sin(x)$ is negative). An example of eight samples of a single period of a square wave with amplitude 1 is:\n",
    "```\n",
    "[1, 1, 1, 1, -1, -1, -1, -1]\n",
    "```\n",
    "\n",
    "Also compute the Fourier coefficients, $(|a_k|)_{k=0}^{\\lfloor \\frac{N}{2} \\rfloor}$, for these samples.\n",
    "\n",
    "Plot the sampled wave form of this square wave versus time and plot the Fourier spectrum, $|a_{k}|$ vs $\\nu_{k}$.\n",
    "\n",
    "Here is some code that you can use to plot these side-by-side:\n",
    "\n",
    "```python\n",
    "fig, (ax1, ax2) = plt.subplots(ncols=2, figsize=(8, 4))\n",
    "ax1.plot(t, y, marker=\"o\")  # plot time (t) and waveform-samples (y)\n",
    "ax1.grid()\n",
    "ax1.set_xlabel(\"t (seconds)\")  # make sure `t` actually represents seconds!\n",
    "\n",
    "ax2.stem(freqs, amps, basefmt=\" \", use_line_collection=True) # plot frequency (freqs) and amplitudes (amps)\n",
    "ax2.set_xlim(0, 10)\n",
    "ax2.grid()\n",
    "ax2.set_ylabel(r\"$|a_{k}|$\")\n",
    "ax2.set_xlabel(r\"$\\nu_{k}$ (Hz)\")  # make sure `freqs` actually represents Hertz!\n",
    "fig.tight_layout()\n",
    "```\n",
    "\n"
   ]
  },
  {
   "cell_type": "code",
   "execution_count": null,
   "id": "9e5c8f22",
   "metadata": {},
   "outputs": [],
   "source": [
    "# <COGINST>\n",
    "\n",
    "# copied from BasicsOfDFT\n",
    "def fourier_complex_to_real(\n",
    "    complex_coeffs: np.ndarray, N: int\n",
    ") -> Tuple[np.ndarray, np.ndarray]:\n",
    "    \"\"\"\n",
    "    Converts complex-valued Fourier coefficients (of\n",
    "    real-valued data) to the associated amplitudes and\n",
    "    phase-shifts of the real-valued sinusoids\n",
    "\n",
    "    Parameters\n",
    "    ----------\n",
    "    complex_coeffs : numpy.ndarray, shape-(N//2 + 1,)\n",
    "        The complex valued Fourier coefficients for k=0, 1, ...\n",
    "\n",
    "    N : int\n",
    "        The number of samples that the DFT was performed on.\n",
    "\n",
    "    Returns\n",
    "    -------\n",
    "    Tuple[numpy.ndarray, numpy.ndarray]\n",
    "        (amplitudes, phase-shifts)\n",
    "        Two real-valued, shape-(N//2 + 1,) arrays\n",
    "    \"\"\"\n",
    "    amplitudes = np.abs(complex_coeffs) / N\n",
    "\n",
    "    # |a_k| = 2 |c_k| / N for all k except for\n",
    "    # k=0 and k=N/2 (only if N is even)\n",
    "    # where |a_k| = |c_k| / N\n",
    "    amplitudes[1 : (-1 if N % 2 == 0 else None)] *= 2\n",
    "\n",
    "    phases = np.arctan2(-complex_coeffs.imag, complex_coeffs.real)\n",
    "    return amplitudes, phases\n",
    "\n",
    "\n",
    "T = 5\n",
    "N = 1000\n",
    "t = np.arange(N) / N * T\n",
    "y = [1] * (N // 2) + [-1] * (N // 2)  # generating the square wave samples\n",
    "\n",
    "fig, (ax1, ax2) = plt.subplots(ncols=2, figsize=(8, 4))\n",
    "ax1.plot(t, y, marker=\"o\")\n",
    "ax1.grid()\n",
    "ax1.set_xlabel(\"t (seconds)\")\n",
    "\n",
    "freqs = np.arange(len(y) // 2 + 1) / T\n",
    "amps, phases = fourier_complex_to_real(np.fft.rfft(y), N=N)\n",
    "\n",
    "ax2.stem(freqs, amps, basefmt=\" \", use_line_collection=True)\n",
    "ax2.set_xlim(0, 10)\n",
    "ax2.grid()\n",
    "ax2.set_ylabel(r\"$|a_{k}|$\")\n",
    "ax2.set_xlabel(r\"$\\nu_{k}$ (Hz)\")\n",
    "fig.tight_layout()\n",
    "# </COGINST>"
   ]
  },
  {
   "cell_type": "markdown",
   "id": "c3c1a538",
   "metadata": {},
   "source": [
    "(1.5.2) $f$ is a simple linear function $f(t) = t$ on $t \\in [0, 1000)$ seconds.\n",
    "Using $N = 1,000$ samples, plot both the sampled waveform and the Fourier spectrum,  $|a_{k}|$ vs $\\nu_{k}$."
   ]
  },
  {
   "cell_type": "code",
   "execution_count": null,
   "id": "26f70ae5",
   "metadata": {
    "lines_to_next_cell": 2
   },
   "outputs": [],
   "source": [
    "# <COGINST>\n",
    "fig, (ax1, ax2) = plt.subplots(ncols=2, figsize=(8, 4))\n",
    "\n",
    "N = 1000\n",
    "T = 1000\n",
    "t = np.arange(N) / N * T\n",
    "y = t\n",
    "\n",
    "ax1.plot(y)\n",
    "ax1.set_xlabel(\"t (s)\")\n",
    "\n",
    "freqs = np.arange(len(y) // 2 + 1) / T\n",
    "amps, phases = fourier_complex_to_real(np.fft.rfft(y), N=len(y))\n",
    "\n",
    "ax2.stem(freqs, amps, basefmt=\" \", use_line_collection=True)\n",
    "ax2.set_xlim(0, 0.11)\n",
    "ax2.grid()\n",
    "ax2.set_ylabel(r\"$|a_{k}|$\")\n",
    "ax2.set_xlabel(r\"$\\nu_{k}$ (Hz)\")\n",
    "fig.tight_layout()\n",
    "# </COGINST>"
   ]
  },
  {
   "cell_type": "markdown",
   "id": "fef27e04",
   "metadata": {},
   "source": [
    "(1.5.3) $f$ is the modulated wave: $\\sin\\!\\big(2\\pi\\frac{1}{2Q}t\\big) \\sin\\!\\big(2 \\pi\\frac{10}{Q}t\\big)$, where $Q=5\\:\\mathrm{seconds}$.\n",
    "Sample this signal starting from $t=0$ **over one period of the lower-frequency term (a.k.a the modulating term):** $\\sin\\!\\big(2\\pi\\frac{1}{2Q}t\\big)$, using $N = 1,000$ samples.\n",
    "\n",
    "- What are the frequencies of the respective terms in our modulated wave, in Hz? \n",
    "- Do you expect that these two frequencies present in the Fourier spectrum? Why might we expect for different frequencies to be prominent in our series (hint: compare the functional form of this waveform to that of a Fourier series)?\n",
    "- Use the relationship $\\sin{(a)}\\sin{(b)}=\\frac{1}{2}(\\cos{(a-b)} - \\cos{(a+b)})$ to rewrite this modulated wave as a sum of cosines.\n",
    "From this, predict the number, locations, and heights of the peaks in your Fourier spectrum.\n",
    "- Plot the wave form vs time and plot the Fourier spectrum, $|a_{k}|$ vs $\\nu_{k}$.\n",
    "Be sure to zoom in on your peaks and check that they are located where you expect them to be.\n",
    "\n",
    "> <COGINST> 1.5.3 Solution:\n",
    ">    \n",
    "> - The frequencies of the terms in the waveform are $\\frac{1}{10}\\:\\mathrm{Hz}$ and $2\\:\\mathrm{Hz}$, respectively\n",
    "> - The modulated waveform consists of a **product** of sine-waves, whereas our Fourier series represents a **sum** of waves.\n",
    "> We shouldn't expect that a product of waves should be reproduced by a sum of waves of the same frequencies. \n",
    "> - By the given identity, $\\sin\\!\\big(\\frac{\\pi t}{5}\\big) \\sin\\big(\\frac{20 \\pi t}{5}\\big)=\\frac{1}{2}\\big(\\cos{\\big(2\\pi\\frac{19}{10}t\\big)} - \\cos{\\big(2\\pi\\frac{21}{10}t\\big)}\\big)$.\n",
    "> Thus we should see two distinct peaks, one at $1.9\\;\\mathrm{Hz}$ and one at $2.1\\;\\mathrm{Hz}$.\n",
    "> Both peaks should have a height of $0.5$. </COGINST>"
   ]
  },
  {
   "cell_type": "code",
   "execution_count": null,
   "id": "92a1cf7d",
   "metadata": {},
   "outputs": [],
   "source": [
    "# <COGINST>\n",
    "fig, (ax1, ax2) = plt.subplots(ncols=2, figsize=(8, 4))\n",
    "\n",
    "Q = 5\n",
    "freq_mod_term = 1 / (2 * Q)\n",
    "period_mod_term = 1 / freq_mod_term\n",
    "\n",
    "T = period_mod_term  # duration is one period\n",
    "\n",
    "N = 1000\n",
    "t = np.arange(N) * T / N\n",
    "y = np.sin(2 * np.pi / (2 * Q) * t) * np.sin(2 * np.pi * 10 / Q * t)\n",
    "ax1.plot(t, y)\n",
    "ax1.grid()\n",
    "ax1.set_xlabel(\"t (seconds)\")\n",
    "\n",
    "freqs = np.arange(len(y) // 2 + 1) / T\n",
    "amps, phases = fourier_complex_to_real(np.fft.rfft(y), N=len(y))\n",
    "\n",
    "ax2.stem(freqs, amps, basefmt=\" \", use_line_collection=True)\n",
    "ax2.set_xlim(1, 3)\n",
    "ax2.grid()\n",
    "ax2.set_ylabel(r\"$|a_{k}|$\")\n",
    "ax2.set_xlabel(r\"$\\nu_{k}$ (Hz)\")\n",
    "fig.tight_layout()\n",
    "# </COGINST>"
   ]
  },
  {
   "cell_type": "markdown",
   "id": "39843302",
   "metadata": {},
   "source": [
    "(1.5.4) $f$ is a signal that produced uniform random noise on $[-1, 1)$. `np.random.rand` generates random numbers on $[0, 1)$. Define a Python function `noise`:\n",
    "\n",
    "```python\n",
    "def noise(t: np.ndarray) -> np.ndarray:\n",
    "    # t is a shape-(N,) array\n",
    "    # Use np.random.rand to draw a shape-(N,)\n",
    "    # array of uniform random numbers on [0, 1)\n",
    "    #\n",
    "    # Modify these numbers so that they instead fall\n",
    "    # on the range [-1, 1)\n",
    "    #\n",
    "    # return these random samples\n",
    "```\n",
    "\n",
    "Use this to generate $N = 1,000$ samples of a noisy signal last for $5$ seconds. Plot the sampled wave form and Fourier spectrum.\n",
    "Do you see any pattern in the Fourier spectrum?"
   ]
  },
  {
   "cell_type": "code",
   "execution_count": null,
   "id": "9ffe5afd",
   "metadata": {},
   "outputs": [],
   "source": [
    "# <COGINST>\n",
    "def noise(t: np.ndarray) -> np.ndarray:\n",
    "    return 2 * (np.random.rand(*t.shape) - 0.5)\n",
    "\n",
    "\n",
    "T = 5\n",
    "N = 1000\n",
    "t = np.arange(N) / N * T\n",
    "y = noise(t)\n",
    "freqs = np.arange(len(y) // 2 + 1) / T\n",
    "amps, phases = fourier_complex_to_real(np.fft.rfft(y), N=len(y))\n",
    "\n",
    "\n",
    "fig, (ax1, ax2) = plt.subplots(ncols=2, figsize=(8, 4))\n",
    "\n",
    "ax1.plot(t, y)\n",
    "ax1.grid()\n",
    "ax1.set_xlabel(\"t (seconds)\")\n",
    "\n",
    "freqs = np.arange(len(y) // 2 + 1) / T\n",
    "amps, phases = fourier_complex_to_real(np.fft.rfft(y), N=len(y))\n",
    "\n",
    "ax2.stem(freqs, amps, basefmt=\" \", use_line_collection=True)\n",
    "ax2.grid()\n",
    "ax2.set_ylabel(r\"$|a_{k}|$\")\n",
    "ax2.set_xlabel(r\"$\\nu_{k}$ (Hz)\")\n",
    "fig.tight_layout()\n",
    "# </COGINST>"
   ]
  }
 ],
 "metadata": {
  "jupytext": {
   "main_language": "python",
   "notebook_metadata_filter": "nbsphinx,-kernelspec"
  },
  "kernelspec": {
   "display_name": "Python 3 (ipykernel)",
   "language": "python",
   "name": "python3"
  },
  "language_info": {
   "codemirror_mode": {
    "name": "ipython",
    "version": 3
   },
   "file_extension": ".py",
   "mimetype": "text/x-python",
   "name": "python",
   "nbconvert_exporter": "python",
   "pygments_lexer": "ipython3",
   "version": "3.8.17"
  },
  "nbsphinx": {
   "execute": "never"
  }
 },
 "nbformat": 4,
 "nbformat_minor": 5
}

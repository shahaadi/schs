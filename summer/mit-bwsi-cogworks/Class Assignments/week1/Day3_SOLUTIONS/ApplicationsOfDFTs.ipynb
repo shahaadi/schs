{
 "cells": [
  {
   "cell_type": "raw",
   "id": "9ebe1877",
   "metadata": {
    "raw_mimetype": "text/restructuredtext"
   },
   "source": [
    ".. meta::\n",
    "   :description: Topic: Discrete Fourier Transforms, Category: Exercises\n",
    "   :keywords: applications, examples, dft, Fourier spectrum"
   ]
  },
  {
   "cell_type": "markdown",
   "id": "65bbcea5",
   "metadata": {},
   "source": [
    "<div class=\"alert alert-warning\">\n",
    "\n",
    "**Source Material**:\n",
    "\n",
    "The following exercises are adapted from Chapter 7 of [Mark Newman's book, \"Computational Physics\"](http://www-personal.umich.edu/~mejn/cp/)\n",
    "\n",
    "</div>\n"
   ]
  },
  {
   "cell_type": "markdown",
   "id": "8d6ecb4f",
   "metadata": {},
   "source": [
    "# Exercises: Applications of DFTs"
   ]
  },
  {
   "cell_type": "code",
   "execution_count": null,
   "id": "96658d6e",
   "metadata": {},
   "outputs": [],
   "source": [
    "import numpy as np\n",
    "import matplotlib.pyplot as plt\n",
    "from typing import Tuple\n",
    "\n",
    "%matplotlib notebook"
   ]
  },
  {
   "cell_type": "markdown",
   "id": "3b11e88e",
   "metadata": {},
   "source": [
    "### Sunspot Data Analysis \n",
    "\n",
    "(1.6.1a) Read in the `sunspots.txt` data as a 2-D array.\n",
    "This file contains the number of recorded sunspots in a given month over a timespan of hundreds of years.\n",
    "\n",
    "There are two columns of numbers (separated by tabs) in the data.\n",
    "The first column is the number of the recorded month.\n",
    "The second column is the number of sunspots recorded in that month. \n",
    "\n",
    "Use the following code to read in this data:\n",
    "\n",
    "```python\n",
    "with open(\"data/sunspots.txt\", \"r\") as F:\n",
    "    # Produces a shape-(N, 2) array\n",
    "    # column-0: month number\n",
    "    # column-1: count of sunspots that month\n",
    "    data = np.array([[float(i) for i in j.split('\\t')] for j in F])\n",
    "    \n",
    "```\n",
    "\n",
    "Once you read in the data, determine: how many months are accounted for in this dataset?\n",
    "What are the range (minimum and maximum) of number of sunspots per month recorded in this dataset?\n",
    "\n",
    "Plot this data with labeled axes."
   ]
  },
  {
   "cell_type": "code",
   "execution_count": null,
   "id": "1e181d80",
   "metadata": {},
   "outputs": [],
   "source": [
    "# <COGINST>\n",
    "with open(\"data/sunspots.txt\", \"r\") as F:\n",
    "    data = np.array([[float(i) for i in j.split(\"\\t\")] for j in F])\n",
    "\n",
    "print(f\"Total number of months: {len(data)}\")\n",
    "print(f\"Range of sunspot counts: {data[:, 1].min(), data[:, 1].max()}\")\n",
    "\n",
    "x = data[:, 0]\n",
    "y = data[:, 1]\n",
    "fig, ax = plt.subplots()\n",
    "\n",
    "ax.plot(x, y)\n",
    "ax.grid()\n",
    "ax.set_xlabel(\"Month\")\n",
    "ax.set_ylabel(\"Number of Sun Spots in Given Month\");\n",
    "# </COGINST>"
   ]
  },
  {
   "cell_type": "markdown",
   "id": "bb0a0a38",
   "metadata": {},
   "source": [
    "(1.6.1b) Estimate the frequency of the slowly-oscillating pattern in the data that manifests between the major peaks that we see in the plot.\n",
    "Do this by visual inspection (you can click on the box button in the bottom-left of the plot to do a box-zoom); determine roughly the number of months that separate consecutive peaks, and then convert this into a frequency (with units of 1/month).\n",
    "\n",
    "> 1.6.1b Solution: <COGINST>A peak occurs roughly every $100$ months.\n",
    "Thus the frequency is approximately $0.01$ [1/months]</COGINST>"
   ]
  },
  {
   "cell_type": "markdown",
   "id": "b8f2a5a9",
   "metadata": {},
   "source": [
    "(1.6.2) Take a DFT of this real-valued data and plot the Fourier spectrum, $|a_{k}|$ vs $\\nu_{k}$, to evaluate the periodicity of the data. Make sure your frequencies, $\\nu_{k}$, represent the appropriate physical units of `1/months`.\n",
    "\n",
    "Tips:\n",
    "- Figure out what the duration, $T$, of this data is (in months) (recall that the end-point is not included in the samples, so the duration might not be *quite* as straightforward as you might expect).\n",
    "- Determine the number of samples, $N$, in the dataset.\n",
    "- Compute $(c_k)_{k=0}^{\\lfloor \\frac{N}{2} \\rfloor}$ for the data and then convert these to $(|a_k|)_{k=0}^{\\lfloor \\frac{N}{2} \\rfloor}$ so that you can plot the Fourier spectrum.\n",
    "- Make sure you compute the appropriate $\\nu_k$ in `1/months` for each $|a_k|$."
   ]
  },
  {
   "cell_type": "code",
   "execution_count": null,
   "id": "35db9f4f",
   "metadata": {},
   "outputs": [],
   "source": [
    "# <COGINST>\n",
    "def fourier_complex_to_real(\n",
    "    complex_coeffs: np.ndarray, N: int\n",
    ") -> Tuple[np.ndarray, np.ndarray]:\n",
    "    \"\"\"\n",
    "    Converts complex-valued Fourier coefficients (of \n",
    "    real-valued data) to the associated amplitudes and \n",
    "    phase-shifts of the real-valued sinusoids\n",
    "    \n",
    "    Parameters\n",
    "    ----------\n",
    "    complex_coeffs : numpy.ndarray, shape-(N//2 + 1,)\n",
    "        The complex valued Fourier coefficients for k=0, 1, ...\n",
    "    \n",
    "    N : int\n",
    "        The number of samples that the DFT was performed on.\n",
    "    \n",
    "    Returns\n",
    "    -------\n",
    "    Tuple[numpy.ndarray, numpy.ndarray]\n",
    "        (amplitudes, phase-shifts)\n",
    "        Two real-valued, shape-(N//2 + 1,) arrays\n",
    "    \"\"\"\n",
    "    amplitudes = np.abs(complex_coeffs) / N\n",
    "\n",
    "    # |a_k| = 2 |c_k| / N for all k except for\n",
    "    # k=0 and k=N/2 (only if N is even)\n",
    "    # where |a_k| = |c_k| / N\n",
    "    amplitudes[1 : (-1 if N % 2 == 0 else None)] *= 2\n",
    "\n",
    "    phases = np.arctan2(-complex_coeffs.imag, complex_coeffs.real)\n",
    "    return amplitudes, phases\n",
    "\n",
    "\n",
    "fig, ax = plt.subplots()\n",
    "\n",
    "# Compute duration of \"signal\" based on DFT\n",
    "# sampling scheme. Recall that the end-point is not included\n",
    "# in the sampled\n",
    "T = x[-1] + (x[-1] - x[-2])\n",
    "freqs = np.arange(len(y) // 2 + 1) / T\n",
    "amps, phases = fourier_complex_to_real(np.fft.rfft(y), N=len(y))\n",
    "\n",
    "ax.stem(freqs, amps, basefmt=\" \", use_line_collection=True)\n",
    "ax.set_xlim(0, 0.05)\n",
    "ax.grid()\n",
    "ax.set_xlabel(r\"$\\nu_{k}$\" + \" (1 / month)\")\n",
    "ax.set_ylabel(\"Size of Variation in Sunspots\")\n",
    "ax.set_title(\"Fourier Spectrum of Sunspot Data\")\n",
    "fig.tight_layout()\n",
    "# </COGINST>"
   ]
  },
  {
   "cell_type": "markdown",
   "id": "37588756",
   "metadata": {},
   "source": [
    "(1.6.3) What is the cause of the large peak at $k = 0$?\n",
    "Study the form of the equation for the discrete Fourier transform, specifically for $c_{k=0}$.\n",
    "What is the simple relationship between $c_{k=0}$ and the data $({y_{n}})_{n=0}^{N-1}$?\n",
    "Uniformly adjust the sunspot data so that $c_{k=0} \\approx 0$ when you take the Fourier transform of this updated data, and plot the Fourier spectrum of the new data.\n",
    "\n",
    "> <COGINST> 1.6.3 Solution: The $c_{0}$ coefficient is simply equal to the sum of the sampled data.\n",
    "> Thus $0$-centering the data – subtracting each data point by the mean value of the samples – will remove this peak.\n",
    "> (The data can also be normalized between $-1$ and $1$ to reduce the magnitude of the coefficients.)</COGINST>"
   ]
  },
  {
   "cell_type": "code",
   "execution_count": null,
   "id": "f0a99aa4",
   "metadata": {},
   "outputs": [],
   "source": [
    "# <COGINST>\n",
    "fig, ax = plt.subplots()\n",
    "\n",
    "yp = y - y.mean()  # shift the data so that c_0 = 0\n",
    "amps, phases = fourier_complex_to_real(np.fft.rfft(yp), N=len(y))\n",
    "\n",
    "ax.stem(freqs, amps, basefmt=\" \", use_line_collection=True)\n",
    "ax.set_xlim(0, 0.05)\n",
    "ax.grid()\n",
    "ax.set_xlabel(r\"$\\nu_{k}$\" + \" (1 / month)\")\n",
    "ax.set_ylabel(\"Size of Variation in Sunspots\")\n",
    "ax.set_title(\"Fourier Spectrum of Sunspot Data (Zero-Centered)\")\n",
    "fig.tight_layout()\n",
    "# </COGINST>"
   ]
  },
  {
   "cell_type": "markdown",
   "id": "6e415b9f",
   "metadata": {},
   "source": [
    "Do you see a prominent peak in this Fourier spectrum in correspondence with the period that you estimated? Make sure to check your results with a neighbor or TA."
   ]
  },
  {
   "cell_type": "markdown",
   "id": "da06bd59",
   "metadata": {},
   "source": [
    "### Analyzing Audio Signals from Instruments"
   ]
  },
  {
   "cell_type": "markdown",
   "id": "9392c65a",
   "metadata": {},
   "source": [
    "(1.6.4) Read in the digital audio signal for a trumpet, from `data/trumpet.txt`, as an array of integers.\n",
    "This signal was recorded at a rate of $44,100\\;\\mathrm{Hz}$, which is the defacto standard for audio sampling (as implemented by Sony).\n",
    "\n",
    "You can read in the digital samples with the code:\n",
    "\n",
    "```python\n",
    "with open(\"data/trumpet.txt\", 'r') as R:\n",
    "    # each sample is written to a single line in the text file\n",
    "    # this reads them in as a single integer-valued numpy array\n",
    "    data = np.asarray([int(i) for i in R])\n",
    "```\n",
    "\n",
    "Plot the sampled data vs time. Be sure that the time values you use are calculated appropriately such that they reflect units of seconds. Label x axis appropriately.\n",
    "**There is too much data to be plotted, so plot only every 100th datapoint**."
   ]
  },
  {
   "cell_type": "code",
   "execution_count": null,
   "id": "29a4b978",
   "metadata": {},
   "outputs": [],
   "source": [
    "# plot signal\n",
    "# <COGINST>\n",
    "with open(\"data/trumpet.txt\", \"r\") as R:\n",
    "    data = np.asarray([int(i) for i in R])\n",
    "\n",
    "fig, ax = plt.subplots()\n",
    "t = np.arange(len(data)) / 44100\n",
    "ax.plot(t[::100], data[::100])\n",
    "ax.set_xlabel(\"Time (sec)\")\n",
    "ax.set_ylabel(\"Proportional to Pressure\")\n",
    "ax.set_title(\"Trumpet Waveform\")\n",
    "ax.grid(True)\n",
    "fig.tight_layout()\n",
    "# </COGINST>"
   ]
  },
  {
   "cell_type": "markdown",
   "id": "ba278590",
   "metadata": {},
   "source": [
    "Now, play the audio (using *all* of the data) using\n",
    "\n",
    "```python\n",
    "from IPython.display import Audio\n",
    "Audio(data, rate=???)  # <- specify the sampling rate for this data\n",
    "```"
   ]
  },
  {
   "cell_type": "code",
   "execution_count": null,
   "id": "afff2eda",
   "metadata": {},
   "outputs": [],
   "source": [
    "# playing audio signal\n",
    "# <COGINST>\n",
    "from IPython.display import Audio\n",
    "\n",
    "Audio(data, rate=44100)\n",
    "# </COGINST>"
   ]
  },
  {
   "cell_type": "markdown",
   "id": "a7aa3867",
   "metadata": {},
   "source": [
    "(1.6.5) Plot the Fourier spectrum, $|a_{k}|$ vs $\\nu_{k}$, for the first $10,000$ $k$-values.\n",
    "Be sure to use NumPy's fast Fourier transform (not the plain DFT) for real-valued data (`np.fft.rfft`). We are working with a lot of data, so the standard DFT would be slow.\n",
    "\n",
    "Make sure that the frequency values $\\nu_{k}$ are scaled to have the appropriate units (Hz). Tip: determine out the number of samples, $N$, and as well as the duration of the sample, $T$. Don't merely estimate $T$ based on the audio player. Compute the actual value; we have all required information to do so.\n",
    "\n",
    "\n",
    "Inspect Fourier spectrum -- [what notes are being played](http://www.phy.mtu.edu/~suits/notefreqs.html)?\n"
   ]
  },
  {
   "cell_type": "code",
   "execution_count": null,
   "id": "d950d029",
   "metadata": {},
   "outputs": [],
   "source": [
    "# <COGINST>\n",
    "\n",
    "# DFT sampling excludes endpoint of the data, so we need to\n",
    "# account for this when computing the duration. Thus the duration\n",
    "# is based on `len(data) + 1` samples.\n",
    "T = (len(data) + 1) / 44_100  # num samples / sample-rate -> duration (seconds)\n",
    "\n",
    "ck = np.fft.rfft(data)\n",
    "freqs = np.arange(len(data) // 2 + 1) / T\n",
    "amps, phases = fourier_complex_to_real(ck, N=len(data))\n",
    "\n",
    "fig, ax = plt.subplots()\n",
    "ax.stem(freqs[:10_000], amps[:10_000], basefmt=\" \", use_line_collection=True)\n",
    "# ax.set_yscale(\"log\")\n",
    "# ax.set_ylim(1, None)\n",
    "ax.grid(True)\n",
    "ax.set_xlabel(r\"$\\nu_{k}$\" + \" [Hz]\")\n",
    "ax.set_ylabel(\"Proportional to Pressure\")\n",
    "ax.set_title(\"Fourier Spectrum of Trumpet Data\")\n",
    "fig.tight_layout()\n",
    "# </COGINST>"
   ]
  },
  {
   "cell_type": "markdown",
   "id": "a42d5724",
   "metadata": {},
   "source": [
    "Let's try manipulating this audio signal via its Fourier coefficients.\n",
    "\n",
    "First, make a copy of the complex-valued Fourier coefficients, $(c_k)_{k=0}^{\\lfloor \\frac{N}{2} \\rfloor}$, to a new array. \n",
    "Then find all of the coefficient such that $|a_{k}| > 100$ and **set those complex-valued coefficients to 0**.\n",
    "Next, take the inverse Fourier transform (`np.fft.irfft`) of the now-modified set of complex-valued Fourier coefficients, to produce a \"mutated\" collection of samples $(y^{\\text{mutated}}_n)_{n=0}^{N-1}$.\n",
    "This is a new set of audio samples, but with those Fourier components removed from the samples!"
   ]
  },
  {
   "cell_type": "code",
   "execution_count": null,
   "id": "52a30e0a",
   "metadata": {},
   "outputs": [],
   "source": [
    "# <COGINST>\n",
    "new_ck = np.copy(ck)\n",
    "new_ck[amps > 100] = 0\n",
    "new_trumpet = np.fft.irfft(new_ck)\n",
    "# </COGINST>"
   ]
  },
  {
   "cell_type": "markdown",
   "id": "07b7eb30",
   "metadata": {},
   "source": [
    "The result of this is a mutated version of the digital trumpet signal.\n",
    "Plot the wave form of this mutated signal against time (seconds).\n",
    "\n",
    "**Only plot every $100^\\text{th}$ sample.**"
   ]
  },
  {
   "cell_type": "code",
   "execution_count": null,
   "id": "53dc8fc5",
   "metadata": {},
   "outputs": [],
   "source": [
    "# <COGINST>\n",
    "fig, ax = plt.subplots()\n",
    "t = np.arange(len(new_trumpet)) / 44100\n",
    "ax.plot(t[::100], new_trumpet[::100])\n",
    "ax.set_xlabel(\"Time (sec)\")\n",
    "ax.set_ylabel(\"Proportional to Pressure\")\n",
    "ax.set_title(\"Mutated Trumpet Waveform\")\n",
    "ax.grid(True)\n",
    "fig.tight_layout();\n",
    "# </COGINST>"
   ]
  },
  {
   "cell_type": "markdown",
   "id": "7dbc704b",
   "metadata": {},
   "source": [
    "Play the audio from mutated set of samples. The sampling rate for the `Audio` player is still $44,100$.\n",
    "\n",
    "Consider what filtering you performed on the Fourier coefficients and how this affected the audio sample.\n",
    "Does this make sense to you?\n",
    "Chat with a neighbor about this. "
   ]
  },
  {
   "cell_type": "code",
   "execution_count": null,
   "id": "20646eda",
   "metadata": {},
   "outputs": [],
   "source": [
    "Audio(new_trumpet, rate=44100) # <COGLINE>"
   ]
  },
  {
   "cell_type": "markdown",
   "id": "da2e03fd",
   "metadata": {},
   "source": [
    "(1.6.6) Repeat all of the steps of analysis that you did for the trumpet, but for the piano audio signal `\"data/piano.txt\"`. But feel free to be creative with how you ultimately mutate its audio.\n",
    "\n",
    "Consider plotting the Fourier spectrum for the piano on a log-amplitude (y) scale, with\n",
    "\n",
    "```python\n",
    "ax.set_yscale('log')\n",
    "ax.set_ylim(1, None)\n",
    "```"
   ]
  },
  {
   "cell_type": "code",
   "execution_count": null,
   "id": "06deeb32",
   "metadata": {},
   "outputs": [],
   "source": [
    "# plot signal\n",
    "# <COGINST>\n",
    "with open(\"data/piano.txt\", \"r\") as R:\n",
    "    data = np.asarray([int(i) for i in R])\n",
    "\n",
    "fig, ax = plt.subplots()\n",
    "ax.plot(data[::100])\n",
    "ax.set_xlabel(\"Time (sec)\")\n",
    "ax.set_title(\"Piano Waveform\")\n",
    "ax.set_ylabel(\"Proportional to Pressure\")\n",
    "ax.grid(True)\n",
    "fig.tight_layout()\n",
    "# </COGINST>"
   ]
  },
  {
   "cell_type": "code",
   "execution_count": null,
   "id": "6ec12a79",
   "metadata": {},
   "outputs": [],
   "source": [
    "# play audio signal\n",
    "Audio(data, rate=44100) # <COGLINE>"
   ]
  },
  {
   "cell_type": "code",
   "execution_count": null,
   "id": "61351743",
   "metadata": {},
   "outputs": [],
   "source": [
    "# fourier transform\n",
    "# <COGINST>\n",
    "ck = np.fft.rfft(data)\n",
    "T = (len(data) + 1) / 44100  # num samples / sample-rate -> duration (seconds)\n",
    "freqs = np.arange(len(data) // 2 + 1) / T\n",
    "amps, phases = fourier_complex_to_real(ck, N=len(data))\n",
    "\n",
    "fig, ax = plt.subplots()\n",
    "\n",
    "ax.stem(freqs[:10000], amps[:10000], basefmt=\" \", use_line_collection=True)\n",
    "ax.set_yscale(\"log\")\n",
    "ax.set_ylim(1, None)\n",
    "ax.grid(True)\n",
    "ax.set_title(\"Fourier Spectrum of Piano\")\n",
    "ax.set_xlabel(\"Frequency [Hz]\")\n",
    "ax.set_ylabel(\"Proportional to Pressure\")\n",
    "# </COGINST>"
   ]
  },
  {
   "cell_type": "code",
   "execution_count": null,
   "id": "5684878f",
   "metadata": {},
   "outputs": [],
   "source": [
    "# mutate signal\n",
    "# <COGINST>\n",
    "new_ck = np.copy(ck)\n",
    "new_ck[amps > 100] = 0\n",
    "new_piano = np.fft.irfft(new_ck)\n",
    "# </COGINST>\n",
    "\n",
    "# play audio signal\n",
    "Audio(new_piano, rate=44100) # <COGLINE>"
   ]
  },
  {
   "cell_type": "markdown",
   "id": "705b6c30",
   "metadata": {},
   "source": [
    "### Smoothing Stock Market Data"
   ]
  },
  {
   "cell_type": "markdown",
   "id": "f42cde76",
   "metadata": {},
   "source": [
    "(1.6.7) Read in the stock market data from `data/dow.txt`.\n",
    "Each data point corresponds to the **daily** closing value of the Dow Jones Industrial Average (starting in late 2006 and ending in late 2010).\n",
    "Use the following code to read in the data:\n",
    "\n",
    "```python\n",
    "with open(\"data/dow.txt\", 'r') as R:\n",
    "    # Each row of the txt file contains the closing value of the market in \"points\"\n",
    "    # This data is read in as a numpy array of floating point values\n",
    "    data = np.asarray([float(i) for i in R])\n",
    "```\n",
    "\n",
    "Plot the data on labeled axes."
   ]
  },
  {
   "cell_type": "code",
   "execution_count": null,
   "id": "1491c629",
   "metadata": {},
   "outputs": [],
   "source": [
    "# <COGINST>\n",
    "with open(\"data/dow.txt\", \"r\") as R:\n",
    "    data = np.asarray([float(i) for i in R])\n",
    "\n",
    "fig, ax = plt.subplots()\n",
    "ax.plot(data)\n",
    "ax.grid()\n",
    "ax.set_xlabel(\"Days\")\n",
    "ax.set_ylabel(\"Dow Jones Industrial Average\")\n",
    "# </COGINST>"
   ]
  },
  {
   "cell_type": "markdown",
   "id": "71f44755",
   "metadata": {},
   "source": [
    "(1.6.8a) Note that this data looks roughly like a single period of a sine-wave.\n",
    "By visually inspecting this plot, what, roughly, are the frequency and amplitude of this sine wave?\n",
    "Answer with appropriate units."
   ]
  },
  {
   "cell_type": "markdown",
   "id": "428328fb",
   "metadata": {},
   "source": [
    "> 1.6.8a Solution: <COGINST>The gross sinusoidal shape of the data has a frequency of $\\sim \\frac{1}{1000\\;\\text{days}}$ and an amplitude of $\\sim \\frac{13000 - 8000}{2} = 2,500\\;\\text{points}$\n",
    "</COGINST>"
   ]
  },
  {
   "cell_type": "markdown",
   "id": "ca1c9210",
   "metadata": {},
   "source": [
    "(1.6.8b) Perform an FFT on this real-valued data, and plot the Fourier spectrum for this data.\n",
    "The $\\nu_{k}$-axis should be scaled to be in units of $\\frac{1}{\\text{days}}$.\n",
    "Label your axes.\n",
    "\n",
    "Some tips:\n",
    "\n",
    "- Zero-center your data (such that its mean-value is $0$) so that $|a_0|$ doesn't dominate your Fourier spectrum\n",
    "- Plot on the domain $[0, 0.04]$ (units 1 / days) using `ax.set_xlim(0, 0.04)`\n",
    "\n",
    "Do you see a peak in correspondence to the sinusoidal form discussed in 1.6.8a?\n",
    "Does the frequency and amplitude of this prominent peak make sense?"
   ]
  },
  {
   "cell_type": "code",
   "execution_count": null,
   "id": "643e5826",
   "metadata": {},
   "outputs": [],
   "source": [
    "# <COGINST>\n",
    "\n",
    "# each sample corresponds to 1 day, so L is total number of days\n",
    "T = len(data) + 1\n",
    "\n",
    "ck = np.fft.rfft(data - data.mean())\n",
    "freqs = np.arange(len(ck)) / T  # frequency in 1 / days\n",
    "\n",
    "amps, phases = fourier_complex_to_real(ck, N=len(data))\n",
    "\n",
    "fig, ax = plt.subplots()\n",
    "\n",
    "ax.stem(freqs[:10000], amps[:10000], basefmt=\" \", use_line_collection=True)\n",
    "\n",
    "ax.set_xlabel(\"Frequency [1 / days]\")\n",
    "ax.set_ylabel(\"Amplitude [points]\")\n",
    "ax.set_title(\"Fourier Spectrum of Stock Market Data (Zero-Centered)\")\n",
    "ax.set_xlim(0, 0.04)\n",
    "ax.grid(True)\n",
    "# </COGINST>"
   ]
  },
  {
   "cell_type": "markdown",
   "id": "3946aa84",
   "metadata": {},
   "source": [
    "(1.6.9) We want to smooth this stock market data.\n",
    "We can do this by \"removing\" the high-frequency coefficients of its Fourier spectrum.\n",
    "Try zeroing-out the top $90\\%$ high-frequency complex-valued coefficients $c_k$, and then perform an inverse FFT using these altered coefficients.Plot these \"smoothed\" samples on top of a semi-transparent version of the original data (use the plot parameter `alpha=0.5`).\n",
    "\n",
    "Then repeat this process, but with zeroing out the top $98\\%$ coefficients.\n",
    "In both of these cases,**on what times scales are the fluctuations being filtered out?**\n",
    "\n",
    "> <COGINST> 1.6.9 Solution: `k[round(.1 * len(k))]` is the frequency after the $10\\%$ lowest frequencies.\n",
    "It is $\\sim 0.05\\;\\frac{1}{\\text{days}}$, which corresponds to fluctuations over the span of $20$ days. \n",
    "This is the lowest frequency that we will filter out. \n",
    "Thus, filtering out the top $90\\%$ of the coefficients removes all of the day-to-day fluctuations, up to the fluctuations over twenty-day spans.\n",
    "Repeating this analysis, filtering the top $98\\%$ coefficients extends this up to $100$-day fluctuations.</COGINST>"
   ]
  },
  {
   "cell_type": "code",
   "execution_count": null,
   "id": "c0956f20",
   "metadata": {},
   "outputs": [],
   "source": [
    "# filter top 90% high frequencies\n",
    "# <COGINST>\n",
    "ck = np.fft.rfft(data)\n",
    "ck[round(0.1 * len(ck)) :] = 0  # set all coefficients past the first 10% to 0\n",
    "smooth = np.fft.irfft(ck)\n",
    "\n",
    "fig, ax = plt.subplots()\n",
    "ax.plot(data, alpha=0.5, label=\"Original\")\n",
    "ax.plot(smooth, label=r\"Smoothed (up to $\\lambda=20$ days)\")\n",
    "ax.set_xlabel(\"Days\")\n",
    "ax.set_ylabel(\"Dow Jones Industrial Average\")\n",
    "ax.grid(True)\n",
    "ax.legend()\n",
    "# </COGINST>"
   ]
  },
  {
   "cell_type": "code",
   "execution_count": null,
   "id": "03808dd8",
   "metadata": {},
   "outputs": [],
   "source": [
    "# filter top 98% high frequencies\n",
    "# <COGINST>\n",
    "ck = np.fft.rfft(data)\n",
    "ck[round(0.02 * len(ck)) :] = 0\n",
    "smooth = np.fft.irfft(ck)\n",
    "\n",
    "fig, ax = plt.subplots()\n",
    "ax.plot(data, alpha=0.5, label=\"Original\")\n",
    "ax.plot(smooth, label=r\"Smoothed (up to $\\lambda=100$ days)\")\n",
    "ax.set_xlabel(\"Days\")\n",
    "ax.set_ylabel(\"Dow Jones Industrial Average\")\n",
    "ax.grid(True)\n",
    "ax.legend()\n",
    "# </COGINST>"
   ]
  },
  {
   "cell_type": "markdown",
   "id": "b81f21aa",
   "metadata": {},
   "source": [
    "(1.6.10) Now repeat this process but zero-out the bottom $10\\%$ **low-frequency** coefficients.\n",
    "What do you see?\n",
    "Why is there a huge down-shift in the recovered data? (Hint: recall the role of $c_{k=0}$).\n",
    "What would happen if you filtered out the bottom $10\\%$ low-frequency coefficients **except** for $c_{0}$?\n",
    "Try this.\n",
    "\n",
    ">  <COGINST>1.6.10 Solution: $c_{0}$ corresponds to the mean of the samples, thus setting it to $0$ will cause the mean of the resulting samples to be $0$.\n",
    "Filtering out the bottom $10\\%$ shifts the data down so that its mean is $0$, and it removes any fluctutions longer than a $20$-day span.\n",
    "Retaining $c_{0}$ will restore the mean value of the data.</COGINST>"
   ]
  },
  {
   "cell_type": "code",
   "execution_count": null,
   "id": "ac3db9ce",
   "metadata": {},
   "outputs": [],
   "source": [
    "# filter bottom 10% low frequencies\n",
    "# <COGINST>\n",
    "ck = np.fft.rfft(data)\n",
    "ck[: round(0.1 * len(ck))] = 0\n",
    "smooth = np.fft.irfft(ck)\n",
    "\n",
    "fig, ax = plt.subplots()\n",
    "ax.plot(data, alpha=0.5, label=\"Original\")\n",
    "ax.plot(smooth, label=r\"Filtered (Beyond $\\lambda=20$ days)\")\n",
    "ax.legend()\n",
    "ax.grid(True)\n",
    "ax.set_xlabel(\"Days\")\n",
    "ax.set_ylabel(\"Dow Jones Industrial Average\")\n",
    "# </COGINST>"
   ]
  },
  {
   "cell_type": "code",
   "execution_count": null,
   "id": "e9f26bb1",
   "metadata": {},
   "outputs": [],
   "source": [
    "# filter bottom 10% low frequencies, except c0\n",
    "# <COGINST>\n",
    "ck = np.fft.rfft(data)\n",
    "ck[1 : round(0.1 * len(ck))] = 0\n",
    "smooth = np.fft.irfft(ck)\n",
    "\n",
    "fig, ax = plt.subplots()\n",
    "ax.plot(data, alpha=0.5, label=\"Original\")\n",
    "ax.plot(smooth, label=r\"Filtered (Beyond $\\lambda=20$ days)\")\n",
    "ax.legend()\n",
    "ax.grid(True)\n",
    "ax.set_xlabel(\"Days\")\n",
    "ax.set_ylabel(\"Dow Jones Industrial Average\");\n",
    "# </COGINST>"
   ]
  }
 ],
 "metadata": {
  "jupytext": {
   "main_language": "python",
   "notebook_metadata_filter": "nbsphinx,-kernelspec"
  },
  "kernelspec": {
   "display_name": "Python 3 (ipykernel)",
   "language": "python",
   "name": "python3"
  },
  "language_info": {
   "codemirror_mode": {
    "name": "ipython",
    "version": 3
   },
   "file_extension": ".py",
   "mimetype": "text/x-python",
   "name": "python",
   "nbconvert_exporter": "python",
   "pygments_lexer": "ipython3",
   "version": "3.8.17"
  },
  "nbsphinx": {
   "execute": "never"
  }
 },
 "nbformat": 4,
 "nbformat_minor": 5
}

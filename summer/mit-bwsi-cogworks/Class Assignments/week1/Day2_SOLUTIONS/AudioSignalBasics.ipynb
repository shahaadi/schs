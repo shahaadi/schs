{
 "cells": [
  {
   "cell_type": "raw",
   "id": "b63235ea",
   "metadata": {
    "raw_mimetype": "text/restructuredtext"
   },
   "source": [
    ".. meta::\n",
    "    :description: Topic: Audio Processing, Category: Exercises\n",
    "    :keywords: sound wave, pressure, audio basics, temporal waveform"
   ]
  },
  {
   "cell_type": "markdown",
   "id": "899b5de3",
   "metadata": {},
   "source": [
    "# Exercises: Basics of Sound Waves"
   ]
  },
  {
   "cell_type": "code",
   "execution_count": null,
   "id": "6547319f",
   "metadata": {},
   "outputs": [],
   "source": [
    "import matplotlib.pyplot as plt\n",
    "import numpy as np\n",
    "\n",
    "%matplotlib notebook"
   ]
  },
  {
   "cell_type": "markdown",
   "id": "de697142",
   "metadata": {},
   "source": [
    "(1.1.1) Create a Python function that describes a pressure wave impinging on a microphone. \n",
    "Assume that the sound wave is a sustained, pure tone of frequency $f$ and amplitude $A$, and that $p(0) = 0$.\n",
    "Note that this function represents our *temporal waveform*: the function that you create is defined on a continuous domain.\n",
    "While this represents a continuous mathematical function, we must work with concrete numbers when plotting and analyzing these functions on a computer.\n",
    "Thus we will evaluate this function at a discrete set of times.\n",
    "\n",
    "Note that the following function signature makes use of [type hints](https://www.pythonlikeyoumeanit.com/Module5_OddsAndEnds/Writing_Good_Code.html#Type-Hinting). \n",
    "Furthermore, the arguments `amp` and `freq` come after the `*` character in the signature, which means that they are keyword-only arguments in our function. \n",
    "This is to prevent us from accidentally swapping numbers when we pass our numbers into it."
   ]
  },
  {
   "cell_type": "code",
   "execution_count": null,
   "id": "de080147",
   "metadata": {},
   "outputs": [],
   "source": [
    "def pressure(times: np.ndarray, *, amp: float, freq: float) -> np.ndarray:\n",
    "    \"\"\"Describes the temporal waveform of a pure tone impinging on a \n",
    "    microphone at times `times` (an array of times). The wave has \n",
    "    an amplitude `amp`, measured in Pascals, and a frequency \n",
    "    `freq`, measured in Hz.\n",
    "    \n",
    "    Parameters\n",
    "    ----------\n",
    "    times : numpy.ndarray, shape=(N,)\n",
    "        The times at which we want to evaluate the sound wave\n",
    "    \n",
    "    amp : float\n",
    "        The wave's amplitude (measured in Pascals - force per unit area)\n",
    "    \n",
    "    freq : float\n",
    "        The wave's frequency (measured in Hz - oscillations per second)\n",
    "    \n",
    "    Returns\n",
    "    -------\n",
    "    numpy.ndarray, shape=(N,)\n",
    "        The pressure at the microphone at times `t`\n",
    "\n",
    "    Notes\n",
    "    -----\n",
    "    We only care about the wave at a fixed location, at the microphone, \n",
    "    which is why we do not have any spatial component to our wave. \n",
    "    \"\"\"\n",
    "    # \n",
    "    # <COGINST>\n",
    "    return amp * np.sin(2 * np.pi * freq * times)\n",
    "    # </COGINST>"
   ]
  },
  {
   "cell_type": "markdown",
   "id": "a4341449",
   "metadata": {},
   "source": [
    "(1.1.2) As stated above, the function that you just wrote can be thought of as a representation of the temporal waveform that is recorded by our microphone: it represents the continuous fluctuations in air density associated with a sound wave.\n",
    "We can \"sample\" this function by evaluating the function at specific times. \n",
    "\n",
    "Evaluate the temporal waveform for a $C_{4}$-note ($261.63 \\:\\mathrm{Hz}$) played for $3$ seconds with an amplitude of $0.06\\:\\mathrm{Pascals}$ **using the sampling rate 44100 Hz (samples per second)**.\n",
    "That is, evaluate your function at evenly-spaced times according to this sampling rate for a time duration of $3$ seconds. \n",
    "\n",
    "You can compute the times at which you will evaluate your function using:\n",
    "\n",
    "```python\n",
    "duration = 3 # seconds\n",
    "sampling_rate = 44100 # Hz\n",
    "n_samples = int(duration * sampling_rate) + 1\n",
    "\n",
    "# the times at which you should sample your temporal waveform\n",
    "times = np.arange(n_samples) / sampling_rate  # seconds\n",
    "```\n",
    "\n",
    "You should ultimately produce an array, `c_4`, of pressure values associated with this pure tone.\n",
    "\n",
    "Include comments where appropriate to indicate the physical units of measurements associated with the quantities involved."
   ]
  },
  {
   "cell_type": "code",
   "execution_count": null,
   "id": "4671b3c0",
   "metadata": {},
   "outputs": [],
   "source": [
    "# <COGINST>\n",
    "amplitude = 0.06  # Pascals\n",
    "duration = 3 # seconds\n",
    "sampling_rate = 44100 # Hz\n",
    "n_samples = int(duration * sampling_rate) + 1\n",
    "\n",
    "times = np.arange(n_samples) / sampling_rate  # seconds\n",
    "freq = 261.63  # Hz\n",
    "c_4 = pressure(times, amp=amplitude, freq=freq)  # Pascals\n",
    "# </COGINST>"
   ]
  },
  {
   "cell_type": "markdown",
   "id": "359ebdbc",
   "metadata": {},
   "source": [
    "Play the $3$-second audio using\n",
    "\n",
    "```python\n",
    "from IPython.display import Audio\n",
    "Audio(c_4, rate=44100)\n",
    "```\n",
    "Note that `Audio` automatically normalized the volume according to its slider, so the amplitude that we set will have no effect.\n",
    "Adjusting the amplitude would typically manifest as a change in volume!"
   ]
  },
  {
   "cell_type": "code",
   "execution_count": null,
   "id": "a9884dd5",
   "metadata": {},
   "outputs": [],
   "source": [
    "# <COGINST>\n",
    "from IPython.display import Audio\n",
    "Audio(c_4, rate=sampling_rate)\n",
    "# </COGINST>"
   ]
  },
  {
   "cell_type": "markdown",
   "id": "c844afab",
   "metadata": {},
   "source": [
    "(1.1.3) Using `pressure(...)`, plot **4 periods (repetitions) of the sound wave**. Label the $x$- and $y$-axes, including the units of the values being plotted.\n",
    "Use enough points to make the plot look smooth.\n",
    "\n",
    "Here is some pseudocode for plotting:\n",
    "\n",
    "```python\n",
    "fig, ax = plt.subplots()\n",
    "t = # array/sequence of times\n",
    "pressures = # array/sequence of pressure samples\n",
    "ax.plot(t, pressures)\n",
    "ax.set_ylabel(\"Pressure [Pa]\")\n",
    "ax.set_xlabel(\"Time [s]\");\n",
    "```"
   ]
  },
  {
   "cell_type": "markdown",
   "id": "fc9e69c1",
   "metadata": {},
   "source": [
    "<COGNOTE>\n",
    "    The time required for one repetition is $T = \\frac{1}{f}$, and the number of samples that we take per second is $f_s$, thus\n",
    "    \n",
    "\\begin{equation}\n",
    "    N_{samples} = T \\times f_s = \\frac{f_{s}}{f}\n",
    "\\end{equation}\n",
    "\n",
    "is the number of samples associated with *one* period of oscillation.\n",
    "</COGNOTE>  "
   ]
  },
  {
   "cell_type": "code",
   "execution_count": null,
   "id": "c4753c86",
   "metadata": {},
   "outputs": [],
   "source": [
    "# <COGINST>\n",
    "fig, ax = plt.subplots()\n",
    "\n",
    "# number of samples associated with 4 repetitions\n",
    "duration = 4 / 261.63  # seconds\n",
    "sampling_rate = 44100 # Hz\n",
    "n_samples = int(duration * sampling_rate) + 1\n",
    "\n",
    "times = np.arange(n_samples) / sampling_rate  # seconds\n",
    "\n",
    "ax.plot(times, pressure(times, amp=amplitude, freq=freq))\n",
    "ax.set_xlabel(\"t (seconds)\")\n",
    "ax.grid(\"True\")\n",
    "ax.set_ylabel(\"Pressure [Pa]\")\n",
    "ax.set_xlabel(\"Time [s]\");\n",
    "# </COGINST>"
   ]
  },
  {
   "cell_type": "markdown",
   "id": "738e195d",
   "metadata": {},
   "source": [
    "(1.1.4) **Leveraging the principle of superposition**, plot the waveform of the C-major triad for $0.64$ seconds. This should combine three pure tones of equal amplitudes ($0.01 \\;\\mathrm{Pa}$) of the following respective frequencies:\n",
    "\n",
    " - 523.25 Hz (C)\n",
    " - 659.25 Hz (E)\n",
    " - 783.99 Hz (G)\n",
    " \n",
    "Use the same sampling rate of $44,100\\; \\mathrm{Hz}$ to determine the times at which you will evaluate this temporal waveform."
   ]
  },
  {
   "cell_type": "code",
   "execution_count": null,
   "id": "1451fdab",
   "metadata": {},
   "outputs": [],
   "source": [
    "# <COGINST>\n",
    "amp = 0.01  # Pascals\n",
    "duration = 0.64\n",
    "sampling_rate = 44100 # Hz\n",
    "n_samples = int(duration * sampling_rate) + 1\n",
    "\n",
    "times = np.arange(n_samples) / sampling_rate  # seconds\n",
    "\n",
    "# the principle of super positions simply states that we combine individual\n",
    "# components of a sound wave by adding them\n",
    "chord = (\n",
    "    pressure(times, amp=amp, freq=523.25)\n",
    "    + pressure(times, amp=amp, freq=659.25)\n",
    "    + pressure(times, amp=amp, freq=783.99)\n",
    ")\n",
    "\n",
    "fig, ax = plt.subplots()\n",
    "ax.plot(times, chord)\n",
    "ax.set_ylabel(\"Pressure [Pa]\")\n",
    "ax.set_xlabel(\"Time [s]\")\n",
    "ax.set_title(\"Major Triad\");\n",
    "# </COGINST>"
   ]
  },
  {
   "cell_type": "markdown",
   "id": "7f9c06e5",
   "metadata": {},
   "source": [
    "Play the major triad audio clip for $3$ seconds."
   ]
  },
  {
   "cell_type": "code",
   "execution_count": null,
   "id": "f4f8f778",
   "metadata": {},
   "outputs": [],
   "source": [
    "# You might want to turn down the volume on your computer a bit\n",
    "\n",
    "# <COGINST>\n",
    "amp = 0.01  # Pascals\n",
    "duration = 3  # seconds\n",
    "times = np.arange(0, int(sampling_rate * duration) + 1) / sampling_rate  # seconds\n",
    "chord = (\n",
    "    pressure(times, amp=amp, freq=523.25)\n",
    "    + pressure(times, amp=amp, freq=659.25)\n",
    "    + pressure(times, amp=amp, freq=783.99)\n",
    ")  # Pascals\n",
    "\n",
    "Audio(chord, rate=sampling_rate)\n",
    "# </COGINST>"
   ]
  },
  {
   "cell_type": "markdown",
   "id": "67bf72a1",
   "metadata": {},
   "source": [
    "Isn't it beautiful?\n",
    "Notice how messy looking the waveform is. It is wholly unintuitive to look at the data in this way, even though it is only comprised of $3$ simple notes.\n",
    "In an upcoming section, we will see that we can convert this *amplitude-time* data into *amplitude-frequency* data, which is much more useful for us!\n",
    "This conversion process is known as a **Fourier Transform**. "
   ]
  },
  {
   "cell_type": "markdown",
   "id": "820b72d4",
   "metadata": {},
   "source": [
    "(1.1.5) Lastly, define a function that describes a pressure wave for **noise**.\n",
    "That is, use `numpy.random.rand` ([docs](https://numpy.org/doc/stable/reference/random/generated/numpy.random.rand.html)) to generate samples randomly between $0$ and $1$).\n",
    "Plot some of its temporal waveform for a duration of $0.05$ seconds, using a sampling rate of $44,100$ Hertz."
   ]
  },
  {
   "cell_type": "code",
   "execution_count": null,
   "id": "dab8242e",
   "metadata": {},
   "outputs": [],
   "source": [
    "# <COGINST>\n",
    "def noise(t):\n",
    "    return np.random.rand(*t.shape)\n",
    "\n",
    "\n",
    "fig, ax = plt.subplots()\n",
    "duration = 0.05  # seconds\n",
    "times = np.arange(0, int(sampling_rate * duration) + 1)/ sampling_rate  # seconds\n",
    "ax.plot(times, noise(times))\n",
    "ax.set_ylabel(\"Pressure [Pa]\")\n",
    "ax.set_xlabel(\"Time [s]\")\n",
    "ax.set_title(\"Noise!\");\n",
    "# </COGINST>"
   ]
  },
  {
   "cell_type": "markdown",
   "id": "f3c96cb9",
   "metadata": {},
   "source": [
    "Now play 3 seconds of noise!"
   ]
  },
  {
   "cell_type": "code",
   "execution_count": null,
   "id": "c795fe54",
   "metadata": {},
   "outputs": [],
   "source": [
    "# <COGINST>\n",
    "duration = 3\n",
    "times = np.arange(0, int(sampling_rate * duration) + 1) / sampling_rate\n",
    "Audio(noise(times), rate=sampling_rate)\n",
    "# </COGINST>"
   ]
  }
 ],
 "metadata": {
  "jupytext": {
   "main_language": "python",
   "notebook_metadata_filter": "nbsphinx,-kernelspec"
  },
  "language_info": {
   "name": "python"
  },
  "nbsphinx": {
   "execute": "never"
  }
 },
 "nbformat": 4,
 "nbformat_minor": 5
}

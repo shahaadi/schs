{
 "cells": [
  {
   "cell_type": "raw",
   "id": "ff3abf2a",
   "metadata": {
    "raw_mimetype": "text/restructuredtext"
   },
   "source": [
    ".. meta::\n",
    "    :description: Topic: recording sound, Category: Exercises\n",
    "    :keywords: analog, digital, pcm, pulse code modulation, sample rate, bit depth, nyquist"
   ]
  },
  {
   "cell_type": "markdown",
   "id": "06a57299",
   "metadata": {},
   "source": [
    "# Exercises: Analog to Digital Encoding"
   ]
  },
  {
   "cell_type": "code",
   "execution_count": null,
   "id": "74338caf",
   "metadata": {},
   "outputs": [],
   "source": [
    "import numpy as np\n",
    "import librosa\n",
    "import matplotlib.pyplot as plt\n",
    "from IPython.display import Audio\n",
    "from typing import Union, Callable, Tuple\n",
    "from pathlib import Path\n",
    "\n",
    "%matplotlib notebook"
   ]
  },
  {
   "cell_type": "markdown",
   "id": "7eaf1654",
   "metadata": {},
   "source": [
    "## Describing Our Analog Signal"
   ]
  },
  {
   "cell_type": "markdown",
   "id": "6c4870ab",
   "metadata": {},
   "source": [
    "(1.3.1) Write a function `analog_signal` that takes in a float or a NumPy array of times and evaluates the following \"Logistic Cumulative Distribution Function\" at those times\n",
    "\\begin{equation}\n",
    "f(t)=\\frac{1}{1+e^{-10(t-1)}}.\n",
    "\\end{equation}\n",
    "\n",
    "Note that the choice of this function is not particularly important, and the remaining exercises can be done by rewriting `analog_signal` to be any function of interest."
   ]
  },
  {
   "cell_type": "code",
   "execution_count": null,
   "id": "61f5f549",
   "metadata": {},
   "outputs": [],
   "source": [
    "def analog_signal(times: np.ndarray) -> np.ndarray:\n",
    "    \"\"\"\n",
    "    Given an array of times, returns the value of an analog signal at those times.\n",
    "    \n",
    "    Parameters\n",
    "    ----------\n",
    "    times : numpy.ndarray\n",
    "        The time(s) at which to evaluate the analog signal.\n",
    "    \n",
    "    Returns\n",
    "    -------\n",
    "    numpy.ndarray\n",
    "        The value of the analog signal at the given times.\n",
    "    \"\"\"\n",
    "    # This should leverage vectorized numpy operations (i.e. you should not use a for-loop)\n",
    "    return 1 / (1 + np.exp(-10 * (times - 1)))  # <COGLINE>"
   ]
  },
  {
   "cell_type": "code",
   "execution_count": null,
   "id": "485e8e38",
   "metadata": {},
   "outputs": [],
   "source": [
    "# Testing things! Run this. If you see an assertion error\n",
    "# then there is something that needs to be adjusted with\n",
    "# your `analog_signal` function\n",
    "\n",
    "times = np.array([0.0, 1.0, 2.0])\n",
    "samples = analog_signal(times)\n",
    "\n",
    "assert isinstance(samples, np.ndarray)\n",
    "assert samples.shape == (3,)\n",
    "assert np.allclose(samples, np.array([4.53978687e-05, 5.00000000e-01, 9.99954602e-01]))"
   ]
  },
  {
   "cell_type": "markdown",
   "id": "31d5d754",
   "metadata": {},
   "source": [
    "Let's plot this function. You should see an S-shaped curve whose y-values fall within the range $(0, 1)$"
   ]
  },
  {
   "cell_type": "code",
   "execution_count": null,
   "id": "7c3d96b2",
   "metadata": {},
   "outputs": [],
   "source": [
    "fig, ax = plt.subplots()\n",
    "\n",
    "t = np.linspace(0, 2)\n",
    "y = analog_signal(t)\n",
    "ax.plot(t, y)\n",
    "ax.grid(True)"
   ]
  },
  {
   "cell_type": "markdown",
   "id": "44b9de87",
   "metadata": {},
   "source": [
    "## Reviewing Temporal and Quantization Utilities"
   ]
  },
  {
   "cell_type": "markdown",
   "id": "92af8e3e",
   "metadata": {},
   "source": [
    "We will now investigate how the process of PCM can affect the fidelity of our audio signal.\n",
    "Let's start by defining a few functions.\n",
    "If you have not completed the **Writing a Sampler** and **Quantization** reading comprehension exercises [from the previous section](https://rsokl.github.io/CogWeb/Audio/digitizing_signals.html), you may wish to go back and work those problems before proceeding here.\n",
    "\n",
    "Below are two functions, `temporal_sampler` and `quantize`, which in tandem allow us to sample and quantize a given analog signal to construct a digital signal.\n",
    "\n",
    "Study the signature, docstring, and body of `temporal_sampler`."
   ]
  },
  {
   "cell_type": "code",
   "execution_count": null,
   "id": "250b5ff4",
   "metadata": {},
   "outputs": [],
   "source": [
    "def temporal_sampler(\n",
    "    signal: Callable[[np.ndarray], np.ndarray], *, duration: float, sampling_rate: float\n",
    ") -> Tuple[np.ndarray, np.ndarray]:\n",
    "    \"\"\"\n",
    "    Extracts samples from an analog signal according to the specified sampling rate,\n",
    "    returning the times and the corresponding samples extracted at those times.\n",
    "\n",
    "    Parameters\n",
    "    ----------\n",
    "    signal : Callable[[ndarray], ndarray]\n",
    "        Another Python function (i.e. a \"callable\"), which behaves like f(t)\n",
    "        and accepts a time value (in seconds) as an input and returns a\n",
    "        measurement (e.g. in volts) as an output. You can expect this to behave like\n",
    "        a vectorized function i.e. it can be passed a NumPy-array of input times\n",
    "        and it will return a corresponding array of measurements.\n",
    "\n",
    "    duration : float\n",
    "        The duration of the signal, specified in seconds (a non-negative float)\n",
    "\n",
    "    sampling_rate : float\n",
    "        The sampling rate specified in Hertz.\n",
    "\n",
    "    Returns\n",
    "    -------\n",
    "    (times, samples) : Tuple[ndarray, ndarray]\n",
    "        The shape-(N,) array of times and the corresponding shape-(N,) array\n",
    "        samples extracted from the analog signal\n",
    "\n",
    "    \"\"\"\n",
    "    N_samples = np.floor(sampling_rate * duration) + 1\n",
    "\n",
    "    # shape-(N,) array of times at which we sample the analog signal\n",
    "    times = np.arange(N_samples) * (1 / sampling_rate)  # seconds\n",
    "\n",
    "    # shape-(N,) array of samples extracted from the analog signal\n",
    "    samples = signal(times)\n",
    "\n",
    "    return times, samples\n"
   ]
  },
  {
   "cell_type": "markdown",
   "id": "c5b04ef5",
   "metadata": {},
   "source": [
    "Use `temporal_sampler` to extract samples from `analog_signal` for using a sampling rate of 1 sample per second over a duration of 2 seconds.\n"
   ]
  },
  {
   "cell_type": "code",
   "execution_count": null,
   "id": "e574dfa1",
   "metadata": {},
   "outputs": [],
   "source": [
    "times, samples = temporal_sampler(analog_signal, duration=2.0, sampling_rate=1.0)  # <COGSTUB>\n",
    "print(f\"times: {times}\")\n",
    "print(f\"samples: {samples}\")"
   ]
  },
  {
   "cell_type": "markdown",
   "id": "e4bdd52b",
   "metadata": {},
   "source": [
    "Do the values of `times` that you see make sense? Try modifying the duration and/or sampling rate and see if you can predict what `times` you will see.\n",
    "\n",
    "What is the relationship between the printed times and samples? Use the array `times` and your function `analog_signal` to reproduce the values in the array `samples`"
   ]
  },
  {
   "cell_type": "code",
   "execution_count": null,
   "id": "34218601",
   "metadata": {},
   "outputs": [],
   "source": [
    "print(analog_signal(times))  # <COGLINE>"
   ]
  },
  {
   "cell_type": "markdown",
   "id": "438ecc72",
   "metadata": {},
   "source": [
    "Now let's plot `analog_signal` sampled with multiple different sampling rates. Study the following plot and see if you understand the patterns that you see. Discuss with your neighbor or TA."
   ]
  },
  {
   "cell_type": "code",
   "execution_count": null,
   "id": "24ad7bcd",
   "metadata": {},
   "outputs": [],
   "source": [
    "# Run this cell\n",
    "fig, ax = plt.subplots()\n",
    "\n",
    "for plt_kwds, sampling_rate in zip(\n",
    "    [\n",
    "        dict(ls=\"-\"),\n",
    "        dict(ls=\"--\", marker=\"o\"),\n",
    "        dict(ls=\"--\", marker=\"x\"),\n",
    "        dict(ls=\"--\", marker=\"s\"),\n",
    "    ],\n",
    "    [100, 4, 2, 1],\n",
    "):\n",
    "    ax.plot(\n",
    "        *temporal_sampler(analog_signal, duration=2.0, sampling_rate=sampling_rate),\n",
    "        **plt_kwds,\n",
    "        label=f\"sampling rate: {sampling_rate}\",\n",
    "    )\n",
    "\n",
    "\n",
    "ax.legend()\n",
    "ax.set_xlabel(\"time (s)\")\n",
    "ax.grid(True)"
   ]
  },
  {
   "cell_type": "markdown",
   "id": "5487e8f7",
   "metadata": {},
   "source": [
    "Study the signature, docstring, and body of `quantize`."
   ]
  },
  {
   "cell_type": "code",
   "execution_count": null,
   "id": "f0a1b842",
   "metadata": {},
   "outputs": [],
   "source": [
    "def quantize(samples: np.ndarray, bit_depth: int) -> np.ndarray:\n",
    "    \"\"\"\n",
    "    Given an array of N samples and a bit-depth of M, return the array of\n",
    "    quantized samples derived from the domain [samples.min(), samples.max()]\n",
    "    that has been quantized into 2**M evenly-spaced values.\n",
    "\n",
    "    Parameters\n",
    "    ----------\n",
    "    samples : numpy.ndarray, shape-(N,)\n",
    "        An array of N samples\n",
    "\n",
    "    bit_depth: int\n",
    "        The bit-depth, M, used to quantize the samples among\n",
    "        2**M evenly spaced values spanning [samples.min(), samples.max()].\n",
    "\n",
    "    Returns\n",
    "    -------\n",
    "    quantized_samples : numpy.ndarray, shape-(N,)\n",
    "        The corresponding array where each sample has been replaced\n",
    "        by the nearest quantized value\n",
    "\n",
    "    Examples\n",
    "    --------\n",
    "    >>> import numpy as np\n",
    "    >>> samples = np.array([0, .25, .75, 1])\n",
    "    >>> quantize(samples, 1) # quantize among 2 values\n",
    "    array([0., 0., 1., 1.])\n",
    "    >>> quantize(samples, 1) # quantize among 4 values\n",
    "    array([0., 0.3333, .6666, 1.])\n",
    "    \"\"\"\n",
    "\n",
    "    assert bit_depth <= 14, \"Exceeding this bit-depth might tank your computer!\"\n",
    "\n",
    "    # create the 2**M evenly-spaced quantized values,\n",
    "    # spanning [samples.min(), samples.max()]\n",
    "    quantized_values = np.linspace(samples.min(), samples.max(), 2 ** bit_depth)\n",
    "\n",
    "    # Broadcast subtract: shape-(N, 1) w/ shape-(2**M ,) -> shape(N, 2**M)\n",
    "    # `abs_differences[i]` is the absolute difference between sample-i and\n",
    "    # each of the 2**M quantized values\n",
    "    abs_differences = np.abs(samples[:, np.newaxis] - quantized_values)\n",
    "\n",
    "    # For each sample, find which quantized value it is closest to.\n",
    "    # Produced shape-(N,) array on indices on [0, 2**M)\n",
    "    bin_lookup = np.argmin(abs_differences, axis=1)\n",
    "\n",
    "    # Populate a shape-(N,) array, where each sample has been\n",
    "    # replaced by its nearest quantized value. This leverages\n",
    "    # advanced integer-array indexing\n",
    "    return quantized_values[bin_lookup]"
   ]
  },
  {
   "cell_type": "markdown",
   "id": "88eecdc4",
   "metadata": {},
   "source": [
    "Following the same code that you used above, sample `analog_signal` using a sampling rate of 5.0 over a duration of 2.0."
   ]
  },
  {
   "cell_type": "code",
   "execution_count": null,
   "id": "e6c35c58",
   "metadata": {},
   "outputs": [],
   "source": [
    "times, samples = temporal_sampler(analog_signal, duration=2.0, sampling_rate=5.0)  # <COGSTUB>\n",
    "print(samples)"
   ]
  },
  {
   "cell_type": "markdown",
   "id": "a6b4da3e",
   "metadata": {},
   "source": [
    "Now use `quantize` to quantize these samples using a bit-depth of 1. How many *distinct* values do you expect to see among these quantized samples?"
   ]
  },
  {
   "cell_type": "code",
   "execution_count": null,
   "id": "8869e8d9",
   "metadata": {},
   "outputs": [],
   "source": [
    "quantized_samples = quantize(samples, bit_depth=1)  # <COGSTUB>\n",
    "print(quantized_samples)"
   ]
  },
  {
   "cell_type": "markdown",
   "id": "9ead7b5e",
   "metadata": {},
   "source": [
    "What is the relationship that you see between `samples` and `quantized_samples`? How would things change if you changed the bit-depth to 2?"
   ]
  },
  {
   "cell_type": "markdown",
   "id": "d4554623",
   "metadata": {},
   "source": [
    "Let's plot `analog_signal` using multiple bit-depths. Study the following plot and check that you can explain the patterns that manifest. Check your understanding with a neighbor or TA."
   ]
  },
  {
   "cell_type": "code",
   "execution_count": null,
   "id": "4a1d1790",
   "metadata": {},
   "outputs": [],
   "source": [
    "fig, ax = plt.subplots()\n",
    "\n",
    "def quantized_plot(times, samples, bit_depth=None, **plt_kw):\n",
    "    if bit_depth is not None:\n",
    "        samples = quantize(samples, bit_depth=bit_depth)\n",
    "    ax.plot(times, samples, **plt_kw, label=f\"bit-depth: {bit_depth}\")\n",
    "    return ax\n",
    "\n",
    "times, samples = temporal_sampler(analog_signal, duration=2., sampling_rate=100)\n",
    "\n",
    "t = np.linspace(0, 2)\n",
    "y = analog_signal(t)\n",
    "ax.plot(t, y)\n",
    "\n",
    "for marker, depth in zip([\"o\", \"s\", \"x\"], [1, 2, 3]):\n",
    "    quantized_plot(times, samples, bit_depth=depth, marker=marker, ls=\" \", markersize=5/(depth)**.5)\n",
    "\n",
    "ax.legend()\n",
    "\n",
    "ax.set_xlabel(\"time (s)\")\n",
    "ax.grid(True)\n"
   ]
  },
  {
   "cell_type": "markdown",
   "id": "0f2a5373",
   "metadata": {},
   "source": [
    "## Creating an End-to-End Analog-to-Digital Conversion Function"
   ]
  },
  {
   "cell_type": "markdown",
   "id": "fc15ebfb",
   "metadata": {},
   "source": [
    "(1.3.2) Using the above functions, write a function `analog_to_digital` that takes in\n",
    "\n",
    "* an analog signal (a Python-function $f(t)$)\n",
    "* sampling rate ($f_s$)\n",
    "* bit-depth ($N_d$)\n",
    "* signal duration ($T$)\n",
    "\n",
    "and yields a tuple of two numpy arrays corresponding to: \n",
    "\n",
    "1. the times, $(t_n)_{n=0}^{N-1}$, at which the samples were taken \n",
    "2. the corresponding digital samples, $(f(t_n))_{n=0}^{N-1}$, extracted from the analog signal at those times\n",
    "\n",
    "**Hint: you will first want to extract temporal samples from the analog signal, then quantize those samples.\n",
    "Given the functions provided above, this should be a relatively short/simple function!**\n",
    "\n",
    "Note that the `*` in the following function signature makes `sampling_rate`, `bit_depth`, and `duration` [\"keyword-only\" arguments](https://www.pythonlikeyoumeanit.com/Module2_EssentialsOfPython/Functions.html#Arguments) – they can only be passed their values by name when invoking the function.E.g. `analog_to_digital(signal, sampling_rate=44100, bit_depth=8, duration=2.0)`.\n",
    "This is so the user can't accidentally flip values for, say, the duration and the sampling rate."
   ]
  },
  {
   "cell_type": "code",
   "execution_count": null,
   "id": "cd939541",
   "metadata": {},
   "outputs": [],
   "source": [
    "def analog_to_digital(\n",
    "    analog_signal: Callable[[np.ndarray], np.ndarray],\n",
    "    *,\n",
    "    sampling_rate: float,\n",
    "    bit_depth: int,\n",
    "    duration: float\n",
    ") -> Tuple[np.ndarray, np.ndarray]:\n",
    "    \"\"\"\n",
    "    Digitizes a given analog signal based on desired sampling rate and bit-depth.\n",
    "    \n",
    "    Parameters\n",
    "    ----------\n",
    "    analog_signal : Callable[[ndarray], ndarray]\n",
    "        Another Python function, f(t), which accepts a time value (in seconds) as\n",
    "        an input and returns a measurement (in volts) as an output.\n",
    "    \n",
    "    sampling_rate : float\n",
    "        The sampling rate specified in Hertz.\n",
    "    \n",
    "    bit_depth: int\n",
    "        The bit-depth, M, used to quantize the samples among\n",
    "        2**M evenly spaced values spanning [samples.min(), samples.max()].\n",
    "    \n",
    "    duration : float\n",
    "        The duration of the signal, specified in seconds (a non-negative float).\n",
    "    \n",
    "    Returns\n",
    "    -------\n",
    "    (times, digital_signal) : Tuple[ndarray, ndarray]\n",
    "        The shape-(N,) array of times and the corresponding\n",
    "        shape-(N,) array representing the digital signal.\n",
    "    \"\"\"\n",
    "    # <COGINST>\n",
    "    times, samples = temporal_sampler(\n",
    "        analog_signal, duration=duration, sampling_rate=sampling_rate\n",
    "    )\n",
    "    digital_signal = quantize(samples, bit_depth)\n",
    "\n",
    "    return times, digital_signal\n",
    "    # </COGINST>"
   ]
  },
  {
   "cell_type": "markdown",
   "id": "bbe26cfa",
   "metadata": {},
   "source": [
    "### Testing Our Code"
   ]
  },
  {
   "cell_type": "markdown",
   "id": "5f2d2971",
   "metadata": {},
   "source": [
    "Let's test out our work so far.\n",
    "The following cell will plot a \"continuous\" version of $f(t)$ (`analog_signal`), and then will use our implementation of `analog_to_digital` to plot discrete samples of the function on top of it.\n",
    "\n",
    "The duration ($T$), sampling rate ($f_s$), and bit-depth ($N_d$) are set at the top of the code cell.\n",
    "Based on these values, do the plotted discrete samples occur at the appropriate time intervals given $f_s$? \n",
    "Are there the appropriate number of distinct measurement values, given $N_d$?\n",
    "\n",
    "Try changing these values to see that `analog_to_digital` continues to produce the appropriate output."
   ]
  },
  {
   "cell_type": "code",
   "execution_count": null,
   "id": "9f66ecee",
   "metadata": {},
   "outputs": [],
   "source": [
    "# feel free to change these\n",
    "duration = 2  # seconds\n",
    "sample_rate = 10  # Hz\n",
    "bit_depth = 2  # bits\n",
    "\n",
    "\n",
    "# You don't need to change any of the remaining code\n",
    "# simply read through it and then run this cell\n",
    "fig, ax = plt.subplots()\n",
    "\n",
    "# we densely sample the analog analog_signal to make it look like\n",
    "# it is continuous\n",
    "dense_t = np.linspace(0, duration, 10000)  # seconds\n",
    "ax.plot(dense_t, analog_signal(dense_t), ls=\"--\", alpha=0.5)\n",
    "\n",
    "\n",
    "# extract samples that have been discretized in time and quantized\n",
    "times, samples = analog_to_digital(\n",
    "    analog_signal=analog_signal,\n",
    "    duration=duration,\n",
    "    sampling_rate=sample_rate,\n",
    "    bit_depth=bit_depth,\n",
    ")\n",
    "\n",
    "# plot our digital samples on top of the analog signal\n",
    "ax.stem(\n",
    "    times,\n",
    "    samples,\n",
    "    linefmt=\"red\",\n",
    "    markerfmt=\"ro\",\n",
    "    basefmt=\" \",\n",
    "    use_line_collection=True,\n",
    ")\n",
    "ax.set_xlabel(\"Time [seconds]\")\n",
    "ax.set_ylabel(\"Proportional to Volts\")\n",
    "ax.grid(True)"
   ]
  },
  {
   "cell_type": "markdown",
   "id": "67d67693",
   "metadata": {},
   "source": [
    "### Examining the Effects of Sampling Rate and Bit-Depth"
   ]
  },
  {
   "cell_type": "markdown",
   "id": "e7aa6ae6",
   "metadata": {},
   "source": [
    "(1.3.3) Let's finally take a look at how different choices of `sampling_rate` and `bit_depth` will affect our digital signal.\n",
    "Below is code that will plot the digital signal for various choices of sampling rate and bits.\n",
    "In particular, from left to right, the columns represent bit-depths of $2$, $4$, and $8$.\n",
    "Top to bottom, the rows represent sampling rates of $1\\:\\mathrm{Hz}$, $10\\:\\mathrm{Hz}$, and $100\\:\\mathrm{Hz}$.\n",
    "\n",
    "Try changing the sampling rates, bit depth, and analog signal used and see how the digital signal is affected."
   ]
  },
  {
   "cell_type": "code",
   "execution_count": null,
   "id": "a203505d",
   "metadata": {},
   "outputs": [],
   "source": [
    "sampling_rates = [1, 10, 100]  # Hz\n",
    "bit_depths = [2, 4, 8]  # bits\n",
    "\n",
    "# Run this cell - you don't need to change anything below this comment\n",
    "\n",
    "fig, axes = plt.subplots(nrows=len(sampling_rates), ncols=len(bit_depths))\n",
    "\n",
    "min_ = 0\n",
    "max_ = 2\n",
    "duration = max_ - min_\n",
    "\n",
    "dense_times = np.linspace(min_, max_, 10 ** 5)\n",
    "dense_sampling = analog_signal(dense_times)\n",
    "\n",
    "for i, sr in enumerate(sampling_rates): # sampling rates\n",
    "    for j, bits in enumerate(bit_depths): # bit-depths\n",
    "        axes[i, j].plot(dense_times, dense_sampling)\n",
    "\n",
    "        sampling_time, digital_signal = analog_to_digital(\n",
    "            analog_signal, sampling_rate=sr, bit_depth=bits, duration=duration\n",
    "        )\n",
    "        axes[i, j].step(sampling_time, digital_signal, where=\"mid\")\n",
    "\n",
    "        for tic in axes[i, j].xaxis.get_major_ticks():\n",
    "            tic.tick1line.set_visible(False)\n",
    "            tic.tick2line.set_visible(False)\n",
    "            tic.label1.set_visible(False)\n",
    "            tic.label2.set_visible(False)\n",
    "        for tic in axes[i, j].yaxis.get_major_ticks():\n",
    "            tic.tick1line.set_visible(False)\n",
    "            tic.tick2line.set_visible(False)\n",
    "            tic.label1.set_visible(False)\n",
    "            tic.label2.set_visible(False)\n",
    "\n",
    "        if i == 0 or i == 2:\n",
    "            if i == 0:\n",
    "                axes[i, j].set_title(f\"N_d={bits}\\nfs={sr}Hz\")\n",
    "            else:\n",
    "                axes[i, j].set_xlabel(f\"N_d={bits}\\nfs={sr}Hz\")\n",
    "\n",
    "        axes[i, j].grid(True)\n",
    "fig.tight_layout()"
   ]
  },
  {
   "cell_type": "markdown",
   "id": "6b86db90",
   "metadata": {},
   "source": [
    "## Hearing the Effects of Sampling Rate and Bit-Depth"
   ]
  },
  {
   "cell_type": "markdown",
   "id": "fd980b3d",
   "metadata": {},
   "source": [
    "**A Quick Aside: Raw Strings**\n",
    "\n",
    "We are going to be be writing strings as paths to files on our computers.\n",
    "This can lead to some unexpected complications that can be quite confusing at first. \n",
    "Consider the following Windows-format path:\n",
    "\n",
    "```\n",
    "\"D:\\Music\\new_song.mp3\"\n",
    "```\n",
    "\n",
    "Let's try printing this string in Python:\n",
    "\n",
    "```python\n",
    "# Our path contains \\n, which is treated as a single newline character\n",
    ">>> print(\"D:\\Music\\new_song.mp3\")\n",
    "D:\\Music\n",
    "ew_song.mp3\n",
    "```\n",
    "\n",
    "Recall that `\"\\n\"` is treated as a *single*, special character in Python; in particular, it represents a newline character.\n",
    "`\"\\n\"` is one of several so-called escape characters (e.g. `\"\\t\"` is the escape character for tab).\n",
    "\n",
    "We want to avoid these escape characters from affecting our file-paths.\n",
    "Indeed, the `\\` character is supposed to serve as a directory separator on a Windows system.\n",
    "Fortunately, we can tell Python to forego its interpretation of escape characters by making a string into a raw-string.\n",
    "We do this by pre-pending an `r` *before* the opening quotation mark of the string.\n",
    "\n",
    "```python\n",
    "# normal string\n",
    "\"hello\"\n",
    "\n",
    "# raw string\n",
    "r\"hello\"\n",
    "```\n",
    "```python\n",
    "# Creating a raw-string of our path by pre-pending an\n",
    "# r before the string prevents Python from looking for\n",
    "# escape characters\n",
    ">>> print(r\"D:\\Music\\new_song.mp3\")\n",
    "D:\\Music\\new_song.mp3\n",
    "```\n",
    "\n",
    "Thus it is prudent to store string paths as raw strings throughout our code."
   ]
  },
  {
   "cell_type": "markdown",
   "id": "4a050ae3",
   "metadata": {
    "lines_to_next_cell": 0
   },
   "source": [
    "**Back to Digitizing Signals!** \n",
    "\n",
    "Finally let's take a look at how we can modify music files that have already been recorded.\n",
    "We can use Librosa to work with music files in Python.\n",
    "Start by picking out a song you have on your computer, and use Librosa to load the first $11$ seconds of said song.\n",
    "\n",
    "Note that on Windows, you can hold Shift and right-click on your audio file; among the options that pop-up, there should be a \"Copy as path\" option, which is a convenient way to get a string representation of the path to that file on your computer.\n",
    "On MacOS, this can be similarly accomplished by right-clicking then holding Option - in the menu will be a \"Copy <file name> as Pathname\", which will copy the file path to your clipboard."
   ]
  },
  {
   "cell_type": "code",
   "execution_count": null,
   "id": "8c7ee2f9",
   "metadata": {},
   "outputs": [],
   "source": [
    "# using librosa to read in audio samples from a sound file (e.g. .mp3 or .wav) as a numpy array \n",
    "\n",
    "# The r in front to the string is to treat the string as a \"raw string\".\n",
    "# This guarantees that characters like `\\n` get interpreted literally,\n",
    "# and not in special ways (e.g. like a line break)\n",
    "local_song_path = r\"path/to_a/song/on/your/computer.mp3\"\n",
    "\n",
    "duration = 11  # seconds\n",
    "\n",
    "# load the digital signal for the first 11 seconds of the song\n",
    "samples, sampling_rate = librosa.load(local_song_path, sr=44100, mono=True, duration=duration)"
   ]
  },
  {
   "cell_type": "markdown",
   "id": "75c40e1a",
   "metadata": {},
   "source": [
    "(1.3.4) Write some simple code to investigate the following:\n",
    " \n",
    " - What is the data type of the array `samples`?\n",
    " - What is the shape of `samples`? \n",
    "   - Does the number of elements in the array make sense based on the sampling rate and the duration of the clip?\n",
    " - What are the minimum and maximum values stored in the array?\n",
    "   - What does this imply about the relative \"loudness\" songs that are loaded by librosa in this way?\n",
    " "
   ]
  },
  {
   "cell_type": "code",
   "execution_count": null,
   "id": "18cce4a8",
   "metadata": {},
   "outputs": [],
   "source": [
    "# <COGINST>\n",
    "# The dtype of `samples` is float32\n",
    "print(f\"dtype of `samples`: {samples.dtype}\")\n",
    "\n",
    "# the number of elements in `samples` should equal (duration-in-seconds x 44100 Hz)\n",
    "print(f\"shape of `samples`: {samples.shape}\")\n",
    "assert len(samples) == duration * sampling_rate\n",
    "\n",
    "# the amplitude (loudness) of a recording gets normalized by librosa\n",
    "print(f\"[min, max] of `samples`: [{samples.min()}, {samples.max()}]\")\n",
    "# </COGINST>"
   ]
  },
  {
   "cell_type": "markdown",
   "id": "b794b5bd",
   "metadata": {},
   "source": [
    "You can listen to this audio clip using the following"
   ]
  },
  {
   "cell_type": "code",
   "execution_count": null,
   "id": "5da23501",
   "metadata": {},
   "outputs": [],
   "source": [
    "Audio(samples, rate=sampling_rate)"
   ]
  },
  {
   "cell_type": "markdown",
   "id": "80107289",
   "metadata": {},
   "source": [
    "(1.3.5) There is a very good chance that the recording was digitized at a sampling rate of $f_s=44,100\\:\\mathrm{Hz}$ and with a bit-depth of $N_d=16$.\n",
    "\n",
    "What would our music would sound like if it were recorded with a lower sampling rate and/or bit-depth?\n",
    "\n",
    "To do this, we'll start by re-sampling the data we loaded in, thus changing the sampling rate of the signal.\n",
    "Of course it would not be possible to re-sample the data at a *higher* sampling rate than that originally used, but we can still down-sample the data by skipping over samples.\n",
    "\n",
    "Let's say we wanted to sample with a sampling rate of $1,000\\:\\mathrm{Hz}$.\n",
    "We initially recorded with a sampling rate of $44,100\\:\\mathrm{Hz}$, meaning our digital signal has $11\\:\\mathrm{sec}\\cdot44,100\\:\\mathrm{Hz}=485,100$ samples.\n",
    "However, we want to re-sample our signal such that we only have $11\\:\\mathrm{sec}\\cdot1,000\\:\\mathrm{Hz}=11,000$ samples.\n",
    "This means that to re-sample our song at $1,000\\:\\mathrm{Hz}$, we will need to only take every $\\frac{485,100}{11,000}=44.1^\\text{th}$ sample.\n",
    "Since we can only skip over an integer number of samples, we will have to settle for every $\\big\\lfloor\\frac{485,100}{11,000}\\big\\rfloor=44^\\text{th}$ sample.\n",
    "\n",
    "We can \"resample\" our data in this way as,\n",
    "\n",
    "```python\n",
    "skip = 44\n",
    "resampled_signal = samples[::skip]  # audio at 1000 Hz\n",
    "```\n",
    "\n",
    "Now, generalize this code so that you can specify any new sampling rate (that is less than the original rate) so that `skip` reflects the appropriate corresponding value.\n",
    "Re-sample the recording at a rate of $2,000\\:\\mathrm{Hz}$."
   ]
  },
  {
   "cell_type": "code",
   "execution_count": null,
   "id": "34b947bf",
   "metadata": {},
   "outputs": [],
   "source": [
    "sampling_rate = 2000\n",
    "\n",
    "skip = len(samples) // (duration * sampling_rate)  # <COGSTUB> compute this using `duration`, `sampling_rate` and `len(samples)`\n",
    "resampled_signal = samples[::skip]\n"
   ]
  },
  {
   "cell_type": "markdown",
   "id": "c4be2fb2",
   "metadata": {},
   "source": [
    "Note that this re-sampling will not be a perfect process.\n",
    "You can easily check that the size of the re-sampled signal is not what you would expect it to be.\n",
    "\n",
    "This has to do with the fact that we can only truly re-sample the original analog signal if we choose our new sampling rate to be a factor of the original sampling rate.\n",
    "To re-sample our original signal for non-factor sampling rates would require more advanced signal processing.\n",
    "However, we will take this method of re-sampling to be sufficient for our purposes."
   ]
  },
  {
   "cell_type": "markdown",
   "id": "9523dac9",
   "metadata": {},
   "source": [
    "Now, we could play our re-sampled signal out at a rate of $2,000\\:\\mathrm{Hz}$, but there is a good chance that your computer will not be able to actually play this.\n",
    "We will thus have to get a bit clever and \"stretch out\" our signal back to be re-played at $44,100\\:\\mathrm{Hz}$.\n",
    "We can use [numpy.repeat](https://numpy.org/doc/stable/reference/generated/numpy.repeat.html) to do this."
   ]
  },
  {
   "cell_type": "code",
   "execution_count": null,
   "id": "a415e0a4",
   "metadata": {},
   "outputs": [],
   "source": [
    "# \"stretches\" signal so that it can be played by audio plugin\n",
    "resampled_signal = np.repeat(resampled_signal, skip)"
   ]
  },
  {
   "cell_type": "markdown",
   "id": "16502cea",
   "metadata": {},
   "source": [
    "Finally, replay the re-sampled signal using"
   ]
  },
  {
   "cell_type": "code",
   "execution_count": null,
   "id": "e58265dd",
   "metadata": {},
   "outputs": [],
   "source": [
    "Audio(resampled_signal, rate=44100)"
   ]
  },
  {
   "cell_type": "markdown",
   "id": "f281c1e8",
   "metadata": {},
   "source": [
    "and note how different the re-sampled audio sounds to the original song.\n",
    "Which of the original notes (high frequencies or low frequencies) can you still make out?"
   ]
  },
  {
   "cell_type": "markdown",
   "id": "b89ce95f",
   "metadata": {},
   "source": [
    "(1.3.6) Now that we've re-sampled the recording, let's re-quantize it as well.\n",
    "To do this, we simply need to leverage the `quantize` function defined earlier, passing in the recording and the desired bit-depth.\n",
    "Again, we can't choose a bit-depth greater than that of the original recording, but we can always choose a lower value.\n",
    "\n",
    "Re-quantize the re-sampled signal with a new bit-depth of $N_b=3$."
   ]
  },
  {
   "cell_type": "code",
   "execution_count": null,
   "id": "672fe464",
   "metadata": {},
   "outputs": [],
   "source": [
    "resampled_requantized_signal = quantize(resampled_signal, 3) # <COGSTUB> quantize the resampled signal w/ bit-depth 3"
   ]
  },
  {
   "cell_type": "markdown",
   "id": "115928ff",
   "metadata": {},
   "source": [
    "Again, play the now re-quantized recording, and notice how it differs from the original clip."
   ]
  },
  {
   "cell_type": "code",
   "execution_count": null,
   "id": "dcf11459",
   "metadata": {},
   "outputs": [],
   "source": [
    "Audio(resampled_requantized_signal, rate=44100)"
   ]
  },
  {
   "cell_type": "markdown",
   "id": "257f40ab",
   "metadata": {},
   "source": [
    "Go back and play with these numbers.\n",
    "For example, try keeping the original sampling rate but then re-quantize the song at a lower bit-rate."
   ]
  },
  {
   "cell_type": "markdown",
   "id": "ca86222a",
   "metadata": {},
   "source": [
    "(1.3.7) Finally let's graphically compare our re-sampled and re-quantized song to the original.\n",
    "Repeat the re-sampling and re-quantization process from above, on the original samples, now with a sampling rate of $40\\:\\mathrm{Hz}$ and a bit-depth of $4$.\n",
    "Then plot the first $5$ seconds of each of the signals below.\n",
    "Use the `plot` method for the original song and the `step` method for the modified signal.\n",
    "\n",
    "Play around with the choices of sampling rate and bit-depth to see how changing these values impacts the digital signal."
   ]
  },
  {
   "cell_type": "code",
   "execution_count": null,
   "id": "2e65607a",
   "metadata": {},
   "outputs": [],
   "source": [
    "sampling_rate = 40\n",
    "bit_depth = 4\n",
    "\n",
    "\n",
    "# Use your code from (1.4) to resample the song clip at\n",
    "# the desired sampling rate. Then apply `quantize` to \n",
    "# these samples with the appropriatebit-depth. \n",
    "# Call the result `new_signal`.\n",
    "\n",
    "# <COGINST>\n",
    "skip = len(samples) // (duration * sampling_rate)\n",
    "new_signal = samples[::skip]\n",
    "new_signal = quantize(new_signal, bit_depth)\n",
    "# </COGINST>\n",
    "\n",
    "\n",
    "# Define `n_samples_orig`:\" the number of samples associated\n",
    "# with 5 seconds of an audio recording with the original \n",
    "# sampling rate of 44,100 Hz\n",
    "\n",
    "n_samples_orig = 44100 * 5 # <COGSTUB>\n",
    "\n",
    "\n",
    "# Similarly, define `n_samples_new` the number of samples associated\n",
    "# with 5 seconds of an audio recording with the target sampling rate: `sampling_rate`\n",
    "\n",
    "n_samples_new = sampling_rate * 5  # <COGSTUB>\n",
    "\n",
    "\n",
    "fig, ax = plt.subplots(1, 1)\n",
    "\n",
    "ax.plot(np.linspace(0, 5, n_samples_orig), samples[: n_samples_orig])\n",
    "ax.step(np.linspace(0, 5, n_samples_new), new_signal[: n_samples_new], where=\"mid\")\n",
    "ax.set_xlabel(\"Time [seconds]\")\n",
    "ax.set_ylabel(\"Amplitude [Proportional to Volts]\");"
   ]
  }
 ],
 "metadata": {
  "jupytext": {
   "main_language": "python",
   "notebook_metadata_filter": "nbsphinx,-kernelspec"
  },
  "kernelspec": {
   "display_name": "Python 3 (ipykernel)",
   "language": "python",
   "name": "python3"
  },
  "language_info": {
   "codemirror_mode": {
    "name": "ipython",
    "version": 3
   },
   "file_extension": ".py",
   "mimetype": "text/x-python",
   "name": "python",
   "nbconvert_exporter": "python",
   "pygments_lexer": "ipython3",
   "version": "3.8.17"
  },
  "nbsphinx": {
   "execute": "never"
  }
 },
 "nbformat": 4,
 "nbformat_minor": 5
}

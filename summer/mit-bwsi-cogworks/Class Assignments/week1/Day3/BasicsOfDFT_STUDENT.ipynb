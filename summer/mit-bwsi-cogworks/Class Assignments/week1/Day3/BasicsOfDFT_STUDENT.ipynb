{
 "cells": [
  {
   "cell_type": "raw",
   "id": "ddb36ecc",
   "metadata": {
    "raw_mimetype": "text/restructuredtext"
   },
   "source": [
    ".. meta::\n",
    "   :description: Topic: Discrete Fourier Transforms, Category: Exercises\n",
    "   :keywords: applications, examples, dft, Fourier spectrum"
   ]
  },
  {
   "cell_type": "markdown",
   "id": "f65a5b34",
   "metadata": {},
   "source": [
    "<div class=\"alert alert-warning\">\n",
    "\n",
    "**Source Material**:\n",
    "\n",
    "The following exercises are adapted from Chapter 7 of [Mark Newman's book, \"Computational Physics\"](http://www-personal.umich.edu/~mejn/cp/)\n",
    "\n",
    "</div>\n"
   ]
  },
  {
   "cell_type": "markdown",
   "id": "4524b7d7",
   "metadata": {
    "code_folding": [
     0,
     11
    ]
   },
   "source": [
    "# Exercises: Basics of DFTs\n"
   ]
  },
  {
   "cell_type": "code",
   "execution_count": 1,
   "id": "d873d20d",
   "metadata": {},
   "outputs": [],
   "source": [
    "import numpy as np\n",
    "import matplotlib.pyplot as plt\n",
    "from typing import Union, Tuple, Sequence\n",
    "\n",
    "%matplotlib inline"
   ]
  },
  {
   "cell_type": "markdown",
   "id": "74821b04",
   "metadata": {},
   "source": [
    "(1.4.1) Write a function that performs a discrete Fourier transform on a *real-valued* signal containing $N$ samples: $(y_n)_{n=0}^{N-1} \\rightarrow  (c_k)_{k=0}^{\\left\\lfloor \\frac{N}{2} \\right\\rfloor}$\n",
    "\n",
    "This should produce identical results to `numpy.fft.rfft`.\n",
    "\n",
    "- Note: You should *not* try to write this in a fully-vectorized way. \n",
    "You should use for-loops and append to a list of Fourier coefficients. At the end of your function, simply convert this list of coefficients\n",
    "to a numpy array and return the array.\n",
    "- Note: only NumPy's exponential function (`np.exp`) can be passed complex numbers. `math.exp` only works with real-valued numbers\n",
    "- Recall: Python uses `1j` to represent the imaginary number $i$. So, e.g., $e^{2\\pi i}$ is computed as `np.exp(2 * np.pi * 1j)`"
   ]
  },
  {
   "cell_type": "code",
   "execution_count": 2,
   "id": "f47cfaea",
   "metadata": {
    "code_folding": []
   },
   "outputs": [],
   "source": [
    "def py_dft(samples: Sequence[float]) -> np.ndarray:\n",
    "    \"\"\"Performs a Discrete Fourier Transform (type-1) for \n",
    "    real-valued data.\n",
    "        \n",
    "    Parameters\n",
    "    ----------\n",
    "    samples : Sequence[float]\n",
    "        N evenly-spaced, real-valued numbers\n",
    "\n",
    "    Returns\n",
    "    -------\n",
    "    numpy.ndarray, shape-(N//2 + 1,)\n",
    "        The N//2 + 1 complex-valued Fourier coefficients describing `samples`\n",
    "    \n",
    "    Notes\n",
    "    -----\n",
    "    We want to compute c_k for each k in 0, 1, ..., N//2\n",
    "    \n",
    "    Recall that each c_k value is a sum over n of y_n * e ^ (-2 pi i * k / N)\n",
    "    where y_n is a sample at index n and N is the total number of samples.\n",
    "    \n",
    "    It is recommended that you perform this calculation by using two for-loops.\n",
    "    \"\"\"\n",
    "\n",
    "    # STUDENT CODE HERE\n",
    "    c_k = []\n",
    "    N = len(samples)\n",
    "    for k in np.arange(N//2 + 1):\n",
    "        arr = samples*np.exp(-2 * np.pi * 1j * k * np.arange(N) / N)\n",
    "        c_k.append(np.sum(arr))\n",
    "    return np.array(c_k)"
   ]
  },
  {
   "cell_type": "markdown",
   "id": "59226e74",
   "metadata": {},
   "source": [
    "Let's test `py_dft` by checking that it produces the same results as `np.fft.rfft`."
   ]
  },
  {
   "cell_type": "code",
   "execution_count": 3,
   "id": "bee74b31",
   "metadata": {},
   "outputs": [],
   "source": [
    "# Use `np.arange` to create an array of 0, 1, ..., 9\n",
    "samples = np.arange(10)\n",
    "\n",
    "# Use `py_dft` to compute the Fourier coeffs for `samples`\n",
    "your_fourier_coeffs = py_dft(samples)\n",
    "\n",
    "# Use `np.fft.rfft` to compute the Fourier coeffs for `samples`\n",
    "numpy_fourier_coeffs = np.fft.rfft(samples)\n",
    "\n",
    "# If this raises an error, print out `your_fourier_coeffs` and\n",
    "# `numpy_fourier_coeffs` and see how they differ\n",
    "assert np.allclose(your_fourier_coeffs, numpy_fourier_coeffs)"
   ]
  },
  {
   "cell_type": "markdown",
   "id": "fc3c8858",
   "metadata": {},
   "source": [
    "Consider the sine wave with frequency $f$\n",
    "\n",
    "\\begin{equation}\n",
    "g(t) = \\sin(2 \\pi f t)\n",
    "\\end{equation}\n",
    "\n",
    "Let's assume that $f = \\frac{1}{150}\\;\\mathrm{Hz}$ (recall: $\\mathrm{Hz}=\\frac{1}{\\mathrm{seconds}}$).\n",
    "Thus the period of the wave is $T_{\\text{period}} = 1/f = 150$ seconds.\n",
    "\n",
    "(1.4.2) Using Euler's formula, $e^{ix} = \\cos{x} + i\\sin{x}$, write this sine wave in terms of complex-valued exponentials (i.e. using $e^{ix}$).\n",
    "Notice that this represents a very simple Fourier series, one in which only a single frequency is present.\n",
    "\n",
    "> 1.4.2 Solution: *SOLUTION HERE*"
   ]
  },
  {
   "cell_type": "markdown",
   "id": "93233b01",
   "metadata": {},
   "source": [
    "(1.4.3) Take $N=100$ samples of this sine wave over four complete periods of oscillation.\n",
    "That is, create an array of $t_{n} = \\frac{n}{N}T$ for $n = 0, 1, ... N-1$, where the duration is $T = 4T_{\\text{period}}$, and create a corresponding array of $y_{n} = f(t_{n})$ ."
   ]
  },
  {
   "cell_type": "code",
   "execution_count": 4,
   "id": "f26ae2ce",
   "metadata": {},
   "outputs": [],
   "source": [
    "f = 1/150 # frequency (Hz)\n",
    "T = 4/f # duration of sample (seconds)\n",
    "N = 100 # number of samples\n",
    "t_samples = np.arange(N) * T / N # the sample locations, in seconds\n",
    "y_samples = np.sin(2 * np.pi * f * t_samples) # the samples of the sine wave"
   ]
  },
  {
   "cell_type": "markdown",
   "id": "fc7f726c",
   "metadata": {},
   "source": [
    "Now plot the sampled signal, $y_{n}$, based on the following code.\n",
    "\n",
    "```python\n",
    "fig, ax = plt.subplots()\n",
    "ax.plot(t_samples, y_samples, marker='x')\n",
    "ax.grid()\n",
    "ax.set_xlabel(\"t (seconds)\")\n",
    "```"
   ]
  },
  {
   "cell_type": "code",
   "execution_count": 5,
   "id": "ad131ff1",
   "metadata": {},
   "outputs": [
    {
     "data": {
      "text/plain": [
       "Text(0.5, 0, 't (seconds)')"
      ]
     },
     "execution_count": 5,
     "metadata": {},
     "output_type": "execute_result"
    },
    {
     "data": {
      "image/png": "[encoded data removed]",
      "text/plain": [
       "<Figure size 640x480 with 1 Axes>"
      ]
     },
     "metadata": {},
     "output_type": "display_data"
    }
   ],
   "source": [
    "# STUDENT CODE HERE\n",
    "fig, ax = plt.subplots()\n",
    "ax.plot(t_samples, y_samples, marker=\"x\")\n",
    "ax.grid()\n",
    "ax.set_xlabel(\"t (seconds)\")"
   ]
  },
  {
   "cell_type": "markdown",
   "id": "4be4c0e1",
   "metadata": {
    "code_folding": [
     11
    ]
   },
   "source": [
    "(1.4.4) Perform a real-valued DFT of the sampled wave-form, obtaining $c_{k}$.\n",
    "How many Fourier-coefficients will be produced?\n",
    "Verify that numpy's FFT (for real-valued signals), `np.fft.rfft`, returns the same results as your DFT;\n",
    "you can use the function `numpy.allclose` to compare your array of coefficients with those produced by `np.fft.rfft`."
   ]
  },
  {
   "cell_type": "code",
   "execution_count": 6,
   "id": "b975bdac",
   "metadata": {},
   "outputs": [
    {
     "name": "stdout",
     "output_type": "stream",
     "text": [
      "True\n",
      "True\n"
     ]
    }
   ],
   "source": [
    "\n",
    "complex_coeffs = py_dft(y_samples) #\n",
    "\n",
    "print(len(complex_coeffs) == N // 2 + 1)\n",
    "print(np.allclose(complex_coeffs, np.fft.rfft(y_samples)))"
   ]
  },
  {
   "cell_type": "markdown",
   "id": "4f5285f4",
   "metadata": {},
   "source": [
    "(1.4.5) Recall that $k$ takes on integer values $0, 1, ..., \\big\\lfloor\\frac{N}{2}\\big\\rfloor$.\n",
    "Convert each $k$ value into frequency, $\\nu_{k}$, with units of Hz.\n",
    "These should be stored in a numpy array called `freqs`.\n",
    "\n",
    "Similarly, $n$ takes on integer values: $0, 1, ..., N - 1$.\n",
    "Convert $n$ into time, $t_{n}$, with units of seconds.\n",
    "These should be stored in an array called `times`.\n",
    "\n",
    "Being able to do convert $n$ to $t$ (time) and $k$ to $\\nu_{k}$ (frequency) is very important.\n",
    "We will use this throughout the rest of the module. Please be sure to chat with a neighbor or a TA to check your understanding. \n",
    "\n",
    "> 1.4.5 Solution: *SOLUTION HERE*"
   ]
  },
  {
   "cell_type": "code",
   "execution_count": 7,
   "id": "99148fca",
   "metadata": {},
   "outputs": [],
   "source": [
    "# STUDENT CODE HERE\n",
    "# n-values: indicate which sample we are looking at\n",
    "n = np.arange(N)\n",
    "\n",
    "times = n / N * T  # units: seconds\n",
    "\n",
    "# k-values: indicate which Fourier-component we are considering\n",
    "k = np.arange(N // 2 + 1)\n",
    "\n",
    "# converted to frequencies\n",
    "# recall that exp(2*pi k/T * x) is a sinusoid with frequency k / T\n",
    "freqs = k / T  # units: Hz"
   ]
  },
  {
   "cell_type": "markdown",
   "id": "1cd1b821",
   "metadata": {},
   "source": [
    "(1.4.6) What should the plot of $|a_{k}|$ vs $\\nu_{k}$ (the \"Fourier spectrum\"), look like? Recall that we are working with samples from $g(t) = \\sin(2 \\pi f t)$, with $f = \\frac{1}{150}\\;\\mathrm{Hz}$.\n",
    "\n",
    "- How many peaks should there be in the spectrum? (Consider: how many pure-tone sinusoids is needed to represent $g(t)$, and what are their frequencies?)\n",
    "- At what value(s) of $\\nu_{k}$ should the peak(s) reside?\n",
    "\n",
    "> 1.4.6 Solution: *SOLUTION HERE*\n"
   ]
  },
  {
   "cell_type": "markdown",
   "id": "560527c9",
   "metadata": {},
   "source": [
    "We can use the following function to convert the complex-valued Fourier coefficients $(c_k)_{k=0}^{\\left\\lfloor \\frac{N}{2} \\right\\rfloor}$ to the corresponding real-values Fourier amplitudes $(|a_k|)_{k=0}^{\\left\\lfloor \\frac{N}{2} \\right\\rfloor}$ and phase shifts $(\\varphi'_k)_{k=0}^{\\left\\lfloor \\frac{N}{2} \\right\\rfloor}$.\n",
    "Study the signature docstring, and body of the following function"
   ]
  },
  {
   "cell_type": "code",
   "execution_count": 8,
   "id": "a49ca705",
   "metadata": {},
   "outputs": [],
   "source": [
    "def fourier_complex_to_real(\n",
    "    complex_coeffs: np.ndarray, N: int\n",
    ") -> Tuple[np.ndarray, np.ndarray]:\n",
    "    \"\"\"\n",
    "    Converts complex-valued Fourier coefficients (of \n",
    "    real-valued data) to the associated amplitudes and \n",
    "    phase-shifts of the real-valued sinusoids\n",
    "    \n",
    "    Parameters\n",
    "    ----------\n",
    "    complex_coeffs : numpy.ndarray, shape-(N//2 + 1,)\n",
    "        The complex valued Fourier coefficients for k=0, 1, ...\n",
    "    \n",
    "    N : int\n",
    "        The number of samples that the DFT was performed on.\n",
    "    \n",
    "    Returns\n",
    "    -------\n",
    "    Tuple[numpy.ndarray, numpy.ndarray]\n",
    "        (amplitudes, phase-shifts)\n",
    "        Two real-valued, shape-(N//2 + 1,) arrays\n",
    "    \"\"\"\n",
    "    amplitudes = np.abs(complex_coeffs) / N\n",
    "\n",
    "    # |a_k| = 2 |c_k| / N for all k except for\n",
    "    # k=0 and k=N/2 (only if N is even)\n",
    "    # where |a_k| = |c_k| / N\n",
    "    amplitudes[1 : (-1 if N % 2 == 0 else None)] *= 2\n",
    "\n",
    "    phases = np.arctan2(-complex_coeffs.imag, complex_coeffs.real)\n",
    "    return amplitudes, phases"
   ]
  },
  {
   "cell_type": "markdown",
   "id": "492961a3",
   "metadata": {},
   "source": [
    "Now, using $(c_k)_{k=0}^{\\left\\lfloor \\frac{N}{2} \\right\\rfloor}$, compute $(|a_k|)_{k=0}^{\\left\\lfloor \\frac{N}{2} \\right\\rfloor}$ and $(\\varphi'_k)_{k=0}^{\\left\\lfloor \\frac{N}{2} \\right\\rfloor}$.\n",
    "Plot the Fourier spectrum $|a_{k}|$ vs $\\nu_{k}$, along with a vertical line where you predict the peak to occur. Use the following pseudocode to help you with your plot:\n",
    "\n",
    "```python\n",
    "\n",
    "# Convert `complex_coeffs` to real-valued amplitudes and phases\n",
    "amps, phases = ???\n",
    "\n",
    "fig, ax = plt.subplots()\n",
    "\n",
    "# compute \"by hand\"\n",
    "expected_peak_freq = ???\n",
    "\n",
    "# plots Fourier spectrum\n",
    "ax.stem(freqs, amps, basefmt=\" \", use_line_collection=True)\n",
    "\n",
    "# plots a vertical line at the frequency corresponding to our sine wave\n",
    "ax.vlines(expected_peak_freq, 0, 1.0, lw=5, alpha=0.5, ls=\"--\", color=\"black\")\n",
    "\n",
    "# make the plot look nice\n",
    "ax.set_xlim(0, 0.03)\n",
    "ax.grid(True)\n",
    "ax.set_ylabel(r\"$| a_{k} |$\")\n",
    "ax.set_xlabel(\"Frequency (Hz)\");\n",
    "```"
   ]
  },
  {
   "cell_type": "code",
   "execution_count": 9,
   "id": "cbb626a5",
   "metadata": {},
   "outputs": [
    {
     "name": "stdout",
     "output_type": "stream",
     "text": [
      "True True\n"
     ]
    },
    {
     "name": "stderr",
     "output_type": "stream",
     "text": [
      "/var/folders/rk/9p1bkflx7xqfp9blzn6sypv00000gn/T/ipykernel_89849/683633788.py:8: MatplotlibDeprecationWarning: The 'use_line_collection' parameter of stem() was deprecated in Matplotlib 3.6 and will be removed two minor releases later. If any parameter follows 'use_line_collection', they should be passed as keyword, not positionally.\n",
      "  ax.stem(freqs, amps, basefmt=\" \", use_line_collection=True)\n"
     ]
    },
    {
     "data": {
      "image/png": "[encoded data removed]",
      "text/plain": [
       "<Figure size 640x480 with 1 Axes>"
      ]
     },
     "metadata": {},
     "output_type": "display_data"
    }
   ],
   "source": [
    "# STUDENT CODE HERE\n",
    "fig, ax = plt.subplots()\n",
    "amps, phases = fourier_complex_to_real(complex_coeffs, N)\n",
    "\n",
    "kpeak = round(T * f)\n",
    "print(np.isclose(amps[kpeak], 1), np.isclose(phases[kpeak], np.pi / 2))\n",
    "\n",
    "ax.stem(freqs, amps, basefmt=\" \", use_line_collection=True)\n",
    "ax.set_xlim(0, 0.03)\n",
    "\n",
    "expected_peak_freq = f\n",
    "ax.vlines(expected_peak_freq, 0, 1.0, lw=5, alpha=0.5, ls=\"--\", color=\"black\")\n",
    "ax.grid()\n",
    "ax.set_ylabel(r\"$| a_{k} |$\")\n",
    "ax.set_xlabel(\"Frequency (Hz)\");"
   ]
  },
  {
   "cell_type": "markdown",
   "id": "8ab84eb2",
   "metadata": {},
   "source": [
    "(1.4.7) Use `np.fft.irfft` to compute the *exact* inverse DFT and verify that it recovers the original sampled data."
   ]
  },
  {
   "cell_type": "code",
   "execution_count": 10,
   "id": "65753391",
   "metadata": {},
   "outputs": [
    {
     "data": {
      "text/plain": [
       "True"
      ]
     },
     "execution_count": 10,
     "metadata": {},
     "output_type": "execute_result"
    }
   ],
   "source": [
    "# STUDENT CODE HERE\n",
    "np.allclose(np.fft.irfft(complex_coeffs, n=len(y_samples)), y_samples) #"
   ]
  },
  {
   "cell_type": "markdown",
   "id": "bd8d3afb",
   "metadata": {},
   "source": [
    "(1.4.8) Return to the \"Audio Signals Basics\" notebook and copy the code that you used to sample and plot the major triad:\n",
    "\n",
    " - $523.25\\;\\mathrm{Hz}$ (C)\n",
    " - $659.25\\;\\mathrm{Hz}$ (E)\n",
    " - $783.99\\;\\mathrm{Hz}$ (G)\n",
    " \n",
    "where each pure tone has an amplitude of $1\\:\\mathrm{Pascal}$."
   ]
  },
  {
   "cell_type": "markdown",
   "id": "3a2803e6",
   "metadata": {},
   "source": [
    "Sample $0.5$ seconds of this analog signal using a sample rate of $2000\\;\\mathrm{Hz}$.\n",
    "Take the discrete Fourier transform of the resulting digital signal. Plot the magnitudes of the Fourier coefficients as a function of frequency: $|a_{k}|$ vs $\\nu_{k}$.\n",
    "What are the significance of the peaks that you see?\n",
    "What information does this plot provide us with that a plot of the wave form doesn't?\n",
    "\n",
    "Are these peaks \"perfect\" as we saw above? I.e. are they confined to individual $k$-values or do they have a \"thickness\" across multiple $k$-values?\n",
    "What might be a cause for this phenomenon?\n",
    "\n",
    "Use `ax.set_xlim(400, 1000)` to limit the x-values plotted to be between $400\\;\\mathrm{Hz}$ and $1000\\;\\mathrm{Hz}$."
   ]
  },
  {
   "cell_type": "code",
   "execution_count": 11,
   "id": "42ee0065",
   "metadata": {},
   "outputs": [
    {
     "name": "stderr",
     "output_type": "stream",
     "text": [
      "/var/folders/rk/9p1bkflx7xqfp9blzn6sypv00000gn/T/ipykernel_89849/2421703491.py:24: MatplotlibDeprecationWarning: The 'use_line_collection' parameter of stem() was deprecated in Matplotlib 3.6 and will be removed two minor releases later. If any parameter follows 'use_line_collection', they should be passed as keyword, not positionally.\n",
      "  ax.stem(v, triad_amps, basefmt=\" \", use_line_collection=True)\n"
     ]
    },
    {
     "data": {
      "image/png": "[encoded data removed]",
      "text/plain": [
       "<Figure size 640x480 with 1 Axes>"
      ]
     },
     "metadata": {},
     "output_type": "display_data"
    }
   ],
   "source": [
    "def p(t: np.ndarray, A: Union[int, float], f: Union[int, float]) -> np.ndarray:\n",
    "    return A * np.sin(2 * np.pi * f * t)\n",
    "\n",
    "\n",
    "# sampling 0.5 seconds at 2000 HZ\n",
    "T = 0.5  # duration in seconds\n",
    "N = int(0.5 * 2000)  # number of samples\n",
    "t = np.arange(N) * (T / N)  # the sample-locations, in seconds\n",
    "\n",
    "triad = p(t, 1, 523.25) + p(t, 1, 659.25) + p(t, 1, 783.99)  # <COGSTUB> sampled triad\n",
    "\n",
    "k = np.arange(N // 2 + 1)  # k-values\n",
    "\n",
    "v = k / T  # k converted to frequencies (units: Hz)\n",
    "\n",
    "fourier_triad = np.fft.rfft(triad)  # complex-valued fourier coefficients for triad samples\n",
    "\n",
    "triad_amps, triad_phases = fourier_complex_to_real(fourier_triad, N)  # real-valued Fourier amplitudes & phases for triad samples\n",
    "\n",
    "# plotting |ak| vs vk\n",
    "# You should see three major peaks at 523.25, 659.25, & 783.99\n",
    "fig, ax = plt.subplots()\n",
    "\n",
    "ax.stem(v, triad_amps, basefmt=\" \", use_line_collection=True)\n",
    "ax.set_xlim(0, 0.03)\n",
    "ax.set_xlim(400, 1000)\n",
    "ax.set_ylabel(r\"$| a_{k} |$\")\n",
    "ax.set_xlabel(\"Frequency (Hz)\")\n",
    "ax.grid(True)\n"
   ]
  },
  {
   "cell_type": "markdown",
   "id": "8569e9d7",
   "metadata": {},
   "source": [
    "### Optional\n",
    "\n",
    "Note: **Do not spend more than five minutes on this**. Once you hit five minutes, skip this and move on! It is totally optional."
   ]
  },
  {
   "cell_type": "markdown",
   "id": "8c1bae66",
   "metadata": {},
   "source": [
    "Returning to the Fourier spectrum for $g(t) = \\sin(2 \\pi f t)$"
   ]
  },
  {
   "cell_type": "markdown",
   "id": "49754e15",
   "metadata": {},
   "source": [
    "The peak-valued coefficient, $c_{k_{\\text{peak}}}$, should be the only non-zero coefficient.\n",
    "What is this telling us?\n",
    "This says that the samples of our pure sinusoid is described by the following summation (inverse DFT) where all but two of the terms are zero:\n",
    "\n",
    "\\begin{align}\n",
    "\\sin(2\\pi t_n) &= \\frac{1}{N}\\sum_{k=0}^{N-1}{c_{k}e^{i 2\\pi\\frac{k}{T}t_n}} = 0\\;+ ... + \\frac{1}{N} c_{k_{\\text{peak}}}e^{i 2 \\pi f t_n} + 0\\;+ ... +\\; \\frac{1}{N} c^{*}_{k_{\\text{peak}}}e^{-i 2 \\pi f t_n};\\;\\; n \\in [0, 1, \\dots, N-1]\\\\\n",
    "&= \\frac{1}{N}(c_{k_{\\text{peak}}}e^{i 2\\pi\\frac{k_{\\text{peak}}}{T}t_n} + c^{*}_{k_{\\text{peak}}}e^{-i 2\\pi\\frac{k_{\\text{peak}}}{T}t_n});\\;\\; n \\in [0, 1, \\dots, N-1]\n",
    "\\end{align}\n",
    "\n",
    "Earlier, we rewrote $\\sin(2\\pi t)$ in terms of complex-valued exponentials; let's rewrite the left side of this equation – $\\sin(2\\pi t_n)$ — in the same way\n",
    "\n",
    "\\begin{equation}\n",
    "\\sin(2\\pi t_n) = \\frac{1}{2i}e^{i 2 \\pi f t_n} + \\frac{-1}{2i}e^{-i 2 \\pi f t_n}\n",
    "\\end{equation}\n",
    "\n",
    "\n",
    "Given that these two expressions are equal, we have:\n",
    "\\begin{equation}\n",
    "\\frac{1}{2i}e^{i 2 \\pi f t_n} + \\frac{-1}{2i}e^{-i 2 \\pi f t_n} = \\frac{1}{N}(c_{k_{\\text{peak}}}e^{i 2\\pi\\frac{k_{\\text{peak}}}{T}t_n} + c^{*}_{k_{\\text{peak}}}e^{-i 2\\pi\\frac{k_{\\text{peak}}}{T}t_n});\\;\\; n \\in [0, 1, \\dots, N-1]\n",
    "\\end{equation}\n",
    "\n",
    "\n",
    "(1.4.7) Given this expression, what should $c_{k_{\\text{peak}}}$ be equal to for $g(t) = \\sin(2 \\pi f t)$? What should $k_{\\text{peak}}$ be equal to? \n",
    "\n",
    "Verify that the values for $c_{k_{\\text{peak}}}$ and $k_{\\text{peak}}$ produced by your DFT match the values that you predict."
   ]
  },
  {
   "cell_type": "markdown",
   "id": "9a0a2254",
   "metadata": {},
   "source": [
    "> 1.4.5 Solution: *SOLUTION HERE*"
   ]
  },
  {
   "cell_type": "code",
   "execution_count": 12,
   "id": "7f3d9392",
   "metadata": {},
   "outputs": [
    {
     "name": "stdout",
     "output_type": "stream",
     "text": [
      "k_peak = 4: True\n",
      "cpeak = -i/2: True\n"
     ]
    }
   ],
   "source": [
    "# STUDENT CODE HERE\n",
    "f = 1 / 150  # frequency (Hz)\n",
    "T = 4 * (1 / f)  # duration of sample (seconds)\n",
    "N = 100  # number of samples\n",
    "\n",
    "t_samples = np.arange(N) * (T / N)  # the sample locations, in seconds\n",
    "y_samples = np.sin(2 * np.pi * f * t_samples)  # the samples of the sine wave\n",
    "\n",
    "complex_coeffs = py_dft(y_samples)\n",
    "\n",
    "# k-peak should be the nearest integer to f*T, since freq = k/T,\n",
    "# and the frequency of our sampled wave it f\n",
    "\n",
    "print(f\"k_peak = 4: {np.argmax(np.abs(complex_coeffs)) == 4}\")\n",
    "print(f\"cpeak = -i/2: {np.isclose(complex_coeffs[round(T*f)]/N, -1j/2)}\")\n",
    "\n",
    "# the imaginary value is nearly -0.5i = 1 / (2i)\n",
    "# the real value is almost zero"
   ]
  }
 ],
 "metadata": {
  "jupytext": {
   "cell_metadata_json": true,
   "main_language": "python",
   "notebook_metadata_filter": "nbsphinx,-kernelspec"
  },
  "kernelspec": {
   "display_name": "Python 3 (ipykernel)",
   "language": "python",
   "name": "python3"
  },
  "language_info": {
   "codemirror_mode": {
    "name": "ipython",
    "version": 3
   },
   "file_extension": ".py",
   "mimetype": "text/x-python",
   "name": "python",
   "nbconvert_exporter": "python",
   "pygments_lexer": "ipython3",
   "version": "3.8.17"
  },
  "nbsphinx": {
   "execute": "never"
  }
 },
 "nbformat": 4,
 "nbformat_minor": 5
}
